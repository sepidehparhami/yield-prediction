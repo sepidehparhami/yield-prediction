{
 "cells": [
  {
   "cell_type": "code",
   "execution_count": 2,
   "id": "94fa390e",
   "metadata": {
    "ExecuteTime": {
     "end_time": "2021-06-30T23:38:21.697584Z",
     "start_time": "2021-06-30T23:38:19.474584Z"
    }
   },
   "outputs": [
    {
     "name": "stdout",
     "output_type": "stream",
     "text": [
      "/home/sepidehparhami/tutoring/Research Project\n"
     ]
    }
   ],
   "source": [
    "import os\n",
    "print(os.getcwd())\n",
    "import numpy as np\n",
    "import pandas as pd\n",
    "from sklearn.linear_model import LinearRegression\n",
    "from sklearn.model_selection import train_test_split\n",
    "from sklearn.metrics import mean_squared_error, r2_score"
   ]
  },
  {
   "cell_type": "code",
   "execution_count": 3,
   "id": "bc3768ad",
   "metadata": {
    "ExecuteTime": {
     "end_time": "2021-06-30T23:38:49.900584Z",
     "start_time": "2021-06-30T23:38:21.726584Z"
    }
   },
   "outputs": [],
   "source": [
    "import keras\n",
    "from keras.models import Sequential\n",
    "from keras.layers import Dense, Conv3D, Flatten"
   ]
  },
  {
   "cell_type": "code",
   "execution_count": 4,
   "id": "0f8854fa",
   "metadata": {
    "ExecuteTime": {
     "end_time": "2021-06-30T23:38:49.943584Z",
     "start_time": "2021-06-30T23:38:49.931584Z"
    }
   },
   "outputs": [],
   "source": [
    "yields = pd.read_csv(r'yield.txt', delim_whitespace=True, index_col=0)"
   ]
  },
  {
   "cell_type": "code",
   "execution_count": 5,
   "id": "85fe871e",
   "metadata": {
    "ExecuteTime": {
     "end_time": "2021-06-30T23:38:50.056584Z",
     "start_time": "2021-06-30T23:38:50.010584Z"
    }
   },
   "outputs": [],
   "source": [
    "ligands = list(yields.index)"
   ]
  },
  {
   "cell_type": "code",
   "execution_count": 6,
   "id": "9c5482c5",
   "metadata": {
    "ExecuteTime": {
     "end_time": "2021-06-30T23:38:50.239584Z",
     "start_time": "2021-06-30T23:38:50.107584Z"
    }
   },
   "outputs": [],
   "source": [
    "sample_file = pd.read_csv('./data/ESP allPoints_L01-DPPF.txt_interpolated.txt')\n",
    "sample_file.columns = ('x', 'y', 'z', 'esp')"
   ]
  },
  {
   "cell_type": "code",
   "execution_count": 24,
   "id": "07ad4557",
   "metadata": {
    "ExecuteTime": {
     "end_time": "2021-06-30T23:44:10.262584Z",
     "start_time": "2021-06-30T23:44:10.247584Z"
    }
   },
   "outputs": [
    {
     "name": "stdout",
     "output_type": "stream",
     "text": [
      "30 30 30\n"
     ]
    }
   ],
   "source": [
    "print(len(np.unique(sample_file['x'])),len(np.unique(sample_file['y'])),len(np.unique(sample_file['z'])))"
   ]
  },
  {
   "cell_type": "code",
   "execution_count": 31,
   "id": "ddad6fb2",
   "metadata": {
    "ExecuteTime": {
     "end_time": "2021-06-30T23:49:18.351274Z",
     "start_time": "2021-06-30T23:49:18.350584Z"
    }
   },
   "outputs": [
    {
     "data": {
      "text/plain": [
       "14.0"
      ]
     },
     "execution_count": 31,
     "metadata": {},
     "output_type": "execute_result"
    }
   ],
   "source": [
    "np.max(sample_file['x'])"
   ]
  },
  {
   "cell_type": "code",
   "execution_count": 18,
   "id": "3a039702",
   "metadata": {
    "ExecuteTime": {
     "end_time": "2021-06-30T23:41:40.043584Z",
     "start_time": "2021-06-30T23:41:40.029584Z"
    }
   },
   "outputs": [
    {
     "data": {
      "text/plain": [
       "(26999, 4)"
      ]
     },
     "execution_count": 18,
     "metadata": {},
     "output_type": "execute_result"
    }
   ],
   "source": [
    "sample_file.shape"
   ]
  },
  {
   "cell_type": "code",
   "execution_count": 7,
   "id": "99d39eb3",
   "metadata": {
    "ExecuteTime": {
     "end_time": "2021-06-30T23:38:50.369584Z",
     "start_time": "2021-06-30T23:38:50.359584Z"
    }
   },
   "outputs": [],
   "source": [
    "n_molecules = yields.shape[0]\n",
    "n_coords = sample_file.shape[0]\n",
    "dim_x, dim_y, dim_z = (len(np.unique(sample_file[data_axis])) for data_axis in ['x','y','z'])"
   ]
  },
  {
   "cell_type": "code",
   "execution_count": 44,
   "id": "a3cf3a84",
   "metadata": {
    "ExecuteTime": {
     "end_time": "2021-06-30T23:53:32.237224Z",
     "start_time": "2021-06-30T23:53:30.942664Z"
    }
   },
   "outputs": [],
   "source": [
    "# initialize a data frame and fill in ESPs from file\n",
    "\n",
    "data = pd.DataFrame(index = ligands, columns=range(n_coords+1))"
   ]
  },
  {
   "cell_type": "code",
   "execution_count": 45,
   "id": "98ef17ed",
   "metadata": {
    "ExecuteTime": {
     "end_time": "2021-06-30T23:53:34.675147Z",
     "start_time": "2021-06-30T23:53:34.043760Z"
    }
   },
   "outputs": [],
   "source": [
    "directory = './data' \n",
    "      \n",
    "for i,filename in enumerate(os.listdir(directory)):\n",
    "    # print(i+1,'of',n_molecules)\n",
    "\n",
    "    data_point = pd.read_csv('./data/{}'.format(filename))\n",
    "    data_point.columns = ('x', 'y', 'z', 'esp')\n",
    "    \n",
    "    # print('number coords in file:',data_point.shape[0])\n",
    "\n",
    "    #extract the ligand name from the filename\n",
    "    name_parts = filename.split(\"_\")\n",
    "    if name_parts[1][0] == \"T\":\n",
    "        ligand = name_parts[1][:4]\n",
    "    else:\n",
    "        ligand = name_parts[1][:3]\n",
    "        \n",
    "    #add label and data point to their respective arrays \n",
    "    data.loc[ligand] = data_point['esp']"
   ]
  },
  {
   "cell_type": "code",
   "execution_count": 54,
   "id": "69c7b079",
   "metadata": {
    "ExecuteTime": {
     "end_time": "2021-06-30T23:54:53.615588Z",
     "start_time": "2021-06-30T23:54:53.563425Z"
    }
   },
   "outputs": [],
   "source": [
    "data[n_coords] = np.zeros(n_molecules,dtype=type(data.iloc[0,0]))"
   ]
  },
  {
   "cell_type": "code",
   "execution_count": 55,
   "id": "f94cdc95",
   "metadata": {
    "ExecuteTime": {
     "end_time": "2021-06-30T23:54:55.502050Z",
     "start_time": "2021-06-30T23:54:55.467243Z"
    }
   },
   "outputs": [
    {
     "data": {
      "text/html": [
       "<div>\n",
       "<style scoped>\n",
       "    .dataframe tbody tr th:only-of-type {\n",
       "        vertical-align: middle;\n",
       "    }\n",
       "\n",
       "    .dataframe tbody tr th {\n",
       "        vertical-align: top;\n",
       "    }\n",
       "\n",
       "    .dataframe thead th {\n",
       "        text-align: right;\n",
       "    }\n",
       "</style>\n",
       "<table border=\"1\" class=\"dataframe\">\n",
       "  <thead>\n",
       "    <tr style=\"text-align: right;\">\n",
       "      <th></th>\n",
       "      <th>0</th>\n",
       "      <th>1</th>\n",
       "      <th>2</th>\n",
       "      <th>3</th>\n",
       "      <th>4</th>\n",
       "      <th>5</th>\n",
       "      <th>6</th>\n",
       "      <th>7</th>\n",
       "      <th>8</th>\n",
       "      <th>9</th>\n",
       "      <th>...</th>\n",
       "      <th>26990</th>\n",
       "      <th>26991</th>\n",
       "      <th>26992</th>\n",
       "      <th>26993</th>\n",
       "      <th>26994</th>\n",
       "      <th>26995</th>\n",
       "      <th>26996</th>\n",
       "      <th>26997</th>\n",
       "      <th>26998</th>\n",
       "      <th>26999</th>\n",
       "    </tr>\n",
       "  </thead>\n",
       "  <tbody>\n",
       "    <tr>\n",
       "      <th>L01</th>\n",
       "      <td>0.0</td>\n",
       "      <td>0.0</td>\n",
       "      <td>0.0</td>\n",
       "      <td>0.0</td>\n",
       "      <td>0.0</td>\n",
       "      <td>0.0</td>\n",
       "      <td>0.0</td>\n",
       "      <td>0.0</td>\n",
       "      <td>0.0</td>\n",
       "      <td>0.0</td>\n",
       "      <td>...</td>\n",
       "      <td>0.0</td>\n",
       "      <td>0.0</td>\n",
       "      <td>0.0</td>\n",
       "      <td>0.0</td>\n",
       "      <td>0.0</td>\n",
       "      <td>0.0</td>\n",
       "      <td>0.0</td>\n",
       "      <td>0.0</td>\n",
       "      <td>0.0</td>\n",
       "      <td>0.0</td>\n",
       "    </tr>\n",
       "    <tr>\n",
       "      <th>L02</th>\n",
       "      <td>0.0</td>\n",
       "      <td>0.0</td>\n",
       "      <td>0.0</td>\n",
       "      <td>0.0</td>\n",
       "      <td>0.0</td>\n",
       "      <td>0.0</td>\n",
       "      <td>0.0</td>\n",
       "      <td>0.0</td>\n",
       "      <td>0.0</td>\n",
       "      <td>0.0</td>\n",
       "      <td>...</td>\n",
       "      <td>0.0</td>\n",
       "      <td>0.0</td>\n",
       "      <td>0.0</td>\n",
       "      <td>0.0</td>\n",
       "      <td>0.0</td>\n",
       "      <td>0.0</td>\n",
       "      <td>0.0</td>\n",
       "      <td>0.0</td>\n",
       "      <td>0.0</td>\n",
       "      <td>0.0</td>\n",
       "    </tr>\n",
       "    <tr>\n",
       "      <th>L04</th>\n",
       "      <td>0.0</td>\n",
       "      <td>0.0</td>\n",
       "      <td>0.0</td>\n",
       "      <td>0.0</td>\n",
       "      <td>0.0</td>\n",
       "      <td>0.0</td>\n",
       "      <td>0.0</td>\n",
       "      <td>0.0</td>\n",
       "      <td>0.0</td>\n",
       "      <td>0.0</td>\n",
       "      <td>...</td>\n",
       "      <td>0.0</td>\n",
       "      <td>0.0</td>\n",
       "      <td>0.0</td>\n",
       "      <td>0.0</td>\n",
       "      <td>0.0</td>\n",
       "      <td>0.0</td>\n",
       "      <td>0.0</td>\n",
       "      <td>0.0</td>\n",
       "      <td>0.0</td>\n",
       "      <td>0.0</td>\n",
       "    </tr>\n",
       "    <tr>\n",
       "      <th>L05</th>\n",
       "      <td>0.0</td>\n",
       "      <td>0.0</td>\n",
       "      <td>0.0</td>\n",
       "      <td>0.0</td>\n",
       "      <td>0.0</td>\n",
       "      <td>0.0</td>\n",
       "      <td>0.0</td>\n",
       "      <td>0.0</td>\n",
       "      <td>0.0</td>\n",
       "      <td>0.0</td>\n",
       "      <td>...</td>\n",
       "      <td>0.0</td>\n",
       "      <td>0.0</td>\n",
       "      <td>0.0</td>\n",
       "      <td>0.0</td>\n",
       "      <td>0.0</td>\n",
       "      <td>0.0</td>\n",
       "      <td>0.0</td>\n",
       "      <td>0.0</td>\n",
       "      <td>0.0</td>\n",
       "      <td>0.0</td>\n",
       "    </tr>\n",
       "    <tr>\n",
       "      <th>L06</th>\n",
       "      <td>0.0</td>\n",
       "      <td>0.0</td>\n",
       "      <td>0.0</td>\n",
       "      <td>0.0</td>\n",
       "      <td>0.0</td>\n",
       "      <td>0.0</td>\n",
       "      <td>0.0</td>\n",
       "      <td>0.0</td>\n",
       "      <td>0.0</td>\n",
       "      <td>0.0</td>\n",
       "      <td>...</td>\n",
       "      <td>0.0</td>\n",
       "      <td>0.0</td>\n",
       "      <td>0.0</td>\n",
       "      <td>0.0</td>\n",
       "      <td>0.0</td>\n",
       "      <td>0.0</td>\n",
       "      <td>0.0</td>\n",
       "      <td>0.0</td>\n",
       "      <td>0.0</td>\n",
       "      <td>0.0</td>\n",
       "    </tr>\n",
       "  </tbody>\n",
       "</table>\n",
       "<p>5 rows × 27000 columns</p>\n",
       "</div>"
      ],
      "text/plain": [
       "    0     1     2     3     4     5     6     7     8     9      ... 26990  \\\n",
       "L01   0.0   0.0   0.0   0.0   0.0   0.0   0.0   0.0   0.0   0.0  ...   0.0   \n",
       "L02   0.0   0.0   0.0   0.0   0.0   0.0   0.0   0.0   0.0   0.0  ...   0.0   \n",
       "L04   0.0   0.0   0.0   0.0   0.0   0.0   0.0   0.0   0.0   0.0  ...   0.0   \n",
       "L05   0.0   0.0   0.0   0.0   0.0   0.0   0.0   0.0   0.0   0.0  ...   0.0   \n",
       "L06   0.0   0.0   0.0   0.0   0.0   0.0   0.0   0.0   0.0   0.0  ...   0.0   \n",
       "\n",
       "    26991 26992 26993 26994 26995 26996 26997 26998 26999  \n",
       "L01   0.0   0.0   0.0   0.0   0.0   0.0   0.0   0.0   0.0  \n",
       "L02   0.0   0.0   0.0   0.0   0.0   0.0   0.0   0.0   0.0  \n",
       "L04   0.0   0.0   0.0   0.0   0.0   0.0   0.0   0.0   0.0  \n",
       "L05   0.0   0.0   0.0   0.0   0.0   0.0   0.0   0.0   0.0  \n",
       "L06   0.0   0.0   0.0   0.0   0.0   0.0   0.0   0.0   0.0  \n",
       "\n",
       "[5 rows x 27000 columns]"
      ]
     },
     "execution_count": 55,
     "metadata": {},
     "output_type": "execute_result"
    }
   ],
   "source": [
    "data.head()"
   ]
  },
  {
   "cell_type": "code",
   "execution_count": 60,
   "id": "027cb8c6",
   "metadata": {
    "ExecuteTime": {
     "end_time": "2021-06-30T23:59:01.309103Z",
     "start_time": "2021-06-30T23:58:54.629541Z"
    }
   },
   "outputs": [
    {
     "name": "stdout",
     "output_type": "stream",
     "text": [
      "(39,)\n"
     ]
    }
   ],
   "source": [
    "# turn data frame into 5-dimensional array (n_molecules,x,y,z,1 (size of ESP value)) array for keras input \n",
    "data_arr_5d = np.zeros(n_molecules,dtype=object)\n",
    "for i,l in enumerate(ligands):\n",
    "    data_arr_5d[i] = np.reshape(data.loc[l].values, (dim_x,dim_y,dim_z,1))\n",
    "# print(data_arr_5d[0])\n",
    "print(data_arr_5d.shape)"
   ]
  },
  {
   "cell_type": "code",
   "execution_count": 61,
   "id": "415a3c41",
   "metadata": {
    "ExecuteTime": {
     "end_time": "2021-06-30T23:59:15.821772Z",
     "start_time": "2021-06-30T23:59:15.759350Z"
    }
   },
   "outputs": [
    {
     "data": {
      "text/plain": [
       "array([[[[0.0],\n",
       "         [0.0],\n",
       "         [0.0],\n",
       "         ...,\n",
       "         [0.0],\n",
       "         [0.0],\n",
       "         [0.0]],\n",
       "\n",
       "        [[0.0],\n",
       "         [0.0],\n",
       "         [0.0],\n",
       "         ...,\n",
       "         [0.0],\n",
       "         [0.0],\n",
       "         [0.0]],\n",
       "\n",
       "        [[0.0],\n",
       "         [0.0],\n",
       "         [0.0],\n",
       "         ...,\n",
       "         [0.0],\n",
       "         [0.0],\n",
       "         [0.0]],\n",
       "\n",
       "        ...,\n",
       "\n",
       "        [[0.0],\n",
       "         [0.0],\n",
       "         [0.0],\n",
       "         ...,\n",
       "         [0.0],\n",
       "         [0.0],\n",
       "         [0.0]],\n",
       "\n",
       "        [[0.0],\n",
       "         [0.0],\n",
       "         [0.0],\n",
       "         ...,\n",
       "         [0.0],\n",
       "         [0.0],\n",
       "         [0.0]],\n",
       "\n",
       "        [[0.0],\n",
       "         [0.0],\n",
       "         [0.0],\n",
       "         ...,\n",
       "         [0.0],\n",
       "         [0.0],\n",
       "         [0.0]]],\n",
       "\n",
       "\n",
       "       [[[0.0],\n",
       "         [0.0],\n",
       "         [0.0],\n",
       "         ...,\n",
       "         [0.0],\n",
       "         [0.0],\n",
       "         [0.0]],\n",
       "\n",
       "        [[0.0],\n",
       "         [0.0],\n",
       "         [0.0],\n",
       "         ...,\n",
       "         [0.0],\n",
       "         [0.0],\n",
       "         [0.0]],\n",
       "\n",
       "        [[0.0],\n",
       "         [0.0],\n",
       "         [0.0],\n",
       "         ...,\n",
       "         [0.0],\n",
       "         [0.0],\n",
       "         [0.0]],\n",
       "\n",
       "        ...,\n",
       "\n",
       "        [[0.0],\n",
       "         [0.0],\n",
       "         [0.0],\n",
       "         ...,\n",
       "         [0.0],\n",
       "         [0.0],\n",
       "         [0.0]],\n",
       "\n",
       "        [[0.0],\n",
       "         [0.0],\n",
       "         [0.0],\n",
       "         ...,\n",
       "         [0.0],\n",
       "         [0.0],\n",
       "         [0.0]],\n",
       "\n",
       "        [[0.0],\n",
       "         [0.0],\n",
       "         [0.0],\n",
       "         ...,\n",
       "         [0.0],\n",
       "         [0.0],\n",
       "         [0.0]]],\n",
       "\n",
       "\n",
       "       [[[0.0],\n",
       "         [0.0],\n",
       "         [0.0],\n",
       "         ...,\n",
       "         [0.0],\n",
       "         [0.0],\n",
       "         [0.0]],\n",
       "\n",
       "        [[0.0],\n",
       "         [0.0],\n",
       "         [0.0],\n",
       "         ...,\n",
       "         [0.0],\n",
       "         [0.0],\n",
       "         [0.0]],\n",
       "\n",
       "        [[0.0],\n",
       "         [0.0],\n",
       "         [0.0],\n",
       "         ...,\n",
       "         [0.0],\n",
       "         [0.0],\n",
       "         [0.0]],\n",
       "\n",
       "        ...,\n",
       "\n",
       "        [[0.0],\n",
       "         [0.0],\n",
       "         [0.0],\n",
       "         ...,\n",
       "         [0.0],\n",
       "         [0.0],\n",
       "         [0.0]],\n",
       "\n",
       "        [[0.0],\n",
       "         [0.0],\n",
       "         [0.0],\n",
       "         ...,\n",
       "         [0.0],\n",
       "         [0.0],\n",
       "         [0.0]],\n",
       "\n",
       "        [[0.0],\n",
       "         [0.0],\n",
       "         [0.0],\n",
       "         ...,\n",
       "         [0.0],\n",
       "         [0.0],\n",
       "         [0.0]]],\n",
       "\n",
       "\n",
       "       ...,\n",
       "\n",
       "\n",
       "       [[[0.0],\n",
       "         [0.0],\n",
       "         [0.0],\n",
       "         ...,\n",
       "         [0.0],\n",
       "         [0.0],\n",
       "         [0.0]],\n",
       "\n",
       "        [[0.0],\n",
       "         [0.0],\n",
       "         [0.0],\n",
       "         ...,\n",
       "         [0.0],\n",
       "         [0.0],\n",
       "         [0.0]],\n",
       "\n",
       "        [[0.0],\n",
       "         [0.0],\n",
       "         [0.0],\n",
       "         ...,\n",
       "         [0.0],\n",
       "         [0.0],\n",
       "         [0.0]],\n",
       "\n",
       "        ...,\n",
       "\n",
       "        [[0.0],\n",
       "         [0.0],\n",
       "         [0.0],\n",
       "         ...,\n",
       "         [0.0],\n",
       "         [0.0],\n",
       "         [0.0]],\n",
       "\n",
       "        [[0.0],\n",
       "         [0.0],\n",
       "         [0.0],\n",
       "         ...,\n",
       "         [0.0],\n",
       "         [0.0],\n",
       "         [0.0]],\n",
       "\n",
       "        [[0.0],\n",
       "         [0.0],\n",
       "         [0.0],\n",
       "         ...,\n",
       "         [0.0],\n",
       "         [0.0],\n",
       "         [0.0]]],\n",
       "\n",
       "\n",
       "       [[[0.0],\n",
       "         [0.0],\n",
       "         [0.0],\n",
       "         ...,\n",
       "         [0.0],\n",
       "         [0.0],\n",
       "         [0.0]],\n",
       "\n",
       "        [[0.0],\n",
       "         [0.0],\n",
       "         [0.0],\n",
       "         ...,\n",
       "         [0.0],\n",
       "         [0.0],\n",
       "         [0.0]],\n",
       "\n",
       "        [[0.0],\n",
       "         [0.0],\n",
       "         [0.0],\n",
       "         ...,\n",
       "         [0.0],\n",
       "         [0.0],\n",
       "         [0.0]],\n",
       "\n",
       "        ...,\n",
       "\n",
       "        [[0.0],\n",
       "         [0.0],\n",
       "         [0.0],\n",
       "         ...,\n",
       "         [0.0],\n",
       "         [0.0],\n",
       "         [0.0]],\n",
       "\n",
       "        [[0.0],\n",
       "         [0.0],\n",
       "         [0.0],\n",
       "         ...,\n",
       "         [0.0],\n",
       "         [0.0],\n",
       "         [0.0]],\n",
       "\n",
       "        [[0.0],\n",
       "         [0.0],\n",
       "         [0.0],\n",
       "         ...,\n",
       "         [0.0],\n",
       "         [0.0],\n",
       "         [0.0]]],\n",
       "\n",
       "\n",
       "       [[[0.0],\n",
       "         [0.0],\n",
       "         [0.0],\n",
       "         ...,\n",
       "         [0.0],\n",
       "         [0.0],\n",
       "         [0.0]],\n",
       "\n",
       "        [[0.0],\n",
       "         [0.0],\n",
       "         [0.0],\n",
       "         ...,\n",
       "         [0.0],\n",
       "         [0.0],\n",
       "         [0.0]],\n",
       "\n",
       "        [[0.0],\n",
       "         [0.0],\n",
       "         [0.0],\n",
       "         ...,\n",
       "         [0.0],\n",
       "         [0.0],\n",
       "         [0.0]],\n",
       "\n",
       "        ...,\n",
       "\n",
       "        [[0.0],\n",
       "         [0.0],\n",
       "         [0.0],\n",
       "         ...,\n",
       "         [0.0],\n",
       "         [0.0],\n",
       "         [0.0]],\n",
       "\n",
       "        [[0.0],\n",
       "         [0.0],\n",
       "         [0.0],\n",
       "         ...,\n",
       "         [0.0],\n",
       "         [0.0],\n",
       "         [0.0]],\n",
       "\n",
       "        [[0.0],\n",
       "         [0.0],\n",
       "         [0.0],\n",
       "         ...,\n",
       "         [0.0],\n",
       "         [0.0],\n",
       "         [0.0]]]], dtype=object)"
      ]
     },
     "execution_count": 61,
     "metadata": {},
     "output_type": "execute_result"
    }
   ],
   "source": [
    "data_arr_5d[i]"
   ]
  },
  {
   "cell_type": "code",
   "execution_count": 32,
   "id": "1a736a16",
   "metadata": {
    "ExecuteTime": {
     "end_time": "2021-06-30T23:49:31.057584Z",
     "start_time": "2021-06-30T23:49:30.904584Z"
    },
    "scrolled": true
   },
   "outputs": [
    {
     "data": {
      "text/plain": [
       "x      13.0\n",
       "y      14.0\n",
       "z      14.0\n",
       "esp     0.0\n",
       "Name: 26998, dtype: float64"
      ]
     },
     "execution_count": 32,
     "metadata": {},
     "output_type": "execute_result"
    }
   ],
   "source": [
    "sample_file.iloc[-1]"
   ]
  },
  {
   "cell_type": "code",
   "execution_count": 62,
   "id": "5d3ad0ca",
   "metadata": {
    "ExecuteTime": {
     "end_time": "2021-06-30T23:59:48.666566Z",
     "start_time": "2021-06-30T23:59:42.643060Z"
    }
   },
   "outputs": [],
   "source": [
    "model = Sequential()\n",
    "model.add(Conv3D(n_molecules,kernel_size=10,activation='relu',input_shape=(dim_x,dim_y,dim_z,1)))\n",
    "model.add(Flatten())\n",
    "model.add(Dense(3,activation='softmax'))"
   ]
  },
  {
   "cell_type": "code",
   "execution_count": null,
   "id": "1b3d35f3",
   "metadata": {},
   "outputs": [],
   "source": []
  }
 ],
 "metadata": {
  "kernelspec": {
   "display_name": "Python 3",
   "language": "python",
   "name": "python3"
  },
  "language_info": {
   "codemirror_mode": {
    "name": "ipython",
    "version": 3
   },
   "file_extension": ".py",
   "mimetype": "text/x-python",
   "name": "python",
   "nbconvert_exporter": "python",
   "pygments_lexer": "ipython3",
   "version": "3.9.5"
  },
  "toc": {
   "base_numbering": 1,
   "nav_menu": {},
   "number_sections": true,
   "sideBar": true,
   "skip_h1_title": false,
   "title_cell": "Table of Contents",
   "title_sidebar": "Contents",
   "toc_cell": false,
   "toc_position": {},
   "toc_section_display": true,
   "toc_window_display": false
  },
  "varInspector": {
   "cols": {
    "lenName": 16,
    "lenType": 16,
    "lenVar": 40
   },
   "kernels_config": {
    "python": {
     "delete_cmd_postfix": "",
     "delete_cmd_prefix": "del ",
     "library": "var_list.py",
     "varRefreshCmd": "print(var_dic_list())"
    },
    "r": {
     "delete_cmd_postfix": ") ",
     "delete_cmd_prefix": "rm(",
     "library": "var_list.r",
     "varRefreshCmd": "cat(var_dic_list()) "
    }
   },
   "types_to_exclude": [
    "module",
    "function",
    "builtin_function_or_method",
    "instance",
    "_Feature"
   ],
   "window_display": false
  }
 },
 "nbformat": 4,
 "nbformat_minor": 5
}
