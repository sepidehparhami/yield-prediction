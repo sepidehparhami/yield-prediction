{
 "cells": [
  {
   "cell_type": "code",
   "execution_count": null,
   "id": "a37d03ae",
   "metadata": {},
   "outputs": [],
   "source": [
    "# switch to tensors"
   ]
  },
  {
   "cell_type": "code",
   "execution_count": 1,
   "id": "94fa390e",
   "metadata": {
    "ExecuteTime": {
     "end_time": "2021-07-03T16:35:44.372042Z",
     "start_time": "2021-07-03T16:35:41.785561Z"
    }
   },
   "outputs": [
    {
     "name": "stdout",
     "output_type": "stream",
     "text": [
      "/home/sepidehparhami/tutoring/Research Project/yield-prediction\n"
     ]
    }
   ],
   "source": [
    "import os\n",
    "print(os.getcwd())\n",
    "import numpy as np\n",
    "import pandas as pd\n",
    "from sklearn.linear_model import LinearRegression\n",
    "from sklearn.model_selection import train_test_split\n",
    "from sklearn.metrics import mean_squared_error, r2_score"
   ]
  },
  {
   "cell_type": "code",
   "execution_count": 2,
   "id": "bc3768ad",
   "metadata": {
    "ExecuteTime": {
     "end_time": "2021-07-03T16:35:51.292629Z",
     "start_time": "2021-07-03T16:35:46.335828Z"
    }
   },
   "outputs": [],
   "source": [
    "import keras\n",
    "from keras.models import Sequential\n",
    "from keras.layers import Dense, Conv3D, Flatten"
   ]
  },
  {
   "cell_type": "code",
   "execution_count": 3,
   "id": "0f8854fa",
   "metadata": {
    "ExecuteTime": {
     "end_time": "2021-07-03T16:35:51.368454Z",
     "start_time": "2021-07-03T16:35:51.354082Z"
    }
   },
   "outputs": [],
   "source": [
    "yields = pd.read_csv(r'../yield.txt', delim_whitespace=True, index_col=0)"
   ]
  },
  {
   "cell_type": "code",
   "execution_count": 4,
   "id": "85fe871e",
   "metadata": {
    "ExecuteTime": {
     "end_time": "2021-07-03T16:35:51.496391Z",
     "start_time": "2021-07-03T16:35:51.487986Z"
    }
   },
   "outputs": [],
   "source": [
    "ligands = list(yields.index)"
   ]
  },
  {
   "cell_type": "code",
   "execution_count": 5,
   "id": "9c5482c5",
   "metadata": {
    "ExecuteTime": {
     "end_time": "2021-07-03T16:35:51.723050Z",
     "start_time": "2021-07-03T16:35:51.647230Z"
    }
   },
   "outputs": [],
   "source": [
    "sample_file = pd.read_csv('../data/ESP allPoints_L01-DPPF.txt_interpolated.txt')\n",
    "sample_file.columns = ('x', 'y', 'z', 'esp')"
   ]
  },
  {
   "cell_type": "code",
   "execution_count": 7,
   "id": "07ad4557",
   "metadata": {
    "ExecuteTime": {
     "end_time": "2021-07-03T16:28:30.064617Z",
     "start_time": "2021-07-03T16:28:30.041997Z"
    }
   },
   "outputs": [
    {
     "name": "stdout",
     "output_type": "stream",
     "text": [
      "30 30 30\n"
     ]
    }
   ],
   "source": [
    "print(len(np.unique(sample_file['x'])),len(np.unique(sample_file['y'])),len(np.unique(sample_file['z'])))"
   ]
  },
  {
   "cell_type": "code",
   "execution_count": 31,
   "id": "ddad6fb2",
   "metadata": {
    "ExecuteTime": {
     "end_time": "2021-06-30T23:49:18.351274Z",
     "start_time": "2021-06-30T23:49:18.350584Z"
    }
   },
   "outputs": [
    {
     "data": {
      "text/plain": [
       "14.0"
      ]
     },
     "execution_count": 31,
     "metadata": {},
     "output_type": "execute_result"
    }
   ],
   "source": [
    "np.max(sample_file['x'])"
   ]
  },
  {
   "cell_type": "code",
   "execution_count": 18,
   "id": "3a039702",
   "metadata": {
    "ExecuteTime": {
     "end_time": "2021-06-30T23:41:40.043584Z",
     "start_time": "2021-06-30T23:41:40.029584Z"
    }
   },
   "outputs": [
    {
     "data": {
      "text/plain": [
       "(26999, 4)"
      ]
     },
     "execution_count": 18,
     "metadata": {},
     "output_type": "execute_result"
    }
   ],
   "source": [
    "sample_file.shape"
   ]
  },
  {
   "cell_type": "code",
   "execution_count": 6,
   "id": "99d39eb3",
   "metadata": {
    "ExecuteTime": {
     "end_time": "2021-07-03T16:35:53.120018Z",
     "start_time": "2021-07-03T16:35:53.099534Z"
    }
   },
   "outputs": [],
   "source": [
    "n_molecules = yields.shape[0]\n",
    "n_coords = sample_file.shape[0]\n",
    "dim_x, dim_y, dim_z = (len(np.unique(sample_file[data_axis])) for data_axis in ['x','y','z'])"
   ]
  },
  {
   "cell_type": "code",
   "execution_count": 7,
   "id": "a3cf3a84",
   "metadata": {
    "ExecuteTime": {
     "end_time": "2021-07-03T16:35:57.372908Z",
     "start_time": "2021-07-03T16:35:55.910863Z"
    }
   },
   "outputs": [],
   "source": [
    "# initialize a data frame and fill in ESPs from file\n",
    "\n",
    "data = pd.DataFrame(index = ligands, columns=range(n_coords+1))"
   ]
  },
  {
   "cell_type": "code",
   "execution_count": 8,
   "id": "98ef17ed",
   "metadata": {
    "ExecuteTime": {
     "end_time": "2021-07-03T16:36:00.755048Z",
     "start_time": "2021-07-03T16:35:59.694752Z"
    }
   },
   "outputs": [],
   "source": [
    "directory = '../data' \n",
    "      \n",
    "for i,filename in enumerate(os.listdir(directory)):\n",
    "    # print(i+1,'of',n_molecules)\n",
    "\n",
    "    data_point = pd.read_csv('../data/{}'.format(filename))\n",
    "    data_point.columns = ('x', 'y', 'z', 'esp')\n",
    "    \n",
    "    # print('number coords in file:',data_point.shape[0])\n",
    "\n",
    "    #extract the ligand name from the filename\n",
    "    name_parts = filename.split(\"_\")\n",
    "    if name_parts[1][0] == \"T\":\n",
    "        ligand = name_parts[1][:4]\n",
    "    else:\n",
    "        ligand = name_parts[1][:3]\n",
    "        \n",
    "    #add label and data point to their respective arrays \n",
    "    data.loc[ligand] = data_point['esp']"
   ]
  },
  {
   "cell_type": "code",
   "execution_count": 9,
   "id": "69c7b079",
   "metadata": {
    "ExecuteTime": {
     "end_time": "2021-07-03T16:36:03.504870Z",
     "start_time": "2021-07-03T16:36:03.448206Z"
    }
   },
   "outputs": [],
   "source": [
    "data[n_coords] = np.zeros(n_molecules,dtype=type(data.iloc[0,0]))"
   ]
  },
  {
   "cell_type": "code",
   "execution_count": 17,
   "id": "f94cdc95",
   "metadata": {
    "ExecuteTime": {
     "end_time": "2021-07-03T14:55:41.901418Z",
     "start_time": "2021-07-03T14:55:41.585974Z"
    }
   },
   "outputs": [
    {
     "data": {
      "text/html": [
       "<div>\n",
       "<style scoped>\n",
       "    .dataframe tbody tr th:only-of-type {\n",
       "        vertical-align: middle;\n",
       "    }\n",
       "\n",
       "    .dataframe tbody tr th {\n",
       "        vertical-align: top;\n",
       "    }\n",
       "\n",
       "    .dataframe thead th {\n",
       "        text-align: right;\n",
       "    }\n",
       "</style>\n",
       "<table border=\"1\" class=\"dataframe\">\n",
       "  <thead>\n",
       "    <tr style=\"text-align: right;\">\n",
       "      <th></th>\n",
       "      <th>0</th>\n",
       "      <th>1</th>\n",
       "      <th>2</th>\n",
       "      <th>3</th>\n",
       "      <th>4</th>\n",
       "      <th>5</th>\n",
       "      <th>6</th>\n",
       "      <th>7</th>\n",
       "      <th>8</th>\n",
       "      <th>9</th>\n",
       "      <th>...</th>\n",
       "      <th>26990</th>\n",
       "      <th>26991</th>\n",
       "      <th>26992</th>\n",
       "      <th>26993</th>\n",
       "      <th>26994</th>\n",
       "      <th>26995</th>\n",
       "      <th>26996</th>\n",
       "      <th>26997</th>\n",
       "      <th>26998</th>\n",
       "      <th>26999</th>\n",
       "    </tr>\n",
       "  </thead>\n",
       "  <tbody>\n",
       "    <tr>\n",
       "      <th>L01</th>\n",
       "      <td>0.0</td>\n",
       "      <td>0.0</td>\n",
       "      <td>0.0</td>\n",
       "      <td>0.0</td>\n",
       "      <td>0.0</td>\n",
       "      <td>0.0</td>\n",
       "      <td>0.0</td>\n",
       "      <td>0.0</td>\n",
       "      <td>0.0</td>\n",
       "      <td>0.0</td>\n",
       "      <td>...</td>\n",
       "      <td>0.0</td>\n",
       "      <td>0.0</td>\n",
       "      <td>0.0</td>\n",
       "      <td>0.0</td>\n",
       "      <td>0.0</td>\n",
       "      <td>0.0</td>\n",
       "      <td>0.0</td>\n",
       "      <td>0.0</td>\n",
       "      <td>0.0</td>\n",
       "      <td>0.0</td>\n",
       "    </tr>\n",
       "    <tr>\n",
       "      <th>L02</th>\n",
       "      <td>0.0</td>\n",
       "      <td>0.0</td>\n",
       "      <td>0.0</td>\n",
       "      <td>0.0</td>\n",
       "      <td>0.0</td>\n",
       "      <td>0.0</td>\n",
       "      <td>0.0</td>\n",
       "      <td>0.0</td>\n",
       "      <td>0.0</td>\n",
       "      <td>0.0</td>\n",
       "      <td>...</td>\n",
       "      <td>0.0</td>\n",
       "      <td>0.0</td>\n",
       "      <td>0.0</td>\n",
       "      <td>0.0</td>\n",
       "      <td>0.0</td>\n",
       "      <td>0.0</td>\n",
       "      <td>0.0</td>\n",
       "      <td>0.0</td>\n",
       "      <td>0.0</td>\n",
       "      <td>0.0</td>\n",
       "    </tr>\n",
       "    <tr>\n",
       "      <th>L04</th>\n",
       "      <td>0.0</td>\n",
       "      <td>0.0</td>\n",
       "      <td>0.0</td>\n",
       "      <td>0.0</td>\n",
       "      <td>0.0</td>\n",
       "      <td>0.0</td>\n",
       "      <td>0.0</td>\n",
       "      <td>0.0</td>\n",
       "      <td>0.0</td>\n",
       "      <td>0.0</td>\n",
       "      <td>...</td>\n",
       "      <td>0.0</td>\n",
       "      <td>0.0</td>\n",
       "      <td>0.0</td>\n",
       "      <td>0.0</td>\n",
       "      <td>0.0</td>\n",
       "      <td>0.0</td>\n",
       "      <td>0.0</td>\n",
       "      <td>0.0</td>\n",
       "      <td>0.0</td>\n",
       "      <td>0.0</td>\n",
       "    </tr>\n",
       "    <tr>\n",
       "      <th>L05</th>\n",
       "      <td>0.0</td>\n",
       "      <td>0.0</td>\n",
       "      <td>0.0</td>\n",
       "      <td>0.0</td>\n",
       "      <td>0.0</td>\n",
       "      <td>0.0</td>\n",
       "      <td>0.0</td>\n",
       "      <td>0.0</td>\n",
       "      <td>0.0</td>\n",
       "      <td>0.0</td>\n",
       "      <td>...</td>\n",
       "      <td>0.0</td>\n",
       "      <td>0.0</td>\n",
       "      <td>0.0</td>\n",
       "      <td>0.0</td>\n",
       "      <td>0.0</td>\n",
       "      <td>0.0</td>\n",
       "      <td>0.0</td>\n",
       "      <td>0.0</td>\n",
       "      <td>0.0</td>\n",
       "      <td>0.0</td>\n",
       "    </tr>\n",
       "    <tr>\n",
       "      <th>L06</th>\n",
       "      <td>0.0</td>\n",
       "      <td>0.0</td>\n",
       "      <td>0.0</td>\n",
       "      <td>0.0</td>\n",
       "      <td>0.0</td>\n",
       "      <td>0.0</td>\n",
       "      <td>0.0</td>\n",
       "      <td>0.0</td>\n",
       "      <td>0.0</td>\n",
       "      <td>0.0</td>\n",
       "      <td>...</td>\n",
       "      <td>0.0</td>\n",
       "      <td>0.0</td>\n",
       "      <td>0.0</td>\n",
       "      <td>0.0</td>\n",
       "      <td>0.0</td>\n",
       "      <td>0.0</td>\n",
       "      <td>0.0</td>\n",
       "      <td>0.0</td>\n",
       "      <td>0.0</td>\n",
       "      <td>0.0</td>\n",
       "    </tr>\n",
       "  </tbody>\n",
       "</table>\n",
       "<p>5 rows × 27000 columns</p>\n",
       "</div>"
      ],
      "text/plain": [
       "    0     1     2     3     4     5     6     7     8     9      ... 26990  \\\n",
       "L01   0.0   0.0   0.0   0.0   0.0   0.0   0.0   0.0   0.0   0.0  ...   0.0   \n",
       "L02   0.0   0.0   0.0   0.0   0.0   0.0   0.0   0.0   0.0   0.0  ...   0.0   \n",
       "L04   0.0   0.0   0.0   0.0   0.0   0.0   0.0   0.0   0.0   0.0  ...   0.0   \n",
       "L05   0.0   0.0   0.0   0.0   0.0   0.0   0.0   0.0   0.0   0.0  ...   0.0   \n",
       "L06   0.0   0.0   0.0   0.0   0.0   0.0   0.0   0.0   0.0   0.0  ...   0.0   \n",
       "\n",
       "    26991 26992 26993 26994 26995 26996 26997 26998 26999  \n",
       "L01   0.0   0.0   0.0   0.0   0.0   0.0   0.0   0.0   0.0  \n",
       "L02   0.0   0.0   0.0   0.0   0.0   0.0   0.0   0.0   0.0  \n",
       "L04   0.0   0.0   0.0   0.0   0.0   0.0   0.0   0.0   0.0  \n",
       "L05   0.0   0.0   0.0   0.0   0.0   0.0   0.0   0.0   0.0  \n",
       "L06   0.0   0.0   0.0   0.0   0.0   0.0   0.0   0.0   0.0  \n",
       "\n",
       "[5 rows x 27000 columns]"
      ]
     },
     "execution_count": 17,
     "metadata": {},
     "output_type": "execute_result"
    }
   ],
   "source": [
    "data.head()"
   ]
  },
  {
   "cell_type": "code",
   "execution_count": 10,
   "id": "027cb8c6",
   "metadata": {
    "ExecuteTime": {
     "end_time": "2021-07-03T16:36:06.783785Z",
     "start_time": "2021-07-03T16:36:06.102411Z"
    }
   },
   "outputs": [
    {
     "name": "stdout",
     "output_type": "stream",
     "text": [
      "(39, 30, 30, 30, 1)\n"
     ]
    }
   ],
   "source": [
    "# turn data frame into 5-dimensional array (n_molecules,x,y,z,1 (size of ESP value)) array for keras input \n",
    "data_arr_5d = np.empty((n_molecules,dim_x,dim_y,dim_z,1),dtype=np.float32)\n",
    "for i,l in enumerate(ligands):\n",
    "    data_arr_5d[i] = np.reshape(data.loc[l].values, (dim_x,dim_y,dim_z,1))\n",
    "# print(data_arr_5d[0])\n",
    "print(data_arr_5d.shape)"
   ]
  },
  {
   "cell_type": "code",
   "execution_count": 35,
   "id": "1a736a16",
   "metadata": {
    "ExecuteTime": {
     "end_time": "2021-07-03T15:01:51.523965Z",
     "start_time": "2021-07-03T15:01:51.497758Z"
    },
    "scrolled": true
   },
   "outputs": [
    {
     "data": {
      "text/plain": [
       "x      13.0\n",
       "y      14.0\n",
       "z      14.0\n",
       "esp     0.0\n",
       "Name: 26998, dtype: float64"
      ]
     },
     "execution_count": 35,
     "metadata": {},
     "output_type": "execute_result"
    }
   ],
   "source": [
    "sample_file.iloc[-1]"
   ]
  },
  {
   "cell_type": "code",
   "execution_count": 13,
   "id": "5d3ad0ca",
   "metadata": {
    "ExecuteTime": {
     "end_time": "2021-07-03T16:29:04.792249Z",
     "start_time": "2021-07-03T16:29:04.550013Z"
    }
   },
   "outputs": [],
   "source": [
    "model = Sequential()\n",
    "model.add(Conv3D(n_molecules,kernel_size=10,activation='relu',input_shape=(dim_x,dim_y,dim_z,1)))\n",
    "model.add(Flatten())\n",
    "model.add(Dense(3))"
   ]
  },
  {
   "cell_type": "code",
   "execution_count": 46,
   "id": "1b3d35f3",
   "metadata": {
    "ExecuteTime": {
     "end_time": "2021-07-03T15:24:32.306004Z",
     "start_time": "2021-07-03T15:24:32.294797Z"
    }
   },
   "outputs": [],
   "source": [
    "model.compile(optimizer='adam',loss='MSE',metrics='MSE')"
   ]
  },
  {
   "cell_type": "code",
   "execution_count": 11,
   "id": "1aedfb1d",
   "metadata": {
    "ExecuteTime": {
     "end_time": "2021-07-03T16:36:08.000484Z",
     "start_time": "2021-07-03T16:36:07.984885Z"
    }
   },
   "outputs": [
    {
     "data": {
      "text/plain": [
       "array([[83.3,  8.9,  7.9],\n",
       "       [70.8, 18.4, 10.8]])"
      ]
     },
     "execution_count": 11,
     "metadata": {},
     "output_type": "execute_result"
    }
   ],
   "source": [
    "yields_arr = yields.values\n",
    "yields.values[0:2]"
   ]
  },
  {
   "cell_type": "code",
   "execution_count": 12,
   "id": "677a28c6",
   "metadata": {
    "ExecuteTime": {
     "end_time": "2021-07-03T16:36:09.363251Z",
     "start_time": "2021-07-03T16:36:09.349111Z"
    }
   },
   "outputs": [
    {
     "name": "stdout",
     "output_type": "stream",
     "text": [
      "(31, 30, 30, 30, 1) (31, 3) (8, 30, 30, 30, 1) (8, 3)\n"
     ]
    }
   ],
   "source": [
    "from sklearn.model_selection import train_test_split\n",
    "X_train, X_test, y_train, y_test = train_test_split(data_arr_5d, yields_arr, test_size=0.2)\n",
    "print(X_train.shape, y_train.shape, X_test.shape, y_test.shape)"
   ]
  },
  {
   "cell_type": "code",
   "execution_count": 52,
   "id": "49f90286",
   "metadata": {
    "ExecuteTime": {
     "end_time": "2021-07-03T15:32:00.162557Z",
     "start_time": "2021-07-03T15:31:52.415212Z"
    }
   },
   "outputs": [
    {
     "name": "stdout",
     "output_type": "stream",
     "text": [
      "Epoch 1/3\n",
      "1/1 [==============================] - 2s 2s/step - loss: 1672.8107 - val_loss: 1787.8073\n",
      "Epoch 2/3\n",
      "1/1 [==============================] - 2s 2s/step - loss: 1672.8109 - val_loss: 1787.8073\n",
      "Epoch 3/3\n",
      "1/1 [==============================] - 3s 3s/step - loss: 1672.8107 - val_loss: 1787.8073\n"
     ]
    },
    {
     "data": {
      "text/plain": [
       "<tensorflow.python.keras.callbacks.History at 0x7b13dc490040>"
      ]
     },
     "execution_count": 52,
     "metadata": {},
     "output_type": "execute_result"
    }
   ],
   "source": [
    "model.fit(X_train,\n",
    "          y_train,\n",
    "          validation_split=0.2,\n",
    "          epochs=3)"
   ]
  },
  {
   "cell_type": "code",
   "execution_count": 54,
   "id": "2fd96af0",
   "metadata": {
    "ExecuteTime": {
     "end_time": "2021-07-03T15:32:15.635338Z",
     "start_time": "2021-07-03T15:32:14.937639Z"
    }
   },
   "outputs": [
    {
     "name": "stdout",
     "output_type": "stream",
     "text": [
      "1/1 [==============================] - 1s 628ms/step - loss: 1698.7776\n"
     ]
    },
    {
     "data": {
      "text/plain": [
       "1698.777587890625"
      ]
     },
     "execution_count": 54,
     "metadata": {},
     "output_type": "execute_result"
    }
   ],
   "source": [
    "model.evaluate(X_train,y_train)"
   ]
  },
  {
   "cell_type": "code",
   "execution_count": 55,
   "id": "c2e9d2fd",
   "metadata": {
    "ExecuteTime": {
     "end_time": "2021-07-03T15:32:16.630730Z",
     "start_time": "2021-07-03T15:32:16.266825Z"
    }
   },
   "outputs": [
    {
     "name": "stdout",
     "output_type": "stream",
     "text": [
      "1/1 [==============================] - 0s 288ms/step - loss: 2328.9004\n"
     ]
    },
    {
     "data": {
      "text/plain": [
       "2328.900390625"
      ]
     },
     "execution_count": 55,
     "metadata": {},
     "output_type": "execute_result"
    }
   ],
   "source": [
    "model.evaluate(X_test,y_test)"
   ]
  },
  {
   "cell_type": "code",
   "execution_count": 13,
   "id": "40d68611",
   "metadata": {
    "ExecuteTime": {
     "end_time": "2021-07-03T16:36:13.693596Z",
     "start_time": "2021-07-03T16:36:13.431756Z"
    }
   },
   "outputs": [],
   "source": [
    "# keras tuner walkthrough https://www.tensorflow.org/tutorials/keras/keras_tuner\n",
    "import kerastuner as kt\n",
    "import tensorflow as tf"
   ]
  },
  {
   "cell_type": "code",
   "execution_count": 19,
   "id": "0c875b88",
   "metadata": {
    "ExecuteTime": {
     "end_time": "2021-07-03T16:48:36.839409Z",
     "start_time": "2021-07-03T16:48:36.821954Z"
    }
   },
   "outputs": [],
   "source": [
    "def build_model(hp):\n",
    "    model = Sequential()\n",
    "    model.add(Conv3D(hp.Int(\"units\", min_value=32, max_value=2048, step=32),\n",
    "                     hp.Int(\"kernel_size\", min_value=2, max_value=6, step=1),\n",
    "                     activation='relu',\n",
    "                     input_shape=(dim_x,dim_y,dim_z,1)))\n",
    "    model.add(Flatten())\n",
    "    model.add(Dense(3))\n",
    "    model.compile(\n",
    "        optimizer=keras.optimizers.Adam(\n",
    "            hp.Choice(\"learning_rate\", values=[5e-2, 1e-2, 5e-3, 1e-3, 5e-4, 1e-4])),\n",
    "        loss='MSE',\n",
    "        metrics='MSE')\n",
    "    return model"
   ]
  },
  {
   "cell_type": "code",
   "execution_count": 20,
   "id": "06047267",
   "metadata": {
    "ExecuteTime": {
     "end_time": "2021-07-03T16:48:41.063670Z",
     "start_time": "2021-07-03T16:48:40.515232Z"
    }
   },
   "outputs": [],
   "source": [
    "tuner = kt.BayesianOptimization(\n",
    "    build_model,\n",
    "    objective='val_loss',\n",
    "    max_trials=5,\n",
    "    overwrite=True)"
   ]
  },
  {
   "cell_type": "code",
   "execution_count": 21,
   "id": "eebe46b7",
   "metadata": {
    "ExecuteTime": {
     "end_time": "2021-07-03T16:52:15.589647Z",
     "start_time": "2021-07-03T16:48:42.154385Z"
    }
   },
   "outputs": [
    {
     "name": "stdout",
     "output_type": "stream",
     "text": [
      "Epoch 1/3\n",
      "1/1 [==============================] - ETA: 0s - loss: 180071.5000 - MSE: 180071.500 - 6s 6s/step - loss: 180071.5000 - MSE: 180071.5000 - val_loss: 199774289920.0000 - val_MSE: 199774289920.0000\n",
      "Epoch 2/3\n",
      "1/1 [==============================] - ETA: 0s - loss: 146757086347264.0000 - MSE: 146757086347264.000 - 3s 3s/step - loss: 146757086347264.0000 - MSE: 146757086347264.0000 - val_loss: 4541380096.0000 - val_MSE: 4541380096.0000\n",
      "Epoch 3/3\n",
      "1/1 [==============================] - ETA: 0s - loss: 312453535629312.0000 - MSE: 312453535629312.000 - 3s 3s/step - loss: 312453535629312.0000 - MSE: 312453535629312.0000 - val_loss: 81555234816.0000 - val_MSE: 81555234816.0000\n"
     ]
    },
    {
     "data": {
      "text/html": [
       "<span style=\"color:#4527A0\"><h1 style=\"font-size:18px\">Trial complete</h1></span>"
      ],
      "text/plain": [
       "<IPython.core.display.HTML object>"
      ]
     },
     "metadata": {},
     "output_type": "display_data"
    },
    {
     "data": {
      "text/html": [
       "<span style=\"color:#4527A0\"><h1 style=\"font-size:18px\">Trial summary</h1></span>"
      ],
      "text/plain": [
       "<IPython.core.display.HTML object>"
      ]
     },
     "metadata": {},
     "output_type": "display_data"
    },
    {
     "data": {
      "text/html": [
       "<span style=\"color:cyan\"> |-Trial ID: a9794f03df232354110a1a82a5e2c3cc</span>"
      ],
      "text/plain": [
       "<IPython.core.display.HTML object>"
      ]
     },
     "metadata": {},
     "output_type": "display_data"
    },
    {
     "data": {
      "text/html": [
       "<span style=\"color:cyan\"> |-Score: 4541380096.0</span>"
      ],
      "text/plain": [
       "<IPython.core.display.HTML object>"
      ]
     },
     "metadata": {},
     "output_type": "display_data"
    },
    {
     "data": {
      "text/html": [
       "<span style=\"color:cyan\"> |-Best step: 0</span>"
      ],
      "text/plain": [
       "<IPython.core.display.HTML object>"
      ]
     },
     "metadata": {},
     "output_type": "display_data"
    },
    {
     "data": {
      "text/html": [
       "<span style=\"color:#7E57C2\"><h2 style=\"font-size:16px\">Hyperparameters:</h2></span>"
      ],
      "text/plain": [
       "<IPython.core.display.HTML object>"
      ]
     },
     "metadata": {},
     "output_type": "display_data"
    },
    {
     "data": {
      "text/html": [
       "<span style=\"color:cyan\"> |-kernel_size: 8</span>"
      ],
      "text/plain": [
       "<IPython.core.display.HTML object>"
      ]
     },
     "metadata": {},
     "output_type": "display_data"
    },
    {
     "data": {
      "text/html": [
       "<span style=\"color:blue\"> |-learning_rate: 0.1</span>"
      ],
      "text/plain": [
       "<IPython.core.display.HTML object>"
      ]
     },
     "metadata": {},
     "output_type": "display_data"
    },
    {
     "data": {
      "text/html": [
       "<span style=\"color:cyan\"> |-units: 64</span>"
      ],
      "text/plain": [
       "<IPython.core.display.HTML object>"
      ]
     },
     "metadata": {},
     "output_type": "display_data"
    },
    {
     "name": "stdout",
     "output_type": "stream",
     "text": [
      "Epoch 1/3\n",
      "WARNING:tensorflow:5 out of the last 13 calls to <function Model.make_train_function.<locals>.train_function at 0x7fef3cf5dee0> triggered tf.function retracing. Tracing is expensive and the excessive number of tracings could be due to (1) creating @tf.function repeatedly in a loop, (2) passing tensors with different shapes, (3) passing Python objects instead of tensors. For (1), please define your @tf.function outside of the loop. For (2), @tf.function has experimental_relax_shapes=True option that relaxes argument shapes that can avoid unnecessary retracing. For (3), please refer to https://www.tensorflow.org/guide/function#controlling_retracing and https://www.tensorflow.org/api_docs/python/tf/function for  more details.\n",
      "1/1 [==============================] - ETA: 0s - loss: 38218.7070 - MSE: 38218.7070WARNING:tensorflow:5 out of the last 13 calls to <function Model.make_test_function.<locals>.test_function at 0x7fef1c444af0> triggered tf.function retracing. Tracing is expensive and the excessive number of tracings could be due to (1) creating @tf.function repeatedly in a loop, (2) passing tensors with different shapes, (3) passing Python objects instead of tensors. For (1), please define your @tf.function outside of the loop. For (2), @tf.function has experimental_relax_shapes=True option that relaxes argument shapes that can avoid unnecessary retracing. For (3), please refer to https://www.tensorflow.org/guide/function#controlling_retracing and https://www.tensorflow.org/api_docs/python/tf/function for  more details.\n",
      "1/1 [==============================] - 11s 11s/step - loss: 38218.7070 - MSE: 38218.7070 - val_loss: 405948.4375 - val_MSE: 405948.4375\n",
      "Epoch 2/3\n",
      "1/1 [==============================] - ETA: 0s - loss: 2005266304.0000 - MSE: 2005266304.000 - 10s 10s/step - loss: 2005266304.0000 - MSE: 2005266304.0000 - val_loss: 323481.9375 - val_MSE: 323481.9375\n",
      "Epoch 3/3\n",
      "1/1 [==============================] - ETA: 0s - loss: 102797224.0000 - MSE: 102797224.000 - 10s 10s/step - loss: 102797224.0000 - MSE: 102797224.0000 - val_loss: 271913.9062 - val_MSE: 271913.9062\n"
     ]
    },
    {
     "data": {
      "text/html": [
       "<span style=\"color:#4527A0\"><h1 style=\"font-size:18px\">Trial complete</h1></span>"
      ],
      "text/plain": [
       "<IPython.core.display.HTML object>"
      ]
     },
     "metadata": {},
     "output_type": "display_data"
    },
    {
     "data": {
      "text/html": [
       "<span style=\"color:#4527A0\"><h1 style=\"font-size:18px\">Trial summary</h1></span>"
      ],
      "text/plain": [
       "<IPython.core.display.HTML object>"
      ]
     },
     "metadata": {},
     "output_type": "display_data"
    },
    {
     "data": {
      "text/html": [
       "<span style=\"color:cyan\"> |-Trial ID: 5a0a72325366f8ec96320faf6cb7bc3a</span>"
      ],
      "text/plain": [
       "<IPython.core.display.HTML object>"
      ]
     },
     "metadata": {},
     "output_type": "display_data"
    },
    {
     "data": {
      "text/html": [
       "<span style=\"color:cyan\"> |-Score: 271913.90625</span>"
      ],
      "text/plain": [
       "<IPython.core.display.HTML object>"
      ]
     },
     "metadata": {},
     "output_type": "display_data"
    },
    {
     "data": {
      "text/html": [
       "<span style=\"color:cyan\"> |-Best step: 0</span>"
      ],
      "text/plain": [
       "<IPython.core.display.HTML object>"
      ]
     },
     "metadata": {},
     "output_type": "display_data"
    },
    {
     "data": {
      "text/html": [
       "<span style=\"color:#7E57C2\"><h2 style=\"font-size:16px\">Hyperparameters:</h2></span>"
      ],
      "text/plain": [
       "<IPython.core.display.HTML object>"
      ]
     },
     "metadata": {},
     "output_type": "display_data"
    },
    {
     "data": {
      "text/html": [
       "<span style=\"color:cyan\"> |-kernel_size: 6</span>"
      ],
      "text/plain": [
       "<IPython.core.display.HTML object>"
      ]
     },
     "metadata": {},
     "output_type": "display_data"
    },
    {
     "data": {
      "text/html": [
       "<span style=\"color:blue\"> |-learning_rate: 0.001</span>"
      ],
      "text/plain": [
       "<IPython.core.display.HTML object>"
      ]
     },
     "metadata": {},
     "output_type": "display_data"
    },
    {
     "data": {
      "text/html": [
       "<span style=\"color:cyan\"> |-units: 384</span>"
      ],
      "text/plain": [
       "<IPython.core.display.HTML object>"
      ]
     },
     "metadata": {},
     "output_type": "display_data"
    },
    {
     "name": "stdout",
     "output_type": "stream",
     "text": [
      "Epoch 1/3\n",
      "WARNING:tensorflow:5 out of the last 13 calls to <function Model.make_train_function.<locals>.train_function at 0x7fef3cf5db80> triggered tf.function retracing. Tracing is expensive and the excessive number of tracings could be due to (1) creating @tf.function repeatedly in a loop, (2) passing tensors with different shapes, (3) passing Python objects instead of tensors. For (1), please define your @tf.function outside of the loop. For (2), @tf.function has experimental_relax_shapes=True option that relaxes argument shapes that can avoid unnecessary retracing. For (3), please refer to https://www.tensorflow.org/guide/function#controlling_retracing and https://www.tensorflow.org/api_docs/python/tf/function for  more details.\n",
      "1/1 [==============================] - ETA: 0s - loss: 36027.9102 - MSE: 36027.9102WARNING:tensorflow:5 out of the last 13 calls to <function Model.make_test_function.<locals>.test_function at 0x7fef1c3fb040> triggered tf.function retracing. Tracing is expensive and the excessive number of tracings could be due to (1) creating @tf.function repeatedly in a loop, (2) passing tensors with different shapes, (3) passing Python objects instead of tensors. For (1), please define your @tf.function outside of the loop. For (2), @tf.function has experimental_relax_shapes=True option that relaxes argument shapes that can avoid unnecessary retracing. For (3), please refer to https://www.tensorflow.org/guide/function#controlling_retracing and https://www.tensorflow.org/api_docs/python/tf/function for  more details.\n",
      "1/1 [==============================] - 12s 12s/step - loss: 36027.9102 - MSE: 36027.9102 - val_loss: 1483852.7500 - val_MSE: 1483852.7500\n",
      "Epoch 2/3\n",
      "1/1 [==============================] - ETA: 0s - loss: 2619430400.0000 - MSE: 2619430400.000 - 14s 14s/step - loss: 2619430400.0000 - MSE: 2619430400.0000 - val_loss: 99833.5000 - val_MSE: 99833.5000\n",
      "Epoch 3/3\n",
      "1/1 [==============================] - ETA: 0s - loss: 162495184.0000 - MSE: 162495184.000 - 13s 13s/step - loss: 162495184.0000 - MSE: 162495184.0000 - val_loss: 109954.7578 - val_MSE: 109954.7578\n"
     ]
    },
    {
     "data": {
      "text/html": [
       "<span style=\"color:#4527A0\"><h1 style=\"font-size:18px\">Trial complete</h1></span>"
      ],
      "text/plain": [
       "<IPython.core.display.HTML object>"
      ]
     },
     "metadata": {},
     "output_type": "display_data"
    },
    {
     "data": {
      "text/html": [
       "<span style=\"color:#4527A0\"><h1 style=\"font-size:18px\">Trial summary</h1></span>"
      ],
      "text/plain": [
       "<IPython.core.display.HTML object>"
      ]
     },
     "metadata": {},
     "output_type": "display_data"
    },
    {
     "data": {
      "text/html": [
       "<span style=\"color:cyan\"> |-Trial ID: d6492bb97b64524fef1e929ca9e086d0</span>"
      ],
      "text/plain": [
       "<IPython.core.display.HTML object>"
      ]
     },
     "metadata": {},
     "output_type": "display_data"
    },
    {
     "data": {
      "text/html": [
       "<span style=\"color:cyan\"> |-Score: 99833.5</span>"
      ],
      "text/plain": [
       "<IPython.core.display.HTML object>"
      ]
     },
     "metadata": {},
     "output_type": "display_data"
    },
    {
     "data": {
      "text/html": [
       "<span style=\"color:cyan\"> |-Best step: 0</span>"
      ],
      "text/plain": [
       "<IPython.core.display.HTML object>"
      ]
     },
     "metadata": {},
     "output_type": "display_data"
    },
    {
     "data": {
      "text/html": [
       "<span style=\"color:#7E57C2\"><h2 style=\"font-size:16px\">Hyperparameters:</h2></span>"
      ],
      "text/plain": [
       "<IPython.core.display.HTML object>"
      ]
     },
     "metadata": {},
     "output_type": "display_data"
    },
    {
     "data": {
      "text/html": [
       "<span style=\"color:cyan\"> |-kernel_size: 6</span>"
      ],
      "text/plain": [
       "<IPython.core.display.HTML object>"
      ]
     },
     "metadata": {},
     "output_type": "display_data"
    },
    {
     "data": {
      "text/html": [
       "<span style=\"color:blue\"> |-learning_rate: 0.001</span>"
      ],
      "text/plain": [
       "<IPython.core.display.HTML object>"
      ]
     },
     "metadata": {},
     "output_type": "display_data"
    },
    {
     "data": {
      "text/html": [
       "<span style=\"color:cyan\"> |-units: 480</span>"
      ],
      "text/plain": [
       "<IPython.core.display.HTML object>"
      ]
     },
     "metadata": {},
     "output_type": "display_data"
    },
    {
     "name": "stdout",
     "output_type": "stream",
     "text": [
      "Epoch 1/3\n",
      "WARNING:tensorflow:5 out of the last 13 calls to <function Model.make_train_function.<locals>.train_function at 0x7fef1c3fb550> triggered tf.function retracing. Tracing is expensive and the excessive number of tracings could be due to (1) creating @tf.function repeatedly in a loop, (2) passing tensors with different shapes, (3) passing Python objects instead of tensors. For (1), please define your @tf.function outside of the loop. For (2), @tf.function has experimental_relax_shapes=True option that relaxes argument shapes that can avoid unnecessary retracing. For (3), please refer to https://www.tensorflow.org/guide/function#controlling_retracing and https://www.tensorflow.org/api_docs/python/tf/function for  more details.\n",
      "1/1 [==============================] - ETA: 0s - loss: 39424.8164 - MSE: 39424.8164WARNING:tensorflow:5 out of the last 13 calls to <function Model.make_test_function.<locals>.test_function at 0x7fef34ecc8b0> triggered tf.function retracing. Tracing is expensive and the excessive number of tracings could be due to (1) creating @tf.function repeatedly in a loop, (2) passing tensors with different shapes, (3) passing Python objects instead of tensors. For (1), please define your @tf.function outside of the loop. For (2), @tf.function has experimental_relax_shapes=True option that relaxes argument shapes that can avoid unnecessary retracing. For (3), please refer to https://www.tensorflow.org/guide/function#controlling_retracing and https://www.tensorflow.org/api_docs/python/tf/function for  more details.\n",
      "1/1 [==============================] - 6s 6s/step - loss: 39424.8164 - MSE: 39424.8164 - val_loss: 28659.4258 - val_MSE: 28659.4258\n",
      "Epoch 2/3\n",
      "1/1 [==============================] - ETA: 0s - loss: 24096232.0000 - MSE: 24096232.000 - 7s 7s/step - loss: 24096232.0000 - MSE: 24096232.0000 - val_loss: 1666.4716 - val_MSE: 1666.4716\n",
      "Epoch 3/3\n",
      "1/1 [==============================] - ETA: 0s - loss: 1586544.3750 - MSE: 1586544.375 - 6s 6s/step - loss: 1586544.3750 - MSE: 1586544.3750 - val_loss: 10130.7744 - val_MSE: 10130.7744\n"
     ]
    },
    {
     "data": {
      "text/html": [
       "<span style=\"color:#4527A0\"><h1 style=\"font-size:18px\">Trial complete</h1></span>"
      ],
      "text/plain": [
       "<IPython.core.display.HTML object>"
      ]
     },
     "metadata": {},
     "output_type": "display_data"
    },
    {
     "data": {
      "text/html": [
       "<span style=\"color:#4527A0\"><h1 style=\"font-size:18px\">Trial summary</h1></span>"
      ],
      "text/plain": [
       "<IPython.core.display.HTML object>"
      ]
     },
     "metadata": {},
     "output_type": "display_data"
    },
    {
     "data": {
      "text/html": [
       "<span style=\"color:cyan\"> |-Trial ID: bffa1a48347988ba8ef2c4f0f0daf5f6</span>"
      ],
      "text/plain": [
       "<IPython.core.display.HTML object>"
      ]
     },
     "metadata": {},
     "output_type": "display_data"
    },
    {
     "data": {
      "text/html": [
       "<span style=\"color:cyan\"> |-Score: 1666.4715576171875</span>"
      ],
      "text/plain": [
       "<IPython.core.display.HTML object>"
      ]
     },
     "metadata": {},
     "output_type": "display_data"
    },
    {
     "data": {
      "text/html": [
       "<span style=\"color:cyan\"> |-Best step: 0</span>"
      ],
      "text/plain": [
       "<IPython.core.display.HTML object>"
      ]
     },
     "metadata": {},
     "output_type": "display_data"
    },
    {
     "data": {
      "text/html": [
       "<span style=\"color:#7E57C2\"><h2 style=\"font-size:16px\">Hyperparameters:</h2></span>"
      ],
      "text/plain": [
       "<IPython.core.display.HTML object>"
      ]
     },
     "metadata": {},
     "output_type": "display_data"
    },
    {
     "data": {
      "text/html": [
       "<span style=\"color:cyan\"> |-kernel_size: 2</span>"
      ],
      "text/plain": [
       "<IPython.core.display.HTML object>"
      ]
     },
     "metadata": {},
     "output_type": "display_data"
    },
    {
     "data": {
      "text/html": [
       "<span style=\"color:blue\"> |-learning_rate: 0.0005</span>"
      ],
      "text/plain": [
       "<IPython.core.display.HTML object>"
      ]
     },
     "metadata": {},
     "output_type": "display_data"
    },
    {
     "data": {
      "text/html": [
       "<span style=\"color:cyan\"> |-units: 384</span>"
      ],
      "text/plain": [
       "<IPython.core.display.HTML object>"
      ]
     },
     "metadata": {},
     "output_type": "display_data"
    },
    {
     "name": "stderr",
     "output_type": "stream",
     "text": [
      "Traceback (most recent call last):\n",
      "  File \"/home/sepidehparhami/.conda/envs/yield/lib/python3.9/site-packages/kerastuner/engine/hypermodel.py\", line 105, in build\n",
      "    model = self.hypermodel.build(hp)\n",
      "  File \"<ipython-input-19-f23a198db292>\", line 8, in build_model\n",
      "    model.add(Dense(3))\n",
      "  File \"/home/sepidehparhami/.conda/envs/yield/lib/python3.9/site-packages/tensorflow/python/training/tracking/base.py\", line 517, in _method_wrapper\n",
      "    result = method(self, *args, **kwargs)\n",
      "  File \"/home/sepidehparhami/.conda/envs/yield/lib/python3.9/site-packages/tensorflow/python/keras/engine/sequential.py\", line 223, in add\n",
      "    output_tensor = layer(self.outputs[0])\n",
      "  File \"/home/sepidehparhami/.conda/envs/yield/lib/python3.9/site-packages/tensorflow/python/keras/engine/base_layer.py\", line 951, in __call__\n",
      "    return self._functional_construction_call(inputs, args, kwargs,\n",
      "  File \"/home/sepidehparhami/.conda/envs/yield/lib/python3.9/site-packages/tensorflow/python/keras/engine/base_layer.py\", line 1090, in _functional_construction_call\n",
      "    outputs = self._keras_tensor_symbolic_call(\n",
      "  File \"/home/sepidehparhami/.conda/envs/yield/lib/python3.9/site-packages/tensorflow/python/keras/engine/base_layer.py\", line 822, in _keras_tensor_symbolic_call\n",
      "    return self._infer_output_signature(inputs, args, kwargs, input_masks)\n",
      "  File \"/home/sepidehparhami/.conda/envs/yield/lib/python3.9/site-packages/tensorflow/python/keras/engine/base_layer.py\", line 862, in _infer_output_signature\n",
      "    self._maybe_build(inputs)\n",
      "  File \"/home/sepidehparhami/.conda/envs/yield/lib/python3.9/site-packages/tensorflow/python/keras/engine/base_layer.py\", line 2710, in _maybe_build\n",
      "    self.build(input_shapes)  # pylint:disable=not-callable\n",
      "  File \"/home/sepidehparhami/.conda/envs/yield/lib/python3.9/site-packages/tensorflow/python/keras/layers/core.py\", line 1185, in build\n",
      "    self.kernel = self.add_weight(\n",
      "  File \"/home/sepidehparhami/.conda/envs/yield/lib/python3.9/site-packages/tensorflow/python/keras/engine/base_layer.py\", line 623, in add_weight\n",
      "    variable = self._add_variable_with_custom_getter(\n",
      "  File \"/home/sepidehparhami/.conda/envs/yield/lib/python3.9/site-packages/tensorflow/python/training/tracking/base.py\", line 805, in _add_variable_with_custom_getter\n",
      "    new_variable = getter(\n",
      "  File \"/home/sepidehparhami/.conda/envs/yield/lib/python3.9/site-packages/tensorflow/python/keras/engine/base_layer_utils.py\", line 130, in make_variable\n",
      "    return tf_variables.VariableV1(\n",
      "  File \"/home/sepidehparhami/.conda/envs/yield/lib/python3.9/site-packages/tensorflow/python/ops/variables.py\", line 260, in __call__\n",
      "    return cls._variable_v1_call(*args, **kwargs)\n",
      "  File \"/home/sepidehparhami/.conda/envs/yield/lib/python3.9/site-packages/tensorflow/python/ops/variables.py\", line 206, in _variable_v1_call\n",
      "    return previous_getter(\n",
      "  File \"/home/sepidehparhami/.conda/envs/yield/lib/python3.9/site-packages/tensorflow/python/ops/variables.py\", line 199, in <lambda>\n",
      "    previous_getter = lambda **kwargs: default_variable_creator(None, **kwargs)\n",
      "  File \"/home/sepidehparhami/.conda/envs/yield/lib/python3.9/site-packages/tensorflow/python/ops/variable_scope.py\", line 2604, in default_variable_creator\n",
      "    return resource_variable_ops.ResourceVariable(\n",
      "  File \"/home/sepidehparhami/.conda/envs/yield/lib/python3.9/site-packages/tensorflow/python/ops/variables.py\", line 264, in __call__\n",
      "    return super(VariableMetaclass, cls).__call__(*args, **kwargs)\n",
      "  File \"/home/sepidehparhami/.conda/envs/yield/lib/python3.9/site-packages/tensorflow/python/ops/resource_variable_ops.py\", line 1574, in __init__\n",
      "    self._init_from_args(\n",
      "  File \"/home/sepidehparhami/.conda/envs/yield/lib/python3.9/site-packages/tensorflow/python/ops/resource_variable_ops.py\", line 1712, in _init_from_args\n",
      "    initial_value = initial_value()\n",
      "  File \"/home/sepidehparhami/.conda/envs/yield/lib/python3.9/site-packages/tensorflow/python/keras/initializers/initializers_v2.py\", line 409, in __call__\n",
      "    return super(VarianceScaling, self).__call__(\n",
      "  File \"/home/sepidehparhami/.conda/envs/yield/lib/python3.9/site-packages/tensorflow/python/ops/init_ops_v2.py\", line 600, in __call__\n",
      "    return self._random_generator.random_uniform(shape, -limit, limit, dtype)\n",
      "  File \"/home/sepidehparhami/.conda/envs/yield/lib/python3.9/site-packages/tensorflow/python/ops/init_ops_v2.py\", line 1081, in random_uniform\n",
      "    return op(\n",
      "  File \"/home/sepidehparhami/.conda/envs/yield/lib/python3.9/site-packages/tensorflow/python/util/dispatch.py\", line 201, in wrapper\n",
      "    return target(*args, **kwargs)\n",
      "  File \"/home/sepidehparhami/.conda/envs/yield/lib/python3.9/site-packages/tensorflow/python/ops/random_ops.py\", line 308, in random_uniform\n",
      "    result = math_ops.add(result * (maxval - minval), minval, name=name)\n",
      "  File \"/home/sepidehparhami/.conda/envs/yield/lib/python3.9/site-packages/tensorflow/python/ops/gen_math_ops.py\", line 327, in add\n",
      "    _ops.raise_from_not_ok_status(e, name)\n",
      "  File \"/home/sepidehparhami/.conda/envs/yield/lib/python3.9/site-packages/tensorflow/python/framework/ops.py\", line 6862, in raise_from_not_ok_status\n",
      "    six.raise_from(core._status_to_exception(e.code, message), None)\n",
      "  File \"<string>\", line 3, in raise_from\n",
      "tensorflow.python.framework.errors_impl.ResourceExhaustedError: OOM when allocating tensor with shape[89915392,3] and type float on /job:localhost/replica:0/task:0/device:CPU:0 by allocator mklcpu [Op:Add]\n"
     ]
    },
    {
     "data": {
      "text/html": [
       "<span style=\"color:yellow\">[Warning] Invalid model 0/5</span>"
      ],
      "text/plain": [
       "<IPython.core.display.HTML object>"
      ]
     },
     "metadata": {},
     "output_type": "display_data"
    },
    {
     "name": "stderr",
     "output_type": "stream",
     "text": [
      "Traceback (most recent call last):\n",
      "  File \"/home/sepidehparhami/.conda/envs/yield/lib/python3.9/site-packages/kerastuner/engine/hypermodel.py\", line 105, in build\n",
      "    model = self.hypermodel.build(hp)\n",
      "  File \"<ipython-input-19-f23a198db292>\", line 8, in build_model\n",
      "    model.add(Dense(3))\n",
      "  File \"/home/sepidehparhami/.conda/envs/yield/lib/python3.9/site-packages/tensorflow/python/training/tracking/base.py\", line 517, in _method_wrapper\n",
      "    result = method(self, *args, **kwargs)\n",
      "  File \"/home/sepidehparhami/.conda/envs/yield/lib/python3.9/site-packages/tensorflow/python/keras/engine/sequential.py\", line 223, in add\n",
      "    output_tensor = layer(self.outputs[0])\n",
      "  File \"/home/sepidehparhami/.conda/envs/yield/lib/python3.9/site-packages/tensorflow/python/keras/engine/base_layer.py\", line 951, in __call__\n",
      "    return self._functional_construction_call(inputs, args, kwargs,\n",
      "  File \"/home/sepidehparhami/.conda/envs/yield/lib/python3.9/site-packages/tensorflow/python/keras/engine/base_layer.py\", line 1090, in _functional_construction_call\n",
      "    outputs = self._keras_tensor_symbolic_call(\n",
      "  File \"/home/sepidehparhami/.conda/envs/yield/lib/python3.9/site-packages/tensorflow/python/keras/engine/base_layer.py\", line 822, in _keras_tensor_symbolic_call\n",
      "    return self._infer_output_signature(inputs, args, kwargs, input_masks)\n",
      "  File \"/home/sepidehparhami/.conda/envs/yield/lib/python3.9/site-packages/tensorflow/python/keras/engine/base_layer.py\", line 862, in _infer_output_signature\n",
      "    self._maybe_build(inputs)\n",
      "  File \"/home/sepidehparhami/.conda/envs/yield/lib/python3.9/site-packages/tensorflow/python/keras/engine/base_layer.py\", line 2710, in _maybe_build\n",
      "    self.build(input_shapes)  # pylint:disable=not-callable\n",
      "  File \"/home/sepidehparhami/.conda/envs/yield/lib/python3.9/site-packages/tensorflow/python/keras/layers/core.py\", line 1185, in build\n",
      "    self.kernel = self.add_weight(\n",
      "  File \"/home/sepidehparhami/.conda/envs/yield/lib/python3.9/site-packages/tensorflow/python/keras/engine/base_layer.py\", line 623, in add_weight\n",
      "    variable = self._add_variable_with_custom_getter(\n",
      "  File \"/home/sepidehparhami/.conda/envs/yield/lib/python3.9/site-packages/tensorflow/python/training/tracking/base.py\", line 805, in _add_variable_with_custom_getter\n",
      "    new_variable = getter(\n",
      "  File \"/home/sepidehparhami/.conda/envs/yield/lib/python3.9/site-packages/tensorflow/python/keras/engine/base_layer_utils.py\", line 130, in make_variable\n",
      "    return tf_variables.VariableV1(\n",
      "  File \"/home/sepidehparhami/.conda/envs/yield/lib/python3.9/site-packages/tensorflow/python/ops/variables.py\", line 260, in __call__\n",
      "    return cls._variable_v1_call(*args, **kwargs)\n",
      "  File \"/home/sepidehparhami/.conda/envs/yield/lib/python3.9/site-packages/tensorflow/python/ops/variables.py\", line 206, in _variable_v1_call\n",
      "    return previous_getter(\n",
      "  File \"/home/sepidehparhami/.conda/envs/yield/lib/python3.9/site-packages/tensorflow/python/ops/variables.py\", line 199, in <lambda>\n",
      "    previous_getter = lambda **kwargs: default_variable_creator(None, **kwargs)\n",
      "  File \"/home/sepidehparhami/.conda/envs/yield/lib/python3.9/site-packages/tensorflow/python/ops/variable_scope.py\", line 2604, in default_variable_creator\n",
      "    return resource_variable_ops.ResourceVariable(\n",
      "  File \"/home/sepidehparhami/.conda/envs/yield/lib/python3.9/site-packages/tensorflow/python/ops/variables.py\", line 264, in __call__\n",
      "    return super(VariableMetaclass, cls).__call__(*args, **kwargs)\n",
      "  File \"/home/sepidehparhami/.conda/envs/yield/lib/python3.9/site-packages/tensorflow/python/ops/resource_variable_ops.py\", line 1574, in __init__\n",
      "    self._init_from_args(\n",
      "  File \"/home/sepidehparhami/.conda/envs/yield/lib/python3.9/site-packages/tensorflow/python/ops/resource_variable_ops.py\", line 1712, in _init_from_args\n",
      "    initial_value = initial_value()\n",
      "  File \"/home/sepidehparhami/.conda/envs/yield/lib/python3.9/site-packages/tensorflow/python/keras/initializers/initializers_v2.py\", line 409, in __call__\n",
      "    return super(VarianceScaling, self).__call__(\n",
      "  File \"/home/sepidehparhami/.conda/envs/yield/lib/python3.9/site-packages/tensorflow/python/ops/init_ops_v2.py\", line 600, in __call__\n",
      "    return self._random_generator.random_uniform(shape, -limit, limit, dtype)\n",
      "  File \"/home/sepidehparhami/.conda/envs/yield/lib/python3.9/site-packages/tensorflow/python/ops/init_ops_v2.py\", line 1081, in random_uniform\n",
      "    return op(\n",
      "  File \"/home/sepidehparhami/.conda/envs/yield/lib/python3.9/site-packages/tensorflow/python/util/dispatch.py\", line 201, in wrapper\n",
      "    return target(*args, **kwargs)\n",
      "  File \"/home/sepidehparhami/.conda/envs/yield/lib/python3.9/site-packages/tensorflow/python/ops/random_ops.py\", line 308, in random_uniform\n",
      "    result = math_ops.add(result * (maxval - minval), minval, name=name)\n",
      "  File \"/home/sepidehparhami/.conda/envs/yield/lib/python3.9/site-packages/tensorflow/python/ops/gen_math_ops.py\", line 327, in add\n",
      "    _ops.raise_from_not_ok_status(e, name)\n",
      "  File \"/home/sepidehparhami/.conda/envs/yield/lib/python3.9/site-packages/tensorflow/python/framework/ops.py\", line 6862, in raise_from_not_ok_status\n",
      "    six.raise_from(core._status_to_exception(e.code, message), None)\n",
      "  File \"<string>\", line 3, in raise_from\n",
      "tensorflow.python.framework.errors_impl.ResourceExhaustedError: OOM when allocating tensor with shape[89915392,3] and type float on /job:localhost/replica:0/task:0/device:CPU:0 by allocator mklcpu [Op:Add]\n"
     ]
    },
    {
     "data": {
      "text/html": [
       "<span style=\"color:yellow\">[Warning] Invalid model 1/5</span>"
      ],
      "text/plain": [
       "<IPython.core.display.HTML object>"
      ]
     },
     "metadata": {},
     "output_type": "display_data"
    },
    {
     "name": "stderr",
     "output_type": "stream",
     "text": [
      "Traceback (most recent call last):\n",
      "  File \"/home/sepidehparhami/.conda/envs/yield/lib/python3.9/site-packages/kerastuner/engine/hypermodel.py\", line 105, in build\n",
      "    model = self.hypermodel.build(hp)\n",
      "  File \"<ipython-input-19-f23a198db292>\", line 8, in build_model\n",
      "    model.add(Dense(3))\n",
      "  File \"/home/sepidehparhami/.conda/envs/yield/lib/python3.9/site-packages/tensorflow/python/training/tracking/base.py\", line 517, in _method_wrapper\n",
      "    result = method(self, *args, **kwargs)\n",
      "  File \"/home/sepidehparhami/.conda/envs/yield/lib/python3.9/site-packages/tensorflow/python/keras/engine/sequential.py\", line 223, in add\n",
      "    output_tensor = layer(self.outputs[0])\n",
      "  File \"/home/sepidehparhami/.conda/envs/yield/lib/python3.9/site-packages/tensorflow/python/keras/engine/base_layer.py\", line 951, in __call__\n",
      "    return self._functional_construction_call(inputs, args, kwargs,\n",
      "  File \"/home/sepidehparhami/.conda/envs/yield/lib/python3.9/site-packages/tensorflow/python/keras/engine/base_layer.py\", line 1090, in _functional_construction_call\n",
      "    outputs = self._keras_tensor_symbolic_call(\n",
      "  File \"/home/sepidehparhami/.conda/envs/yield/lib/python3.9/site-packages/tensorflow/python/keras/engine/base_layer.py\", line 822, in _keras_tensor_symbolic_call\n",
      "    return self._infer_output_signature(inputs, args, kwargs, input_masks)\n",
      "  File \"/home/sepidehparhami/.conda/envs/yield/lib/python3.9/site-packages/tensorflow/python/keras/engine/base_layer.py\", line 862, in _infer_output_signature\n",
      "    self._maybe_build(inputs)\n",
      "  File \"/home/sepidehparhami/.conda/envs/yield/lib/python3.9/site-packages/tensorflow/python/keras/engine/base_layer.py\", line 2710, in _maybe_build\n",
      "    self.build(input_shapes)  # pylint:disable=not-callable\n",
      "  File \"/home/sepidehparhami/.conda/envs/yield/lib/python3.9/site-packages/tensorflow/python/keras/layers/core.py\", line 1185, in build\n",
      "    self.kernel = self.add_weight(\n",
      "  File \"/home/sepidehparhami/.conda/envs/yield/lib/python3.9/site-packages/tensorflow/python/keras/engine/base_layer.py\", line 623, in add_weight\n",
      "    variable = self._add_variable_with_custom_getter(\n",
      "  File \"/home/sepidehparhami/.conda/envs/yield/lib/python3.9/site-packages/tensorflow/python/training/tracking/base.py\", line 805, in _add_variable_with_custom_getter\n",
      "    new_variable = getter(\n",
      "  File \"/home/sepidehparhami/.conda/envs/yield/lib/python3.9/site-packages/tensorflow/python/keras/engine/base_layer_utils.py\", line 130, in make_variable\n",
      "    return tf_variables.VariableV1(\n",
      "  File \"/home/sepidehparhami/.conda/envs/yield/lib/python3.9/site-packages/tensorflow/python/ops/variables.py\", line 260, in __call__\n",
      "    return cls._variable_v1_call(*args, **kwargs)\n",
      "  File \"/home/sepidehparhami/.conda/envs/yield/lib/python3.9/site-packages/tensorflow/python/ops/variables.py\", line 206, in _variable_v1_call\n",
      "    return previous_getter(\n",
      "  File \"/home/sepidehparhami/.conda/envs/yield/lib/python3.9/site-packages/tensorflow/python/ops/variables.py\", line 199, in <lambda>\n",
      "    previous_getter = lambda **kwargs: default_variable_creator(None, **kwargs)\n",
      "  File \"/home/sepidehparhami/.conda/envs/yield/lib/python3.9/site-packages/tensorflow/python/ops/variable_scope.py\", line 2604, in default_variable_creator\n",
      "    return resource_variable_ops.ResourceVariable(\n",
      "  File \"/home/sepidehparhami/.conda/envs/yield/lib/python3.9/site-packages/tensorflow/python/ops/variables.py\", line 264, in __call__\n",
      "    return super(VariableMetaclass, cls).__call__(*args, **kwargs)\n",
      "  File \"/home/sepidehparhami/.conda/envs/yield/lib/python3.9/site-packages/tensorflow/python/ops/resource_variable_ops.py\", line 1574, in __init__\n",
      "    self._init_from_args(\n",
      "  File \"/home/sepidehparhami/.conda/envs/yield/lib/python3.9/site-packages/tensorflow/python/ops/resource_variable_ops.py\", line 1712, in _init_from_args\n",
      "    initial_value = initial_value()\n",
      "  File \"/home/sepidehparhami/.conda/envs/yield/lib/python3.9/site-packages/tensorflow/python/keras/initializers/initializers_v2.py\", line 409, in __call__\n",
      "    return super(VarianceScaling, self).__call__(\n",
      "  File \"/home/sepidehparhami/.conda/envs/yield/lib/python3.9/site-packages/tensorflow/python/ops/init_ops_v2.py\", line 600, in __call__\n",
      "    return self._random_generator.random_uniform(shape, -limit, limit, dtype)\n",
      "  File \"/home/sepidehparhami/.conda/envs/yield/lib/python3.9/site-packages/tensorflow/python/ops/init_ops_v2.py\", line 1081, in random_uniform\n",
      "    return op(\n",
      "  File \"/home/sepidehparhami/.conda/envs/yield/lib/python3.9/site-packages/tensorflow/python/util/dispatch.py\", line 201, in wrapper\n",
      "    return target(*args, **kwargs)\n",
      "  File \"/home/sepidehparhami/.conda/envs/yield/lib/python3.9/site-packages/tensorflow/python/ops/random_ops.py\", line 308, in random_uniform\n",
      "    result = math_ops.add(result * (maxval - minval), minval, name=name)\n",
      "  File \"/home/sepidehparhami/.conda/envs/yield/lib/python3.9/site-packages/tensorflow/python/ops/gen_math_ops.py\", line 327, in add\n",
      "    _ops.raise_from_not_ok_status(e, name)\n",
      "  File \"/home/sepidehparhami/.conda/envs/yield/lib/python3.9/site-packages/tensorflow/python/framework/ops.py\", line 6862, in raise_from_not_ok_status\n",
      "    six.raise_from(core._status_to_exception(e.code, message), None)\n",
      "  File \"<string>\", line 3, in raise_from\n",
      "tensorflow.python.framework.errors_impl.ResourceExhaustedError: OOM when allocating tensor with shape[89915392,3] and type float on /job:localhost/replica:0/task:0/device:CPU:0 by allocator mklcpu [Op:Add]\n"
     ]
    },
    {
     "data": {
      "text/html": [
       "<span style=\"color:yellow\">[Warning] Invalid model 2/5</span>"
      ],
      "text/plain": [
       "<IPython.core.display.HTML object>"
      ]
     },
     "metadata": {},
     "output_type": "display_data"
    },
    {
     "name": "stderr",
     "output_type": "stream",
     "text": [
      "Traceback (most recent call last):\n",
      "  File \"/home/sepidehparhami/.conda/envs/yield/lib/python3.9/site-packages/kerastuner/engine/hypermodel.py\", line 105, in build\n",
      "    model = self.hypermodel.build(hp)\n",
      "  File \"<ipython-input-19-f23a198db292>\", line 8, in build_model\n",
      "    model.add(Dense(3))\n",
      "  File \"/home/sepidehparhami/.conda/envs/yield/lib/python3.9/site-packages/tensorflow/python/training/tracking/base.py\", line 517, in _method_wrapper\n",
      "    result = method(self, *args, **kwargs)\n",
      "  File \"/home/sepidehparhami/.conda/envs/yield/lib/python3.9/site-packages/tensorflow/python/keras/engine/sequential.py\", line 223, in add\n",
      "    output_tensor = layer(self.outputs[0])\n",
      "  File \"/home/sepidehparhami/.conda/envs/yield/lib/python3.9/site-packages/tensorflow/python/keras/engine/base_layer.py\", line 951, in __call__\n",
      "    return self._functional_construction_call(inputs, args, kwargs,\n",
      "  File \"/home/sepidehparhami/.conda/envs/yield/lib/python3.9/site-packages/tensorflow/python/keras/engine/base_layer.py\", line 1090, in _functional_construction_call\n",
      "    outputs = self._keras_tensor_symbolic_call(\n",
      "  File \"/home/sepidehparhami/.conda/envs/yield/lib/python3.9/site-packages/tensorflow/python/keras/engine/base_layer.py\", line 822, in _keras_tensor_symbolic_call\n",
      "    return self._infer_output_signature(inputs, args, kwargs, input_masks)\n",
      "  File \"/home/sepidehparhami/.conda/envs/yield/lib/python3.9/site-packages/tensorflow/python/keras/engine/base_layer.py\", line 862, in _infer_output_signature\n",
      "    self._maybe_build(inputs)\n",
      "  File \"/home/sepidehparhami/.conda/envs/yield/lib/python3.9/site-packages/tensorflow/python/keras/engine/base_layer.py\", line 2710, in _maybe_build\n",
      "    self.build(input_shapes)  # pylint:disable=not-callable\n",
      "  File \"/home/sepidehparhami/.conda/envs/yield/lib/python3.9/site-packages/tensorflow/python/keras/layers/core.py\", line 1185, in build\n",
      "    self.kernel = self.add_weight(\n",
      "  File \"/home/sepidehparhami/.conda/envs/yield/lib/python3.9/site-packages/tensorflow/python/keras/engine/base_layer.py\", line 623, in add_weight\n",
      "    variable = self._add_variable_with_custom_getter(\n",
      "  File \"/home/sepidehparhami/.conda/envs/yield/lib/python3.9/site-packages/tensorflow/python/training/tracking/base.py\", line 805, in _add_variable_with_custom_getter\n",
      "    new_variable = getter(\n",
      "  File \"/home/sepidehparhami/.conda/envs/yield/lib/python3.9/site-packages/tensorflow/python/keras/engine/base_layer_utils.py\", line 130, in make_variable\n",
      "    return tf_variables.VariableV1(\n",
      "  File \"/home/sepidehparhami/.conda/envs/yield/lib/python3.9/site-packages/tensorflow/python/ops/variables.py\", line 260, in __call__\n",
      "    return cls._variable_v1_call(*args, **kwargs)\n",
      "  File \"/home/sepidehparhami/.conda/envs/yield/lib/python3.9/site-packages/tensorflow/python/ops/variables.py\", line 206, in _variable_v1_call\n",
      "    return previous_getter(\n",
      "  File \"/home/sepidehparhami/.conda/envs/yield/lib/python3.9/site-packages/tensorflow/python/ops/variables.py\", line 199, in <lambda>\n",
      "    previous_getter = lambda **kwargs: default_variable_creator(None, **kwargs)\n",
      "  File \"/home/sepidehparhami/.conda/envs/yield/lib/python3.9/site-packages/tensorflow/python/ops/variable_scope.py\", line 2604, in default_variable_creator\n",
      "    return resource_variable_ops.ResourceVariable(\n",
      "  File \"/home/sepidehparhami/.conda/envs/yield/lib/python3.9/site-packages/tensorflow/python/ops/variables.py\", line 264, in __call__\n",
      "    return super(VariableMetaclass, cls).__call__(*args, **kwargs)\n",
      "  File \"/home/sepidehparhami/.conda/envs/yield/lib/python3.9/site-packages/tensorflow/python/ops/resource_variable_ops.py\", line 1574, in __init__\n",
      "    self._init_from_args(\n",
      "  File \"/home/sepidehparhami/.conda/envs/yield/lib/python3.9/site-packages/tensorflow/python/ops/resource_variable_ops.py\", line 1712, in _init_from_args\n",
      "    initial_value = initial_value()\n",
      "  File \"/home/sepidehparhami/.conda/envs/yield/lib/python3.9/site-packages/tensorflow/python/keras/initializers/initializers_v2.py\", line 409, in __call__\n",
      "    return super(VarianceScaling, self).__call__(\n",
      "  File \"/home/sepidehparhami/.conda/envs/yield/lib/python3.9/site-packages/tensorflow/python/ops/init_ops_v2.py\", line 600, in __call__\n",
      "    return self._random_generator.random_uniform(shape, -limit, limit, dtype)\n",
      "  File \"/home/sepidehparhami/.conda/envs/yield/lib/python3.9/site-packages/tensorflow/python/ops/init_ops_v2.py\", line 1081, in random_uniform\n",
      "    return op(\n",
      "  File \"/home/sepidehparhami/.conda/envs/yield/lib/python3.9/site-packages/tensorflow/python/util/dispatch.py\", line 201, in wrapper\n",
      "    return target(*args, **kwargs)\n",
      "  File \"/home/sepidehparhami/.conda/envs/yield/lib/python3.9/site-packages/tensorflow/python/ops/random_ops.py\", line 308, in random_uniform\n",
      "    result = math_ops.add(result * (maxval - minval), minval, name=name)\n",
      "  File \"/home/sepidehparhami/.conda/envs/yield/lib/python3.9/site-packages/tensorflow/python/ops/gen_math_ops.py\", line 327, in add\n",
      "    _ops.raise_from_not_ok_status(e, name)\n",
      "  File \"/home/sepidehparhami/.conda/envs/yield/lib/python3.9/site-packages/tensorflow/python/framework/ops.py\", line 6862, in raise_from_not_ok_status\n",
      "    six.raise_from(core._status_to_exception(e.code, message), None)\n",
      "  File \"<string>\", line 3, in raise_from\n",
      "tensorflow.python.framework.errors_impl.ResourceExhaustedError: OOM when allocating tensor with shape[89915392,3] and type float on /job:localhost/replica:0/task:0/device:CPU:0 by allocator mklcpu [Op:Add]\n"
     ]
    },
    {
     "data": {
      "text/html": [
       "<span style=\"color:yellow\">[Warning] Invalid model 3/5</span>"
      ],
      "text/plain": [
       "<IPython.core.display.HTML object>"
      ]
     },
     "metadata": {},
     "output_type": "display_data"
    },
    {
     "name": "stderr",
     "output_type": "stream",
     "text": [
      "Traceback (most recent call last):\n",
      "  File \"/home/sepidehparhami/.conda/envs/yield/lib/python3.9/site-packages/kerastuner/engine/hypermodel.py\", line 105, in build\n",
      "    model = self.hypermodel.build(hp)\n",
      "  File \"<ipython-input-19-f23a198db292>\", line 8, in build_model\n",
      "    model.add(Dense(3))\n",
      "  File \"/home/sepidehparhami/.conda/envs/yield/lib/python3.9/site-packages/tensorflow/python/training/tracking/base.py\", line 517, in _method_wrapper\n",
      "    result = method(self, *args, **kwargs)\n",
      "  File \"/home/sepidehparhami/.conda/envs/yield/lib/python3.9/site-packages/tensorflow/python/keras/engine/sequential.py\", line 223, in add\n",
      "    output_tensor = layer(self.outputs[0])\n",
      "  File \"/home/sepidehparhami/.conda/envs/yield/lib/python3.9/site-packages/tensorflow/python/keras/engine/base_layer.py\", line 951, in __call__\n",
      "    return self._functional_construction_call(inputs, args, kwargs,\n",
      "  File \"/home/sepidehparhami/.conda/envs/yield/lib/python3.9/site-packages/tensorflow/python/keras/engine/base_layer.py\", line 1090, in _functional_construction_call\n",
      "    outputs = self._keras_tensor_symbolic_call(\n",
      "  File \"/home/sepidehparhami/.conda/envs/yield/lib/python3.9/site-packages/tensorflow/python/keras/engine/base_layer.py\", line 822, in _keras_tensor_symbolic_call\n",
      "    return self._infer_output_signature(inputs, args, kwargs, input_masks)\n",
      "  File \"/home/sepidehparhami/.conda/envs/yield/lib/python3.9/site-packages/tensorflow/python/keras/engine/base_layer.py\", line 862, in _infer_output_signature\n",
      "    self._maybe_build(inputs)\n",
      "  File \"/home/sepidehparhami/.conda/envs/yield/lib/python3.9/site-packages/tensorflow/python/keras/engine/base_layer.py\", line 2710, in _maybe_build\n",
      "    self.build(input_shapes)  # pylint:disable=not-callable\n",
      "  File \"/home/sepidehparhami/.conda/envs/yield/lib/python3.9/site-packages/tensorflow/python/keras/layers/core.py\", line 1185, in build\n",
      "    self.kernel = self.add_weight(\n",
      "  File \"/home/sepidehparhami/.conda/envs/yield/lib/python3.9/site-packages/tensorflow/python/keras/engine/base_layer.py\", line 623, in add_weight\n",
      "    variable = self._add_variable_with_custom_getter(\n",
      "  File \"/home/sepidehparhami/.conda/envs/yield/lib/python3.9/site-packages/tensorflow/python/training/tracking/base.py\", line 805, in _add_variable_with_custom_getter\n",
      "    new_variable = getter(\n",
      "  File \"/home/sepidehparhami/.conda/envs/yield/lib/python3.9/site-packages/tensorflow/python/keras/engine/base_layer_utils.py\", line 130, in make_variable\n",
      "    return tf_variables.VariableV1(\n",
      "  File \"/home/sepidehparhami/.conda/envs/yield/lib/python3.9/site-packages/tensorflow/python/ops/variables.py\", line 260, in __call__\n",
      "    return cls._variable_v1_call(*args, **kwargs)\n",
      "  File \"/home/sepidehparhami/.conda/envs/yield/lib/python3.9/site-packages/tensorflow/python/ops/variables.py\", line 206, in _variable_v1_call\n",
      "    return previous_getter(\n",
      "  File \"/home/sepidehparhami/.conda/envs/yield/lib/python3.9/site-packages/tensorflow/python/ops/variables.py\", line 199, in <lambda>\n",
      "    previous_getter = lambda **kwargs: default_variable_creator(None, **kwargs)\n",
      "  File \"/home/sepidehparhami/.conda/envs/yield/lib/python3.9/site-packages/tensorflow/python/ops/variable_scope.py\", line 2604, in default_variable_creator\n",
      "    return resource_variable_ops.ResourceVariable(\n",
      "  File \"/home/sepidehparhami/.conda/envs/yield/lib/python3.9/site-packages/tensorflow/python/ops/variables.py\", line 264, in __call__\n",
      "    return super(VariableMetaclass, cls).__call__(*args, **kwargs)\n",
      "  File \"/home/sepidehparhami/.conda/envs/yield/lib/python3.9/site-packages/tensorflow/python/ops/resource_variable_ops.py\", line 1574, in __init__\n",
      "    self._init_from_args(\n",
      "  File \"/home/sepidehparhami/.conda/envs/yield/lib/python3.9/site-packages/tensorflow/python/ops/resource_variable_ops.py\", line 1712, in _init_from_args\n",
      "    initial_value = initial_value()\n",
      "  File \"/home/sepidehparhami/.conda/envs/yield/lib/python3.9/site-packages/tensorflow/python/keras/initializers/initializers_v2.py\", line 409, in __call__\n",
      "    return super(VarianceScaling, self).__call__(\n",
      "  File \"/home/sepidehparhami/.conda/envs/yield/lib/python3.9/site-packages/tensorflow/python/ops/init_ops_v2.py\", line 600, in __call__\n",
      "    return self._random_generator.random_uniform(shape, -limit, limit, dtype)\n",
      "  File \"/home/sepidehparhami/.conda/envs/yield/lib/python3.9/site-packages/tensorflow/python/ops/init_ops_v2.py\", line 1081, in random_uniform\n",
      "    return op(\n",
      "  File \"/home/sepidehparhami/.conda/envs/yield/lib/python3.9/site-packages/tensorflow/python/util/dispatch.py\", line 201, in wrapper\n",
      "    return target(*args, **kwargs)\n",
      "  File \"/home/sepidehparhami/.conda/envs/yield/lib/python3.9/site-packages/tensorflow/python/ops/random_ops.py\", line 308, in random_uniform\n",
      "    result = math_ops.add(result * (maxval - minval), minval, name=name)\n",
      "  File \"/home/sepidehparhami/.conda/envs/yield/lib/python3.9/site-packages/tensorflow/python/ops/gen_math_ops.py\", line 327, in add\n",
      "    _ops.raise_from_not_ok_status(e, name)\n",
      "  File \"/home/sepidehparhami/.conda/envs/yield/lib/python3.9/site-packages/tensorflow/python/framework/ops.py\", line 6862, in raise_from_not_ok_status\n",
      "    six.raise_from(core._status_to_exception(e.code, message), None)\n",
      "  File \"<string>\", line 3, in raise_from\n",
      "tensorflow.python.framework.errors_impl.ResourceExhaustedError: OOM when allocating tensor with shape[89915392,3] and type float on /job:localhost/replica:0/task:0/device:CPU:0 by allocator mklcpu [Op:Add]\n"
     ]
    },
    {
     "data": {
      "text/html": [
       "<span style=\"color:yellow\">[Warning] Invalid model 4/5</span>"
      ],
      "text/plain": [
       "<IPython.core.display.HTML object>"
      ]
     },
     "metadata": {},
     "output_type": "display_data"
    },
    {
     "name": "stderr",
     "output_type": "stream",
     "text": [
      "Traceback (most recent call last):\n",
      "  File \"/home/sepidehparhami/.conda/envs/yield/lib/python3.9/site-packages/kerastuner/engine/hypermodel.py\", line 105, in build\n",
      "    model = self.hypermodel.build(hp)\n",
      "  File \"<ipython-input-19-f23a198db292>\", line 8, in build_model\n",
      "    model.add(Dense(3))\n",
      "  File \"/home/sepidehparhami/.conda/envs/yield/lib/python3.9/site-packages/tensorflow/python/training/tracking/base.py\", line 517, in _method_wrapper\n",
      "    result = method(self, *args, **kwargs)\n",
      "  File \"/home/sepidehparhami/.conda/envs/yield/lib/python3.9/site-packages/tensorflow/python/keras/engine/sequential.py\", line 223, in add\n",
      "    output_tensor = layer(self.outputs[0])\n",
      "  File \"/home/sepidehparhami/.conda/envs/yield/lib/python3.9/site-packages/tensorflow/python/keras/engine/base_layer.py\", line 951, in __call__\n",
      "    return self._functional_construction_call(inputs, args, kwargs,\n",
      "  File \"/home/sepidehparhami/.conda/envs/yield/lib/python3.9/site-packages/tensorflow/python/keras/engine/base_layer.py\", line 1090, in _functional_construction_call\n",
      "    outputs = self._keras_tensor_symbolic_call(\n",
      "  File \"/home/sepidehparhami/.conda/envs/yield/lib/python3.9/site-packages/tensorflow/python/keras/engine/base_layer.py\", line 822, in _keras_tensor_symbolic_call\n",
      "    return self._infer_output_signature(inputs, args, kwargs, input_masks)\n",
      "  File \"/home/sepidehparhami/.conda/envs/yield/lib/python3.9/site-packages/tensorflow/python/keras/engine/base_layer.py\", line 862, in _infer_output_signature\n",
      "    self._maybe_build(inputs)\n",
      "  File \"/home/sepidehparhami/.conda/envs/yield/lib/python3.9/site-packages/tensorflow/python/keras/engine/base_layer.py\", line 2710, in _maybe_build\n",
      "    self.build(input_shapes)  # pylint:disable=not-callable\n",
      "  File \"/home/sepidehparhami/.conda/envs/yield/lib/python3.9/site-packages/tensorflow/python/keras/layers/core.py\", line 1185, in build\n",
      "    self.kernel = self.add_weight(\n",
      "  File \"/home/sepidehparhami/.conda/envs/yield/lib/python3.9/site-packages/tensorflow/python/keras/engine/base_layer.py\", line 623, in add_weight\n",
      "    variable = self._add_variable_with_custom_getter(\n",
      "  File \"/home/sepidehparhami/.conda/envs/yield/lib/python3.9/site-packages/tensorflow/python/training/tracking/base.py\", line 805, in _add_variable_with_custom_getter\n",
      "    new_variable = getter(\n",
      "  File \"/home/sepidehparhami/.conda/envs/yield/lib/python3.9/site-packages/tensorflow/python/keras/engine/base_layer_utils.py\", line 130, in make_variable\n",
      "    return tf_variables.VariableV1(\n",
      "  File \"/home/sepidehparhami/.conda/envs/yield/lib/python3.9/site-packages/tensorflow/python/ops/variables.py\", line 260, in __call__\n",
      "    return cls._variable_v1_call(*args, **kwargs)\n",
      "  File \"/home/sepidehparhami/.conda/envs/yield/lib/python3.9/site-packages/tensorflow/python/ops/variables.py\", line 206, in _variable_v1_call\n",
      "    return previous_getter(\n",
      "  File \"/home/sepidehparhami/.conda/envs/yield/lib/python3.9/site-packages/tensorflow/python/ops/variables.py\", line 199, in <lambda>\n",
      "    previous_getter = lambda **kwargs: default_variable_creator(None, **kwargs)\n",
      "  File \"/home/sepidehparhami/.conda/envs/yield/lib/python3.9/site-packages/tensorflow/python/ops/variable_scope.py\", line 2604, in default_variable_creator\n",
      "    return resource_variable_ops.ResourceVariable(\n",
      "  File \"/home/sepidehparhami/.conda/envs/yield/lib/python3.9/site-packages/tensorflow/python/ops/variables.py\", line 264, in __call__\n",
      "    return super(VariableMetaclass, cls).__call__(*args, **kwargs)\n",
      "  File \"/home/sepidehparhami/.conda/envs/yield/lib/python3.9/site-packages/tensorflow/python/ops/resource_variable_ops.py\", line 1574, in __init__\n",
      "    self._init_from_args(\n",
      "  File \"/home/sepidehparhami/.conda/envs/yield/lib/python3.9/site-packages/tensorflow/python/ops/resource_variable_ops.py\", line 1712, in _init_from_args\n",
      "    initial_value = initial_value()\n",
      "  File \"/home/sepidehparhami/.conda/envs/yield/lib/python3.9/site-packages/tensorflow/python/keras/initializers/initializers_v2.py\", line 409, in __call__\n",
      "    return super(VarianceScaling, self).__call__(\n",
      "  File \"/home/sepidehparhami/.conda/envs/yield/lib/python3.9/site-packages/tensorflow/python/ops/init_ops_v2.py\", line 600, in __call__\n",
      "    return self._random_generator.random_uniform(shape, -limit, limit, dtype)\n",
      "  File \"/home/sepidehparhami/.conda/envs/yield/lib/python3.9/site-packages/tensorflow/python/ops/init_ops_v2.py\", line 1081, in random_uniform\n",
      "    return op(\n",
      "  File \"/home/sepidehparhami/.conda/envs/yield/lib/python3.9/site-packages/tensorflow/python/util/dispatch.py\", line 201, in wrapper\n",
      "    return target(*args, **kwargs)\n",
      "  File \"/home/sepidehparhami/.conda/envs/yield/lib/python3.9/site-packages/tensorflow/python/ops/random_ops.py\", line 308, in random_uniform\n",
      "    result = math_ops.add(result * (maxval - minval), minval, name=name)\n",
      "  File \"/home/sepidehparhami/.conda/envs/yield/lib/python3.9/site-packages/tensorflow/python/ops/gen_math_ops.py\", line 327, in add\n",
      "    _ops.raise_from_not_ok_status(e, name)\n",
      "  File \"/home/sepidehparhami/.conda/envs/yield/lib/python3.9/site-packages/tensorflow/python/framework/ops.py\", line 6862, in raise_from_not_ok_status\n",
      "    six.raise_from(core._status_to_exception(e.code, message), None)\n",
      "  File \"<string>\", line 3, in raise_from\n",
      "tensorflow.python.framework.errors_impl.ResourceExhaustedError: OOM when allocating tensor with shape[89915392,3] and type float on /job:localhost/replica:0/task:0/device:CPU:0 by allocator mklcpu [Op:Add]\n"
     ]
    },
    {
     "data": {
      "text/html": [
       "<span style=\"color:yellow\">[Warning] Invalid model 5/5</span>"
      ],
      "text/plain": [
       "<IPython.core.display.HTML object>"
      ]
     },
     "metadata": {},
     "output_type": "display_data"
    },
    {
     "ename": "RuntimeError",
     "evalue": "Too many failed attempts to build model.",
     "output_type": "error",
     "traceback": [
      "\u001b[0;31m---------------------------------------------------------------------------\u001b[0m",
      "\u001b[0;31mResourceExhaustedError\u001b[0m                    Traceback (most recent call last)",
      "\u001b[0;32m~/.conda/envs/yield/lib/python3.9/site-packages/kerastuner/engine/hypermodel.py\u001b[0m in \u001b[0;36mbuild\u001b[0;34m(self, hp)\u001b[0m\n\u001b[1;32m    104\u001b[0m                 \u001b[0;32mwith\u001b[0m \u001b[0mmaybe_distribute\u001b[0m\u001b[0;34m(\u001b[0m\u001b[0mself\u001b[0m\u001b[0;34m.\u001b[0m\u001b[0mdistribution_strategy\u001b[0m\u001b[0;34m)\u001b[0m\u001b[0;34m:\u001b[0m\u001b[0;34m\u001b[0m\u001b[0;34m\u001b[0m\u001b[0m\n\u001b[0;32m--> 105\u001b[0;31m                     \u001b[0mmodel\u001b[0m \u001b[0;34m=\u001b[0m \u001b[0mself\u001b[0m\u001b[0;34m.\u001b[0m\u001b[0mhypermodel\u001b[0m\u001b[0;34m.\u001b[0m\u001b[0mbuild\u001b[0m\u001b[0;34m(\u001b[0m\u001b[0mhp\u001b[0m\u001b[0;34m)\u001b[0m\u001b[0;34m\u001b[0m\u001b[0;34m\u001b[0m\u001b[0m\n\u001b[0m\u001b[1;32m    106\u001b[0m             \u001b[0;32mexcept\u001b[0m\u001b[0;34m:\u001b[0m\u001b[0;34m\u001b[0m\u001b[0;34m\u001b[0m\u001b[0m\n",
      "\u001b[0;32m<ipython-input-19-f23a198db292>\u001b[0m in \u001b[0;36mbuild_model\u001b[0;34m(hp)\u001b[0m\n\u001b[1;32m      7\u001b[0m     \u001b[0mmodel\u001b[0m\u001b[0;34m.\u001b[0m\u001b[0madd\u001b[0m\u001b[0;34m(\u001b[0m\u001b[0mFlatten\u001b[0m\u001b[0;34m(\u001b[0m\u001b[0;34m)\u001b[0m\u001b[0;34m)\u001b[0m\u001b[0;34m\u001b[0m\u001b[0;34m\u001b[0m\u001b[0m\n\u001b[0;32m----> 8\u001b[0;31m     \u001b[0mmodel\u001b[0m\u001b[0;34m.\u001b[0m\u001b[0madd\u001b[0m\u001b[0;34m(\u001b[0m\u001b[0mDense\u001b[0m\u001b[0;34m(\u001b[0m\u001b[0;36m3\u001b[0m\u001b[0;34m)\u001b[0m\u001b[0;34m)\u001b[0m\u001b[0;34m\u001b[0m\u001b[0;34m\u001b[0m\u001b[0m\n\u001b[0m\u001b[1;32m      9\u001b[0m     model.compile(\n",
      "\u001b[0;32m~/.conda/envs/yield/lib/python3.9/site-packages/tensorflow/python/training/tracking/base.py\u001b[0m in \u001b[0;36m_method_wrapper\u001b[0;34m(self, *args, **kwargs)\u001b[0m\n\u001b[1;32m    516\u001b[0m     \u001b[0;32mtry\u001b[0m\u001b[0;34m:\u001b[0m\u001b[0;34m\u001b[0m\u001b[0;34m\u001b[0m\u001b[0m\n\u001b[0;32m--> 517\u001b[0;31m       \u001b[0mresult\u001b[0m \u001b[0;34m=\u001b[0m \u001b[0mmethod\u001b[0m\u001b[0;34m(\u001b[0m\u001b[0mself\u001b[0m\u001b[0;34m,\u001b[0m \u001b[0;34m*\u001b[0m\u001b[0margs\u001b[0m\u001b[0;34m,\u001b[0m \u001b[0;34m**\u001b[0m\u001b[0mkwargs\u001b[0m\u001b[0;34m)\u001b[0m\u001b[0;34m\u001b[0m\u001b[0;34m\u001b[0m\u001b[0m\n\u001b[0m\u001b[1;32m    518\u001b[0m     \u001b[0;32mfinally\u001b[0m\u001b[0;34m:\u001b[0m\u001b[0;34m\u001b[0m\u001b[0;34m\u001b[0m\u001b[0m\n",
      "\u001b[0;32m~/.conda/envs/yield/lib/python3.9/site-packages/tensorflow/python/keras/engine/sequential.py\u001b[0m in \u001b[0;36madd\u001b[0;34m(self, layer)\u001b[0m\n\u001b[1;32m    222\u001b[0m       \u001b[0;31m# refresh its output.\u001b[0m\u001b[0;34m\u001b[0m\u001b[0;34m\u001b[0m\u001b[0;34m\u001b[0m\u001b[0m\n\u001b[0;32m--> 223\u001b[0;31m       \u001b[0moutput_tensor\u001b[0m \u001b[0;34m=\u001b[0m \u001b[0mlayer\u001b[0m\u001b[0;34m(\u001b[0m\u001b[0mself\u001b[0m\u001b[0;34m.\u001b[0m\u001b[0moutputs\u001b[0m\u001b[0;34m[\u001b[0m\u001b[0;36m0\u001b[0m\u001b[0;34m]\u001b[0m\u001b[0;34m)\u001b[0m\u001b[0;34m\u001b[0m\u001b[0;34m\u001b[0m\u001b[0m\n\u001b[0m\u001b[1;32m    224\u001b[0m       \u001b[0;32mif\u001b[0m \u001b[0mlen\u001b[0m\u001b[0;34m(\u001b[0m\u001b[0mnest\u001b[0m\u001b[0;34m.\u001b[0m\u001b[0mflatten\u001b[0m\u001b[0;34m(\u001b[0m\u001b[0moutput_tensor\u001b[0m\u001b[0;34m)\u001b[0m\u001b[0;34m)\u001b[0m \u001b[0;34m!=\u001b[0m \u001b[0;36m1\u001b[0m\u001b[0;34m:\u001b[0m\u001b[0;34m\u001b[0m\u001b[0;34m\u001b[0m\u001b[0m\n",
      "\u001b[0;32m~/.conda/envs/yield/lib/python3.9/site-packages/tensorflow/python/keras/engine/base_layer.py\u001b[0m in \u001b[0;36m__call__\u001b[0;34m(self, *args, **kwargs)\u001b[0m\n\u001b[1;32m    950\u001b[0m     \u001b[0;32mif\u001b[0m \u001b[0m_in_functional_construction_mode\u001b[0m\u001b[0;34m(\u001b[0m\u001b[0mself\u001b[0m\u001b[0;34m,\u001b[0m \u001b[0minputs\u001b[0m\u001b[0;34m,\u001b[0m \u001b[0margs\u001b[0m\u001b[0;34m,\u001b[0m \u001b[0mkwargs\u001b[0m\u001b[0;34m,\u001b[0m \u001b[0minput_list\u001b[0m\u001b[0;34m)\u001b[0m\u001b[0;34m:\u001b[0m\u001b[0;34m\u001b[0m\u001b[0;34m\u001b[0m\u001b[0m\n\u001b[0;32m--> 951\u001b[0;31m       return self._functional_construction_call(inputs, args, kwargs,\n\u001b[0m\u001b[1;32m    952\u001b[0m                                                 input_list)\n",
      "\u001b[0;32m~/.conda/envs/yield/lib/python3.9/site-packages/tensorflow/python/keras/engine/base_layer.py\u001b[0m in \u001b[0;36m_functional_construction_call\u001b[0;34m(self, inputs, args, kwargs, input_list)\u001b[0m\n\u001b[1;32m   1089\u001b[0m         \u001b[0;31m# Check input assumptions set after layer building, e.g. input shape.\u001b[0m\u001b[0;34m\u001b[0m\u001b[0;34m\u001b[0m\u001b[0;34m\u001b[0m\u001b[0m\n\u001b[0;32m-> 1090\u001b[0;31m         outputs = self._keras_tensor_symbolic_call(\n\u001b[0m\u001b[1;32m   1091\u001b[0m             inputs, input_masks, args, kwargs)\n",
      "\u001b[0;32m~/.conda/envs/yield/lib/python3.9/site-packages/tensorflow/python/keras/engine/base_layer.py\u001b[0m in \u001b[0;36m_keras_tensor_symbolic_call\u001b[0;34m(self, inputs, input_masks, args, kwargs)\u001b[0m\n\u001b[1;32m    821\u001b[0m     \u001b[0;32melse\u001b[0m\u001b[0;34m:\u001b[0m\u001b[0;34m\u001b[0m\u001b[0;34m\u001b[0m\u001b[0m\n\u001b[0;32m--> 822\u001b[0;31m       \u001b[0;32mreturn\u001b[0m \u001b[0mself\u001b[0m\u001b[0;34m.\u001b[0m\u001b[0m_infer_output_signature\u001b[0m\u001b[0;34m(\u001b[0m\u001b[0minputs\u001b[0m\u001b[0;34m,\u001b[0m \u001b[0margs\u001b[0m\u001b[0;34m,\u001b[0m \u001b[0mkwargs\u001b[0m\u001b[0;34m,\u001b[0m \u001b[0minput_masks\u001b[0m\u001b[0;34m)\u001b[0m\u001b[0;34m\u001b[0m\u001b[0;34m\u001b[0m\u001b[0m\n\u001b[0m\u001b[1;32m    823\u001b[0m \u001b[0;34m\u001b[0m\u001b[0m\n",
      "\u001b[0;32m~/.conda/envs/yield/lib/python3.9/site-packages/tensorflow/python/keras/engine/base_layer.py\u001b[0m in \u001b[0;36m_infer_output_signature\u001b[0;34m(self, inputs, args, kwargs, input_masks)\u001b[0m\n\u001b[1;32m    861\u001b[0m           \u001b[0;31m# TODO(kaftan): do we maybe_build here, or have we already done it?\u001b[0m\u001b[0;34m\u001b[0m\u001b[0;34m\u001b[0m\u001b[0;34m\u001b[0m\u001b[0m\n\u001b[0;32m--> 862\u001b[0;31m           \u001b[0mself\u001b[0m\u001b[0;34m.\u001b[0m\u001b[0m_maybe_build\u001b[0m\u001b[0;34m(\u001b[0m\u001b[0minputs\u001b[0m\u001b[0;34m)\u001b[0m\u001b[0;34m\u001b[0m\u001b[0;34m\u001b[0m\u001b[0m\n\u001b[0m\u001b[1;32m    863\u001b[0m           \u001b[0moutputs\u001b[0m \u001b[0;34m=\u001b[0m \u001b[0mcall_fn\u001b[0m\u001b[0;34m(\u001b[0m\u001b[0minputs\u001b[0m\u001b[0;34m,\u001b[0m \u001b[0;34m*\u001b[0m\u001b[0margs\u001b[0m\u001b[0;34m,\u001b[0m \u001b[0;34m**\u001b[0m\u001b[0mkwargs\u001b[0m\u001b[0;34m)\u001b[0m\u001b[0;34m\u001b[0m\u001b[0;34m\u001b[0m\u001b[0m\n",
      "\u001b[0;32m~/.conda/envs/yield/lib/python3.9/site-packages/tensorflow/python/keras/engine/base_layer.py\u001b[0m in \u001b[0;36m_maybe_build\u001b[0;34m(self, inputs)\u001b[0m\n\u001b[1;32m   2709\u001b[0m         \u001b[0;32mwith\u001b[0m \u001b[0mtf_utils\u001b[0m\u001b[0;34m.\u001b[0m\u001b[0mmaybe_init_scope\u001b[0m\u001b[0;34m(\u001b[0m\u001b[0mself\u001b[0m\u001b[0;34m)\u001b[0m\u001b[0;34m:\u001b[0m\u001b[0;34m\u001b[0m\u001b[0;34m\u001b[0m\u001b[0m\n\u001b[0;32m-> 2710\u001b[0;31m           \u001b[0mself\u001b[0m\u001b[0;34m.\u001b[0m\u001b[0mbuild\u001b[0m\u001b[0;34m(\u001b[0m\u001b[0minput_shapes\u001b[0m\u001b[0;34m)\u001b[0m  \u001b[0;31m# pylint:disable=not-callable\u001b[0m\u001b[0;34m\u001b[0m\u001b[0;34m\u001b[0m\u001b[0m\n\u001b[0m\u001b[1;32m   2711\u001b[0m       \u001b[0;31m# We must set also ensure that the layer is marked as built, and the build\u001b[0m\u001b[0;34m\u001b[0m\u001b[0;34m\u001b[0m\u001b[0;34m\u001b[0m\u001b[0m\n",
      "\u001b[0;32m~/.conda/envs/yield/lib/python3.9/site-packages/tensorflow/python/keras/layers/core.py\u001b[0m in \u001b[0;36mbuild\u001b[0;34m(self, input_shape)\u001b[0m\n\u001b[1;32m   1184\u001b[0m     \u001b[0mself\u001b[0m\u001b[0;34m.\u001b[0m\u001b[0minput_spec\u001b[0m \u001b[0;34m=\u001b[0m \u001b[0mInputSpec\u001b[0m\u001b[0;34m(\u001b[0m\u001b[0mmin_ndim\u001b[0m\u001b[0;34m=\u001b[0m\u001b[0;36m2\u001b[0m\u001b[0;34m,\u001b[0m \u001b[0maxes\u001b[0m\u001b[0;34m=\u001b[0m\u001b[0;34m{\u001b[0m\u001b[0;34m-\u001b[0m\u001b[0;36m1\u001b[0m\u001b[0;34m:\u001b[0m \u001b[0mlast_dim\u001b[0m\u001b[0;34m}\u001b[0m\u001b[0;34m)\u001b[0m\u001b[0;34m\u001b[0m\u001b[0;34m\u001b[0m\u001b[0m\n\u001b[0;32m-> 1185\u001b[0;31m     self.kernel = self.add_weight(\n\u001b[0m\u001b[1;32m   1186\u001b[0m         \u001b[0;34m'kernel'\u001b[0m\u001b[0;34m,\u001b[0m\u001b[0;34m\u001b[0m\u001b[0;34m\u001b[0m\u001b[0m\n",
      "\u001b[0;32m~/.conda/envs/yield/lib/python3.9/site-packages/tensorflow/python/keras/engine/base_layer.py\u001b[0m in \u001b[0;36madd_weight\u001b[0;34m(self, name, shape, dtype, initializer, regularizer, trainable, constraint, use_resource, synchronization, aggregation, **kwargs)\u001b[0m\n\u001b[1;32m    622\u001b[0m \u001b[0;34m\u001b[0m\u001b[0m\n\u001b[0;32m--> 623\u001b[0;31m     variable = self._add_variable_with_custom_getter(\n\u001b[0m\u001b[1;32m    624\u001b[0m         \u001b[0mname\u001b[0m\u001b[0;34m=\u001b[0m\u001b[0mname\u001b[0m\u001b[0;34m,\u001b[0m\u001b[0;34m\u001b[0m\u001b[0;34m\u001b[0m\u001b[0m\n",
      "\u001b[0;32m~/.conda/envs/yield/lib/python3.9/site-packages/tensorflow/python/training/tracking/base.py\u001b[0m in \u001b[0;36m_add_variable_with_custom_getter\u001b[0;34m(self, name, shape, dtype, initializer, getter, overwrite, **kwargs_for_getter)\u001b[0m\n\u001b[1;32m    804\u001b[0m         \u001b[0minitializer\u001b[0m \u001b[0;34m=\u001b[0m \u001b[0mcheckpoint_initializer\u001b[0m\u001b[0;34m\u001b[0m\u001b[0;34m\u001b[0m\u001b[0m\n\u001b[0;32m--> 805\u001b[0;31m     new_variable = getter(\n\u001b[0m\u001b[1;32m    806\u001b[0m         \u001b[0mname\u001b[0m\u001b[0;34m=\u001b[0m\u001b[0mname\u001b[0m\u001b[0;34m,\u001b[0m\u001b[0;34m\u001b[0m\u001b[0;34m\u001b[0m\u001b[0m\n",
      "\u001b[0;32m~/.conda/envs/yield/lib/python3.9/site-packages/tensorflow/python/keras/engine/base_layer_utils.py\u001b[0m in \u001b[0;36mmake_variable\u001b[0;34m(name, shape, dtype, initializer, trainable, caching_device, validate_shape, constraint, use_resource, collections, synchronization, aggregation, partitioner)\u001b[0m\n\u001b[1;32m    129\u001b[0m   \u001b[0mvariable_shape\u001b[0m \u001b[0;34m=\u001b[0m \u001b[0mtensor_shape\u001b[0m\u001b[0;34m.\u001b[0m\u001b[0mTensorShape\u001b[0m\u001b[0;34m(\u001b[0m\u001b[0mshape\u001b[0m\u001b[0;34m)\u001b[0m\u001b[0;34m\u001b[0m\u001b[0;34m\u001b[0m\u001b[0m\n\u001b[0;32m--> 130\u001b[0;31m   return tf_variables.VariableV1(\n\u001b[0m\u001b[1;32m    131\u001b[0m       \u001b[0minitial_value\u001b[0m\u001b[0;34m=\u001b[0m\u001b[0minit_val\u001b[0m\u001b[0;34m,\u001b[0m\u001b[0;34m\u001b[0m\u001b[0;34m\u001b[0m\u001b[0m\n",
      "\u001b[0;32m~/.conda/envs/yield/lib/python3.9/site-packages/tensorflow/python/ops/variables.py\u001b[0m in \u001b[0;36m__call__\u001b[0;34m(cls, *args, **kwargs)\u001b[0m\n\u001b[1;32m    259\u001b[0m     \u001b[0;32mif\u001b[0m \u001b[0mcls\u001b[0m \u001b[0;32mis\u001b[0m \u001b[0mVariableV1\u001b[0m\u001b[0;34m:\u001b[0m\u001b[0;34m\u001b[0m\u001b[0;34m\u001b[0m\u001b[0m\n\u001b[0;32m--> 260\u001b[0;31m       \u001b[0;32mreturn\u001b[0m \u001b[0mcls\u001b[0m\u001b[0;34m.\u001b[0m\u001b[0m_variable_v1_call\u001b[0m\u001b[0;34m(\u001b[0m\u001b[0;34m*\u001b[0m\u001b[0margs\u001b[0m\u001b[0;34m,\u001b[0m \u001b[0;34m**\u001b[0m\u001b[0mkwargs\u001b[0m\u001b[0;34m)\u001b[0m\u001b[0;34m\u001b[0m\u001b[0;34m\u001b[0m\u001b[0m\n\u001b[0m\u001b[1;32m    261\u001b[0m     \u001b[0;32melif\u001b[0m \u001b[0mcls\u001b[0m \u001b[0;32mis\u001b[0m \u001b[0mVariable\u001b[0m\u001b[0;34m:\u001b[0m\u001b[0;34m\u001b[0m\u001b[0;34m\u001b[0m\u001b[0m\n",
      "\u001b[0;32m~/.conda/envs/yield/lib/python3.9/site-packages/tensorflow/python/ops/variables.py\u001b[0m in \u001b[0;36m_variable_v1_call\u001b[0;34m(cls, initial_value, trainable, collections, validate_shape, caching_device, name, variable_def, dtype, expected_shape, import_scope, constraint, use_resource, synchronization, aggregation, shape)\u001b[0m\n\u001b[1;32m    205\u001b[0m       \u001b[0maggregation\u001b[0m \u001b[0;34m=\u001b[0m \u001b[0mVariableAggregation\u001b[0m\u001b[0;34m.\u001b[0m\u001b[0mNONE\u001b[0m\u001b[0;34m\u001b[0m\u001b[0;34m\u001b[0m\u001b[0m\n\u001b[0;32m--> 206\u001b[0;31m     return previous_getter(\n\u001b[0m\u001b[1;32m    207\u001b[0m         \u001b[0minitial_value\u001b[0m\u001b[0;34m=\u001b[0m\u001b[0minitial_value\u001b[0m\u001b[0;34m,\u001b[0m\u001b[0;34m\u001b[0m\u001b[0;34m\u001b[0m\u001b[0m\n",
      "\u001b[0;32m~/.conda/envs/yield/lib/python3.9/site-packages/tensorflow/python/ops/variables.py\u001b[0m in \u001b[0;36m<lambda>\u001b[0;34m(**kwargs)\u001b[0m\n\u001b[1;32m    198\u001b[0m     \u001b[0;34m\"\"\"Call on Variable class. Useful to force the signature.\"\"\"\u001b[0m\u001b[0;34m\u001b[0m\u001b[0;34m\u001b[0m\u001b[0m\n\u001b[0;32m--> 199\u001b[0;31m     \u001b[0mprevious_getter\u001b[0m \u001b[0;34m=\u001b[0m \u001b[0;32mlambda\u001b[0m \u001b[0;34m**\u001b[0m\u001b[0mkwargs\u001b[0m\u001b[0;34m:\u001b[0m \u001b[0mdefault_variable_creator\u001b[0m\u001b[0;34m(\u001b[0m\u001b[0;32mNone\u001b[0m\u001b[0;34m,\u001b[0m \u001b[0;34m**\u001b[0m\u001b[0mkwargs\u001b[0m\u001b[0;34m)\u001b[0m\u001b[0;34m\u001b[0m\u001b[0;34m\u001b[0m\u001b[0m\n\u001b[0m\u001b[1;32m    200\u001b[0m     \u001b[0;32mfor\u001b[0m \u001b[0m_\u001b[0m\u001b[0;34m,\u001b[0m \u001b[0mgetter\u001b[0m \u001b[0;32min\u001b[0m \u001b[0mops\u001b[0m\u001b[0;34m.\u001b[0m\u001b[0mget_default_graph\u001b[0m\u001b[0;34m(\u001b[0m\u001b[0;34m)\u001b[0m\u001b[0;34m.\u001b[0m\u001b[0m_variable_creator_stack\u001b[0m\u001b[0;34m:\u001b[0m  \u001b[0;31m# pylint: disable=protected-access\u001b[0m\u001b[0;34m\u001b[0m\u001b[0;34m\u001b[0m\u001b[0m\n",
      "\u001b[0;32m~/.conda/envs/yield/lib/python3.9/site-packages/tensorflow/python/ops/variable_scope.py\u001b[0m in \u001b[0;36mdefault_variable_creator\u001b[0;34m(next_creator, **kwargs)\u001b[0m\n\u001b[1;32m   2603\u001b[0m     \u001b[0mdistribute_strategy\u001b[0m \u001b[0;34m=\u001b[0m \u001b[0mkwargs\u001b[0m\u001b[0;34m.\u001b[0m\u001b[0mget\u001b[0m\u001b[0;34m(\u001b[0m\u001b[0;34m\"distribute_strategy\"\u001b[0m\u001b[0;34m,\u001b[0m \u001b[0;32mNone\u001b[0m\u001b[0;34m)\u001b[0m\u001b[0;34m\u001b[0m\u001b[0;34m\u001b[0m\u001b[0m\n\u001b[0;32m-> 2604\u001b[0;31m     return resource_variable_ops.ResourceVariable(\n\u001b[0m\u001b[1;32m   2605\u001b[0m         \u001b[0minitial_value\u001b[0m\u001b[0;34m=\u001b[0m\u001b[0minitial_value\u001b[0m\u001b[0;34m,\u001b[0m\u001b[0;34m\u001b[0m\u001b[0;34m\u001b[0m\u001b[0m\n",
      "\u001b[0;32m~/.conda/envs/yield/lib/python3.9/site-packages/tensorflow/python/ops/variables.py\u001b[0m in \u001b[0;36m__call__\u001b[0;34m(cls, *args, **kwargs)\u001b[0m\n\u001b[1;32m    263\u001b[0m     \u001b[0;32melse\u001b[0m\u001b[0;34m:\u001b[0m\u001b[0;34m\u001b[0m\u001b[0;34m\u001b[0m\u001b[0m\n\u001b[0;32m--> 264\u001b[0;31m       \u001b[0;32mreturn\u001b[0m \u001b[0msuper\u001b[0m\u001b[0;34m(\u001b[0m\u001b[0mVariableMetaclass\u001b[0m\u001b[0;34m,\u001b[0m \u001b[0mcls\u001b[0m\u001b[0;34m)\u001b[0m\u001b[0;34m.\u001b[0m\u001b[0m__call__\u001b[0m\u001b[0;34m(\u001b[0m\u001b[0;34m*\u001b[0m\u001b[0margs\u001b[0m\u001b[0;34m,\u001b[0m \u001b[0;34m**\u001b[0m\u001b[0mkwargs\u001b[0m\u001b[0;34m)\u001b[0m\u001b[0;34m\u001b[0m\u001b[0;34m\u001b[0m\u001b[0m\n\u001b[0m\u001b[1;32m    265\u001b[0m \u001b[0;34m\u001b[0m\u001b[0m\n",
      "\u001b[0;32m~/.conda/envs/yield/lib/python3.9/site-packages/tensorflow/python/ops/resource_variable_ops.py\u001b[0m in \u001b[0;36m__init__\u001b[0;34m(self, initial_value, trainable, collections, validate_shape, caching_device, name, dtype, variable_def, import_scope, constraint, distribute_strategy, synchronization, aggregation, shape)\u001b[0m\n\u001b[1;32m   1573\u001b[0m     \u001b[0;32melse\u001b[0m\u001b[0;34m:\u001b[0m\u001b[0;34m\u001b[0m\u001b[0;34m\u001b[0m\u001b[0m\n\u001b[0;32m-> 1574\u001b[0;31m       self._init_from_args(\n\u001b[0m\u001b[1;32m   1575\u001b[0m           \u001b[0minitial_value\u001b[0m\u001b[0;34m=\u001b[0m\u001b[0minitial_value\u001b[0m\u001b[0;34m,\u001b[0m\u001b[0;34m\u001b[0m\u001b[0;34m\u001b[0m\u001b[0m\n",
      "\u001b[0;32m~/.conda/envs/yield/lib/python3.9/site-packages/tensorflow/python/ops/resource_variable_ops.py\u001b[0m in \u001b[0;36m_init_from_args\u001b[0;34m(self, initial_value, trainable, collections, caching_device, name, dtype, constraint, synchronization, aggregation, distribute_strategy, shape)\u001b[0m\n\u001b[1;32m   1711\u001b[0m             \u001b[0;32mif\u001b[0m \u001b[0minit_from_fn\u001b[0m\u001b[0;34m:\u001b[0m\u001b[0;34m\u001b[0m\u001b[0;34m\u001b[0m\u001b[0m\n\u001b[0;32m-> 1712\u001b[0;31m               \u001b[0minitial_value\u001b[0m \u001b[0;34m=\u001b[0m \u001b[0minitial_value\u001b[0m\u001b[0;34m(\u001b[0m\u001b[0;34m)\u001b[0m\u001b[0;34m\u001b[0m\u001b[0;34m\u001b[0m\u001b[0m\n\u001b[0m\u001b[1;32m   1713\u001b[0m             \u001b[0;32mif\u001b[0m \u001b[0misinstance\u001b[0m\u001b[0;34m(\u001b[0m\u001b[0minitial_value\u001b[0m\u001b[0;34m,\u001b[0m \u001b[0mtrackable\u001b[0m\u001b[0;34m.\u001b[0m\u001b[0mCheckpointInitialValue\u001b[0m\u001b[0;34m)\u001b[0m\u001b[0;34m:\u001b[0m\u001b[0;34m\u001b[0m\u001b[0;34m\u001b[0m\u001b[0m\n",
      "\u001b[0;32m~/.conda/envs/yield/lib/python3.9/site-packages/tensorflow/python/keras/initializers/initializers_v2.py\u001b[0m in \u001b[0;36m__call__\u001b[0;34m(self, shape, dtype, **kwargs)\u001b[0m\n\u001b[1;32m    408\u001b[0m     \"\"\"\n\u001b[0;32m--> 409\u001b[0;31m     return super(VarianceScaling, self).__call__(\n\u001b[0m\u001b[1;32m    410\u001b[0m         shape, dtype=_get_dtype(dtype), **kwargs)\n",
      "\u001b[0;32m~/.conda/envs/yield/lib/python3.9/site-packages/tensorflow/python/ops/init_ops_v2.py\u001b[0m in \u001b[0;36m__call__\u001b[0;34m(self, shape, dtype, **kwargs)\u001b[0m\n\u001b[1;32m    599\u001b[0m       \u001b[0mlimit\u001b[0m \u001b[0;34m=\u001b[0m \u001b[0mmath\u001b[0m\u001b[0;34m.\u001b[0m\u001b[0msqrt\u001b[0m\u001b[0;34m(\u001b[0m\u001b[0;36m3.0\u001b[0m \u001b[0;34m*\u001b[0m \u001b[0mscale\u001b[0m\u001b[0;34m)\u001b[0m\u001b[0;34m\u001b[0m\u001b[0;34m\u001b[0m\u001b[0m\n\u001b[0;32m--> 600\u001b[0;31m       \u001b[0;32mreturn\u001b[0m \u001b[0mself\u001b[0m\u001b[0;34m.\u001b[0m\u001b[0m_random_generator\u001b[0m\u001b[0;34m.\u001b[0m\u001b[0mrandom_uniform\u001b[0m\u001b[0;34m(\u001b[0m\u001b[0mshape\u001b[0m\u001b[0;34m,\u001b[0m \u001b[0;34m-\u001b[0m\u001b[0mlimit\u001b[0m\u001b[0;34m,\u001b[0m \u001b[0mlimit\u001b[0m\u001b[0;34m,\u001b[0m \u001b[0mdtype\u001b[0m\u001b[0;34m)\u001b[0m\u001b[0;34m\u001b[0m\u001b[0;34m\u001b[0m\u001b[0m\n\u001b[0m\u001b[1;32m    601\u001b[0m \u001b[0;34m\u001b[0m\u001b[0m\n",
      "\u001b[0;32m~/.conda/envs/yield/lib/python3.9/site-packages/tensorflow/python/ops/init_ops_v2.py\u001b[0m in \u001b[0;36mrandom_uniform\u001b[0;34m(self, shape, minval, maxval, dtype)\u001b[0m\n\u001b[1;32m   1080\u001b[0m       \u001b[0mop\u001b[0m \u001b[0;34m=\u001b[0m \u001b[0mrandom_ops\u001b[0m\u001b[0;34m.\u001b[0m\u001b[0mrandom_uniform\u001b[0m\u001b[0;34m\u001b[0m\u001b[0;34m\u001b[0m\u001b[0m\n\u001b[0;32m-> 1081\u001b[0;31m     return op(\n\u001b[0m\u001b[1;32m   1082\u001b[0m         shape=shape, minval=minval, maxval=maxval, dtype=dtype, seed=self.seed)\n",
      "\u001b[0;32m~/.conda/envs/yield/lib/python3.9/site-packages/tensorflow/python/util/dispatch.py\u001b[0m in \u001b[0;36mwrapper\u001b[0;34m(*args, **kwargs)\u001b[0m\n\u001b[1;32m    200\u001b[0m     \u001b[0;32mtry\u001b[0m\u001b[0;34m:\u001b[0m\u001b[0;34m\u001b[0m\u001b[0;34m\u001b[0m\u001b[0m\n\u001b[0;32m--> 201\u001b[0;31m       \u001b[0;32mreturn\u001b[0m \u001b[0mtarget\u001b[0m\u001b[0;34m(\u001b[0m\u001b[0;34m*\u001b[0m\u001b[0margs\u001b[0m\u001b[0;34m,\u001b[0m \u001b[0;34m**\u001b[0m\u001b[0mkwargs\u001b[0m\u001b[0;34m)\u001b[0m\u001b[0;34m\u001b[0m\u001b[0;34m\u001b[0m\u001b[0m\n\u001b[0m\u001b[1;32m    202\u001b[0m     \u001b[0;32mexcept\u001b[0m \u001b[0;34m(\u001b[0m\u001b[0mTypeError\u001b[0m\u001b[0;34m,\u001b[0m \u001b[0mValueError\u001b[0m\u001b[0;34m)\u001b[0m\u001b[0;34m:\u001b[0m\u001b[0;34m\u001b[0m\u001b[0;34m\u001b[0m\u001b[0m\n",
      "\u001b[0;32m~/.conda/envs/yield/lib/python3.9/site-packages/tensorflow/python/ops/random_ops.py\u001b[0m in \u001b[0;36mrandom_uniform\u001b[0;34m(shape, minval, maxval, dtype, seed, name)\u001b[0m\n\u001b[1;32m    307\u001b[0m       \u001b[0;32melse\u001b[0m\u001b[0;34m:\u001b[0m\u001b[0;34m\u001b[0m\u001b[0;34m\u001b[0m\u001b[0m\n\u001b[0;32m--> 308\u001b[0;31m         \u001b[0mresult\u001b[0m \u001b[0;34m=\u001b[0m \u001b[0mmath_ops\u001b[0m\u001b[0;34m.\u001b[0m\u001b[0madd\u001b[0m\u001b[0;34m(\u001b[0m\u001b[0mresult\u001b[0m \u001b[0;34m*\u001b[0m \u001b[0;34m(\u001b[0m\u001b[0mmaxval\u001b[0m \u001b[0;34m-\u001b[0m \u001b[0mminval\u001b[0m\u001b[0;34m)\u001b[0m\u001b[0;34m,\u001b[0m \u001b[0mminval\u001b[0m\u001b[0;34m,\u001b[0m \u001b[0mname\u001b[0m\u001b[0;34m=\u001b[0m\u001b[0mname\u001b[0m\u001b[0;34m)\u001b[0m\u001b[0;34m\u001b[0m\u001b[0;34m\u001b[0m\u001b[0m\n\u001b[0m\u001b[1;32m    309\u001b[0m     \u001b[0;31m# TODO(b/132092188): C++ shape inference inside functional ops does not\u001b[0m\u001b[0;34m\u001b[0m\u001b[0;34m\u001b[0m\u001b[0;34m\u001b[0m\u001b[0m\n",
      "\u001b[0;32m~/.conda/envs/yield/lib/python3.9/site-packages/tensorflow/python/ops/gen_math_ops.py\u001b[0m in \u001b[0;36madd\u001b[0;34m(x, y, name)\u001b[0m\n\u001b[1;32m    326\u001b[0m     \u001b[0;32mexcept\u001b[0m \u001b[0m_core\u001b[0m\u001b[0;34m.\u001b[0m\u001b[0m_NotOkStatusException\u001b[0m \u001b[0;32mas\u001b[0m \u001b[0me\u001b[0m\u001b[0;34m:\u001b[0m\u001b[0;34m\u001b[0m\u001b[0;34m\u001b[0m\u001b[0m\n\u001b[0;32m--> 327\u001b[0;31m       \u001b[0m_ops\u001b[0m\u001b[0;34m.\u001b[0m\u001b[0mraise_from_not_ok_status\u001b[0m\u001b[0;34m(\u001b[0m\u001b[0me\u001b[0m\u001b[0;34m,\u001b[0m \u001b[0mname\u001b[0m\u001b[0;34m)\u001b[0m\u001b[0;34m\u001b[0m\u001b[0;34m\u001b[0m\u001b[0m\n\u001b[0m\u001b[1;32m    328\u001b[0m     \u001b[0;32mexcept\u001b[0m \u001b[0m_core\u001b[0m\u001b[0;34m.\u001b[0m\u001b[0m_FallbackException\u001b[0m\u001b[0;34m:\u001b[0m\u001b[0;34m\u001b[0m\u001b[0;34m\u001b[0m\u001b[0m\n",
      "\u001b[0;32m~/.conda/envs/yield/lib/python3.9/site-packages/tensorflow/python/framework/ops.py\u001b[0m in \u001b[0;36mraise_from_not_ok_status\u001b[0;34m(e, name)\u001b[0m\n\u001b[1;32m   6861\u001b[0m   \u001b[0;31m# pylint: disable=protected-access\u001b[0m\u001b[0;34m\u001b[0m\u001b[0;34m\u001b[0m\u001b[0;34m\u001b[0m\u001b[0m\n\u001b[0;32m-> 6862\u001b[0;31m   \u001b[0msix\u001b[0m\u001b[0;34m.\u001b[0m\u001b[0mraise_from\u001b[0m\u001b[0;34m(\u001b[0m\u001b[0mcore\u001b[0m\u001b[0;34m.\u001b[0m\u001b[0m_status_to_exception\u001b[0m\u001b[0;34m(\u001b[0m\u001b[0me\u001b[0m\u001b[0;34m.\u001b[0m\u001b[0mcode\u001b[0m\u001b[0;34m,\u001b[0m \u001b[0mmessage\u001b[0m\u001b[0;34m)\u001b[0m\u001b[0;34m,\u001b[0m \u001b[0;32mNone\u001b[0m\u001b[0;34m)\u001b[0m\u001b[0;34m\u001b[0m\u001b[0;34m\u001b[0m\u001b[0m\n\u001b[0m\u001b[1;32m   6863\u001b[0m   \u001b[0;31m# pylint: enable=protected-access\u001b[0m\u001b[0;34m\u001b[0m\u001b[0;34m\u001b[0m\u001b[0;34m\u001b[0m\u001b[0m\n",
      "\u001b[0;32m~/.conda/envs/yield/lib/python3.9/site-packages/six.py\u001b[0m in \u001b[0;36mraise_from\u001b[0;34m(value, from_value)\u001b[0m\n",
      "\u001b[0;31mResourceExhaustedError\u001b[0m: OOM when allocating tensor with shape[89915392,3] and type float on /job:localhost/replica:0/task:0/device:CPU:0 by allocator mklcpu [Op:Add]",
      "\nDuring handling of the above exception, another exception occurred:\n",
      "\u001b[0;31mRuntimeError\u001b[0m                              Traceback (most recent call last)",
      "\u001b[0;32m<ipython-input-21-2ee14eb154ad>\u001b[0m in \u001b[0;36m<module>\u001b[0;34m\u001b[0m\n\u001b[0;32m----> 1\u001b[0;31m \u001b[0mtuner\u001b[0m\u001b[0;34m.\u001b[0m\u001b[0msearch\u001b[0m\u001b[0;34m(\u001b[0m\u001b[0mX_train\u001b[0m\u001b[0;34m,\u001b[0m \u001b[0my_train\u001b[0m\u001b[0;34m,\u001b[0m \u001b[0mepochs\u001b[0m\u001b[0;34m=\u001b[0m\u001b[0;36m3\u001b[0m\u001b[0;34m,\u001b[0m \u001b[0mvalidation_split\u001b[0m\u001b[0;34m=\u001b[0m\u001b[0;36m0.2\u001b[0m\u001b[0;34m)\u001b[0m\u001b[0;34m\u001b[0m\u001b[0;34m\u001b[0m\u001b[0m\n\u001b[0m",
      "\u001b[0;32m~/.conda/envs/yield/lib/python3.9/site-packages/kerastuner/engine/base_tuner.py\u001b[0m in \u001b[0;36msearch\u001b[0;34m(self, *fit_args, **fit_kwargs)\u001b[0m\n\u001b[1;32m    128\u001b[0m \u001b[0;34m\u001b[0m\u001b[0m\n\u001b[1;32m    129\u001b[0m             \u001b[0mself\u001b[0m\u001b[0;34m.\u001b[0m\u001b[0mon_trial_begin\u001b[0m\u001b[0;34m(\u001b[0m\u001b[0mtrial\u001b[0m\u001b[0;34m)\u001b[0m\u001b[0;34m\u001b[0m\u001b[0;34m\u001b[0m\u001b[0m\n\u001b[0;32m--> 130\u001b[0;31m             \u001b[0mself\u001b[0m\u001b[0;34m.\u001b[0m\u001b[0mrun_trial\u001b[0m\u001b[0;34m(\u001b[0m\u001b[0mtrial\u001b[0m\u001b[0;34m,\u001b[0m \u001b[0;34m*\u001b[0m\u001b[0mfit_args\u001b[0m\u001b[0;34m,\u001b[0m \u001b[0;34m**\u001b[0m\u001b[0mfit_kwargs\u001b[0m\u001b[0;34m)\u001b[0m\u001b[0;34m\u001b[0m\u001b[0;34m\u001b[0m\u001b[0m\n\u001b[0m\u001b[1;32m    131\u001b[0m             \u001b[0mself\u001b[0m\u001b[0;34m.\u001b[0m\u001b[0mon_trial_end\u001b[0m\u001b[0;34m(\u001b[0m\u001b[0mtrial\u001b[0m\u001b[0;34m)\u001b[0m\u001b[0;34m\u001b[0m\u001b[0;34m\u001b[0m\u001b[0m\n\u001b[1;32m    132\u001b[0m         \u001b[0mself\u001b[0m\u001b[0;34m.\u001b[0m\u001b[0mon_search_end\u001b[0m\u001b[0;34m(\u001b[0m\u001b[0;34m)\u001b[0m\u001b[0;34m\u001b[0m\u001b[0;34m\u001b[0m\u001b[0m\n",
      "\u001b[0;32m~/.conda/envs/yield/lib/python3.9/site-packages/kerastuner/engine/multi_execution_tuner.py\u001b[0m in \u001b[0;36mrun_trial\u001b[0;34m(self, trial, *fit_args, **fit_kwargs)\u001b[0m\n\u001b[1;32m     93\u001b[0m             \u001b[0mcopied_fit_kwargs\u001b[0m\u001b[0;34m[\u001b[0m\u001b[0;34m'callbacks'\u001b[0m\u001b[0;34m]\u001b[0m \u001b[0;34m=\u001b[0m \u001b[0mcallbacks\u001b[0m\u001b[0;34m\u001b[0m\u001b[0;34m\u001b[0m\u001b[0m\n\u001b[1;32m     94\u001b[0m \u001b[0;34m\u001b[0m\u001b[0m\n\u001b[0;32m---> 95\u001b[0;31m             \u001b[0mmodel\u001b[0m \u001b[0;34m=\u001b[0m \u001b[0mself\u001b[0m\u001b[0;34m.\u001b[0m\u001b[0mhypermodel\u001b[0m\u001b[0;34m.\u001b[0m\u001b[0mbuild\u001b[0m\u001b[0;34m(\u001b[0m\u001b[0mtrial\u001b[0m\u001b[0;34m.\u001b[0m\u001b[0mhyperparameters\u001b[0m\u001b[0;34m)\u001b[0m\u001b[0;34m\u001b[0m\u001b[0;34m\u001b[0m\u001b[0m\n\u001b[0m\u001b[1;32m     96\u001b[0m             \u001b[0mhistory\u001b[0m \u001b[0;34m=\u001b[0m \u001b[0mmodel\u001b[0m\u001b[0;34m.\u001b[0m\u001b[0mfit\u001b[0m\u001b[0;34m(\u001b[0m\u001b[0;34m*\u001b[0m\u001b[0mfit_args\u001b[0m\u001b[0;34m,\u001b[0m \u001b[0;34m**\u001b[0m\u001b[0mcopied_fit_kwargs\u001b[0m\u001b[0;34m)\u001b[0m\u001b[0;34m\u001b[0m\u001b[0;34m\u001b[0m\u001b[0m\n\u001b[1;32m     97\u001b[0m             \u001b[0;32mfor\u001b[0m \u001b[0mmetric\u001b[0m\u001b[0;34m,\u001b[0m \u001b[0mepoch_values\u001b[0m \u001b[0;32min\u001b[0m \u001b[0mhistory\u001b[0m\u001b[0;34m.\u001b[0m\u001b[0mhistory\u001b[0m\u001b[0;34m.\u001b[0m\u001b[0mitems\u001b[0m\u001b[0;34m(\u001b[0m\u001b[0;34m)\u001b[0m\u001b[0;34m:\u001b[0m\u001b[0;34m\u001b[0m\u001b[0;34m\u001b[0m\u001b[0m\n",
      "\u001b[0;32m~/.conda/envs/yield/lib/python3.9/site-packages/kerastuner/engine/hypermodel.py\u001b[0m in \u001b[0;36m_build_wrapper\u001b[0;34m(self, hp, *args, **kwargs)\u001b[0m\n\u001b[1;32m     63\u001b[0m             \u001b[0;31m# to the search space.\u001b[0m\u001b[0;34m\u001b[0m\u001b[0;34m\u001b[0m\u001b[0;34m\u001b[0m\u001b[0m\n\u001b[1;32m     64\u001b[0m             \u001b[0mhp\u001b[0m \u001b[0;34m=\u001b[0m \u001b[0mhp\u001b[0m\u001b[0;34m.\u001b[0m\u001b[0mcopy\u001b[0m\u001b[0;34m(\u001b[0m\u001b[0;34m)\u001b[0m\u001b[0;34m\u001b[0m\u001b[0;34m\u001b[0m\u001b[0m\n\u001b[0;32m---> 65\u001b[0;31m         \u001b[0;32mreturn\u001b[0m \u001b[0mself\u001b[0m\u001b[0;34m.\u001b[0m\u001b[0m_build\u001b[0m\u001b[0;34m(\u001b[0m\u001b[0mhp\u001b[0m\u001b[0;34m,\u001b[0m \u001b[0;34m*\u001b[0m\u001b[0margs\u001b[0m\u001b[0;34m,\u001b[0m \u001b[0;34m**\u001b[0m\u001b[0mkwargs\u001b[0m\u001b[0;34m)\u001b[0m\u001b[0;34m\u001b[0m\u001b[0;34m\u001b[0m\u001b[0m\n\u001b[0m\u001b[1;32m     66\u001b[0m \u001b[0;34m\u001b[0m\u001b[0m\n\u001b[1;32m     67\u001b[0m \u001b[0;34m\u001b[0m\u001b[0m\n",
      "\u001b[0;32m~/.conda/envs/yield/lib/python3.9/site-packages/kerastuner/engine/hypermodel.py\u001b[0m in \u001b[0;36mbuild\u001b[0;34m(self, hp)\u001b[0m\n\u001b[1;32m    112\u001b[0m \u001b[0;34m\u001b[0m\u001b[0m\n\u001b[1;32m    113\u001b[0m                 \u001b[0;32mif\u001b[0m \u001b[0mi\u001b[0m \u001b[0;34m==\u001b[0m \u001b[0mself\u001b[0m\u001b[0;34m.\u001b[0m\u001b[0m_max_fail_streak\u001b[0m\u001b[0;34m:\u001b[0m\u001b[0;34m\u001b[0m\u001b[0;34m\u001b[0m\u001b[0m\n\u001b[0;32m--> 114\u001b[0;31m                     raise RuntimeError(\n\u001b[0m\u001b[1;32m    115\u001b[0m                         'Too many failed attempts to build model.')\n\u001b[1;32m    116\u001b[0m                 \u001b[0;32mcontinue\u001b[0m\u001b[0;34m\u001b[0m\u001b[0;34m\u001b[0m\u001b[0m\n",
      "\u001b[0;31mRuntimeError\u001b[0m: Too many failed attempts to build model."
     ]
    }
   ],
   "source": [
    "tuner.search(X_train, y_train, epochs=3, validation_split=0.2)"
   ]
  },
  {
   "cell_type": "code",
   "execution_count": 22,
   "id": "46956da8",
   "metadata": {
    "ExecuteTime": {
     "end_time": "2021-07-03T16:53:49.153601Z",
     "start_time": "2021-07-03T16:53:49.123754Z"
    }
   },
   "outputs": [
    {
     "data": {
      "text/plain": [
       "{'units': 384, 'kernel_size': 2, 'learning_rate': 0.0005}"
      ]
     },
     "execution_count": 22,
     "metadata": {},
     "output_type": "execute_result"
    }
   ],
   "source": [
    "best_hps=tuner.get_best_hyperparameters(num_trials=1)[0]\n",
    "best_hps.values"
   ]
  },
  {
   "cell_type": "code",
   "execution_count": null,
   "id": "d2c24c53",
   "metadata": {
    "ExecuteTime": {
     "start_time": "2021-07-03T16:29:48.182Z"
    }
   },
   "outputs": [],
   "source": [
    "hypermodel = tuner.hypermodel.build(best_hps)\n",
    "hypermodel.fit(X_train, y_train, epochs=10, validation_split=0.2)\n",
    "eval_result = hypermodel.evaluate(X_test, y_test)\n",
    "print(\"[test loss, test MSE]:\", eval_result)"
   ]
  },
  {
   "cell_type": "code",
   "execution_count": null,
   "id": "96333ea7",
   "metadata": {},
   "outputs": [],
   "source": []
  }
 ],
 "metadata": {
  "kernelspec": {
   "display_name": "Python 3",
   "language": "python",
   "name": "python3"
  },
  "language_info": {
   "codemirror_mode": {
    "name": "ipython",
    "version": 3
   },
   "file_extension": ".py",
   "mimetype": "text/x-python",
   "name": "python",
   "nbconvert_exporter": "python",
   "pygments_lexer": "ipython3",
   "version": "3.9.5"
  },
  "toc": {
   "base_numbering": 1,
   "nav_menu": {},
   "number_sections": true,
   "sideBar": true,
   "skip_h1_title": false,
   "title_cell": "Table of Contents",
   "title_sidebar": "Contents",
   "toc_cell": false,
   "toc_position": {},
   "toc_section_display": true,
   "toc_window_display": false
  },
  "varInspector": {
   "cols": {
    "lenName": 16,
    "lenType": 16,
    "lenVar": 40
   },
   "kernels_config": {
    "python": {
     "delete_cmd_postfix": "",
     "delete_cmd_prefix": "del ",
     "library": "var_list.py",
     "varRefreshCmd": "print(var_dic_list())"
    },
    "r": {
     "delete_cmd_postfix": ") ",
     "delete_cmd_prefix": "rm(",
     "library": "var_list.r",
     "varRefreshCmd": "cat(var_dic_list()) "
    }
   },
   "types_to_exclude": [
    "module",
    "function",
    "builtin_function_or_method",
    "instance",
    "_Feature"
   ],
   "window_display": false
  }
 },
 "nbformat": 4,
 "nbformat_minor": 5
}
