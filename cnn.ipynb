{
 "cells": [
  {
   "cell_type": "code",
   "execution_count": null,
   "id": "009ce1f8",
   "metadata": {},
   "outputs": [],
   "source": [
    "# TODO:\n",
    "# stratify continuous target https://michaeljsanders.com/2017/03/24/stratify-continuous-variable.html\n",
    "# cross validation https://www.machinecurve.com/index.php/2020/02/18/how-to-use-k-fold-cross-validation-with-keras/\n",
    "# https://stats.stackexchange.com/questions/187335/validation-error-less-than-training-error\n",
    "# compositional data\n",
    "# https://wandb.ai/authors/knowledge-distillation/reports/Distilling-Knowledge-in-Neural-Networks--VmlldzoyMjkxODk\n",
    "# https://stackoverflow.com/questions/37246030/how-to-change-the-temperature-of-a-softmax-output-in-keras\n",
    "# https://github.com/keras-team/keras/issues/3092\n",
    "# adaptive learning rate https://keras.io/api/optimizers/learning_rate_schedules/"
   ]
  },
  {
   "cell_type": "code",
   "execution_count": 203,
   "id": "f04a3ec6",
   "metadata": {
    "ExecuteTime": {
     "end_time": "2021-07-17T19:37:28.047943Z",
     "start_time": "2021-07-17T19:37:28.019745Z"
    }
   },
   "outputs": [
    {
     "ename": "ImportError",
     "evalue": "cannot import name 'set_random_seed' from 'tensorflow' (/home/sepidehparhami/.conda/envs/yield/lib/python3.9/site-packages/tensorflow/__init__.py)",
     "output_type": "error",
     "traceback": [
      "\u001b[0;31m---------------------------------------------------------------------------\u001b[0m",
      "\u001b[0;31mImportError\u001b[0m                               Traceback (most recent call last)",
      "\u001b[0;32m<ipython-input-203-fd6415f44ea1>\u001b[0m in \u001b[0;36m<module>\u001b[0;34m\u001b[0m\n\u001b[1;32m      1\u001b[0m \u001b[0;32mfrom\u001b[0m \u001b[0mnumpy\u001b[0m\u001b[0;34m.\u001b[0m\u001b[0mrandom\u001b[0m \u001b[0;32mimport\u001b[0m \u001b[0mseed\u001b[0m\u001b[0;34m\u001b[0m\u001b[0;34m\u001b[0m\u001b[0m\n\u001b[1;32m      2\u001b[0m \u001b[0mseed\u001b[0m\u001b[0;34m(\u001b[0m\u001b[0;36m1\u001b[0m\u001b[0;34m)\u001b[0m\u001b[0;34m\u001b[0m\u001b[0;34m\u001b[0m\u001b[0m\n\u001b[0;32m----> 3\u001b[0;31m \u001b[0;32mfrom\u001b[0m \u001b[0mtensorflow\u001b[0m \u001b[0;32mimport\u001b[0m \u001b[0mset_random_seed\u001b[0m\u001b[0;34m\u001b[0m\u001b[0;34m\u001b[0m\u001b[0m\n\u001b[0m\u001b[1;32m      4\u001b[0m \u001b[0mset_random_seed\u001b[0m\u001b[0;34m(\u001b[0m\u001b[0;36m2\u001b[0m\u001b[0;34m)\u001b[0m\u001b[0;34m\u001b[0m\u001b[0;34m\u001b[0m\u001b[0m\n",
      "\u001b[0;31mImportError\u001b[0m: cannot import name 'set_random_seed' from 'tensorflow' (/home/sepidehparhami/.conda/envs/yield/lib/python3.9/site-packages/tensorflow/__init__.py)"
     ]
    }
   ],
   "source": [
    "from numpy.random import seed\n",
    "seed(1)\n",
    "from tensorflow import set_random_seed\n",
    "set_random_seed(2)"
   ]
  },
  {
   "cell_type": "code",
   "execution_count": 1,
   "id": "94fa390e",
   "metadata": {
    "ExecuteTime": {
     "end_time": "2021-07-17T16:26:44.981321Z",
     "start_time": "2021-07-17T16:25:47.766596Z"
    }
   },
   "outputs": [
    {
     "name": "stdout",
     "output_type": "stream",
     "text": [
      "/home/sepidehparhami/tutoring/Research Project/yield-prediction\n"
     ]
    }
   ],
   "source": [
    "import os\n",
    "print(os.getcwd())\n",
    "import numpy as np\n",
    "import pandas as pd\n",
    "from sklearn.linear_model import LinearRegression\n",
    "from sklearn.model_selection import train_test_split\n",
    "from sklearn.metrics import mean_squared_error, r2_score"
   ]
  },
  {
   "cell_type": "code",
   "execution_count": 102,
   "id": "bc3768ad",
   "metadata": {
    "ExecuteTime": {
     "end_time": "2021-07-17T18:39:40.764448Z",
     "start_time": "2021-07-17T18:39:40.751908Z"
    }
   },
   "outputs": [],
   "source": [
    "import keras\n",
    "from keras.models import Sequential\n",
    "from keras.layers import Dense, Conv3D, Flatten, Lambda, Activation\n",
    "from keras.callbacks import History \n",
    "import tensorflow as tf"
   ]
  },
  {
   "cell_type": "code",
   "execution_count": 22,
   "id": "5f3f3d2e",
   "metadata": {
    "ExecuteTime": {
     "end_time": "2021-07-17T17:10:57.533706Z",
     "start_time": "2021-07-17T17:10:57.512923Z"
    }
   },
   "outputs": [],
   "source": [
    "import matplotlib.pyplot as plt\n",
    "%matplotlib inline"
   ]
  },
  {
   "cell_type": "code",
   "execution_count": 4,
   "id": "0f8854fa",
   "metadata": {
    "ExecuteTime": {
     "end_time": "2021-07-17T17:08:52.771229Z",
     "start_time": "2021-07-17T17:08:52.710671Z"
    }
   },
   "outputs": [],
   "source": [
    "yields = pd.read_csv(r'../yield.txt', delim_whitespace=True, index_col=0)"
   ]
  },
  {
   "cell_type": "code",
   "execution_count": 5,
   "id": "85fe871e",
   "metadata": {
    "ExecuteTime": {
     "end_time": "2021-07-17T17:08:53.205056Z",
     "start_time": "2021-07-17T17:08:53.191085Z"
    }
   },
   "outputs": [],
   "source": [
    "ligands = list(yields.index)"
   ]
  },
  {
   "cell_type": "code",
   "execution_count": 6,
   "id": "9c5482c5",
   "metadata": {
    "ExecuteTime": {
     "end_time": "2021-07-17T17:08:54.527689Z",
     "start_time": "2021-07-17T17:08:54.438292Z"
    }
   },
   "outputs": [],
   "source": [
    "sample_file = pd.read_csv('../data/ESP allPoints_L01-DPPF.txt_interpolated.txt')\n",
    "sample_file.columns = ('x', 'y', 'z', 'esp')"
   ]
  },
  {
   "cell_type": "code",
   "execution_count": 7,
   "id": "3a039702",
   "metadata": {
    "ExecuteTime": {
     "end_time": "2021-07-17T17:08:54.958403Z",
     "start_time": "2021-07-17T17:08:54.930549Z"
    }
   },
   "outputs": [
    {
     "data": {
      "text/plain": [
       "(26999, 4)"
      ]
     },
     "execution_count": 7,
     "metadata": {},
     "output_type": "execute_result"
    }
   ],
   "source": [
    "sample_file.shape"
   ]
  },
  {
   "cell_type": "code",
   "execution_count": 8,
   "id": "b3cc24ae",
   "metadata": {
    "ExecuteTime": {
     "end_time": "2021-07-17T17:08:55.327760Z",
     "start_time": "2021-07-17T17:08:55.289049Z"
    },
    "scrolled": false
   },
   "outputs": [
    {
     "data": {
      "text/plain": [
       "x      13.0\n",
       "y      14.0\n",
       "z      14.0\n",
       "esp     0.0\n",
       "Name: 26998, dtype: float64"
      ]
     },
     "execution_count": 8,
     "metadata": {},
     "output_type": "execute_result"
    }
   ],
   "source": [
    "sample_file.iloc[-1]"
   ]
  },
  {
   "cell_type": "code",
   "execution_count": 9,
   "id": "99d39eb3",
   "metadata": {
    "ExecuteTime": {
     "end_time": "2021-07-17T17:08:55.663609Z",
     "start_time": "2021-07-17T17:08:55.645940Z"
    }
   },
   "outputs": [],
   "source": [
    "n_molecules = yields.shape[0]\n",
    "n_coords = sample_file.shape[0]\n",
    "dim_x, dim_y, dim_z = (len(np.unique(sample_file[data_axis])) for data_axis in ['x','y','z'])"
   ]
  },
  {
   "cell_type": "code",
   "execution_count": 10,
   "id": "a3cf3a84",
   "metadata": {
    "ExecuteTime": {
     "end_time": "2021-07-17T17:08:58.493809Z",
     "start_time": "2021-07-17T17:08:56.093431Z"
    }
   },
   "outputs": [],
   "source": [
    "# initialize a data frame and fill in ESPs from file\n",
    "\n",
    "data = pd.DataFrame(index = ligands, columns=range(n_coords+1))"
   ]
  },
  {
   "cell_type": "code",
   "execution_count": 11,
   "id": "98ef17ed",
   "metadata": {
    "ExecuteTime": {
     "end_time": "2021-07-17T17:09:03.673498Z",
     "start_time": "2021-07-17T17:09:02.792075Z"
    }
   },
   "outputs": [],
   "source": [
    "directory = '../data' \n",
    "      \n",
    "for i,filename in enumerate(os.listdir(directory)):\n",
    "    # print(i+1,'of',n_molecules)\n",
    "\n",
    "    data_point = pd.read_csv('../data/{}'.format(filename))\n",
    "    data_point.columns = ('x', 'y', 'z', 'esp')\n",
    "    \n",
    "    # print('number coords in file:',data_point.shape[0])\n",
    "\n",
    "    #extract the ligand name from the filename\n",
    "    name_parts = filename.split(\"_\")\n",
    "    if name_parts[1][0] == \"T\":\n",
    "        ligand = name_parts[1][:4]\n",
    "    else:\n",
    "        ligand = name_parts[1][:3]\n",
    "        \n",
    "    #add label and data point to their respective arrays \n",
    "    data.loc[ligand] = data_point['esp']"
   ]
  },
  {
   "cell_type": "code",
   "execution_count": 12,
   "id": "69c7b079",
   "metadata": {
    "ExecuteTime": {
     "end_time": "2021-07-17T17:09:07.458570Z",
     "start_time": "2021-07-17T17:09:07.385184Z"
    }
   },
   "outputs": [],
   "source": [
    "data[n_coords] = np.zeros(n_molecules,dtype=type(data.iloc[0,0]))"
   ]
  },
  {
   "cell_type": "code",
   "execution_count": 13,
   "id": "f94cdc95",
   "metadata": {
    "ExecuteTime": {
     "end_time": "2021-07-17T17:09:10.922236Z",
     "start_time": "2021-07-17T17:09:10.873971Z"
    }
   },
   "outputs": [
    {
     "data": {
      "text/html": [
       "<div>\n",
       "<style scoped>\n",
       "    .dataframe tbody tr th:only-of-type {\n",
       "        vertical-align: middle;\n",
       "    }\n",
       "\n",
       "    .dataframe tbody tr th {\n",
       "        vertical-align: top;\n",
       "    }\n",
       "\n",
       "    .dataframe thead th {\n",
       "        text-align: right;\n",
       "    }\n",
       "</style>\n",
       "<table border=\"1\" class=\"dataframe\">\n",
       "  <thead>\n",
       "    <tr style=\"text-align: right;\">\n",
       "      <th></th>\n",
       "      <th>0</th>\n",
       "      <th>1</th>\n",
       "      <th>2</th>\n",
       "      <th>3</th>\n",
       "      <th>4</th>\n",
       "      <th>5</th>\n",
       "      <th>6</th>\n",
       "      <th>7</th>\n",
       "      <th>8</th>\n",
       "      <th>9</th>\n",
       "      <th>...</th>\n",
       "      <th>26990</th>\n",
       "      <th>26991</th>\n",
       "      <th>26992</th>\n",
       "      <th>26993</th>\n",
       "      <th>26994</th>\n",
       "      <th>26995</th>\n",
       "      <th>26996</th>\n",
       "      <th>26997</th>\n",
       "      <th>26998</th>\n",
       "      <th>26999</th>\n",
       "    </tr>\n",
       "  </thead>\n",
       "  <tbody>\n",
       "    <tr>\n",
       "      <th>L01</th>\n",
       "      <td>0.0</td>\n",
       "      <td>0.0</td>\n",
       "      <td>0.0</td>\n",
       "      <td>0.0</td>\n",
       "      <td>0.0</td>\n",
       "      <td>0.0</td>\n",
       "      <td>0.0</td>\n",
       "      <td>0.0</td>\n",
       "      <td>0.0</td>\n",
       "      <td>0.0</td>\n",
       "      <td>...</td>\n",
       "      <td>0.0</td>\n",
       "      <td>0.0</td>\n",
       "      <td>0.0</td>\n",
       "      <td>0.0</td>\n",
       "      <td>0.0</td>\n",
       "      <td>0.0</td>\n",
       "      <td>0.0</td>\n",
       "      <td>0.0</td>\n",
       "      <td>0.0</td>\n",
       "      <td>0.0</td>\n",
       "    </tr>\n",
       "    <tr>\n",
       "      <th>L02</th>\n",
       "      <td>0.0</td>\n",
       "      <td>0.0</td>\n",
       "      <td>0.0</td>\n",
       "      <td>0.0</td>\n",
       "      <td>0.0</td>\n",
       "      <td>0.0</td>\n",
       "      <td>0.0</td>\n",
       "      <td>0.0</td>\n",
       "      <td>0.0</td>\n",
       "      <td>0.0</td>\n",
       "      <td>...</td>\n",
       "      <td>0.0</td>\n",
       "      <td>0.0</td>\n",
       "      <td>0.0</td>\n",
       "      <td>0.0</td>\n",
       "      <td>0.0</td>\n",
       "      <td>0.0</td>\n",
       "      <td>0.0</td>\n",
       "      <td>0.0</td>\n",
       "      <td>0.0</td>\n",
       "      <td>0.0</td>\n",
       "    </tr>\n",
       "    <tr>\n",
       "      <th>L04</th>\n",
       "      <td>0.0</td>\n",
       "      <td>0.0</td>\n",
       "      <td>0.0</td>\n",
       "      <td>0.0</td>\n",
       "      <td>0.0</td>\n",
       "      <td>0.0</td>\n",
       "      <td>0.0</td>\n",
       "      <td>0.0</td>\n",
       "      <td>0.0</td>\n",
       "      <td>0.0</td>\n",
       "      <td>...</td>\n",
       "      <td>0.0</td>\n",
       "      <td>0.0</td>\n",
       "      <td>0.0</td>\n",
       "      <td>0.0</td>\n",
       "      <td>0.0</td>\n",
       "      <td>0.0</td>\n",
       "      <td>0.0</td>\n",
       "      <td>0.0</td>\n",
       "      <td>0.0</td>\n",
       "      <td>0.0</td>\n",
       "    </tr>\n",
       "    <tr>\n",
       "      <th>L05</th>\n",
       "      <td>0.0</td>\n",
       "      <td>0.0</td>\n",
       "      <td>0.0</td>\n",
       "      <td>0.0</td>\n",
       "      <td>0.0</td>\n",
       "      <td>0.0</td>\n",
       "      <td>0.0</td>\n",
       "      <td>0.0</td>\n",
       "      <td>0.0</td>\n",
       "      <td>0.0</td>\n",
       "      <td>...</td>\n",
       "      <td>0.0</td>\n",
       "      <td>0.0</td>\n",
       "      <td>0.0</td>\n",
       "      <td>0.0</td>\n",
       "      <td>0.0</td>\n",
       "      <td>0.0</td>\n",
       "      <td>0.0</td>\n",
       "      <td>0.0</td>\n",
       "      <td>0.0</td>\n",
       "      <td>0.0</td>\n",
       "    </tr>\n",
       "    <tr>\n",
       "      <th>L06</th>\n",
       "      <td>0.0</td>\n",
       "      <td>0.0</td>\n",
       "      <td>0.0</td>\n",
       "      <td>0.0</td>\n",
       "      <td>0.0</td>\n",
       "      <td>0.0</td>\n",
       "      <td>0.0</td>\n",
       "      <td>0.0</td>\n",
       "      <td>0.0</td>\n",
       "      <td>0.0</td>\n",
       "      <td>...</td>\n",
       "      <td>0.0</td>\n",
       "      <td>0.0</td>\n",
       "      <td>0.0</td>\n",
       "      <td>0.0</td>\n",
       "      <td>0.0</td>\n",
       "      <td>0.0</td>\n",
       "      <td>0.0</td>\n",
       "      <td>0.0</td>\n",
       "      <td>0.0</td>\n",
       "      <td>0.0</td>\n",
       "    </tr>\n",
       "  </tbody>\n",
       "</table>\n",
       "<p>5 rows × 27000 columns</p>\n",
       "</div>"
      ],
      "text/plain": [
       "    0     1     2     3     4     5     6     7     8     9      ... 26990  \\\n",
       "L01   0.0   0.0   0.0   0.0   0.0   0.0   0.0   0.0   0.0   0.0  ...   0.0   \n",
       "L02   0.0   0.0   0.0   0.0   0.0   0.0   0.0   0.0   0.0   0.0  ...   0.0   \n",
       "L04   0.0   0.0   0.0   0.0   0.0   0.0   0.0   0.0   0.0   0.0  ...   0.0   \n",
       "L05   0.0   0.0   0.0   0.0   0.0   0.0   0.0   0.0   0.0   0.0  ...   0.0   \n",
       "L06   0.0   0.0   0.0   0.0   0.0   0.0   0.0   0.0   0.0   0.0  ...   0.0   \n",
       "\n",
       "    26991 26992 26993 26994 26995 26996 26997 26998 26999  \n",
       "L01   0.0   0.0   0.0   0.0   0.0   0.0   0.0   0.0   0.0  \n",
       "L02   0.0   0.0   0.0   0.0   0.0   0.0   0.0   0.0   0.0  \n",
       "L04   0.0   0.0   0.0   0.0   0.0   0.0   0.0   0.0   0.0  \n",
       "L05   0.0   0.0   0.0   0.0   0.0   0.0   0.0   0.0   0.0  \n",
       "L06   0.0   0.0   0.0   0.0   0.0   0.0   0.0   0.0   0.0  \n",
       "\n",
       "[5 rows x 27000 columns]"
      ]
     },
     "execution_count": 13,
     "metadata": {},
     "output_type": "execute_result"
    }
   ],
   "source": [
    "data.head()"
   ]
  },
  {
   "cell_type": "code",
   "execution_count": 14,
   "id": "027cb8c6",
   "metadata": {
    "ExecuteTime": {
     "end_time": "2021-07-17T17:09:13.787918Z",
     "start_time": "2021-07-17T17:09:13.049591Z"
    }
   },
   "outputs": [
    {
     "name": "stdout",
     "output_type": "stream",
     "text": [
      "(39, 30, 30, 30, 1)\n"
     ]
    }
   ],
   "source": [
    "# turn data frame into 5-dimensional tensror (n_molecules,x,y,z,1 (size of ESP value)) for keras input \n",
    "data_arr_5d = np.empty((n_molecules,dim_x,dim_y,dim_z,1),dtype=np.float32)\n",
    "for i,l in enumerate(ligands):\n",
    "    data_arr_5d[i] = np.reshape(data.loc[l].values, (dim_x,dim_y,dim_z,1))\n",
    "# print(data_arr_5d[0])\n",
    "print(data_arr_5d.shape)"
   ]
  },
  {
   "cell_type": "code",
   "execution_count": 15,
   "id": "2073b38d",
   "metadata": {
    "ExecuteTime": {
     "end_time": "2021-07-17T17:09:16.214688Z",
     "start_time": "2021-07-17T17:09:16.179138Z"
    }
   },
   "outputs": [
    {
     "data": {
      "text/plain": [
       "array([[83.3,  8.9,  7.9],\n",
       "       [70.8, 18.4, 10.8]])"
      ]
     },
     "execution_count": 15,
     "metadata": {},
     "output_type": "execute_result"
    }
   ],
   "source": [
    "yields_arr = yields.values\n",
    "yields_arr[0:2]"
   ]
  },
  {
   "cell_type": "code",
   "execution_count": 16,
   "id": "38fd60f1",
   "metadata": {
    "ExecuteTime": {
     "end_time": "2021-07-17T17:09:18.507158Z",
     "start_time": "2021-07-17T17:09:18.485763Z"
    }
   },
   "outputs": [
    {
     "name": "stdout",
     "output_type": "stream",
     "text": [
      "(33, 30, 30, 30, 1) (33, 3) (6, 30, 30, 30, 1) (6, 3)\n"
     ]
    }
   ],
   "source": [
    "from sklearn.model_selection import train_test_split\n",
    "X_train, X_test, y_train, y_test = train_test_split(data_arr_5d, yields_arr, test_size=0.15,random_state=42)\n",
    "print(X_train.shape, y_train.shape, X_test.shape, y_test.shape)"
   ]
  },
  {
   "cell_type": "code",
   "execution_count": 17,
   "id": "2020ac27",
   "metadata": {
    "ExecuteTime": {
     "end_time": "2021-07-17T17:09:21.204085Z",
     "start_time": "2021-07-17T17:09:21.079398Z"
    }
   },
   "outputs": [
    {
     "data": {
      "application/javascript": [
       "/* Put everything inside the global mpl namespace */\n",
       "/* global mpl */\n",
       "window.mpl = {};\n",
       "\n",
       "mpl.get_websocket_type = function () {\n",
       "    if (typeof WebSocket !== 'undefined') {\n",
       "        return WebSocket;\n",
       "    } else if (typeof MozWebSocket !== 'undefined') {\n",
       "        return MozWebSocket;\n",
       "    } else {\n",
       "        alert(\n",
       "            'Your browser does not have WebSocket support. ' +\n",
       "                'Please try Chrome, Safari or Firefox ≥ 6. ' +\n",
       "                'Firefox 4 and 5 are also supported but you ' +\n",
       "                'have to enable WebSockets in about:config.'\n",
       "        );\n",
       "    }\n",
       "};\n",
       "\n",
       "mpl.figure = function (figure_id, websocket, ondownload, parent_element) {\n",
       "    this.id = figure_id;\n",
       "\n",
       "    this.ws = websocket;\n",
       "\n",
       "    this.supports_binary = this.ws.binaryType !== undefined;\n",
       "\n",
       "    if (!this.supports_binary) {\n",
       "        var warnings = document.getElementById('mpl-warnings');\n",
       "        if (warnings) {\n",
       "            warnings.style.display = 'block';\n",
       "            warnings.textContent =\n",
       "                'This browser does not support binary websocket messages. ' +\n",
       "                'Performance may be slow.';\n",
       "        }\n",
       "    }\n",
       "\n",
       "    this.imageObj = new Image();\n",
       "\n",
       "    this.context = undefined;\n",
       "    this.message = undefined;\n",
       "    this.canvas = undefined;\n",
       "    this.rubberband_canvas = undefined;\n",
       "    this.rubberband_context = undefined;\n",
       "    this.format_dropdown = undefined;\n",
       "\n",
       "    this.image_mode = 'full';\n",
       "\n",
       "    this.root = document.createElement('div');\n",
       "    this.root.setAttribute('style', 'display: inline-block');\n",
       "    this._root_extra_style(this.root);\n",
       "\n",
       "    parent_element.appendChild(this.root);\n",
       "\n",
       "    this._init_header(this);\n",
       "    this._init_canvas(this);\n",
       "    this._init_toolbar(this);\n",
       "\n",
       "    var fig = this;\n",
       "\n",
       "    this.waiting = false;\n",
       "\n",
       "    this.ws.onopen = function () {\n",
       "        fig.send_message('supports_binary', { value: fig.supports_binary });\n",
       "        fig.send_message('send_image_mode', {});\n",
       "        if (fig.ratio !== 1) {\n",
       "            fig.send_message('set_dpi_ratio', { dpi_ratio: fig.ratio });\n",
       "        }\n",
       "        fig.send_message('refresh', {});\n",
       "    };\n",
       "\n",
       "    this.imageObj.onload = function () {\n",
       "        if (fig.image_mode === 'full') {\n",
       "            // Full images could contain transparency (where diff images\n",
       "            // almost always do), so we need to clear the canvas so that\n",
       "            // there is no ghosting.\n",
       "            fig.context.clearRect(0, 0, fig.canvas.width, fig.canvas.height);\n",
       "        }\n",
       "        fig.context.drawImage(fig.imageObj, 0, 0);\n",
       "    };\n",
       "\n",
       "    this.imageObj.onunload = function () {\n",
       "        fig.ws.close();\n",
       "    };\n",
       "\n",
       "    this.ws.onmessage = this._make_on_message_function(this);\n",
       "\n",
       "    this.ondownload = ondownload;\n",
       "};\n",
       "\n",
       "mpl.figure.prototype._init_header = function () {\n",
       "    var titlebar = document.createElement('div');\n",
       "    titlebar.classList =\n",
       "        'ui-dialog-titlebar ui-widget-header ui-corner-all ui-helper-clearfix';\n",
       "    var titletext = document.createElement('div');\n",
       "    titletext.classList = 'ui-dialog-title';\n",
       "    titletext.setAttribute(\n",
       "        'style',\n",
       "        'width: 100%; text-align: center; padding: 3px;'\n",
       "    );\n",
       "    titlebar.appendChild(titletext);\n",
       "    this.root.appendChild(titlebar);\n",
       "    this.header = titletext;\n",
       "};\n",
       "\n",
       "mpl.figure.prototype._canvas_extra_style = function (_canvas_div) {};\n",
       "\n",
       "mpl.figure.prototype._root_extra_style = function (_canvas_div) {};\n",
       "\n",
       "mpl.figure.prototype._init_canvas = function () {\n",
       "    var fig = this;\n",
       "\n",
       "    var canvas_div = (this.canvas_div = document.createElement('div'));\n",
       "    canvas_div.setAttribute(\n",
       "        'style',\n",
       "        'border: 1px solid #ddd;' +\n",
       "            'box-sizing: content-box;' +\n",
       "            'clear: both;' +\n",
       "            'min-height: 1px;' +\n",
       "            'min-width: 1px;' +\n",
       "            'outline: 0;' +\n",
       "            'overflow: hidden;' +\n",
       "            'position: relative;' +\n",
       "            'resize: both;'\n",
       "    );\n",
       "\n",
       "    function on_keyboard_event_closure(name) {\n",
       "        return function (event) {\n",
       "            return fig.key_event(event, name);\n",
       "        };\n",
       "    }\n",
       "\n",
       "    canvas_div.addEventListener(\n",
       "        'keydown',\n",
       "        on_keyboard_event_closure('key_press')\n",
       "    );\n",
       "    canvas_div.addEventListener(\n",
       "        'keyup',\n",
       "        on_keyboard_event_closure('key_release')\n",
       "    );\n",
       "\n",
       "    this._canvas_extra_style(canvas_div);\n",
       "    this.root.appendChild(canvas_div);\n",
       "\n",
       "    var canvas = (this.canvas = document.createElement('canvas'));\n",
       "    canvas.classList.add('mpl-canvas');\n",
       "    canvas.setAttribute('style', 'box-sizing: content-box;');\n",
       "\n",
       "    this.context = canvas.getContext('2d');\n",
       "\n",
       "    var backingStore =\n",
       "        this.context.backingStorePixelRatio ||\n",
       "        this.context.webkitBackingStorePixelRatio ||\n",
       "        this.context.mozBackingStorePixelRatio ||\n",
       "        this.context.msBackingStorePixelRatio ||\n",
       "        this.context.oBackingStorePixelRatio ||\n",
       "        this.context.backingStorePixelRatio ||\n",
       "        1;\n",
       "\n",
       "    this.ratio = (window.devicePixelRatio || 1) / backingStore;\n",
       "\n",
       "    var rubberband_canvas = (this.rubberband_canvas = document.createElement(\n",
       "        'canvas'\n",
       "    ));\n",
       "    rubberband_canvas.setAttribute(\n",
       "        'style',\n",
       "        'box-sizing: content-box; position: absolute; left: 0; top: 0; z-index: 1;'\n",
       "    );\n",
       "\n",
       "    // Apply a ponyfill if ResizeObserver is not implemented by browser.\n",
       "    if (this.ResizeObserver === undefined) {\n",
       "        if (window.ResizeObserver !== undefined) {\n",
       "            this.ResizeObserver = window.ResizeObserver;\n",
       "        } else {\n",
       "            var obs = _JSXTOOLS_RESIZE_OBSERVER({});\n",
       "            this.ResizeObserver = obs.ResizeObserver;\n",
       "        }\n",
       "    }\n",
       "\n",
       "    this.resizeObserverInstance = new this.ResizeObserver(function (entries) {\n",
       "        var nentries = entries.length;\n",
       "        for (var i = 0; i < nentries; i++) {\n",
       "            var entry = entries[i];\n",
       "            var width, height;\n",
       "            if (entry.contentBoxSize) {\n",
       "                if (entry.contentBoxSize instanceof Array) {\n",
       "                    // Chrome 84 implements new version of spec.\n",
       "                    width = entry.contentBoxSize[0].inlineSize;\n",
       "                    height = entry.contentBoxSize[0].blockSize;\n",
       "                } else {\n",
       "                    // Firefox implements old version of spec.\n",
       "                    width = entry.contentBoxSize.inlineSize;\n",
       "                    height = entry.contentBoxSize.blockSize;\n",
       "                }\n",
       "            } else {\n",
       "                // Chrome <84 implements even older version of spec.\n",
       "                width = entry.contentRect.width;\n",
       "                height = entry.contentRect.height;\n",
       "            }\n",
       "\n",
       "            // Keep the size of the canvas and rubber band canvas in sync with\n",
       "            // the canvas container.\n",
       "            if (entry.devicePixelContentBoxSize) {\n",
       "                // Chrome 84 implements new version of spec.\n",
       "                canvas.setAttribute(\n",
       "                    'width',\n",
       "                    entry.devicePixelContentBoxSize[0].inlineSize\n",
       "                );\n",
       "                canvas.setAttribute(\n",
       "                    'height',\n",
       "                    entry.devicePixelContentBoxSize[0].blockSize\n",
       "                );\n",
       "            } else {\n",
       "                canvas.setAttribute('width', width * fig.ratio);\n",
       "                canvas.setAttribute('height', height * fig.ratio);\n",
       "            }\n",
       "            canvas.setAttribute(\n",
       "                'style',\n",
       "                'width: ' + width + 'px; height: ' + height + 'px;'\n",
       "            );\n",
       "\n",
       "            rubberband_canvas.setAttribute('width', width);\n",
       "            rubberband_canvas.setAttribute('height', height);\n",
       "\n",
       "            // And update the size in Python. We ignore the initial 0/0 size\n",
       "            // that occurs as the element is placed into the DOM, which should\n",
       "            // otherwise not happen due to the minimum size styling.\n",
       "            if (fig.ws.readyState == 1 && width != 0 && height != 0) {\n",
       "                fig.request_resize(width, height);\n",
       "            }\n",
       "        }\n",
       "    });\n",
       "    this.resizeObserverInstance.observe(canvas_div);\n",
       "\n",
       "    function on_mouse_event_closure(name) {\n",
       "        return function (event) {\n",
       "            return fig.mouse_event(event, name);\n",
       "        };\n",
       "    }\n",
       "\n",
       "    rubberband_canvas.addEventListener(\n",
       "        'mousedown',\n",
       "        on_mouse_event_closure('button_press')\n",
       "    );\n",
       "    rubberband_canvas.addEventListener(\n",
       "        'mouseup',\n",
       "        on_mouse_event_closure('button_release')\n",
       "    );\n",
       "    // Throttle sequential mouse events to 1 every 20ms.\n",
       "    rubberband_canvas.addEventListener(\n",
       "        'mousemove',\n",
       "        on_mouse_event_closure('motion_notify')\n",
       "    );\n",
       "\n",
       "    rubberband_canvas.addEventListener(\n",
       "        'mouseenter',\n",
       "        on_mouse_event_closure('figure_enter')\n",
       "    );\n",
       "    rubberband_canvas.addEventListener(\n",
       "        'mouseleave',\n",
       "        on_mouse_event_closure('figure_leave')\n",
       "    );\n",
       "\n",
       "    canvas_div.addEventListener('wheel', function (event) {\n",
       "        if (event.deltaY < 0) {\n",
       "            event.step = 1;\n",
       "        } else {\n",
       "            event.step = -1;\n",
       "        }\n",
       "        on_mouse_event_closure('scroll')(event);\n",
       "    });\n",
       "\n",
       "    canvas_div.appendChild(canvas);\n",
       "    canvas_div.appendChild(rubberband_canvas);\n",
       "\n",
       "    this.rubberband_context = rubberband_canvas.getContext('2d');\n",
       "    this.rubberband_context.strokeStyle = '#000000';\n",
       "\n",
       "    this._resize_canvas = function (width, height, forward) {\n",
       "        if (forward) {\n",
       "            canvas_div.style.width = width + 'px';\n",
       "            canvas_div.style.height = height + 'px';\n",
       "        }\n",
       "    };\n",
       "\n",
       "    // Disable right mouse context menu.\n",
       "    this.rubberband_canvas.addEventListener('contextmenu', function (_e) {\n",
       "        event.preventDefault();\n",
       "        return false;\n",
       "    });\n",
       "\n",
       "    function set_focus() {\n",
       "        canvas.focus();\n",
       "        canvas_div.focus();\n",
       "    }\n",
       "\n",
       "    window.setTimeout(set_focus, 100);\n",
       "};\n",
       "\n",
       "mpl.figure.prototype._init_toolbar = function () {\n",
       "    var fig = this;\n",
       "\n",
       "    var toolbar = document.createElement('div');\n",
       "    toolbar.classList = 'mpl-toolbar';\n",
       "    this.root.appendChild(toolbar);\n",
       "\n",
       "    function on_click_closure(name) {\n",
       "        return function (_event) {\n",
       "            return fig.toolbar_button_onclick(name);\n",
       "        };\n",
       "    }\n",
       "\n",
       "    function on_mouseover_closure(tooltip) {\n",
       "        return function (event) {\n",
       "            if (!event.currentTarget.disabled) {\n",
       "                return fig.toolbar_button_onmouseover(tooltip);\n",
       "            }\n",
       "        };\n",
       "    }\n",
       "\n",
       "    fig.buttons = {};\n",
       "    var buttonGroup = document.createElement('div');\n",
       "    buttonGroup.classList = 'mpl-button-group';\n",
       "    for (var toolbar_ind in mpl.toolbar_items) {\n",
       "        var name = mpl.toolbar_items[toolbar_ind][0];\n",
       "        var tooltip = mpl.toolbar_items[toolbar_ind][1];\n",
       "        var image = mpl.toolbar_items[toolbar_ind][2];\n",
       "        var method_name = mpl.toolbar_items[toolbar_ind][3];\n",
       "\n",
       "        if (!name) {\n",
       "            /* Instead of a spacer, we start a new button group. */\n",
       "            if (buttonGroup.hasChildNodes()) {\n",
       "                toolbar.appendChild(buttonGroup);\n",
       "            }\n",
       "            buttonGroup = document.createElement('div');\n",
       "            buttonGroup.classList = 'mpl-button-group';\n",
       "            continue;\n",
       "        }\n",
       "\n",
       "        var button = (fig.buttons[name] = document.createElement('button'));\n",
       "        button.classList = 'mpl-widget';\n",
       "        button.setAttribute('role', 'button');\n",
       "        button.setAttribute('aria-disabled', 'false');\n",
       "        button.addEventListener('click', on_click_closure(method_name));\n",
       "        button.addEventListener('mouseover', on_mouseover_closure(tooltip));\n",
       "\n",
       "        var icon_img = document.createElement('img');\n",
       "        icon_img.src = '_images/' + image + '.png';\n",
       "        icon_img.srcset = '_images/' + image + '_large.png 2x';\n",
       "        icon_img.alt = tooltip;\n",
       "        button.appendChild(icon_img);\n",
       "\n",
       "        buttonGroup.appendChild(button);\n",
       "    }\n",
       "\n",
       "    if (buttonGroup.hasChildNodes()) {\n",
       "        toolbar.appendChild(buttonGroup);\n",
       "    }\n",
       "\n",
       "    var fmt_picker = document.createElement('select');\n",
       "    fmt_picker.classList = 'mpl-widget';\n",
       "    toolbar.appendChild(fmt_picker);\n",
       "    this.format_dropdown = fmt_picker;\n",
       "\n",
       "    for (var ind in mpl.extensions) {\n",
       "        var fmt = mpl.extensions[ind];\n",
       "        var option = document.createElement('option');\n",
       "        option.selected = fmt === mpl.default_extension;\n",
       "        option.innerHTML = fmt;\n",
       "        fmt_picker.appendChild(option);\n",
       "    }\n",
       "\n",
       "    var status_bar = document.createElement('span');\n",
       "    status_bar.classList = 'mpl-message';\n",
       "    toolbar.appendChild(status_bar);\n",
       "    this.message = status_bar;\n",
       "};\n",
       "\n",
       "mpl.figure.prototype.request_resize = function (x_pixels, y_pixels) {\n",
       "    // Request matplotlib to resize the figure. Matplotlib will then trigger a resize in the client,\n",
       "    // which will in turn request a refresh of the image.\n",
       "    this.send_message('resize', { width: x_pixels, height: y_pixels });\n",
       "};\n",
       "\n",
       "mpl.figure.prototype.send_message = function (type, properties) {\n",
       "    properties['type'] = type;\n",
       "    properties['figure_id'] = this.id;\n",
       "    this.ws.send(JSON.stringify(properties));\n",
       "};\n",
       "\n",
       "mpl.figure.prototype.send_draw_message = function () {\n",
       "    if (!this.waiting) {\n",
       "        this.waiting = true;\n",
       "        this.ws.send(JSON.stringify({ type: 'draw', figure_id: this.id }));\n",
       "    }\n",
       "};\n",
       "\n",
       "mpl.figure.prototype.handle_save = function (fig, _msg) {\n",
       "    var format_dropdown = fig.format_dropdown;\n",
       "    var format = format_dropdown.options[format_dropdown.selectedIndex].value;\n",
       "    fig.ondownload(fig, format);\n",
       "};\n",
       "\n",
       "mpl.figure.prototype.handle_resize = function (fig, msg) {\n",
       "    var size = msg['size'];\n",
       "    if (size[0] !== fig.canvas.width || size[1] !== fig.canvas.height) {\n",
       "        fig._resize_canvas(size[0], size[1], msg['forward']);\n",
       "        fig.send_message('refresh', {});\n",
       "    }\n",
       "};\n",
       "\n",
       "mpl.figure.prototype.handle_rubberband = function (fig, msg) {\n",
       "    var x0 = msg['x0'] / fig.ratio;\n",
       "    var y0 = (fig.canvas.height - msg['y0']) / fig.ratio;\n",
       "    var x1 = msg['x1'] / fig.ratio;\n",
       "    var y1 = (fig.canvas.height - msg['y1']) / fig.ratio;\n",
       "    x0 = Math.floor(x0) + 0.5;\n",
       "    y0 = Math.floor(y0) + 0.5;\n",
       "    x1 = Math.floor(x1) + 0.5;\n",
       "    y1 = Math.floor(y1) + 0.5;\n",
       "    var min_x = Math.min(x0, x1);\n",
       "    var min_y = Math.min(y0, y1);\n",
       "    var width = Math.abs(x1 - x0);\n",
       "    var height = Math.abs(y1 - y0);\n",
       "\n",
       "    fig.rubberband_context.clearRect(\n",
       "        0,\n",
       "        0,\n",
       "        fig.canvas.width / fig.ratio,\n",
       "        fig.canvas.height / fig.ratio\n",
       "    );\n",
       "\n",
       "    fig.rubberband_context.strokeRect(min_x, min_y, width, height);\n",
       "};\n",
       "\n",
       "mpl.figure.prototype.handle_figure_label = function (fig, msg) {\n",
       "    // Updates the figure title.\n",
       "    fig.header.textContent = msg['label'];\n",
       "};\n",
       "\n",
       "mpl.figure.prototype.handle_cursor = function (fig, msg) {\n",
       "    var cursor = msg['cursor'];\n",
       "    switch (cursor) {\n",
       "        case 0:\n",
       "            cursor = 'pointer';\n",
       "            break;\n",
       "        case 1:\n",
       "            cursor = 'default';\n",
       "            break;\n",
       "        case 2:\n",
       "            cursor = 'crosshair';\n",
       "            break;\n",
       "        case 3:\n",
       "            cursor = 'move';\n",
       "            break;\n",
       "    }\n",
       "    fig.rubberband_canvas.style.cursor = cursor;\n",
       "};\n",
       "\n",
       "mpl.figure.prototype.handle_message = function (fig, msg) {\n",
       "    fig.message.textContent = msg['message'];\n",
       "};\n",
       "\n",
       "mpl.figure.prototype.handle_draw = function (fig, _msg) {\n",
       "    // Request the server to send over a new figure.\n",
       "    fig.send_draw_message();\n",
       "};\n",
       "\n",
       "mpl.figure.prototype.handle_image_mode = function (fig, msg) {\n",
       "    fig.image_mode = msg['mode'];\n",
       "};\n",
       "\n",
       "mpl.figure.prototype.handle_history_buttons = function (fig, msg) {\n",
       "    for (var key in msg) {\n",
       "        if (!(key in fig.buttons)) {\n",
       "            continue;\n",
       "        }\n",
       "        fig.buttons[key].disabled = !msg[key];\n",
       "        fig.buttons[key].setAttribute('aria-disabled', !msg[key]);\n",
       "    }\n",
       "};\n",
       "\n",
       "mpl.figure.prototype.handle_navigate_mode = function (fig, msg) {\n",
       "    if (msg['mode'] === 'PAN') {\n",
       "        fig.buttons['Pan'].classList.add('active');\n",
       "        fig.buttons['Zoom'].classList.remove('active');\n",
       "    } else if (msg['mode'] === 'ZOOM') {\n",
       "        fig.buttons['Pan'].classList.remove('active');\n",
       "        fig.buttons['Zoom'].classList.add('active');\n",
       "    } else {\n",
       "        fig.buttons['Pan'].classList.remove('active');\n",
       "        fig.buttons['Zoom'].classList.remove('active');\n",
       "    }\n",
       "};\n",
       "\n",
       "mpl.figure.prototype.updated_canvas_event = function () {\n",
       "    // Called whenever the canvas gets updated.\n",
       "    this.send_message('ack', {});\n",
       "};\n",
       "\n",
       "// A function to construct a web socket function for onmessage handling.\n",
       "// Called in the figure constructor.\n",
       "mpl.figure.prototype._make_on_message_function = function (fig) {\n",
       "    return function socket_on_message(evt) {\n",
       "        if (evt.data instanceof Blob) {\n",
       "            /* FIXME: We get \"Resource interpreted as Image but\n",
       "             * transferred with MIME type text/plain:\" errors on\n",
       "             * Chrome.  But how to set the MIME type?  It doesn't seem\n",
       "             * to be part of the websocket stream */\n",
       "            evt.data.type = 'image/png';\n",
       "\n",
       "            /* Free the memory for the previous frames */\n",
       "            if (fig.imageObj.src) {\n",
       "                (window.URL || window.webkitURL).revokeObjectURL(\n",
       "                    fig.imageObj.src\n",
       "                );\n",
       "            }\n",
       "\n",
       "            fig.imageObj.src = (window.URL || window.webkitURL).createObjectURL(\n",
       "                evt.data\n",
       "            );\n",
       "            fig.updated_canvas_event();\n",
       "            fig.waiting = false;\n",
       "            return;\n",
       "        } else if (\n",
       "            typeof evt.data === 'string' &&\n",
       "            evt.data.slice(0, 21) === 'data:image/png;base64'\n",
       "        ) {\n",
       "            fig.imageObj.src = evt.data;\n",
       "            fig.updated_canvas_event();\n",
       "            fig.waiting = false;\n",
       "            return;\n",
       "        }\n",
       "\n",
       "        var msg = JSON.parse(evt.data);\n",
       "        var msg_type = msg['type'];\n",
       "\n",
       "        // Call the  \"handle_{type}\" callback, which takes\n",
       "        // the figure and JSON message as its only arguments.\n",
       "        try {\n",
       "            var callback = fig['handle_' + msg_type];\n",
       "        } catch (e) {\n",
       "            console.log(\n",
       "                \"No handler for the '\" + msg_type + \"' message type: \",\n",
       "                msg\n",
       "            );\n",
       "            return;\n",
       "        }\n",
       "\n",
       "        if (callback) {\n",
       "            try {\n",
       "                // console.log(\"Handling '\" + msg_type + \"' message: \", msg);\n",
       "                callback(fig, msg);\n",
       "            } catch (e) {\n",
       "                console.log(\n",
       "                    \"Exception inside the 'handler_\" + msg_type + \"' callback:\",\n",
       "                    e,\n",
       "                    e.stack,\n",
       "                    msg\n",
       "                );\n",
       "            }\n",
       "        }\n",
       "    };\n",
       "};\n",
       "\n",
       "// from http://stackoverflow.com/questions/1114465/getting-mouse-location-in-canvas\n",
       "mpl.findpos = function (e) {\n",
       "    //this section is from http://www.quirksmode.org/js/events_properties.html\n",
       "    var targ;\n",
       "    if (!e) {\n",
       "        e = window.event;\n",
       "    }\n",
       "    if (e.target) {\n",
       "        targ = e.target;\n",
       "    } else if (e.srcElement) {\n",
       "        targ = e.srcElement;\n",
       "    }\n",
       "    if (targ.nodeType === 3) {\n",
       "        // defeat Safari bug\n",
       "        targ = targ.parentNode;\n",
       "    }\n",
       "\n",
       "    // pageX,Y are the mouse positions relative to the document\n",
       "    var boundingRect = targ.getBoundingClientRect();\n",
       "    var x = e.pageX - (boundingRect.left + document.body.scrollLeft);\n",
       "    var y = e.pageY - (boundingRect.top + document.body.scrollTop);\n",
       "\n",
       "    return { x: x, y: y };\n",
       "};\n",
       "\n",
       "/*\n",
       " * return a copy of an object with only non-object keys\n",
       " * we need this to avoid circular references\n",
       " * http://stackoverflow.com/a/24161582/3208463\n",
       " */\n",
       "function simpleKeys(original) {\n",
       "    return Object.keys(original).reduce(function (obj, key) {\n",
       "        if (typeof original[key] !== 'object') {\n",
       "            obj[key] = original[key];\n",
       "        }\n",
       "        return obj;\n",
       "    }, {});\n",
       "}\n",
       "\n",
       "mpl.figure.prototype.mouse_event = function (event, name) {\n",
       "    var canvas_pos = mpl.findpos(event);\n",
       "\n",
       "    if (name === 'button_press') {\n",
       "        this.canvas.focus();\n",
       "        this.canvas_div.focus();\n",
       "    }\n",
       "\n",
       "    var x = canvas_pos.x * this.ratio;\n",
       "    var y = canvas_pos.y * this.ratio;\n",
       "\n",
       "    this.send_message(name, {\n",
       "        x: x,\n",
       "        y: y,\n",
       "        button: event.button,\n",
       "        step: event.step,\n",
       "        guiEvent: simpleKeys(event),\n",
       "    });\n",
       "\n",
       "    /* This prevents the web browser from automatically changing to\n",
       "     * the text insertion cursor when the button is pressed.  We want\n",
       "     * to control all of the cursor setting manually through the\n",
       "     * 'cursor' event from matplotlib */\n",
       "    event.preventDefault();\n",
       "    return false;\n",
       "};\n",
       "\n",
       "mpl.figure.prototype._key_event_extra = function (_event, _name) {\n",
       "    // Handle any extra behaviour associated with a key event\n",
       "};\n",
       "\n",
       "mpl.figure.prototype.key_event = function (event, name) {\n",
       "    // Prevent repeat events\n",
       "    if (name === 'key_press') {\n",
       "        if (event.which === this._key) {\n",
       "            return;\n",
       "        } else {\n",
       "            this._key = event.which;\n",
       "        }\n",
       "    }\n",
       "    if (name === 'key_release') {\n",
       "        this._key = null;\n",
       "    }\n",
       "\n",
       "    var value = '';\n",
       "    if (event.ctrlKey && event.which !== 17) {\n",
       "        value += 'ctrl+';\n",
       "    }\n",
       "    if (event.altKey && event.which !== 18) {\n",
       "        value += 'alt+';\n",
       "    }\n",
       "    if (event.shiftKey && event.which !== 16) {\n",
       "        value += 'shift+';\n",
       "    }\n",
       "\n",
       "    value += 'k';\n",
       "    value += event.which.toString();\n",
       "\n",
       "    this._key_event_extra(event, name);\n",
       "\n",
       "    this.send_message(name, { key: value, guiEvent: simpleKeys(event) });\n",
       "    return false;\n",
       "};\n",
       "\n",
       "mpl.figure.prototype.toolbar_button_onclick = function (name) {\n",
       "    if (name === 'download') {\n",
       "        this.handle_save(this, null);\n",
       "    } else {\n",
       "        this.send_message('toolbar_button', { name: name });\n",
       "    }\n",
       "};\n",
       "\n",
       "mpl.figure.prototype.toolbar_button_onmouseover = function (tooltip) {\n",
       "    this.message.textContent = tooltip;\n",
       "};\n",
       "\n",
       "///////////////// REMAINING CONTENT GENERATED BY embed_js.py /////////////////\n",
       "// prettier-ignore\n",
       "var _JSXTOOLS_RESIZE_OBSERVER=function(A){var t,i=new WeakMap,n=new WeakMap,a=new WeakMap,r=new WeakMap,o=new Set;function s(e){if(!(this instanceof s))throw new TypeError(\"Constructor requires 'new' operator\");i.set(this,e)}function h(){throw new TypeError(\"Function is not a constructor\")}function c(e,t,i,n){e=0 in arguments?Number(arguments[0]):0,t=1 in arguments?Number(arguments[1]):0,i=2 in arguments?Number(arguments[2]):0,n=3 in arguments?Number(arguments[3]):0,this.right=(this.x=this.left=e)+(this.width=i),this.bottom=(this.y=this.top=t)+(this.height=n),Object.freeze(this)}function d(){t=requestAnimationFrame(d);var s=new WeakMap,p=new Set;o.forEach((function(t){r.get(t).forEach((function(i){var r=t instanceof window.SVGElement,o=a.get(t),d=r?0:parseFloat(o.paddingTop),f=r?0:parseFloat(o.paddingRight),l=r?0:parseFloat(o.paddingBottom),u=r?0:parseFloat(o.paddingLeft),g=r?0:parseFloat(o.borderTopWidth),m=r?0:parseFloat(o.borderRightWidth),w=r?0:parseFloat(o.borderBottomWidth),b=u+f,F=d+l,v=(r?0:parseFloat(o.borderLeftWidth))+m,W=g+w,y=r?0:t.offsetHeight-W-t.clientHeight,E=r?0:t.offsetWidth-v-t.clientWidth,R=b+v,z=F+W,M=r?t.width:parseFloat(o.width)-R-E,O=r?t.height:parseFloat(o.height)-z-y;if(n.has(t)){var k=n.get(t);if(k[0]===M&&k[1]===O)return}n.set(t,[M,O]);var S=Object.create(h.prototype);S.target=t,S.contentRect=new c(u,d,M,O),s.has(i)||(s.set(i,[]),p.add(i)),s.get(i).push(S)}))})),p.forEach((function(e){i.get(e).call(e,s.get(e),e)}))}return s.prototype.observe=function(i){if(i instanceof window.Element){r.has(i)||(r.set(i,new Set),o.add(i),a.set(i,window.getComputedStyle(i)));var n=r.get(i);n.has(this)||n.add(this),cancelAnimationFrame(t),t=requestAnimationFrame(d)}},s.prototype.unobserve=function(i){if(i instanceof window.Element&&r.has(i)){var n=r.get(i);n.has(this)&&(n.delete(this),n.size||(r.delete(i),o.delete(i))),n.size||r.delete(i),o.size||cancelAnimationFrame(t)}},A.DOMRectReadOnly=c,A.ResizeObserver=s,A.ResizeObserverEntry=h,A}; // eslint-disable-line\n",
       "mpl.toolbar_items = [[\"Home\", \"Reset original view\", \"fa fa-home icon-home\", \"home\"], [\"Back\", \"Back to previous view\", \"fa fa-arrow-left icon-arrow-left\", \"back\"], [\"Forward\", \"Forward to next view\", \"fa fa-arrow-right icon-arrow-right\", \"forward\"], [\"\", \"\", \"\", \"\"], [\"Pan\", \"Left button pans, Right button zooms\\nx/y fixes axis, CTRL fixes aspect\", \"fa fa-arrows icon-move\", \"pan\"], [\"Zoom\", \"Zoom to rectangle\\nx/y fixes axis, CTRL fixes aspect\", \"fa fa-square-o icon-check-empty\", \"zoom\"], [\"\", \"\", \"\", \"\"], [\"Download\", \"Download plot\", \"fa fa-floppy-o icon-save\", \"download\"]];\n",
       "\n",
       "mpl.extensions = [\"eps\", \"jpeg\", \"pdf\", \"png\", \"ps\", \"raw\", \"svg\", \"tif\"];\n",
       "\n",
       "mpl.default_extension = \"png\";/* global mpl */\n",
       "\n",
       "var comm_websocket_adapter = function (comm) {\n",
       "    // Create a \"websocket\"-like object which calls the given IPython comm\n",
       "    // object with the appropriate methods. Currently this is a non binary\n",
       "    // socket, so there is still some room for performance tuning.\n",
       "    var ws = {};\n",
       "\n",
       "    ws.close = function () {\n",
       "        comm.close();\n",
       "    };\n",
       "    ws.send = function (m) {\n",
       "        //console.log('sending', m);\n",
       "        comm.send(m);\n",
       "    };\n",
       "    // Register the callback with on_msg.\n",
       "    comm.on_msg(function (msg) {\n",
       "        //console.log('receiving', msg['content']['data'], msg);\n",
       "        // Pass the mpl event to the overridden (by mpl) onmessage function.\n",
       "        ws.onmessage(msg['content']['data']);\n",
       "    });\n",
       "    return ws;\n",
       "};\n",
       "\n",
       "mpl.mpl_figure_comm = function (comm, msg) {\n",
       "    // This is the function which gets called when the mpl process\n",
       "    // starts-up an IPython Comm through the \"matplotlib\" channel.\n",
       "\n",
       "    var id = msg.content.data.id;\n",
       "    // Get hold of the div created by the display call when the Comm\n",
       "    // socket was opened in Python.\n",
       "    var element = document.getElementById(id);\n",
       "    var ws_proxy = comm_websocket_adapter(comm);\n",
       "\n",
       "    function ondownload(figure, _format) {\n",
       "        window.open(figure.canvas.toDataURL());\n",
       "    }\n",
       "\n",
       "    var fig = new mpl.figure(id, ws_proxy, ondownload, element);\n",
       "\n",
       "    // Call onopen now - mpl needs it, as it is assuming we've passed it a real\n",
       "    // web socket which is closed, not our websocket->open comm proxy.\n",
       "    ws_proxy.onopen();\n",
       "\n",
       "    fig.parent_element = element;\n",
       "    fig.cell_info = mpl.find_output_cell(\"<div id='\" + id + \"'></div>\");\n",
       "    if (!fig.cell_info) {\n",
       "        console.error('Failed to find cell for figure', id, fig);\n",
       "        return;\n",
       "    }\n",
       "    fig.cell_info[0].output_area.element.on(\n",
       "        'cleared',\n",
       "        { fig: fig },\n",
       "        fig._remove_fig_handler\n",
       "    );\n",
       "};\n",
       "\n",
       "mpl.figure.prototype.handle_close = function (fig, msg) {\n",
       "    var width = fig.canvas.width / fig.ratio;\n",
       "    fig.cell_info[0].output_area.element.off(\n",
       "        'cleared',\n",
       "        fig._remove_fig_handler\n",
       "    );\n",
       "    fig.resizeObserverInstance.unobserve(fig.canvas_div);\n",
       "\n",
       "    // Update the output cell to use the data from the current canvas.\n",
       "    fig.push_to_output();\n",
       "    var dataURL = fig.canvas.toDataURL();\n",
       "    // Re-enable the keyboard manager in IPython - without this line, in FF,\n",
       "    // the notebook keyboard shortcuts fail.\n",
       "    IPython.keyboard_manager.enable();\n",
       "    fig.parent_element.innerHTML =\n",
       "        '<img src=\"' + dataURL + '\" width=\"' + width + '\">';\n",
       "    fig.close_ws(fig, msg);\n",
       "};\n",
       "\n",
       "mpl.figure.prototype.close_ws = function (fig, msg) {\n",
       "    fig.send_message('closing', msg);\n",
       "    // fig.ws.close()\n",
       "};\n",
       "\n",
       "mpl.figure.prototype.push_to_output = function (_remove_interactive) {\n",
       "    // Turn the data on the canvas into data in the output cell.\n",
       "    var width = this.canvas.width / this.ratio;\n",
       "    var dataURL = this.canvas.toDataURL();\n",
       "    this.cell_info[1]['text/html'] =\n",
       "        '<img src=\"' + dataURL + '\" width=\"' + width + '\">';\n",
       "};\n",
       "\n",
       "mpl.figure.prototype.updated_canvas_event = function () {\n",
       "    // Tell IPython that the notebook contents must change.\n",
       "    IPython.notebook.set_dirty(true);\n",
       "    this.send_message('ack', {});\n",
       "    var fig = this;\n",
       "    // Wait a second, then push the new image to the DOM so\n",
       "    // that it is saved nicely (might be nice to debounce this).\n",
       "    setTimeout(function () {\n",
       "        fig.push_to_output();\n",
       "    }, 1000);\n",
       "};\n",
       "\n",
       "mpl.figure.prototype._init_toolbar = function () {\n",
       "    var fig = this;\n",
       "\n",
       "    var toolbar = document.createElement('div');\n",
       "    toolbar.classList = 'btn-toolbar';\n",
       "    this.root.appendChild(toolbar);\n",
       "\n",
       "    function on_click_closure(name) {\n",
       "        return function (_event) {\n",
       "            return fig.toolbar_button_onclick(name);\n",
       "        };\n",
       "    }\n",
       "\n",
       "    function on_mouseover_closure(tooltip) {\n",
       "        return function (event) {\n",
       "            if (!event.currentTarget.disabled) {\n",
       "                return fig.toolbar_button_onmouseover(tooltip);\n",
       "            }\n",
       "        };\n",
       "    }\n",
       "\n",
       "    fig.buttons = {};\n",
       "    var buttonGroup = document.createElement('div');\n",
       "    buttonGroup.classList = 'btn-group';\n",
       "    var button;\n",
       "    for (var toolbar_ind in mpl.toolbar_items) {\n",
       "        var name = mpl.toolbar_items[toolbar_ind][0];\n",
       "        var tooltip = mpl.toolbar_items[toolbar_ind][1];\n",
       "        var image = mpl.toolbar_items[toolbar_ind][2];\n",
       "        var method_name = mpl.toolbar_items[toolbar_ind][3];\n",
       "\n",
       "        if (!name) {\n",
       "            /* Instead of a spacer, we start a new button group. */\n",
       "            if (buttonGroup.hasChildNodes()) {\n",
       "                toolbar.appendChild(buttonGroup);\n",
       "            }\n",
       "            buttonGroup = document.createElement('div');\n",
       "            buttonGroup.classList = 'btn-group';\n",
       "            continue;\n",
       "        }\n",
       "\n",
       "        button = fig.buttons[name] = document.createElement('button');\n",
       "        button.classList = 'btn btn-default';\n",
       "        button.href = '#';\n",
       "        button.title = name;\n",
       "        button.innerHTML = '<i class=\"fa ' + image + ' fa-lg\"></i>';\n",
       "        button.addEventListener('click', on_click_closure(method_name));\n",
       "        button.addEventListener('mouseover', on_mouseover_closure(tooltip));\n",
       "        buttonGroup.appendChild(button);\n",
       "    }\n",
       "\n",
       "    if (buttonGroup.hasChildNodes()) {\n",
       "        toolbar.appendChild(buttonGroup);\n",
       "    }\n",
       "\n",
       "    // Add the status bar.\n",
       "    var status_bar = document.createElement('span');\n",
       "    status_bar.classList = 'mpl-message pull-right';\n",
       "    toolbar.appendChild(status_bar);\n",
       "    this.message = status_bar;\n",
       "\n",
       "    // Add the close button to the window.\n",
       "    var buttongrp = document.createElement('div');\n",
       "    buttongrp.classList = 'btn-group inline pull-right';\n",
       "    button = document.createElement('button');\n",
       "    button.classList = 'btn btn-mini btn-primary';\n",
       "    button.href = '#';\n",
       "    button.title = 'Stop Interaction';\n",
       "    button.innerHTML = '<i class=\"fa fa-power-off icon-remove icon-large\"></i>';\n",
       "    button.addEventListener('click', function (_evt) {\n",
       "        fig.handle_close(fig, {});\n",
       "    });\n",
       "    button.addEventListener(\n",
       "        'mouseover',\n",
       "        on_mouseover_closure('Stop Interaction')\n",
       "    );\n",
       "    buttongrp.appendChild(button);\n",
       "    var titlebar = this.root.querySelector('.ui-dialog-titlebar');\n",
       "    titlebar.insertBefore(buttongrp, titlebar.firstChild);\n",
       "};\n",
       "\n",
       "mpl.figure.prototype._remove_fig_handler = function (event) {\n",
       "    var fig = event.data.fig;\n",
       "    if (event.target !== this) {\n",
       "        // Ignore bubbled events from children.\n",
       "        return;\n",
       "    }\n",
       "    fig.close_ws(fig, {});\n",
       "};\n",
       "\n",
       "mpl.figure.prototype._root_extra_style = function (el) {\n",
       "    el.style.boxSizing = 'content-box'; // override notebook setting of border-box.\n",
       "};\n",
       "\n",
       "mpl.figure.prototype._canvas_extra_style = function (el) {\n",
       "    // this is important to make the div 'focusable\n",
       "    el.setAttribute('tabindex', 0);\n",
       "    // reach out to IPython and tell the keyboard manager to turn it's self\n",
       "    // off when our div gets focus\n",
       "\n",
       "    // location in version 3\n",
       "    if (IPython.notebook.keyboard_manager) {\n",
       "        IPython.notebook.keyboard_manager.register_events(el);\n",
       "    } else {\n",
       "        // location in version 2\n",
       "        IPython.keyboard_manager.register_events(el);\n",
       "    }\n",
       "};\n",
       "\n",
       "mpl.figure.prototype._key_event_extra = function (event, _name) {\n",
       "    var manager = IPython.notebook.keyboard_manager;\n",
       "    if (!manager) {\n",
       "        manager = IPython.keyboard_manager;\n",
       "    }\n",
       "\n",
       "    // Check for shift+enter\n",
       "    if (event.shiftKey && event.which === 13) {\n",
       "        this.canvas_div.blur();\n",
       "        // select the cell after this one\n",
       "        var index = IPython.notebook.find_cell_index(this.cell_info[0]);\n",
       "        IPython.notebook.select(index + 1);\n",
       "    }\n",
       "};\n",
       "\n",
       "mpl.figure.prototype.handle_save = function (fig, _msg) {\n",
       "    fig.ondownload(fig, null);\n",
       "};\n",
       "\n",
       "mpl.find_output_cell = function (html_output) {\n",
       "    // Return the cell and output element which can be found *uniquely* in the notebook.\n",
       "    // Note - this is a bit hacky, but it is done because the \"notebook_saving.Notebook\"\n",
       "    // IPython event is triggered only after the cells have been serialised, which for\n",
       "    // our purposes (turning an active figure into a static one), is too late.\n",
       "    var cells = IPython.notebook.get_cells();\n",
       "    var ncells = cells.length;\n",
       "    for (var i = 0; i < ncells; i++) {\n",
       "        var cell = cells[i];\n",
       "        if (cell.cell_type === 'code') {\n",
       "            for (var j = 0; j < cell.output_area.outputs.length; j++) {\n",
       "                var data = cell.output_area.outputs[j];\n",
       "                if (data.data) {\n",
       "                    // IPython >= 3 moved mimebundle to data attribute of output\n",
       "                    data = data.data;\n",
       "                }\n",
       "                if (data['text/html'] === html_output) {\n",
       "                    return [cell, data, j];\n",
       "                }\n",
       "            }\n",
       "        }\n",
       "    }\n",
       "};\n",
       "\n",
       "// Register the function which deals with the matplotlib target/channel.\n",
       "// The kernel may be null if the page has been refreshed.\n",
       "if (IPython.notebook.kernel !== null) {\n",
       "    IPython.notebook.kernel.comm_manager.register_target(\n",
       "        'matplotlib',\n",
       "        mpl.mpl_figure_comm\n",
       "    );\n",
       "}\n"
      ],
      "text/plain": [
       "<IPython.core.display.Javascript object>"
      ]
     },
     "metadata": {},
     "output_type": "display_data"
    },
    {
     "data": {
      "text/html": [
       "<img src=\"data:image/png;base64,iVBORw0KGgoAAAANSUhEUgAABIwAAASMCAYAAADqVhavAAAAAXNSR0IArs4c6QAAIABJREFUeF7svQm0ZVV5qPuD0oiAhq6KviigKAREir6rooqiMTEjBvOMT2Nuhldu4h2Jz2jue3qNiVFjYsyNeo03jbFJ3jUOEl+GiQwjfVNQNEUnfVNFV1D0xgYRFeWNb3FmuWqxm7X3WnN39c0xzjiHOnvPNdc3596c+e3//+cWYZOABCQgAQlIQAISkIAEJCABCUhAAhKQQInAFtKQgAQkIAEJSEACEpCABCQgAQlIQAISkECZgMLI9SABCUhAAhKQgAQkIAEJSEACEpCABCSwCQGFkQtCAhKQgAQkIAEJSEACEpCABCQgAQlIQGHkGpCABCQgAQlIQAISkIAEJCABCUhAAhLoTsAII1eHBCQgAQlIQAISkIAEJCABCUhAAhKQwCYEFEYuCAlIQAISkIAEJCABCUhAAhKQgAQkIAGFkWtAAhKQgAQkIAEJSEACEpCABCQgAQlIoDsBI4xcHRKQgAQkIAEJSEACEpCABCQgAQlIQAKbEFAYuSAkIAEJSEACEpCABCQgAQlIQAISkIAEFEauAQlIQAISkIAEJCABCUhAAhKQgAQkIIHuBIwwcnVIQAISkIAEJCABCUhAAhKQgAQkIAEJbEJAYeSCkIAEJCABCUhAAhKQgAQkIAEJSEACElAYuQYkIAEJSEACEpCABCQgAQlIQAISkIAEuhMwwsjVIQEJSEACEpCABCQgAQlIQAISkIAEJLAJAYWRC0ICEpCABCQgAQlIQAISkIAEJCABCUhAYeQakIAEJCABCUhAAhKQgAQkIAEJSEACEuhOwAgjV4cEJCABCUhAAhKQgAQkIAEJSEACEpDAJgQURi4ICUhAAhKQgAQkIAEJSEACEpCABCQgAYWRa0ACEpCABCQgAQlIQAISkIAEJCABCUigOwEjjFwdEpCABCQgAQlIQAISkIAEJCABCUhAApsQUBi5ICQgAQlIQAISkIAEJCABCUhAAhKQgAQURq4BCUhAAhKQgAQkIAEJSEACEpCABCQgge4EjDBydUhAAhKQgAQkIAEJSEACEpCABCQgAQlsQkBh5IKQgAQkIAEJSEACEpCABCQgAQlIQAISUBi5BiQgAQlIQAISkIAEJCABCUhAAhKQgAS6EzDCyNUhAQlIQAISkIAEJCABCUhAAhKQgAQksAkBhZELQgISkIAEJCABCUhAAhKQgAQkIAEJSEBh5BqQgAQkIAEJSEACEpCABCQgAQlIQAIS6E7ACCNXhwQkIAEJSEACEpCABCQgAQlIQAISkMAmBBRGLggJSEACEpCABCQgAQlIQAISkIAEJCABhZFrQAISkIAEJCABCUhAAhKQgAQkIAEJSKA7ASOMXB0SkIAEJCABCUhAAhKQgAQkIAEJSEACmxBQGLkgJCABCUhAAhKQgAQkIAEJSEACEpCABBRGrgEJSEACEpCABCQgAQlIQAISkIAEJCCB7gSMMHJ1SEACEpCABCQgAQlIQAISkIAEJCABCWxCQGHkgpCABCQgAQlIQAISkIAEJCABCUhAAhJQGLkGJCABCUhAAhKQgAQkIAEJSEACEpCABLoTMMLI1SEBCUhAAhKQgAQkIAEJSEACEpCABCSwCQGFkQtCAhKQgAQkIAEJSEACEpCABCQgAQlIQGHkGpCABCQgAQlIQAISkIAEJCABCUhAAhLoTsAII1eHBCQgAQlIQAISkIAEJCABCUhAAhKQwCYEFEYuCAlIQAISkIAEJCABCUhAAhKQgAQkIAGFkWtAAhKQgAQkIAEJSEACEpCABCQgAQlIoDsBI4xcHRKQgAQkIAEJSEACEpCABCQgAQlIQAKbEFAYuSAkIAEJSEACEpCABCQgAQlIQAISkIAEFEauAQlIQAISkIAEJCABCUhAAhKQgAQkIIHuBIwwcnVIQAISkIAEJCABCUhAAhKQgAQkIAEJbEJAYeSCkIAEJCABCUhAAhKQgAQkIAEJSEACElAYuQYkIAEJSEACEpCABCQgAQlIQAISkIAEuhMwwsjVIQEJSEACEpCABCQgAQlIQAISkIAEJLAJAYWRC0ICEpCABCQgAQlIQAISkIAEJCABCUhAYeQakIAEJCABCUhAAhKQgAQkIAEJSEACEuhOwAgjV4cEJCABCUhAAhKQgAQkIAEJSEACEpDAJgQURi4ICUhAAhKQgAQkIAEJSEACEpCABCQgAYWRa0ACEpCABCQgAQlIQAISkIAEJCABCUigOwEjjFwdEpCABCQgAQlIQAISkIAEJCABCUhAApsQUBi5ICQgAQlIQAISkIAEJCABCUhAAhKQgAQURq4BCUhAAhKQgAQkIAEJSEACEpCABCQgge4EjDBydUhAAhKQgAQkIAEJSEACEpCABCQgAQlsQkBh5IKQgAQkIAEJSEACEpCABCQgAQlIQAISUBi5BiQgAQlIQAISkIAEJCABCUhAAhKQgAS6EzDCyNUhAQlIQAISkIAEJCABCUhAAhKQgAQksAkBhZELQgISkIAEJCABCUhAAhKQgAQkIAEJSEBh5BqQgAQkIAEJSEACEpCABCQgAQlIQAIS6E7ACCNXhwQkIAEJSEACEpCABCQgAQlIQAISkMAmBBRGLggJSEACEpCABCQgAQlIQAISkIAEJCABhZFrQAISkIAEJCABCUhAAhKQgAQkIAEJSKA7ASOMXB0SkIAEJCABCUhAAhKQgAQkIAEJSEACmxBQGLkgJCABCUhAAhKQgAQkIAEJSEACEpCABBRGrgEJSEACEpCABCQgAQlIQAISkIAEJCCB7gSMMHJ1SEACEpCABCQgAQlIQAISkIAEJCABCWxCQGHkgpCABCQgAQlIQAISkIAEJCABCUhAAhJQGLkGJCABCUhAAhKQgAQkIAEJSEACEpCABLoTMMLI1SEBCUhAAhKQgAQkIAEJSEACEpCABCSwCQGFkQtCAhKQgAQkIAEJSEACEpCABCQgAQlIQGHkGpCABCQgAQlIQAISkIAEJCABCUhAAhLoTsAIo4yr4/nnn38+Y/d2LQEJSEACEpBAAwJbbLGFfwc14OdTJSABCUhAAhKYbQL+oZRxfhVGGeHatQQkIAEJSKAhAYVRQ4A+XQISkIAEJCCBmSagMMo4vQqjjHDtWgISkIAEJNCQgMKoIUCfLgEJSEACEpDATBNQGGWcXoVRRrh2LQEJSEACEmhIQGHUEKBPl4AEJCABCUhgpgkojDJOr8IoI1y7loAEJCABCTQkoDBqCNCnS0ACEpCABCQw0wQURhmnV2GUEa5dS0ACEpCABBoSUBg1BOjTJSABCUhAAhKYaQIKo4zTqzDKCNeuJSABCUhAAg0JKIwaAvTpEpCABCQgAQnMNAGFUcbpVRhlhGvXEpCABCQggYYEFEYNAfp0CUhAAhKQgARmmoDCKOP0KowywrVrCUhAAhKQQEMCCqOGAH26BCQgAQlIQAIzTUBhlHF6FUYZ4dq1BCQgAQlIoCEBhVFDgD5dAhKQgAQkIIGZJqAwyji9CqOMcO1aAhKQgAQk0JCAwqghQJ8uAQlIQAISkMBME1AYZZxehVFGuHYtAQlIQAISaEhAYdQQoE+XgAQkIAEJSGCmCSiMMk6vwigjXLuWgAQkIAEJNCSgMGoI0KdLQAISkIAEJDDTBBRGGadXYZQRrl1LQAISkIAEGhJQGDUE6NMlIAEJSEACEphpAgqjjNOrMMoI164lIAEJSEACDQkojBoC9OkSkIAEJCABCcw0AYVRxulVGGWEa9cSkIAEJCCBhgQURg0B+nQJSEACEpCABGaagMIo4/QqjDLCtWsJSEACEpBAQwIKo4YAfboEJCABCUhAAjNNQGGUcXoVRhnh2rUEJCABCUigIQGFUUOAPl0CEpCABCQggZkmoDDKOL0Ko4xw7VoCEpCABCTQkIDCqCFAny4BCUhAAhKQwEwTUBhlnF6FUUa4di0BCUhAAhJoSEBh1BCgT5eABCQgAQlIYKYJKIwyTq/CKCNcu5aABCQgAQk0JKAwagjQp0tAAhKQgAQkMNMEFEYZp1dhlBGuXUtAAhKQgAQaElAYNQTo0yUgAQlIQAISmGkCCqOM06swygjXriUgAQlIQAINCSiMGgL06RKQgAQkIAEJzDQBhVHG6VUYZYRr1xKQgAQkIIGGBBRGDQH6dAlIQAISkIAEZpqAwijj9CqMMsK1awlIQAISkEBDAgqjhgB9ugQkIAEJSEACM01AYZRxehVGGeHatQQkIAEJSKAhAYVRQ4A+XQISkIAEJCCBmSagMMo4vQqjjHDtWgISkIAEJNCQgMKoIUCfLgEJSEACEpDATBNQGGWcXoVRRrh2LQEJSEACEmhIQGHUEKBPl4AEJCABCUhgpgkojDJOr8IoI1y7loAEJCABCTQkoDBqCNCnS0ACEpCABCQw0wQURhmnV2GUEa5dS0ACEpCABBoSUBg1BOjTJSABCUhAAhKYaQIKo4zTqzDKCNeuJSABCUhAAg0JKIwaAvTpEpCABCQgAQnMNAGFUcbpVRhlhGvXEpCABCQggYYEFEYNAfp0CUhAAhKQgARmmoDCKOP0KowywrVrCUhAAhKQQEMCCqOGAH26BCQgAQlIQAIzTUBhlHF6FUYZ4dq1BCQgAQlIoCEBhVFDgD5dAhKQgAQkIIGZJqAwyji9CqOMcO1aAhKQgAQk0JCAwqghQJ8uAQlIQAISkMBME1AYZZxehVFGuHYtAQlIQAISaEhAYdQQoE+XgAQkIAEJSGCmCSiMMk6vwigjXLueOgI//elPizFvueWWUzd2BywBCcwmAYXRbM6rdyUBCUhAAhKQQDsEFEbtcOzYi8IoI1y7nhoCzz//fPzkJz+JH/3oR8XXVlttFS95yUs2fimQpmYqHagEZo6AwmjmptQbkoAEJCABCUigRQIKoxZhVrtSGGWEa9dTQYCooueee64QRj/+8Y8LYbTFFlsUX4givsry6KUvfWnxO5sEJCCBURBQGI2CsteQgAQkIAEJSGBaCbgzyzhzCqOMcO16ogkQVVSWRQw2/TeSKP2e73x1EkjII2SSAmmip9rBSWCqCSiMpnr6HLwEJCABCUhAApkJKIwyAlYYZYRr1xNLAAGUooqQRCmiiH/jCwlUbkka8dhuAinJIwXSxE67A5PAVBJQGE3ltDloCUhAAhKQgARGREBhlBG0wigjXLueSAJIH1LPkvwhmghhlCRSJ2FUvZGqQOL39PG9730vEEevfOUrN0ljMwJpIpeCg5LAVBBQGE3FNDlICUhAAhKQgATGREBhlBG8wigjXLueKAKpsDW1ivhKUUVJ5gwijLoJpDVr1sTLX/7yWLRoUVH7KKWxlaOPjECaqGXhYCQw8QQURhM/RQ5QAhKQgAQkIIExElAYZYSvMMoI164nhkBZBvFzkjnlATYRRqmfa6+9Nrbffvs4+OCDX1QDSYE0McvBgUhgqggojKZquhysBCQgAQlIQAIjJqAwyghcYZQRrl1PBAFSz5588sl45plnYrfddusoixhoG8KICKPtttsuDjnkkE3uvVxAm/HQkkAqn8CWfjaFbSKWjoOQwEQQUBhNxDQ4CAlIQAISkIAEJpSAwijjxCiMMsK167ESSClo1CS67bbb4qmnnoqlS5d2PdEspzCqgugmkJBIfCVxRCpbp2iosYL14hKQwEgJKIxGituLSUACEpCABCQwZQQURhknTGGUEa5dj40AQobC1tQq4ue77rornnjiiVi2bFnXMbUhjK677rrYdttt49BDDx3o3usIpFQHSYE0EFofLIGpJ6Awmvop9AYkIAEJSEACEshIQGGUEa7CKCNcux4LASQRUUV8pyFY7rzzznjsscfilFNOyS6MttlmmzjssMMa3XtVIKUC3SkCqVxEW4HUCLVPlsDEE1AYTfwUOUAJSEACEpCABMZIQGGUEb7CKCNcux4pgRQhhCiiTlD5FDQijDZs2BDLly/PKoyuv/762HrrrRsLo/IguS8a95REkgJppEvLi0lgrAQURmPF78UlIAEJSEACEphwAgqjjBOkMMoI165HRgCZQgpakirVqBuE0cMPPxwrVqzoKYyQTfRDDaFhGsJoq622ile/+tXDPL3WcxRItTD5IAnMDAGF0cxMpTciAQlIQAISkEAGAgqjDFBTlwqjjHDtOjuBFHGTUtDKUUXli999992xfv36OPXUU7MKoxtuuCFIF8spjKo3UBZISZgZgZR96XkBCYyMgMJoZKi9kAQkIAEJSEACU0hAYZRx0hRGGeHadVYC5SLV/IwkIbKoU7vnnnvigQceiJUrV2YXRkQnHX744VnvvVfnsEhfnQRS+QQ2fk5yaWwD9sISkEBPAgojF4gEJCABCUhAAhLoTkBhlHF1KIwywrXrbAT6paBVL7x27dq477774rTTTus5JiKVmqSk3XjjjYW0Gqcwqt5gN4GU0vYUSNmWqR1LoBUCCqNWMNqJBCQgAQlIQAIzSkBhlHFiFUYZ4dp16wSQH+kUtGph614XW7duXfB1+umnZxdGROy85jWvaf3e2+qwjkCqnsLW1rXtRwISGJyAwmhwZj5DAhKQgAQkIIHNh4DCKONcK4wywrXrVgkgOoj+QRjx8yDHyd97771BWtoZZ5yRVRjddNNNRf+TLIyqABRIrS5TO5NA6wQURq0jtUMJSEACEpCABGaIgMIo42QqjDLCtevWCKSoIr7TBpFFPJ50NE5KO/PMM7MKo29+85vFSW1HHHFEa/c+6o66CaSnnnoqXvayl8UrX/nKorB3SmXrVjdq1OP2ehKYVQIKo1mdWe9LAhKQgAQkIIE2CCiM2qDYpQ+FUUa4dt2YwLApaNUL33///XHnnXcWEUakjHVrTWsYzYIwqrJJAunKK6+M+fPnx7777ruxwDgsy/IIiaRAarzs7UACmxBQGLkgJCABCUhAAhKQQHcCCqOMq0NhlBGuXTciMGhh614X44S0O+64o6hh1EtoNBVGN998c9DHkiVLGt37JD551apVsccee8TChQuLlMB0Alv5hDrYpsgjviOTegm6SbxPxySBSSOgMJq0GXE8EpCABCQgAQlMEgGFUcbZUBhlhGvXQxFIMgLxQgpaOva9iXh48MEH4/bbby9OSUNkdGoIkLvvvjueeeaZ2GmnneLnfu7nihSsQdrmIIz233//TZCkCKReAqkchdRkHgeZCx8rgVkhoDCalZn0PiQgAQlIQAISyEFAYZSD6lyfCqOMcO16YALIhySK0ilobaQ4rV+/Pm677bZYuXJlEfVSbd///veDdLLvfve7se2228azzz5bPISfEUfpa5tttul5T7fcckv86Ec/iiOPPHLge5/0J1x++eWx5557RlUYVcfdSSClmlN8r6awKZAmfeYd37gJKIzGPQNeXwISkIAEJCCBSSagMMo4OwqjjHDteiACbaagVS/80EMPxa233hqnnnpqbLXVVpv8+pFHHil+h8g47LDD4uUvf3lxGtt//Md/xLe//e341re+FT/84Q+L52y33XabCKRqXwgjHnvUUUcNdO/T8GCE0V577VWkpA3SFEiD0PKxEngxAYWRq0ICEpCABCQgAQl0J6Awyrg6FEYZ4dp1LQJtFbbudbGHH344kDkrVqyIrbfeungo6W7UNUIm7brrroUsIl2NCKFy2hrjI+IIgZS+eAxt++233yiQOD2Mwto8VmHUfTYUSLVeFj5IAhsJKIxcDBKQgAQkIAEJSEBhNJY1oDAaC3YvOkcgpaCRhsbPKXWpbUAbNmwI6gstX748SCt7+umn46abbgpS0RYtWhQLFiwoaiUhkarCqDoWxkmdo7JAYvw8P50S9qpXvSpe8YpXdK2X1Pb9jaK/YSOM+o2tXECbKDOaKWz9qPn7zYmAwmhzmm3vVQISkIAEJCCBQQkYYTQosQEerzAaAJYPbZUAcibVKypLglYvMtcZaWfUKFq2bFk89dRTRWQRkUaHH354EBmUWh1h1EkgIaAQSBTXTtFHCCSkUap/tOOOO071kfOXXXZZ7L333gOnpA06n70EUvUEtlyCcdAx+3gJ5CSgMMpJ174lIAEJSEACEph2AgqjjDOoMMoI1647EhhFClr1wo8++mgRUbTbbrvF448/HvPmzYtDDz30RfWMhhFG5WtRWBt5tHjx4o0RSN/5zneKI+iRG8ipJJB22GGHqTpyHmG0zz77xH777TfSld1NIMGTLyRSKqStQBrp1HixERFQGI0ItJeRgAQkIAEJSGAqCSiMMk6bwigjXLt+EQHESYoqypmCVr3wfffdF3fddVchaA4++OAiUqbT6VxNhdHtt99eCKNjjjlm4xDok9PXUgobP3PvSI6yQKLY9iSfGDYuYVSdy6pAghlfSSCVT2FTIPkmNAsEFEazMIvegwQkIAEJSEACuQgojHKRjWDj+nzG7u1aAgWBFFXECWL8TFRI2ujnRMS11q9fX6Sg8fMRRxxRRBd1a20Io+9973tx7LHHdr0GwoyooySQeDyNE9dS9BHfX/ayl02UQJoUYVQGm96+EJFJJCmQcr6i7HscBBRG46DuNSUgAQlIQAISmBYCCqOMM6UwygjXrjfKIiQJkTVXXHFFvOY1rymkTe5omh//+Mdx6623xmOPPRY77bRTfOtb34qTTjqpONkslzBCTHGfvYRR9dqM89vf/vZGgUQhbhrFucsCadtttx3rippEYVQFokAa6xLx4pkIKIwygbVbCUhAAhKQgARmgoDCKOM0KowywrXronYPQoTvnCyWhNH8+fOz0kHAUOSaiCZOLEO+XH/99XHiiScGtYNyCiOih4477rih748xlwXSD37wg6IvIo7KAomi3aNsl156aey7774jr2HU5B7LAilFIRmB1ISozx0HAYXROKh7TQlIQAISkIAEpoWAwijjTCmMMsLdjLtOKWikePHFJh0RQpQKJ5PtvvvuWehw3fvvvz/uvvvuoCYQ10IQcTLamjVr4oQTTghOK+snjIatfXPnnXcWsqeJMKqODWGUBBJRUukUNu4vCSRqIZHSlrMhjBYsWFB8TWtjfaSvqkCCKwwRc6mQ9ijSJqeVpeMeHQGF0ehYeyUJSEACEpCABKaPgMIo45wpjDLC3Uy7ZkNOChpf5cLWbMgvvvjiOOyww2LPPfdsnQ7933LLLfHEE0/EXnvtVRS3ZuNPQ7Rce+21cfzxxxdH3ecSRhTW5lpcJ0eDJwIp1T/iOxFcNMRYEkjcI8Wf22yzIIyqPMoCifUBtwMPPLAooI0sYv2UT2FTILW5ouyrLgGFUV1SPk4CEpCABCQggc2RgMIo46wrjDLC3Qy7TiloRBXRypE6iI2LLrqoOM4eodNmQ5yQgsY1DjnkkNhjjz026Z7fX3PNNUXkD9E40yqMOgkPah6VBVKK6CKSKgkkfk7ybFjusyiMyixWr14dO++8cyGMyiexpRPYkkCqnsI2LE+fJ4G6BBRGdUn5OAlIQAISkIAENkcCCqOMs64wygh3M+o6paARVYQ0SpEY5cLW/O7CCy8sagrts88+rdDhuvfee2+sXbu2iLAhBY1UrWojpevqq68uilEjUXIJI1LhnnzyySL1bRwN9k8//fRGgcR982+IO6JnkkCCFf82SJt1YXTllVfGbrvtVgij1LqlsJUjkBRIg6wiHzsMAYXRMNR8jgQkIAEJSEACmwsBhVHGmVYYZYS7mXTNpprIHiJbyilo1dtHXJx//vlFqhjFk5s2aiLdfPPNRX0iBNTixYu7ShAKUV911VVxzDHHFCem5RRGpMRRXHsSGsw5tS1FIMGBOSLaiEirJJA4Oa7fqXWXXHJJUfB6mmsY9ZoTCrJTjP2AAw7o+jAF0iSs6s1vDAqjzW/OvWMJSEACEpCABOoTUBjVZzXwIxVGAyPzCSUCSCIihzqloFVBsdk+77zz4qCDDmp80hZRPMgihAgpbv1OXUOakHJ09NFHF2lHuYTRPffcE48//vjECKPqfTJPSKMkkOBCI0qmfALbdttt9yKBhDBauHBhK7JvEl9Eq1atKlIZ999//9rDqxbQ5r/LKWzl6CMk3aBRXbUH4gNnmoDCaKan15uTgAQkIAEJSKAhAYVRQ4C9nq4wygh3hrtOha0REN1S0DrdPsKIlB/EwzCNa61bt674IsWKFDTkRr/2ve99L0g5Ouqoo2KXXXbJKowee+yxOOmkk/oNaSJ+j+xLJ7AhkUhno2299dabCCRODpt1YXT55ZcXtbWGXZtw6yWQkEWpiHb5FLaJWAgOYqIJKIwmenocnAQkIAEJSEACYyagMMo4AQqjjHBntOtU2DodSz7IEfSkpBHBMUgUR8L47LPPFoWtERukRqXTrOpgRoSQcnTkkUfGrrvu2lMYkV437GlY1FJ69NFHp0YYVUFw0lxZID3zzDPFQ7bddtuAf6rxs80229TBPlWPueyyy4rURtZWW62uQEqRSP3SAtsal/1MFwGF0XTNl6OVgAQkIAEJSGC0BBRGGXkrjDLCnbGu08lRKQWtU2HrfrdM0WvqF5ULC/d7Dr8nzeuWW24pHvrqV7+6p/Tp1B8niZFytGTJkkJ6dGtETDUVRo888kicfPLJdW5r4h9DnaiUvsZ9pUZUVzmFbauttpr4e+k3wFEU9e4kkJJwTRFI5TQ2BVK/Wds8fq8w2jzm2buUgAQkIAEJSGA4Agqj4bjVepbCqBamzf5BKQUNWVSu0zIomIsuuij23nvvWLRoUa2nEsXEyWP3339/IShIQSPaZdBGpAwpR7mFEalyGzZsmBlhVOZ88cUXF7KP9LQkkYhIolE0OwkkimkjPaatjSPlriqQYJZELAKpWgNJgTRtq6qd8SqM2uFoLxKQgAQkIAEJzCYBhVHGeVUYZYQ7I103SUGrImBTvvvuuxcnmvVrSB5S0CjSnNLYhi0a/IMf/CBIOXrNa17Ts0B20wgjhNHDDz8cS5cu7Xd7U/d7hBEniJG2RUN2MEdJHvEdoYh1YZhoAAAgAElEQVTU2GGHHTYKJGpNUbNn0lv1/sYx3n4RSAqkcczK+K+pMBr/HDgCCUhAAhKQgAQml4DCKOPcKIwywp3yrtm8plPQBils3eu2SfuZN29eHHzwwT3pUAfo1ltvLUQDKWi9Tjarg5n6O1w7tzC6995746GHHtoshFGVO+uFWlFJIFELifWDQEIapQikHXfcceJOC2PsyExSJYmAm5RWFki8BmnlFDYF0qTMVN5xKIzy8rV3CUhAAhKQgASmm4DCKOP8KYwywp3irtmoUsuHDT8/D1LYutdtkxaG/DnkkEM6Pozr3XXXXfHggw8Wj0MWtVFgmVo8CAFS2ohw6tbYlJNmNWzRa4TR+vXrY9myZVM8+52HPmgEDiw5nS4JJCLF+DfWEmlrSSARjTTuVCvGhVAkVZKT0ia1pTpi6XtZIJVPYEs/j5vrpHKctnEpjKZtxhyvBCQgAQlIQAKjJKAwykhbYZQR7pR2naKK+F7ekLZxOxSeRhQceuihL+qOwtQ33XRTEaVCpAenVbW14UUCITwQUHvssUfHW2ETTkrZY489FkTB7LTTToXYGKSg83333VfIrlkTRm1E4LCevvvd724USPxMv0TJlAXSy1/+8tbmve6aZWykLB500EGx55571n3a2B/XTSAh5apFtNuSvmO/6c1wAAqjzXDSvWUJSEACEpCABGoTUBjVRjX4AxVGgzOb1WfkSEGrsuJoe2QM4qbcKBR92223FXKGKCCkUpuNaCkKbh922GEdhQBCiXpJTz31VCEvkFc8h0YEDPKIMfWrx4MweuCBB+KUU05pc/hj76sNYVS9CeodEXWUIpCIRqKxBsonsFFkuy1x2A0kYyH6jdpa3YTi2CehxgAUSDUgTeFDFEZTOGkOWQISkIAEJCCBkRFQGGVErTDKCHeKum6zsHWv2169enUQQYIUorFRv+OOO4pC0bvuumshdLbeeuvWyXGdCy+8sIhsqqYcfetb3ypkEVEmpMolWUVBZ36H0Ej1eIjSKNfjQSaVC3FzmhtfCqPBpxBBB+ckkJB2NFISywJpmFPy+o2GaxP9Rm2tXimL/fqZpN8jj2i8tpNIevzxx4MC8BSRr57CZgTSJM3epmNRGE3u3DgyCUhAAhKQgATGT0BhlHEOFEYZ4U5B12kjiVBJBYqHrd9T53avuuqq4lh2ik8TUYKoQQyQCsSR7bkiSbi3Cy64oBBCqagx905E0D333FNEETEmZESnGkapHk8SSETG8HxqxZRlxhNPPFEIo+XLl9fBMTWPSTV+RlkUmrpTZYGE6KCxfsrM2xCMzDnRb6961at6nqI3NRPWYaCs1zvvvLOI6jrqqKMKkZRe6ymFrVxEW4E0ObOtMJqcuXAkEpCABCQgAQlMHgGFUcY5URhlhDvhXbOBTKIobR6HPba+7q1ec801Rc0aTkq7/fbbi+gRRA1ROzkb93f++ecXQoBj4REEt9xySyB4EEikIiF/UqQVY+klrxBQZZmR0qnog9/RH2lsOaJhcnLq1vckFIVGGJWZI5RoRKwlgTRozal0v/R15ZVXFkKRtTmrjbRPBO0xxxxTCE9aOQJJgTSZM68wmsx5cVQSkIAEJCABCUwGAYVRxnlQGGWEO8FdjyoFrYoAYUSqFxv0+fPnFxv0QYpKD4uUzfF5551XpBxRQ4nIJtKQSFErpyANe0oafZFKRcFrijmnlqJhUgHtNqJhhmXQ5HmTIIzK42c+EUgpfY3v5ZpTSSAhIhGU/dqzzz4bpEuyHnbbbbd+D5/a3996663BvRJhVG0wTV9JIpUFUvkUNpjmjEScWsCZBq4wygTWbiUgAQlIQAISmAkCCqOM06gwygh3ArseRWHrbrdNKgzCiM0okT5E9uRKQeu0GUYYUSfpySefjO23376IbCI6pdyGFUapD4TR2rVr4/jjjy+iYVIKGxFNNK6LzEAg1ZUZk7CMJk0YdZpfImfKAimlWCIIk0DiZ8RHtSGfSJekhhZrZFbbzTffXEQVLlmypO8tdhNIKVUtCaSUxqZA6ot06AcojIZG5xMlIAEJSEACEtgMCCiMMk6ywigj3AnrOqWgpUiMUdUo4bqIFOqncE0kzQknnDBSOumUNC5K0WsijTqJg6bCaP369UVNJGoYJRnG/RNVhcxAICGS2LTzewRGOoGNn3OnBA4LfdKFUfW+GO/TTz+9USDBnH/rVrSc+bn66quL0/t22WWXYTFN/PNuuummIoroiCOOGHisdQRStQbSwBfxCR0JKIxcGBKQgAQkIAEJSKA7AYVRxtWhMMoId4K6JtoCSbFmzZpiVKSkjCK6B1FDGsxjjz1WHFfOf/N13HHHjYwOkU1slIkiIQ2OyKJurS1hxClp3eQPG29qHpULaHNdBBY1eFI0DNFIo5ijOhPB+rnsssti0aJFLzplrs7zx/0Y+JIqmCKQykXLYY7ERGrOujC64YYbinWWTilsMi8KpCb0BnuuwmgwXj5aAhKQgAQkIIHNi4DCKON8K4wywp2ArqspaDfeeGMRaUHR29yNqA5EDYKIFLQ999xzo7ghZSt3494feOCBuOuuuwohQBQJx4nzlUsYPfTQQ3H33XdHL2FUvTYyBoGRZEaqgURtp/JpYNRDGpdASsKI0+yYx2lv3ZgjU1LEF+y32267sTHPwfi6664rCs2Tetd2UyC1TfRn/SmM8rG1ZwlIQAISkIAEpp+AwijjHCqMMsIdc9eIoXQKGps5Il4QOBSczhnhw7U4Wh5xgqghoodoGRrFpqk1kzslrRrZhLC65JJLYr/99osDDjgguzBatmxZx5S3OkuCOSvX4oEXjRPXygKJjf+o2qwJoyo3eCNTqV9EJBrpbDSKlFel3aiY57gOEYZIMIrN527VAtr8N8IzpcKW09cQdZOajpmbU53+FUZ1KPkYCUhAAhKQgAQ2VwIKo4wzrzDKCHdMXbMxK8uiVIyW7wgjIm1yCRuKO1NYl8LS5ePqEwqOsiea5qSTTspGh/4RU5wGhSiiZhHtwgsvjH333TcOPPDAbMLo4YcfLiKamgij6uAQfEkgkcbW6Th5pEad08CGhT7rwoioLqJvKAZNihrrmAi5xJ3XzLil3bBzV34eReeplUUNr1G3XgIJWdTpFLZRj3FSr6cwmtSZcVwSkIAEJCABCUwCAYVRxllQGGWEO4auU2FrNvhIo7IsYjjIHDbHOYQNMgNRQ4RM9bj6hIJ6RmzCTz755NbpcO8Unb7jjjuKKAoim3bYYYeN17nooosKiUUdnm4NZqko+DDpX0kYLV26NIvA6XacPGPlXtMJbN1OAxsW+qwLIyTj9ddfH0ceeWRxel0vacf6RUbSWGcpAgnRRETSJDdOgiPljtTCcbe6Aql8Ctu4xzyu6yuMxkXe60pAAhKQgAQkMA0EFEYZZ0lhlBHuiLtOsoPvKQWtKj0QNogdhEZbjWutW7euOE4eUYGoYSPdqd1+++3xxBNPFBE4bTYkFff26KOPxu67716k3FQjbi6++OKi/k6vzXJTYbRhw4biNLhcwqjKDPbV08CQO+XTwBAEyKRhBFi6Hnwvv/zygt0s1DCqciSaiILQFINnDfdrpK2V0waJSKKRelkWSDmjvvqNsdPvr7zyyiLtrpc0HabfNp7TSSCl9LUUgVROY2uyntsY7yj7UBiNkrbXkoAEJCABCUhg2ggojDLOmMIoI9wRdZ0KWyMK+KpGFZWHgbB5/PHHi6LMbTQiLYhaQkKR7oVQ6FWLhOgfTkxr6/rcAyeOUX+GsZBqQwpap80kNYyQSYsXL+5660kYJeE2KKMkjIigomj1qFv5NDDmhGgy7oWNNhEwqaDzoMWckzCCHafdzVpLNYyOPvroTaLS6twnfElZKwskeJWjvpBIRC6RdjXOtmrVquI10KuO1zjHV752VSDxu/TexntMtQbSLAskhdGkrErHIQEJSEACEpDAJBJQGGWcFYVRRrgj6DqloLFB7RZVVB4G0S+PPPJILF++vPHoqFOELOK6pKDNmzevb5/U9yFta8WKFX0f2+8BXJdTyZBQFIQmsqlXdMill15ajLFX/Zamwgi2jGdcwqjKjHVBuhXyCKFRLeacBBL8erVZF0bwob4XpwemAu391l+333eL+kJoII1SBBJrddSFnokSQ6guXLhw2Nsb2/P6RSDNskBSGI1t2XlhCUhAAhKQgASmgIDCKOMkKYwyws3cdZIbRBXRUvpGr8tychl1fk499dShR8d1ST+79957i6iVww8/PDjyvU5r4/pcB4FBtBQRPfPnzy+EVb/0n8suu6xIx6EQdrfWljCiRtQk1rNJxZyTQCK1ilauxYPQqEZHzboweuqpp4r6W8cee2xxsl+bjTVFFFyKQELg8W+8Xnn9JIHUNG2wzpiRpgsWLCi+pr2VBRI8y++BsxaBpDCa9tXq+CUgAQlIQAISyElAYZSRrsIoI9xMXacUNDbxnQpb97osoue+++6L0047bajRIRjYWFPzhSPqOXFskCiJe+65J+6///6hr8+g2Xyn095Ikdpnn31q1echumLnnXfueaR4U2FEDSVE1qQKo+qkd6vFkwpoIzOQGnAhnWlWU9JStNxxxx3Xtf7WUC+YDk9C8JIqmARSNW0wCSTEVZtpVrxvkJZJOhqvmVlr6XRIvnOSIDXNeI/iNV8+gS393Cbb3CwVRrkJ278EJCABCUhAAtNMQGGUcfYURhnhZuiazRCneLHprJOCVh0CUUFImzPOOGPg0VH76JZbbik2sYcddlgRrTNoozg2X6effvqgTy0eTzobQoboHVLQOp1o1a1jhAebcaKRurWmwoj6TLfddluceOKJsc022wx1j+N6Euvp+9///ia1eFJNLAQSYoM6VWzCB5GE47qfQa5LIXbW9vHHH187Wm6Q/ns9NqUNJoGEEKUR5ZXkEd+J4msiOVjbRBgheTktcJYbIpQT4Ygm3GWXXQrhSWPdpq8kjohMrBOdOU5eCqNx0vfaEpCABCQgAQlMOgGFUcYZUhhlhNty12ze2VwOkoJWHQLRPdQxQhjV3Xyy2aL20AMPPFAUTX71q19d1Awapg0rrLhnRBHCiDpESJ9Bi0pfccUVhWBCdimM+s9eOZWKlC1SqWhstFMqFeuh7UiY/iNr/xHIUCJSTjjhhKHXdlujQggTwZcEEhKPhoAsC6RBX4OzftJdmT/MrrnmmiJdlggjWjkCqZtASnWQJk0gKYzaenXZjwQkIAEJSEACs0hAYZRxVhVGGeG21HUqbI00GTQFrTqEBx98sBAvpKTVObGJ059I/yK6hFSW/fffv7Zo6nT7wwgrCjUzBjaBnMJGlEtd2VUeA0eKEymD8MoljCZJPLS0/IpukBhEaKX0P2ogdYqEQSDVrWfV5via9jXJkWHUnSqfwJbqTsG5LJD61cxKc0jRd05Km+XG+9V1110XS5YsKeRmp1YVSOUT2Ko1kMYtkBRGs7xavTcJSEACEpCABJoSUBg1Jdjj+QqjjHBb6DqlSPF9mBS06hA4VYxICope94vQ4cQv0qsQS0iW9El9k9siSolTxEhJq5PWRFFrxsBYSUHrtvmrM6bVq1cX0TBEHeQWRuNIbarDYNjHdJIN5UgYBBJykUbkCyIjncDWT2QMO6Y2nzdNtaeeffbZTQQS9XporO0kkHidVF/fPA5pesghh9Q60bBNvqPuC8F24403xlFHHdXz5MQ0Lt5bael9tizmUwpb+RS2UQskhdGoV5DXk4AEJCABCUhgmggojDLOlsIoI9wGXadPv1MKWvr0e5jImvIwEDA333xzLF++vGuNHSKZSFvjNDXqf5DC1VY9HvpEAK1cubLnqWaMAbGE4KJWEmNoKh6oaUJUBuKplzBKxcTrCK1qP+OshdNgufV9KlEupPT1ik5BSLBRTyewlUVGkkeIjH6n2fUdTIYHIEdZbyeffHJfkZrh8kN3yftEtXA5Io9WLlxOKib/zmtg2PpjQw9yDE9seurdpAkkhdEYFpGXlIAEJCABCUhgaggojDJOlcIoI9whu04paIgLfkYSDSMvOl2eSArSu5YtW9YxdYj0L05B4zvFcSlw3FRSlcdRJ8KJ1DPGyBgWLVpUHAHexhiuvvrqQnwdccQRXWcGUUWqFdEZ/SKwOnWShNEoTtsacnkN9bQkjCgiPH/+/L59JJGR5BEiifXMPCIykkBCZLS1tvsOqscDEKlI0qVLl06k0Kp7b9XC5dRCStyJQOI1tXDhwqLodZ2U1LrXnbTHpdTQtiL94Jq+UhRSOYWNlMavfOUr8da3vjVLQXGF0aStMMcjAQlIQAISkMAkEVAYZZwNhVFGuEN03XYKWnUIbKRuuOGGIpKCDWS5pRPIECWkbZHe0nbrF+GE0OK0KqJQiARqcwwUweXeqGvSqbGxJvqJaBM2g+XCzkiOOtJqlMeztz03vfobVBhV+2KzjaxIAgmRwVpHFiXOzHVdzm3fO2ufwu6I1FkSKXBHgCLskJnU9qHBHVmXUtjgPgnirq15TRFjJ510UuPIxE5jqgokou9+6Zd+qSi0fcwxx7R1Gxv7URi1jtQOJSABCUhAAhKYIQIKo4yTqTDKCHeArtmApFPQmha27nVZNo3XX399cew7m0QaooR0HDbNu+22W3ECWdP0r25jYCNHBNMpp5yyyWlU3DMRHhTlJg2Omkltj+Haa68tZMCRRx75ouGVC2sTVcV4kBqcDMbcILDKdXm6HXGehNGxxx77IiE3wHKYuIc2FUbVG4IvbFMxZ0RGmXMSGdttt10tUdcUGJFvd999d7EuZ0mclLmkQtBE7ZGeBvu0vssn38F+++23Hwn3pvPW7fmjFoBf//rX401velNRH44aUW03hVHbRO1PAhKQgAQkIIFZIqAwyjibCqOMcGt2zUaZDRzCqI3C1r0uS22PNWvWBKkaRBgQfUD6FwWLFy9evPEUrJpDH/hhKSWO1B9kAK18EhtpcKTM1InmGfTi3Df9Ugi33JBYbPRSZBWRVyn6BZmWjjgnOiYdcd6tsHPT2imD3tOoHp8KJtdNSRt0XGXOiAwEHq18lDxpbG3V0qqOj9pa99xzT1HbK8faG5RHjsezjokuLBeC5j2nKu64dhKkoxZ3bd034nnt2rUjm89/+qd/ire//e1BUX9OEmy7KYzaJmp/EpCABCQgAQnMEgGFUcbZVBhlhFuj6xRVxHda7tN32IyntAnkB5FFyA9S0BBIuVs1JY7aH6SgEeHAGJACuRrHbCPkjj766OISSCHSkNjkpagmNsq9il53K+xMRAZj5/n33ntvkZbCv81KG/UJW+Wj5BF1nAxGQzKmSK9OJ4ENyzsJhhUrVgzbxcQ/D47I4V5rs5u4I9ovySO+854xyWLtvvvuK17XRIyNon3xi1+Md77znUGEYRunSVbHrDAaxSx6DQlIQAISkIAEppWAwijjzCmMMsLt0fWoUtCqQyCagJOSkBtsIClgTAraqE6uSilxJ5xwQpECx6aODRYpaLmiRxIDUvEQc2yYOVmKzTM8DjjggNh///2LDXCK9koRRr1WB48lOqp8MlgSfzvuuGMhoeA8rro8ba7sUQuj6tjLJ4GxbqsngcEZ4Tls/SHWIaKPCKNZbcOkSyLuUoQd65z1TksRdkki5X7tDjon69atC+qlUattFO0zn/lMvO997yvEZg4WCqNRzKLXkIAEJCABCUhgWgkojDLOnMIoI9wuXecubN3rjlINIeQI6UV77bXXSCMFUkoc0TekHZVlTe6ZIB0H0YAcoo4SjagmxE5qgwij6niZVyQYqU1IIu5vkPpHue+/Sf/jFkblsZdPAkMeITQQdazpVMg5ibq69Yjuv//+4GtUESlN5mLY57ZxcliKsEu1p6qRXwgkIr/arj826D1Tjwo5Ta22UbQ/+7M/iz//8z8vUlbrrrlBxqUwGoSWj5WABCQgAQlIYHMjoDDKOOMKo4xwK12z0UUqkPaRNrjpaObco+DaRFGQgsXPBx98cOy77765L/ui/vnkH6FCvSBOQcuRvtHtphBGFP5lk8umlusTKVGVEUilOhFGna7DRvrGG28s0t4ojD1I/aORT8YAF5wkYdRJ1FGLK53AVi7kXE6jojZVtzQqUphIS+OUtFlt1A+7/fbbC4nSVhRMOfKLtU9EEg0hnNjzWhtVBGOaOwro89o77rjjRjKdf/AHfxD/8A//UEgqhdFIkHsRCUhAAhKQgAQksJGAwijjYlAYZYRb6hpJw+aKLyQFm4ocG4tOd8MmjqLORBiQgsbGEVnCz6NqCBhEERtz2hFHHBHz5s0b1eWLjSxHX/MdUXbQQQd15N8kwoib6VRYON1kv/pHKTpj2LSqnDCRbKtXry7SFzlJb5JbKuScBBIyiVatw4PQS410NE5Koxj7rLZ01DxpWgjbtls5RTNFICHHaaRoJoHUJHWw7phvu+22In0u1Sur+7xhH/d7v/d78Y1vfKOIUstR28kIo2FnxudJQAISkIAEJLA5EFAYZZxlhVFGuHNdpxQ0InwoMr1y5cqRfeLOxo30K6JmSEEj/eqSSy4pagbtscce+W8+oojooV4QMmXPPfcs0raoI5SzwHX5xrgu10fYIOt6RZHkFEblMXWrf8Rmk4iMVNh5UuofTZMwqi7qdIR8khjlOjysQVgTlUQB9lHVvBnJC69ykVEfNc8aJy0zce+UOgh7ZFLb8vzmm28u3vOOPPLIkaB+xzveUZxAh6hSGI0EuReRgAQkIAEJSEACGwkojDIuBoVRPripsDURD3xRhJUNxamnnprlE/6qkCCah6ge0kOo1cN3NlEXXXRRESlC/aLcjRQNNm80JBXC5sorryyO9i7XDsoxDviTZkR6CulInLCF+KDgdrfWVBghHiiuzUZ1kFPnkIqd0qrS8eZJbBAVk2ND2o//NAuj6r1xL0li8B2RSIMrr4kU6TXqNKp+c9D09+vXry/eD6jT1LagqTO2tMYTe14rKfUzSVLY8z7VdHwIYhqRlKNob33rWwsRvmbNmiyXM8IoC1Y7lYAEJCABCUhgRggojDJOpMIoD1zEA+kYfPEzGyBSwYj2YcNWrZ3T5ijYAHNUPaci7bPPPkX6VUpzQlxdcMEFRbQRv8vV2AiuXbu2OHmKTSDCinsm4oDUMITKrrvumuvyBXfS8GBOJBX3S3QXm9STTjpp4oRRdUCMn7GSVsUXxXRp6XSqJJBGVVyYVEpO15uGlLRBFlWK9KK2F/WteJ3CHnlUTaNqKjEGGVeOxxLhSA2xFStW5Oh+4D55L4J5Ekj8nIrElwVSr9pT3S6KtCXtDkk9ivaGN7yhSHe99NJLs1xOYZQFq51KQAISkIAEJDAjBBRGGSdSYdQ+XDZCqbA1vbPRZANKygsFkamTQrRLjsYpZET0MAY299U6RWzIzjvvvFi8eHEsWLAgxxCKKB7EGBvB/fbbLw488MCNEQOIj1WrVsWSJUuy1cJBSsGZ1KPySXAIJNJicgojNr3XXXddcX9settq465/NKvCKM0Pp2ohWI8//vgi0ou1i6jrFAWDrCMKZhyRXk3WExGHSKNJPQkuSdIkkFLtKcRPuXh5nSg7In14jz3kkEOaIKv93DPPPLMY47nnnlv7OYM8UGE0CC0fKwEJSEACEpDA5kZAYZRxxhVG7cFNKWhsfIiwSSegpY0l6Vl88o2wYMPZZuPaRPQQQUAqFBE93aQUwgiJs3DhwjaHUPSFsEIWMZ7DDjvsRVII8XDZZZdlK7qd0v6IvCEdpZwWRjog4+tV2LhpSloSRhT1ZgOZo/Wqf8T9IjTSsfJtSY0kjJjTnJFhOXjV6ZMIIwQRwqjceB0jjZJAQmLAH4mBEBx3qmCde0uPmbbC3qTPplMG4Z+i7DjhrSyQOkVrXn311cX8IMZH0ah9RSTnOeeck+VyCqMsWO1UAhKQgAQkIIEZIaAwyjiRCqN24LKxTFFFKQWtullnQ3rttdcWm9JB6tv0GyERPUQV0T9RQ4sWLepZA4SUNCJ/DjjggH5d1/59VVgha8qnUKWOGCtpGwit3XffvXb//R4If2oVUbMIoUEqSvUkKI4UJ4okpzBCKBDdkFMYVVmMov7RrAujusew8xpHYqQT2KoSIwmkto6t77fuB/k9QpkUzV4RdoP0N+rHkvJVrj3FmqTxPlMWSMhi6qTxPsB7Ye7Gex8ptryvfO5zn8tyOYVRFqx2KgEJSEACEpDAjBBQGGWcSIVRM7hsFsqyqBpVVO6dSAXqwBx77LGtRZ+Ui0p3iujpdHcUvd57771b20yRLoWwInqn15H1jIVN38UXX1xEH3FiWhuNjSNFbuGbIqc6RdZQw4i0wF4pOU0jjJIwQpiN6hS4KsMc9Y9mXRixNogO47U5SGM9J3mEzECI0ojuS/KISJccx9gPMk4eS9od7xcnnnjioE+dyMd3K15OzSPW684771xEGOVmz3vGwQcfHGeddVZ8+tOfzsJKYZQFq51KQAISkIAEJDAjBBRGGSdSYTQ83FTYmnpBnVLQqj0jE9o6IYzrceIRdUn4dJ2Imk4RPZ3u7pJLLimie9pI1yjXTEICzZs3ryfQtk9pS8IMQUTUEpvEbm0Uwoj6SUSRjVMYVe8/1T9KaVXpVDDSIstSIxVG78SPelCk+cxqShrRZ8zdMcccM/wbQkQhKsoCifVOqxbQ7sW60QB6PJkoKtZANe0u1/VG2S/vxbBPEUiPP/74xsvvsMMOGyOQiOxs+/Q7rs0BAu94xzviT/7kT7LctsIoC1Y7lYAEJCABCUhgRggojDJOpMJoOLgIGzaDfO+Wglbtua2Cz2yMqBNEagx1iEgtG+QEJ1LCdtttt6Ig9LCNe6YmCtKKzTCCpE4h77ZOaSunwJVPYet1P9SpocbR8uXLuz4sRRgxzmE29UkY9ZNXw3Jv+rxh6x8lYYSY3GWXXZoOY+KeT30r7vHoo49ubWywZj0kibLw26AAACAASURBVMHrlXXFaxVxkdKoEBqDvH6HHSBSDGk9aBTVsNcb1/PgjhQnipL6RvCHfafT73jvGuZ1Xr43roeo/uAHPxjvf//7s9y2wigLVjuVgAQkIAEJSGBGCCiMMk6kwmgwuKmwNRs/vnqloFV7bqN+DylVt9xyS7HBHHbzfvnllxeRJZyiNkwjDYcUNOoB8ck6kUp1N7wItvPPP79I4SB9bZjG9RFmRDfVqdmUroEwevjhh3seK95UGCEFr7nmmr7RTsPcd47n9Kt/hNRgrcCF+xp2zeUYe5t9coIer8+jjjqqzW436QvW5WPkSaGsHiMPa8RrW8XKywPIIcWywWrQMe/LFNanCHVKe4VzOv0uCSTmow15x7pBwH/iE5+Id73rXQ1G3v2pCqMsWO1UAhKQgAQkIIEZIaAwyjiRCqP6cFMKGp9U140qKvfepH4PmxuEB8di82k2G/dhC+teccUVRVQQfQza2GxRLwgGpCfNnz9/oC7gxiltbOYovD1oS9dnU1gnBa7cP9FQFMU+9dRTu162PMfDRB4kYTStYgWu5aLORMjQKCTM+kUQ8sV/z1JDwnJ/FC8eVUusU6pgmXWKPkIgdToFbJgxjuMehxln0+cwj7zHIaW7FdbvJu94zVNzKvEnbbOfvENc81722c9+Nt7+9rc3HX7H5yuMsmC1UwlIQAISkIAEZoSAwijjRCqM6sFNKWhs8mh8Mt1vI1Htedh0LCQEETVEJ/Qq6lzvTiJWr15dRDGQRla3IVKol4R0YRPFcykuO0xDGKX7qPt8ro8sQ5oNe33GTh8rV67MJoxmLXUrFXWmVhRfqQ1S/6juHI/zcUTMIUGXLFkytmGQ4prS16iDVD0FDHmEzBhW1vEewnvQOO9xFHBTgXYiKIn8qdPgQsRX4k80Uor+Kp/A1in6i/cU5PWXv/zleNOb3lTncgM/Zk4YfTAi/rDHk9dGxIGl3x8UER+LiGU434i4Ye75Fw88AJ8gAQlIQAISkIAEJpiAwijj5CiMesNNKWhsJusUtu7VW4quIYWLVKo67ZFHHgnSZSjUSl2cNk7eongx0Ukc/V6nIQ2ITkAYUBeE8Q8TfZOudcEFFxS1l/bff/86ly828lyfdDxSTKi9NMz1161bV9RdOu2007IJo1k9TSxFThEZxjpGaJTrwlCTh7XJFzV5BpWptRZCxgchU3h9131NZBzKxq7TKWCpiDavQ9qwsu7GG28s5mUQUTyK+2z7Gm2khfKew/pOAqlT9BfrHGlOMX0KiX/ta1+L173udW3fTtHfnDAiJLRTWOjJEfFfIuKTEfG7cwPgzfXaiHhu7t+/ExFnRwR5yK+NiAuzDNROJSABCUhAAhKQwBgIKIwyQlcYdYdbrmczTApap57rRtfwiTcbkYceeih23XXX4hPsYSMLquPgFC+ES530GzZNpKAR/XDIIYfEHnvs0Xg1XnjhhUX9IqKM+jU+6Wejy+YZUbTXXnv1e0rX3yOM+Dr99NMVRgNS7LQJr1v/iNP7Jl0gscZpkypTqsXKq0Wc02l3pJp2qyd2/fXXF0fMD5OKOuByGevDicS87rrrCvlHdFAbDVlXFkhEEv7Lv/xLfOMb3yh48l79F3/xF/HGN76xjcu9qI8+KWlfjYhfmpNJt8w9+ZyI+JWIIMfyhcUdsX1E3BYRz0bE4oh4Pstg7VQCEpCABCQgAQmMmIDCKCNwhVFnuAgbPmVukoLWqec6soRPs9nAsklftGhREY3U5oabzRQb0F4nQpVTwPgUnY00kQ1ttIsuuqiIVOLeejUKVFOolxouXJ/NcJNGSt3dd98dZ5xxRtdumtYwQmyR8jdIOkyTexrVc+tEbXSrf0Q0W4o+YgPflvhs896RkogWovimoSHreJ9I0UekU/FvvWrw8LrntTRssftp4MIYiQpiPilg3vQ9o9s9//CHP4x///d/j6985StFMXiiH2m8p61YsaL4OuWUUwrZ30brIYzIuXtoTgodM3ctcoWfiogrI6JasO0DEfGhiDh2LgKpjeHZhwQkIAEJSEACEhgrAYVRRvwKo03hJmHA5rdpClqnaeO4Z6J0SO2pNq6NJOHTajbVbF6pWdJ2u+GGG4qIoW7Ha/M7UsAef/zxIqKH4rHDpIB1GzcMKEZLalunVo6uogYJ0VVERjRtCCNqIJ155plduyKljOPH01HZiA4iZOq2zVkYVRml+kepqDObbBriMZ2+xvpuc23Vnafq43hNkPY5rdE31Ro8RNnQeN2kGjzr168v0gWJFJzlRhFqUgx5fxu2ztogfM4999x4y1veEh/60IfizjvvjIsvvjhIJT7xxBOL4ttttB7C6D0R8ecR8Y6I+Ou5ax0fEasj4o8j4vcr1ycf9/yI+O2I+EwbY7MPCUhAAhKQgAQkMG4CCqOMM6Aw+hncVNia722loFWnjuOe+dSZ9KpyI5oJUbFhw4aYN29eEQXQhiTptHSIXkKMUHej2ohU4Pds9hljOpa6zSV46aWXFveIiKo2Uj24PqlobUdX3X///cWGjgijThFbaaPJ3CPsiKqhIYxShAyCo9e8IEWuvPLKYlPOPc5KI5qFVEYkJqf0DdpgypojImYS6x+RrsWcIydnoSF9yylUaS0j55CwSSINe9LiJDNCdFP3jfe3QWTvsPd0zjnnxNlnn12cwEjkJGsdMY20O+aYFPQzbO8vPK+HMLo1IhZGxO4RQZ0i2hsi4isR8V8j4q8qV+Z/PKSl/UlE/Pdmo/LZEpCABCQgAQlIYDIIKIwyzoPCKIo/8JFEKQUNmZC+2ka/atWqYrNWTgthY5EkDhKFTUebKWjVe+BEKIQMn4CnBgM2PAgVTgKi/kdbKWjV619++eWFdKhGOrDRY2xsatsq8F2+NqcZEb1FDaNynRfuHZlEuhopLMwN0SashyQ4iJJJRYd5TBJI1ZoxSRgh2+bPn9/28hlbf02FUXXgqf5Rij5CVFZPpUrRXTlfC2lcs56uxbpE+CE7iUZK0V5E4JRPAWPdT3t79NFHC/l+0kknjST98fOf/3y8613vKlLhckSE9hBG2KhrIuJ/R8RbS/PGz/8QEf85Ij5fmU/k0rqI+FREvGva59rxS0ACEpCABCQggeJvJTHkI7C5C6NyzRp+ZnParWhsG7NAfRs2aQgRrkeaCJKmrTo9dcbIp+9sbk4+mcN1okhPo1YQGy3S5ZAdOTeOVWmGPODIe1LGkASwyRH5gBBjI8kpaSkNqnwCWzoBLsnDcqoUc0WURjlCJtWMSelVjJ3nEGE0q8KIWlJtnNRXXaf96h8lxrnqH61Zs6YQpbOcrkV6FFFvBxxwQBHtlU4A4zvvAbz3kbKWWCNDJyFdsM57WvkxpPUS4bNs2bKRjP/Tn/50vP/97y8kXK712SXCiBS034yIFRFxSYmBEUaDLhofLwEJSEACEpDAVBNQGGWcvs1ZGI0iBa06delIe6JYEDcUS6WeDxvVnJKmPA6kyRNPPFFsqFJ0UzqFjBS03BEdbFzZjFIvhk0W9UYQMQsXLiw2s7mEHXIOMbZy5cqCNVEzFMdl85xOYKtb9DrVjEkCKR27jejinuDI/eRKK8z4ltCx6xRhlEsYVS866vpHRN8QUVdNFR0155zXQ9QihPffnxPXf9ZY88xvivYilY33Rl6Hr3jFKzYKJGRS7veGNu6f1zkCevny5SMZ75/+6Z/GJz/5ySJqM9d7VwdhtG1EPDpX3PqAyoln1jBqYyHZhwQkIAEJSEACU0NAYZRxqjZHYcQGKZ2ClqOwda/pIpIhpYQgFlKdoFFuxEjLoigrciZFN5GCxoZwFC1FWRHRgyyCB/KI2io520MPPVRIulNPPTWoV0RhbyICuPd0mlJdYdRNcNBvOjGJx8A0pa+x+c61oczJjb5HLYyqQiPVP0pRMUSG8ZqBaeLbRGhw0hVroFNdrdxsR9U/9dP22Wef2G+//XpekvdERHI6gY2fU7ogKVfwJgqJiKxRvm/V5UR6KV+cUjaK9oEPfCC+9KUvFa/7XK/vDsLoLXOpaJx69pHKfXKc5ZN9Tkk7bi6dbRSIvIYEJCABCUhAAhLISkBhlBHv5iaM2PiQfoGkyFXYutt0cT2ia0htIpqB1KtRSZrymBBGpGcxnlFHNzEOhFGKauD+iVph85m7kaqCJEJUEYWwyy67FKKqnEYyrDBKY2dtEcnBppwoplTgmfXGZjKl+/Cd1MRJ3HB3mgeiJ5Cdo4ow6rUWctQ/IvIPGdLt5L7ca3MU/XM6IetywYIFA10OOUeNqSSQUjQdr5skj1jPpNVOQlu3bl1x2uTSpUtHMpx3v/vdccEFFxQptblezx2E0YURsTwi9o2Ihzrc6D9HxFkRsSQivjn3e0QSBa85rpBjOp8fCSAvIgEJSEACEpCABDITUBhlBLw5CaMUVcR3Ghv4XH/gV6eMFBtkBalgpCnx6fc46oOw8Sf9BrFBdFPuAttVDlyXotd832uvvYqIjlFxSEWvGRPRVaTmVOc/RZ8xvmHGxeaa+0M8kP5DQ3CUN9zpyPO04U4RMrnqn7Tx9pGEEdFYyIFJam3UP7rqqqsK+XHQQeyjZ6+xrhFGrHuijJo03svK9Y+I/qIhfcsFtMeVjkk6GgX0y0X9m9xvv+f+5m/+ZlGsn/f3XP8/qQgjJNF9EXFeRLy2y/hIU7uWEnUR8YmI+G5EnB0RHAP4C3PP7Xdr/l4CEpCABCQgAQlMBQGFUcZp2hyE0ThT0Jg6NlekXiEhiKhhgzuqzUxaOjDgU3fqFyFCGMuZZ56ZcWW9uOtUL+mZZ54pOIySAXPA0ekIHY5Op8ZQp9aWMEI8dLsG7FO9GKI2qB9FI+qsnL42jLDKNaGTLIyq9zxM/SOi3og4W7RoUS6EY+2X9xxS0rg/RG2brVpAO50mmApoI5GI3hrVeibNljpMxx1H1lX+9mu/9mvFgQGkNeZqFWH0hxHxwYh4Y0QQSdStHRwRfxoRyyJi64i4Ye55RCfZJCABCUhAAhKQwMwQUBhlnMpZF0apHgc1e0i/Im0i16fA1WlCPtx7772xdu3aQpCQgkbaQvmEsoxTu7FrJAmiaMOGDcUpSYyFMZ1xxhkjY0H9IMYAfyJp2DweffTR2W+fOSD9LtVqYnNLse+XvexlHa/dVBiljXkvYVS+MNdL9XlSyk9KXyvX50EmjWrddgIzTcKoG99u9Y8QGkSH8No48MADs6/JcVygU+RbjnGk0wTLEUis51RvKqVk8h6Uq94Phe1J+z3mGE6dz9/OOuus4kOAiy++ONvFupySlu16diwBCUhAAhKQgASmiYDCKONszaowYuOSjkd/8skn47rrris+ceaT7lE0ClqTpkARZFJASFFig0T9IIqjjqogK/VGbrrppmIDxRgYCwKFcZx++unZNm2JMRspRBHRTWzIie5Jha5zb+jYJLN5RBaSHrbrrrsW16a2Sa+aSTxv2JQ01tyll146dCRHqs+TTl9LBYdJ70nRR3znNLZRtmkVRlVG8OU1kfiSKsh7BQ2JSIomfPl5nIKu7bkl6of6aaShzp8/v+3uu/bXrd4Uwpj34iSQ2qznhfzjfo888siR3Cfvo0Snfe1rX8t2PYVRNrR2LAEJSEACEpDADBBQGGWcxFkURqlwMbIibVgoaktEy84775yR5gtdI4kQE1z70EMP3WSDdtdddxXyZMWKFdnHkVLQiOihWDERK7Tq8fK5BoKkQlaxQSfiZt999y024Rxlj1DLmTLCtbkO36mThAigftQNN9wQJ598clFwulsbpzCqjomxlNPXUr0Yxl8uOJw73QdxhXSdxBpGTdZvqn+EZEipmvSHkEt8+T7J9aXq3D9pj6Td8X6U+zTCXuOBN5IurWlEJA0hmuofJWFX5746PYb3HP4fwFrN3bjOSSedFIccckh8+ctfznY5hVE2tHYsAQlIQAISkMAMEFAYZZzEWRNGSBqiQ/ieTkFDGvDpOp84E2WSq3FNTujhCzlDClo1koVUMNLSTjvttFzDKNIjiCAiDYzNIVE95QK06bQwpFWujTBRVGkTjqwqF0pmQ4f4OP7447MwSNfmlDKunaLKEEbUMWKDR4pXDmGUiguT2oSkaruVj5cnSqbt4+W7jTcJoyVLlowsSq9tdr36o1A5tX34Kgs6xCaN9ZKiYUZZj6ctBtQNQ5rzXpDzPXDQ8fJeTb2hxJxx0khdLZ8oOMj7FK9x3u84ATF34/XOa4KI0b/7u7/LdjmFUTa0diwBCUhAAhKQwAwQUBhlnMRZEUap9gyyJNXMIJqFLz5dJ00IeZArHYNrEFXExoejqxEGnWp0UNOIU3yoH5SjlVPQylE95WuRosVY2eS0fRQ20uzuu++O+++/v4jmYtNWTZ8iVY9xnnDCCa0iYA3AFsZcG2FX3mim1ESKbVNDZRqFUXnM3C8RGtX0KkRZSl9j092tXtMg8GddGFEQmnRNXrupletLdap/NIp6PIPMUa/H8nrjdEReE6OIshx23Ai6VMsL5knYlSPqEHas8W5tzZo1hagn6id3Y43wPvvGN74xPvWpT2W7nMIoG1o7loAEJCABCUhgBggojDJO4iwIo5SCRrRFiioq1x+hngUFSXudjtUEMUc4E01DQ5D0+gQfkUIB5hz1gyhqTc0ePl0vR9ZU740IHNK1+tXyGZRJWZpxZD1HeHeqAwMr0lKI9GmrMcdIMNIBuwk7fsdmElG14447ZhFGdMpaa+P48kHZsP6J1kgbbiLraOm485Ri1Wuz3e2asy6MEMoLFiwovrq1XoIOiZEk3STWP5rGGlS9hB3CN61nojnLcp5IKv6NVNTcjTESlfY7v/M78cd//MfZLqcwyobWjiUgAQlIQAISmAECCqOMkzjtwohoIjbKfKexcahKCqJezj///KLgK1EEbbVyNA3RBnx63y9iJ0f9IO4dCUXfyCrEWK8UjrqpWYNwSnWb2ED1k2a33nprqyfFIZ8QYKwD7p3i2p0aIoUoC1LhUj2nTo9rUsNonMKoei8IvHJ6Fek/vDaQZUlu1D2tCsak+pDW2YvdIGtmkh57ySWXxMKFC4s6W3Vbqn+UGBPFQ5vE+kezMH9J2KVoL+Qo78G856cC2rwPE8FIKu6iRYvqTuXQj2MNELH1kY98JN73vvcN3U+/JyqM+hHy9xKQgAQkIAEJbM4EFEYZZ39ahVFKQWNzz6YhpZ91imjhseedd16ROlBOOWmClVobRLSwESOahq86x0S3XT+IKBLGQQQBaXDcX7/TnepG2tThA9uUZodIILKpXwoUp6YhrTjevknj2tRpoj9SVihy26uYNRvNa665pu9peU2F0TDyoQmHOs+FVfV0MF43RBuViw13Oz1uFoRDL05tRIUR5Tap9Y8YF1KVwv+90jHrrKVJeQzrNxXQ5v7SiYKMj3VM5A9rm5/7vScOe0/8f4A0Z9LR3vnOdw7bTd/nKYz6IvIBEpCABCQgAQlsxgQURhknfxqFERuFFFXUKQWtE64LLrigkCmkCjVtjz76aBAlw6lKRNMMUhOE51L0GVnST6z0G2d5HNXC0r2eW1ec9Ls+ESt8mo/8IXJr8eLFtaQZBblJi6OG0rCNT/YRRQi43XffvahX0i/ViogE0lWOPfbYTYpwV8fQhjBirfVKbxr2vtt6XrfoGCLkyvWPUrH0WRZGOQqVT1r9oxQBeMwxx/Qs+N7W+hpHPyklk/ckIiwReDQivspStFpTrclYee/jw4LPfe5z8ba3va1JVz2fO+HCaMuI+Gm2m7djCUhAAhKQgAQk0IeAwijjEpkmYcQmrCyLekUVVZERQbDnnnsWUUbDNjbZd911Vzz44INdCzr365t6R3WOdu/VDwxIQUvjqBZ37jcGNv9XXXVVsHlEDgzT6APxxaYMWbPHHnvU7gaGiB5OaRum8ak+1yaqqlth70791r1v5pn7Gvao+jr1cIa575zP4X5T8Wy+p812Sl9jA04x81lMSeP1xJyRwkRUSo5Wp/5RzmgYxAa1w4477rgXndyY437H1WeSf3wwQORPivjiOymatHJNL1LZyidIDjpuTrzk/fecc84pCl/nahMujLrd9ssigq/nIgL4Lxg8mwQkIAEJSEACEmiZgMKoZaDl7qZFGKXC1mzm+6WgdcLFKUjU96GO0TCN1C8kBWk9bEaodzJMmkPTdLAkS0i/IAVtmHEgWq688so46qijYpdddhkIRzkNjI0XaWC9jqjv1DnigXpLp5566kDX5sFsfIkgIP1vkKgqnguz1atXF2k5vaLC2hBG1MJpK/1xYEgNn8Acs97Lp1XxmqORdkh9GERjzlSfhrcw0NOZb94fkI9I5VG0Udc/QlQTFUnB93511kZx/7mu0Wsuf/CDH2wikIiQpJGil068Y30PIoqRcJy6eO6558Yv/MIv5Lot/l8zqX8Hcdzkr0bEv0XE4yUAR0XEWyPixIjYKiLujoj/d+5x2TjZsQQkIAEJSEACmyeBSf1DaSZmYxqEEZtV/rjne90UtOrkXHHFFcVml6LIg7by6WN8mszmYtjWJB2MNC42KMOkwpXHi/SCx5IlS4rNf91GygdpYPDg0/tDDz20bxpYp77Xrl0bfDJ/2mmn1b10Me/r1q0Lnlu3wHi187qirKkw6nREe+0bncAH8rojIuyee+4pJBHSkpaKO6fTqnoVWp/A29o4JNb15ZdfXqRUDhIp1+Y95a5/RPoqr11OJpzWearDG468t3FCGqmq3VqSoikCiXRVXveI6BRVx/tMv6Lw1ETjfYwItaY12Xrd3wQLo0Mi4psRQUG6K+fuYfmcGNomIh6aE0Z8MoE4+nRE/G5E8Hfd83Xm1MdIQAISkIAEJCCBfgQURv0INfj9JAujVNiaP+T5GiQFrYqEFCxqBhGVUrdxTertUFi5zuljdfqtG+VS7qt8Ghubc6RVkzocbPjZIMMC8VOnIZmIsCLyhI01NYuG/dAb8cPX6aefXufShSxMtZKI3CESpE6B8WrnSZSRVsV8dmttCKO99967iP6alcaGmlRKotKIUOlU3LlJpMY4ObG+Vq1a1VcyjGqMOeofIXlJY126dOlQkndU9970OqSdEUWIzB5EhvMei1BOUXWkrzIPyPlU/4jvFNUvv++R6vz6178+rrvuuiJdM1ebE0bkD//3iHh9RJA7+b2IuDUi/iAiVpWuTd71x+YkztYRcUNE/GFEXJxhfMdHxKURsTQiromIvSPiXyKC/7H8dkT869w1D42Iv4qIxRHxf8w9J8Nw7FICEpCABCQggc2RgMIo46xPqjBKKWh8+j9sVFEZG8ep88d/3T/q2Txw+hiCZJA6Of2mqq60SP2QRoGoSaexkQ43rKhJfbKp4hNxCnbXiaggOoHIJmp9IJmo+9GkEV1EWtoZZ5zRtxsEG6c7ETnAJrBX1EC/zphLxEC/yKqmwggZRy2cWRVGRGCkxmsTAVmuFZMiNVgnqYB2daPdb65G+fsUlUK6al2BOsrxdat/lGRGivDqlSKI9OY1RxTMIClXo7zPNq7Fa5yoH97bBk23LV+/nDLI2ub/BzSisxBH/BvSGaZvectbitp21MDK1bbYYosFc5Jl+4j4fETcRTZdRBAye0FEnDN37f0j4tq5ukGfjIjvRMTZEYGweW1EXNjSGFOEENb//4sITjC4PiJWRsR5EfGOiPjbuagiIomoY0Q0EtLqyxHxrpbGYTcSkIAEJCABCUigCF22ZSIwicIopaDxRzuNaJKmkuT6668vopQo9NyrsTkj/Yb0DaJ4ECSksrXVUnQPtX/mzZvXs1vqjiBquPemG6Dyhdgg88k4AqZXkV/mgY3QAw88UGy+GEMb6Sz3339/Ee2AMOo1r8zDbbfdVkS0IHkGrZVUhZvY9xJGqUYTETXUOUJ69Dt9rXodpBQijtOTZqWlY9mJMCoLo+r9sWaQfKmANj/TWDdJbPC9SYRc20x/+MMfFjW9KN7e7zXZ9rWH6W+Y+kcUyCedc/ny5Y3fS4cZ86ieg9hZs2ZNUVutSepwdbxEofEaSF8f/vCHC/mMYGQ+PvShD8Ub3vCGnpGLTRhsscUWV0QEIYv8D+zhHn0hjn4lIgh3umnucUim2+YKTxPh00YqWBJGXOtvIuK4iLgnIt4cEf8zIk6Yq1tUHiphnf8wd/2fb8LD50pAAhKQgAQkIIEyAYVRxvUwScIopaARVTRMYetemIjSIVrn+OOJoO/cuC6C4pFHHik2Amwgm5yg0+kqbE4vueSSntE93Dv1YojEGbZeTy8W3OeFF15YFAAntaxTIwoJZogTopqQH02lXboOAopUP1LSOqWWcf/8nsLYbOCpOzWotOl0T8w/9YW6peKx8WP+Sd8hCiOlQSIMkRwIJKRVPw6bszDqtdGm4Hs6qYqIoxR9hJQbZ9TLsGlMGd+WB+q6W/2jMmMiFHndIYxmuZVTJ3uJzaYMeG/+xje+Ef/2b/8WV199dfFeQSNdmGL+Z511VlEMu41GxOJcfaT/a07GUAuIrxeKif2svTwinpqrJVQ9UeADEfGhiDh2LgKp6dCSMPpPEfE/IuLX5tLificifmMu0oj6ReVG8T+EEc99XdMB+HwJSEACEpCABCSQCCiMMq6FSRFGyCI+xeUP7zZS0KrIiNRh00TR106NSAgECZtHavRQg6afGBhmWpKs6Rbdw/VJheOTbFKakDXD1OvpNTaEzPnnn1/c54IFZDps2p588sliDDQ2QE1SOzqNAxGEmFm5cuWLRBD3Twoac0UqIONrax5SKl4nYYRM4rpEKJBagqgiIilFyqSaJgjEJDq6RcpQdBfhyNzNSksRRpwwR62iYRucE1P65PXA/JbT1+pIuWGv3+l5jIkaZ4jJXrWt2rxmrr5S/aNyiiCMU+PkPtZtv2LOucaXu1+kJO9dRJI2jUisM9ZPfepT8YEPfKCosYbYueiii4oPBN7+9rfHxz/+SKJlxgAAIABJREFU8Tpd9H3Me9/73vjYxyhJFL8UEW+bky0vmYvoQQL977lO+DRkdUT8cUT8fqVjThg4f66u0Gf6XrT/A5IwooA1wmgdh1hGBP9D2XLuhDRS5dLfb0Q1HTg3VmoqkbJmk4AEJCABCUhAAq0QUBi1grFzJ5MgjJBEbGraTEGr3i0pZhzJXj3Jhg0W6RqkSFEDBEGS85PpJGs4xYcCzuWWjozn30j/yrV55Z7PO++8QsiUj34vn0RGVA1ihULhbTfqqXDEN5/ElyO40maP6zEPRPS02bpFd3FdZCHiIqUgErVRjnphfRK9gOzg8UgGGpvSJJDSkdwKo3qzVi40DFekLWuQNZGOOYdt7mPgEYNEibSZ9lmPQP5HpfpHpKMhPWnlYs516h/lH2V7V+A9lA8HiCTN8d5VHelHP/rR+Mu//MuCbRL7/H+MNdVErJav88u//Mvx1a9+lX9CyJD29b84pDAi3j1XFwiJ9IWIeENEfCUi/utcgelyN6+aS0v7k7nC2W1BP3lO/iCEKMrNuGhIKWobIY9oP50rdk262h9FxF+3NQD7kYAEJCABCUhAAgqjjGtgnMIoFbbmD+y2U9CqyKjFQ02cFStWbPwVEU2IC46rp+YMKVptpD71mq5OsoZ/Y0PHyWFEWiBLcm92iDAizSzV2UGQ8Ck50UVNTiKrs1RJ+eJapMdQy4b7T4WwkS7UH8khCVLtplTsm+tST4m1Ub5uKnrdq3ZWp0gZHs/8sXlE9iEF24qOqsM152PaijDqNcaylEMgsemmIXLL6Wttv0ZToeQckjLnnAzSNymuvM8hUhCfKQKJIvw0XodlSddGrbJBxtfWYynQz4cDRJKO4h7e//73xznnnFOkMbcdCZqYEIlJ5FJE3BsRB0fEj+Z+R4oX//ZsROwZEW+ZS/n6z3OFsctYqX9EFNCnRlBwmr/Z+EISldt/iQhCfJFWd7Q15/YjAQlIQAISkIAEFEYZ18C4hFEqbM33HCloVWQIGaTEaacRmR/FpomoEqQRomjPPfl7ezTtggsuKCJ7SFkiTQp5wgaZfzvwwAOzbTzKd0cNI8QQ1yuzaHoSWR2CbK5IGznllFMKQUdEAJtZ6imRJpdr48Vcs/HiHkkZQxaywaTwN2ugHCGAXKpbbD1FyhB5lCJl0ia8nL7Wdj2sOqzbegz3xeulaUraIOPhtVFOX2P+EHDIvSQ3iAZsKuWQJpyiSHQZ8zWLDSnK+jzhBGoR/6yV6x8hkao1puA8TOH3cTHkQwHudenSpdnlP/f4rne9q0hBQ/Y3XYfdmP3iL/5inHvuufy6U6rZ30fEr0cEEUR8jTrCaFxT7XUlIAEJSEACEpDARgIKo4yLYdTCCDnEBjuloPFHdvrKeJuFLGIjQaFlir9yHDJFYdkkjqLWRfnekBbUSCLlCnECE+qn7LbbbjkRbNI3p6QRVUX0BgWmR8kCOUS9oCOPPLK4NptUCoznlnapfhSSDGlFZAmiiLkotzoRRr0mihO34EnUBsKDVDgaKSrMOVIC0ZFLjOVYREkYjao2TPUeykfLIzaQnPwbwrEcGTNMZF6uk7VyzMOwffI6I/LtuOM4zKpz61b/qCrpJrn+EfXRiKYa1WlwZ599dhHRxPt4LmH0jne8I/76r4sMLgpK/2Vl9v40Iv6fiKDCNmlho6phNOxS9HkSkIAEJCABCUigdQIKo9aR/qzDUQqjlILGxp2f+QN7VJtm6hTxhz0FnEm7QhIQzTKO05n4RJqUKzZwOWsF9Vo2jIF7J+1nVOl4aTyPP/543HDDDcXcI1VIQctZNypdFxFEdBfXJdqH6xI9UW1NhdHq1auLdUbxbNZ5uXg2sgNhCvuy6EDcTXIbtzDqNEepphRjQ/7REEbl9LU6UV3UTrruuutiyZIlHdfDJM9L3bHx3kckFcKvbusm6cprlzXM2s0lS+qONT2OFFO+iF4cRXvLW94SvJ9RAytX+8IXvhBvextlioLK1++tXOdLc0fZU1D60Yh4ss8paRjDa3KN1X4lIAEJSEACEpDAOAgojDJSH5UwYvNB+sOoUtCqyIgouvfee4uN+ijSrrpNGdEmHO0Oh9y1grqNgY0jUTDMSYqwGdWGj/smtYlNFptNNul1NvVNXwLlgt5scI899thCVnVqTYURJ24hLSgqXm3cf1l0pBoyZdEBl7br9DTlN2nCqHo/vK7K6Wu819AQkUkgdYvqQtxef/31RcQbAncWG+mXRPIdddRRQ98er4t+9Y9Yu91eV0NfeIAnkhpGWhopaaNor3/96wtZRopvroZk3mmnnb4XEXwtnvvO5faIiLsjYkNELJq7/j9HxFkRsSQiXjjqMmL7uYLXhDrypkQkkk0CEpCABCQgAQnMDAGFUcapHJUw4hbYxLHpGEUKWkKGKEAUkaZA4xP2cdUpYUNL6gKbW8YwyKf9bS0BUrHYPCIuiIJhkzyqxoaV+2cDRKMA7yg26ES0UScKSUUjsmzBAk5/7tzaEEZsnLlOv8ZagEeqf5Tq9CA3UvoaKUCjEnrdxjvpwqg8bl7zRBwlgYTk6BTVhaSDK78n4g2ZMopIt35rIsfvWf+srTZf75NY/4j3eV7nJ55Ihlb+Rk28efPmxb/+679mvdgWW2zxmxHxN3PFoj8XEVvNnYY2PyJeFxHnzw3ggIi4NiJ+HBGfiIjvRsTZEXFYRPxCRJyXcaD8raaMygjYriUgAQlIQAIS6ExAYZRxZYxSGKW6RRlvZ5OuywWlqQ/ERoLTc0Zds6gsrdiQ8t+pZtCoWLBhvvPOO4PUPE7wgg0cOBlqFA0pQmQR46C4NxFfoxBGRPBQL4lTzaiTRIHt3MKI9BRS3eoIo6roYLxl0TGOY+Y7rQeEFrJvXDWMmqxRBCBRRIlr+WQwxC0RMaQxjbKgd5P7Gea5vPZYS6Rh5miTUv+I9zjea3hvyd24Z8QUpy5+6UtkhuVrW7xgjIkc+r/n5A8nkF01d0T9lZUrc5IatY2WRcTWEXFDRHwwIvKFQeW7dXuWgAQkIAEJSEACfQkojPoiGv4BoxRGbNyQRqNo1CniU3X+qCcFjbQnTkIahaQo31/5uPp0CtiaNWuK8ZCONYqGLGHDyKaZgs8LFy4sam5QRynXBjLdF/wpMk7BcSJlKDIOE65PWhiROLkaxbVZA6leEdFM5513XlFbCGnVrbFOU6TPMJE93BvXOvhg9m3DN8aRjj8vHzOPbCzX6RlFHa4kjJgzrj/NjfUHz8Q2FSXnvoi6gy3zN6r6aqNgSQQV62RUgnhc9Y+GqdU0LH/ukfczjr3/27/922G7qfW8OWFU67FjfBBH8D0QEQ+PcQxeWgISkIAEJCCBzZCAwijjpM+aMCKCZe3atUUaGlEebJBIPUGWUFtmlClpbEiJykA+lOsmUWCXzQYRDfizVau2iMce2yJ23fX5OPnk52NrPhNuqT3xxBOFNEF8wII0J9o111xT1MlpM0WlOmTkYDq6nhPQqJfEpjX3XMCWNUA9E+6X+956DirCKEmzXMIItkSSNRVG1fGVj5lHeMAXqYHcSOlrSI9hJFe/5TZLwqh8r6yVDRs2FEKT9wtOTEPUwTUVJed7Lq79uLf1e2o08RrgNMZxtFHVPyKCECGY830t8WPt8F7y5je/OT7xCbK/8rUJF0YviYifRAR53/8zIv7X3H9XgbwmIv48Iv7PiHgiHy17loAEJCABCUhgcyOgMMo447MkjIikQdBQk4QIEv6YT1ECpKFcccUVxUaClKycjY0EKS6kXZH2xafQ5agMPu1HIm3YcHz80R+9JB56aIv46U8jttwyYo89no/3v/8n8au/SsbB8K0sTdgIMwYiilIjyomGtMrRqCFDKlino+vZlFN0m5oxRHS02eDKGiDCrLoGuA6npBFhtf/++3e9bNMIIyLZmHcEWa7G/HK6V0qz4mf+DSmQoo/4nkRZ03HMqjCCS4pG5Mj5dHph4spapeXi2nRe6j6f1zvF3knLnISWq/5R7tS7Mjteb5ww+bu/+7vx4Q9/OCvWCRdG6d5/EBG/FxGf6QLj9Ij4RkTwP+CnsgKzcwlIQAISkIAENisCCqOM0z1KYUT0Dxv6HI36RHy6THQFn6JXpRAyidPJECfz51MnNE9jI8Q4iOzZa6+9iiiTasoQQuPrX98uPvnJQ4LTwF/ykhe+fvKTKCKOyPj55Cefize/eThpxBi4Bpt8ijuTglVNryHigAgVUozabp1SwcrXyCXv2NwjqUgx6nYSHsIIkXTAAdSG7dymQRhVR87rClGaimcTjUQjDTAJpCZpVkmqzEJKWpUdr1Ves6SrEo1YbnAtpwUmrgjBMtdRpAU2eZ0S9cZayCkxhx1fr/pH5VPuGH+/NEFkPJGT1BXK3XifYA189KMfjfe+t3rafbtXn2BhtANvMxHxTEQ8FhHviYgvRgS55/wPjC8KYROB9J8i4rMcXhgRL7xB2SQgAQlIQAISkEALBBRGLUDs1sW0CyMkFOkk1Mnhj3c2CuVImnTfSJSLL764kEmkR+VobNj5hJtNJp/k8+lzp3bjjbfGG9+4ODZs2K6QQy996c8ehTBCIu2zT8SNN/4oSkFBtYacikuzmUGadJNjiBU2v20Wh2UuOKXovvvue1EqWHnwzzzzTFx++eVFDSeKkbfR0ulvFDCmLhOby07toosuCmpJEX3WrTUVRuOO5kgb8PIx89wTUoNos5S+lk4Jq8O/HIVDpMosNWQzqZMnnHBCx/eOdK/duKa0wCSQkEk50gKbMCcdt+7JfU2u08Zz+9U/SqmCrMMqZ157rGve+3I3xDfv8Z/+9Kfjt3/7t7NeboKF0W9FxK9FBNFFp5DtHBF3zQmk789953eEtyKMno4IUtNsEpCABCQgAQlIoDUCCqPWUL64o2kWRogHBA3pOESMkGbUbaPGhpnoEj5hRxi02cqFndPpZ71OYvv859fHe96zIH7605cUwqjannnmhYijv//75+J1r6sXZVQeQ6c0uOo1iEAiXYxNchuNqB76RFKQ8oWQ6TYXbUZ7IalI/SMFkKgyhCFFrrs1hNHee+9dRF11a/SJYGT8w2z8xy2MqvfF/ZRPCUtpVojVJDnYhPfiNsvCiIi42267rTjxCuFYt8EVltW0QDiW0wIH6bPutQd9HCmgvD56rftB+xzV43udcleuMwXnXPXDOt0r64b3uS984QvxG7/xG1lxTKgw4m8zZBFf20cER9M9OiePCNXjxURFPj4Soc7Rf0TEWyPi/Kyw7FwCEpCABCQggc2OgMIo45RPqzB69NFHi6gAoiaQBKmYczdUCBUKHh900EE9T8gaFDXRRIyDzUO5sHOvfj7+8cfiIx/ZM1760i2j0/70hz+MoqbRxz/+XLz97f2FUbfi0r3GQAoOEuGkk04a9JZf9PgUWcU4mIt+UUNENl166aXFY7tFYdUZVDn1DlmINOwneC655JLimqyDXMKIoubImFFEOdThVH1MOiUsiY4kx8rpP/xcZjnLwoj3Ek7X4rXQpOYT67+cvoYYpaVT7ZAbfI0jfY36bUQb9krFHGYtjeM5qf5RYp3SBOHMz0TREeFJalrOxsEKpDj/8z//c/zKr/xKzkvxWpzUv4OAvGVEECp6bkT8/lyUERFF/A5hhMEnBe2+LsWws7KzcwlIQAISkIAEZp/ApP6hNBPkRymMkDb8sd+k8WnznXfeGevXry8KJpNiVvcT/Dr1awYZG8KFCCeia9ig1E11+/znN8S73713PP987wijz33uuXj963sLo1S3h40S0VPUTarTiKig3s3SpUvrPLzjY5hP5uGOO+4oNsWkgtU5cr2N9EDYk1aHsEM8zZs3r9Z9IIx23333WLx48WYrjMo3zhwSaYY8Yj3AlcgZNtvIjZS+RvoNp+1RGHrWUtJIZ2QNn3zyyT2jrGotsNKDEEZwTWIDocS+n1pSKQKJ1MlRuABSQHlvIPpvllq1/hH1qGgwHbT+0aBceD0gGb/+9a/Ha1/72kGfPtDjJ1gYpfvg77T9IuLegW7MB0tAAhKQgAQkIIEWCCiMWoDYrYtpEkZsWkl74jupABQvHmSzRQ0jpE6v6JI6qNmkPPjgg4W4YvPMp8zdauZ06u+OO+6Nn//5vePxx18e22//QvpZahS+fvppTkuL+OY3fxS9ysVwHDjih6gIZA0bpLqNDTJRUaecQtmJwRvijmszBgTMIJ/oI3lIDSMCp67gKo/w4YcfLq5NrRLuu1f6X/XOiGxCLvU68r5pStq4jzAffDbL6+8nRfHsFH2ETKIhZRGjvHaIVBlHlEyT++r1XNYwr2Xkaa6olHJdHtgi5vg3rldOC6wW3W7rnln3++67b6vRlW2Nrc1+uE/WJxF+iLokQFmvKcIL3p3qHw06DupCnXHGGbFq1apWIjV7XX8KhBFRRBy5+YqI+Hec3Vyx63RbRBuRtvadyr8Pit3HS0ACEpCABCQggRcRUBhlXBTTIoyQBKSNUB/k8MMPL/74H7RxShp1PJqcFFRO/yK1ib4G3WRSFPqv/uqZ+OIXjygKXFNyJ52SxiFySKKPfvS5OPvsztFF5Sgr0r+IsupVf6YTJwqFw3TFihWDYgxqRxHdg7gjUoeaUIOIu2HrSSFy2Ngj65A+3Peg7Ousgc1ZGFUXA5KIyCOicNh805hr0n4mucjzIIua1wGvh2XLlo1MhPE+UhZzvKZoiIxyXZ5B13e3+0aWk7aJNJrVhoAjgpC0u1Snrlz/CIGU6nchQKv1jwblcuGFF8ZZZ50VnMyGuM7ZpkAYEbr2jYi4JSLeMFeziJPRkjiiCjm1i/5w7qS0nLjsWwISkIAEJCCBzYyAwijjhI9SGHEbbEAHaWysiIZhU4ccISpl2Doj1PEgHQTRMEyjuDYpaKR/EaFCdMwgoiRdE+GB/Nqw4cz42Me2jieffKFm0ZZbRuy0U8R/+28vyKJOVStSoW82PsNEWaUxcJoZJ8utXLlyIBSkfBDlxSf2RFYNI+4QMueff37BsO4GlnUDezZ93DepNcOwJzWHNCsioro1xkcUVJIjAwGKKDaQozrae9CxDfv4dPQ8r52UwpaiZHg9ps03bId9fQ47tqbPe+ihh4rC6UTb9Tu2vem1uj2f95Ry/SPWX1tpVaxnIm943VDwfVYbcgghTGHvbpGLveofIUBZx8jQOqLuq1/9avz6r/96cTJk7tpQEyyMkhAiVPUf5wpgX9whwogaR383d0ram2d1DXpfEpCABCQgAQmMh4DCKCP3UQsj/mDnk+A6DSmCJECSDBPJUr0GKQSkfCA6BmmMl00l4opUB54/SPpX9Vr0RaHsU089NZ57bqs477wt47HHInbdNeKMM37a8eQ0+uD4b4pVs6klyooNzrBt3bp1wdfpp59eqwsYrF27tngOmyoY1K0dVb3AoAXIicQgoomNL/WKiBIbtpE+wvh7FaRuGmGEMEKoMUez0pIwOv7444vXEK1bkWdSBFP0EZvvcUmYuuypw8Wmf/ny5UNJyLrXqfs4Xh9E76W0wGpdqfKx8nX6TCKFdMK6ddbq9Dtpj0Gy8fpGRJMmW6fx/5Yk6vie6kzVqX/0j//4j/Fbv/VbG9Ny61xvmMf0EOPki5LmVW5U8/9YRCybKzh9w1xUDxInR6PgNaGwZ0XE30TEGTjzDsKIVLW/jYhXzj0mx1jsUwISkIAEJCCBzZSAwijjxE+iMKoKGjbeRAY1bRy5zCfHRx55ZO2u2EBQL4eUHGpjIBrqfPrc6wL0RZQOEQ0IqH4NgYGs4VSeprImXYu0ONJwqMHRL1IHyUeBV07KWrBgQfEJflMJwIl1KVKo1/2zmScaCwlB2kfTgst1osyQI0g9No1EzAx6TeRWknr95nZaft9JGFXHnoo8k8LG5htRAYckONqqHdM2MyL+eH0Nk57Z9lg69QdHpGkSG8gkGu8d5fpH3dJShxEpo7ivtq9BlNbq1auL9+h+JzV2una5zlSd+kef/exn4z3veU+R5jZIHbVB73vu/XnVnHApP50wyHNK/7B/xP/P3pmAWVGd6f+9t7tBBPcFRdkx4p6IoIiGRNyi0cSY5e8kGveMxsn4z6iJZnHJ6hhN3GKcjJlgTP6JmhgzmkFBERFEUMdo1LjjLoIKCLjQ3ff//Krvp4frXereW1W98J3n6aehb1Wdc95zqrq/t97v/TQfLlfSz4p+QSdIIh0MV+4Z9fYd43gjjA6TdJWkoyX9JUhJs8+Rtv1e0guSvhDjun6II+AIOAKOgCPgCDgCsRFwwig2VPUf2NMIo9AjKCmCxlDBjBjyZfx4vDlrt1DhxFtr0jlqkSu1r6rIbBpSAZPdWmQEqViQS6gNMPmGZGmWrGGMpKOhmEJhVO16pOExVkgj0pFYkyQaFetIK8NXpVxjnSCKIG7qNdWuNr45c+ZEBuUolUobAePChQsjIo3g29LSUNQQmEMexUlXAS/2Sb1KtiRwTesaqNtQxYUKo2p9sX7sHVPJ8G8aqjTDEiKpXu+tNObHvQAZi8KoNzSeCWH6mlWeNFUMuEKw233N8ex7/NaSun97Ik6kSvJSgHubCprNtkr+R1OnTo1Sq9nHpKWxFs2+RKg21uLvnKlFMqbaoZBHn5XEG5EHigeiQHq4WNae0pDx5L3xwbOUNGS71xf7JeWstBzqkZJ+XlQ7XRT/8n6kI+AIOAKOgCPgCDgCtRFwwqg2Rg0f0ZMII1IvIEea9QiqBAbpbaggCHprNYgKCAsCXAL/JBRO1idqDcgrSjJXezNNIMKYCVwIghp5a15pnuajhIdRpWDHMGikGlktfDGMxb8IAqy0sf6QLpAMpNFwXBJEHf2gQBg4cOAH0sXAGEIE9ZeVH+dnFpijmjFfGfaClZtn/UrHxprR+iJhtOeee8ZSxZWuKdgZecR38zILU3/4dxJkaK29V/o5JCFfjVYMrLe/JI+H5DRPKXBFiQRZR0qkGZOz39mTjSpvkhxvmteC4F+wYEGkRGzEW63W2Mz/6Ac/+IGmTZumV155JToFP7T99tsv8oPjJUA9FTNr9cnnAWF0YjHNrEtitmYbKOk1SXMkTSn57DuSzpO0e1GBFKfbRo75rqRzJN0k6fKimogaoJhgf0PS3ZKOkbSwkYv7OY6AI+AIOAKOgCPgCFRCwAmjFPdG1oQRgSMBTdgIenjLj7KjkTL1ceEhrYqgYtKkSRVPgSSAKMJkm0pcBFlJqyAI7ObPnx8RV+WIKFO6YMRL8AHxUEuJFBcDO858lEjDKTUpDtU9jVYjqzWe2267LSJmIITCBjYEt2DAvCFmkmzlfKwgESGo2BuoMPB5ITgkUDMyyHxlII7CsuhgZ4oZvrNXID3BMO3KSUniUutapjBqlDAqvd/xjgFH8AxJDkux4ntaJeZL50p6JgQqVdJ6e2PfQbwbOWdVwZgXJAqVHfne24zJ46wL+wj/sN12260pj7k4fXEM6WjXXnttpNLkeQbmkO+XXHKJTjrppLiXqXlc8RmEXxH5yxAwi4upaN8upp1xDd6CzJX0A0n8PGz7FSuUnVIkcmr22eABmMt9q0gKrVdyjXmS/lXSgjL+Rg1256c5Ao6AI+AIOAKOgCPQhYATRinuhO4mjAjMUXYQkBKok/qVlrwfIggfHt4Cl2t4g0BW8MY+aWVL2B+Bzbx587T77rt/4E04hBp4kLYGoQIeqAWSbi+99FLkS1TqowR5Agaoe/AqwrMoKXVPOAfKX5Nqhpk5LSQNIckgW9IgDMAd1ZiROUZQMQZTJsQxvTbDZyOQUEXRUMmwhuaV1R2KmaT3CtdLkjAqHV+Y+sN6mEdPvamAjc6bdDQI1ErPhUav2xPO4/mKag6z+jDNknvMvKV6gzF5HCztXp4wYUKqnkI2lq997WuRyTaG6Ty/eG6SaovaaNddd40z5FjH8Hti/vz5p0t6kkeMpIOKPkCUsN+zWHkMFQ8pYSdLuqLkwtsX09J+JOmsWJ3WfxC/pDqKp/ELlqppVEajLOosSdMlvVX/Zf0MR8ARcAQcAUfAEXAEaiPghFFtjBo+ojsJI9J9UGMQYJuyo+GJxDjxH//4RxQ8lfMqgUDB3JqgCmULQVRajbf+eIrwJjz02oCkIeiAfCDNIc2KRqRT0FfoowSZxnpAEGE0nrS6J8STMt+olyDEIAzAnjVgzuyFNEgy+sfjhDWGHEJVwp6A5OH/ZkAOYWT+RXHIMoJFU8yYaoa+II1MMQOWjVaVS2sf1nNdCEzWCHVe2vMgXS1MXwtTAQ1PCI84axNnjpAp7L299947zuG97hieK/fee2+0x1EWhVXBzJjc0tfAlxS2pLDNEqw4xuxJjue4446LVLE8R9PGK/fBDiB+TE3EdzyCrpZ0nKRflcxzlKSnJF0s6dQkMfBrOQKOgCPgCDgCjoAj0BMQcMIoxVXImjBCmcEXaSC8mcUDBnIizSozBh/9kfqG14Q1AibMn1EYUK4dY+e00zVQMPFmmrfQ5ktkfkGQFgR2SftglG4hFCOkb+CjRICIygJ8CBwhzOJUb2tmW955550RIYWRNwEXJFqSxuKVxkYqIKofSA/SDknRgZwLCap6CaPSvsyHi+Ab4oP1poGzeR/1NlVHloRRiGelVEBIvzB9rRkSiwppEKjcC32xVUrVqmRMbmmWpkBqBtss8WQNUZFmQWoyryOOOCK6v/FFS7uVIYzaisqi+4oqo+5WGI2URBraKklUb+ML42u+7N+mQEobLr++I+AIOAKOgCPgCKxlCDhhlOKCZ00YETxDEKBmoeoYKUlpqUlKYTNSBM8JXtjaWEiBSTP9qnQcKIhQ2ECUQRgZYZWWZ1K57QP+qA5Id4C8g0AaNmxYtB5ZpFFBmJFyhN8K/UFSpWFUWzp3FEaQUxCFldIOmyWMHnroocgDadw4ihUpUoyZ8gh1B4RpWG4eEgks0lYpNPMY6S7CqHTMYAcBYgoklF2xcATFAAAgAElEQVRGxhmBBBlXzzMFopT9X83brBnsuvtcS9WiOmQ1IholF/uTL1ItLc0SorNRbLOcOyoxFIOoJtNKaw7nc+ihh0ZqxVtvvTX1aZYhjOjzmSIZ86Fu9DBqldQu6VpJn5D0UvH/pJ/xxQ3KF0bdVGzD4+iR1AHzDhwBR8ARcAQcAUdgrULACaMUlztrwogqNgRnmElnXeI5LCVPAIxXEH/wQ9xkQVbYMkIm3H777RFJRYochFWanknlto8Zb6MkYjysB2qbLBqqETyM6DcrRRPzgmhAYUT/pANWSrkzwojjGiHPSgmjENNQ1UFQbqbErIOpj9iLWQS89ax1TyGMSseM55aRRyEZV0+KFebyEKgYevfFxtzwK4MchvyJ2yDjwvQ1Izox6jcCqVyVwLjXT/q4559/PlJJ4svWyH1b73imTJkSpdDecMMN9Z5a9/FlCCMMsN+UhJk0uZSQMUtqVEnbg6zcujuvfgJ/nxWKRBDVJPJFpRHjsa+NipeAXMLf6K6Ex+CXcwQcAUfAEXAEHIG1HAEnjFLcAFkTRqh6IAqSrvoVByKrDMYf+aQj4R9Eufq0U9BKx4a6BXNUghrzTMqSsGI8pOHwRboJ5EnaKXCGAUEnRB3pI+wB0oCyCO5Yezx46Isglwp1lVqzhBHzQ50BrrUa90Lo12PV2QjKjUDqCUF51uk+tXAr9znrBgFnai68e2jscSM4ylUIw4eGc6rtiUbG01POScLbJ8QWrMAWQpXnl6WugXHaqazVMF24cGGkliznUZf0WjB3CEaUkddcc03Sl3/vehC1KE/LEEYXSDqtWK7+34snXCfpM5Jw3P5b8WeQNg8XzacpSQm5k3Qz0qjcdSGQKBl3gqTjJd2bdOd+PUfAEXAEHAFHwBFwBJwwSnEPZE0YQZZAGnRHI6AgZYGGugf/nKzTgAi8UDQwFggT3vpn6RFC/2CA4TMNvyQCkiwaZCHl6/lOYAkpQsCVZgvni6LN9h+4V2pJEEYoX0gBqqdV8usxTxkjPbImOJmDEUYQfN3Rfz042rGWYmUEEmbaNMhRw5I9yP2I+myPPRBg9L2WhjqsUmogz7QwfS1LpVyW1e64V1GmHnDAAfrFL36R2qY59dRTIzXqQw89RIUzHtoQQFRJ+3hRLcR3qz42RtL8YpraTyXBmELU7CTpYEm3pDZQiSpp4d9qEFN88TO8iy6XhIT1WElvpDgOv7Qj4Ag4Ao6AI+AIrIUIOGGU4qKvLYQRAS9pGZABqIqySr8Klw7VCYbIpHnQttlmG40ePTrF1V3z0vSPfxTB8fDhwyMDcHx2MPtOu5GGCP4EkJBUkFaoE5IsP106BwgC5gveRhDyf35ejRxoljBCyUQ6T72EUen4CcotJSj0lIHwQH3EF//OQqHVGwmjEM/SSnbgyjrjdcSe5HP2YncoH9O+90h7xSeNKnDcc2k08+mCnAPbsLIdCiTbq2kS9KSjQY5lYV7OfhkzZoyOOuoo/eQnP0kD0uiaN954o37+85/jk4Q30CZF8uWJomfQRViklXS+naQfS5osqZ+k+yWdI2lGaoPsujBKIlMamYrJCCO+o3y6StL2kl5OeSx+eUfAEXAEHAFHwBFYyxBwwijFBc+aMAoNhVOc1nuXpj9STiBHKJ9OKgWpBPw7y0bAD1lEoAFhxb8hbSCNsmhmfGtvxgmMqVSWtsKI/ihbTvobgSOKIhRVeFlBdJgxdNIYYKaNmgnSBSWAkWIQRqh/0kxJgzBCRTVhwoTEpgWOjJt9ZEE5exuywwLyNFOCejthVLoQYMceAUvSU0312NO9pBrZUMyPZ2BWZtDsVUsNBF9w5me2V02BhNF7ki3L1ELms+WWW+q0007Tueeem+Q0yl6rgul16v0m2MH/lUQa3abYySV4Xb+UI+AIOAKOgCPgCDgCa8icHY6EEejLhBEqD4gZAhbeBvOWmypZpCNl5RlEYIGvBmkvkFQQJpA1pBngpYTZdZqN/kl/o3/UKBBEBGphpTYCnzQaKgMMoFEXQY4xV1PDUKGNsTWrwik3bqol4SMEzsw3NPplP0DmVDM4blZhRGlvjMyTJIxK50lqHfvaCCTmRLOKVux10q3qqRZWbQ+YSqU3paTF3dMQfKwXe9T8pMxLinsWgiMLhUzc8dZ7XNZm0OX2aljZzvYqz6HQW6rZ9LUs7jubGwQjYz///PN1xhln1LskdR/fCwgjUt+ohrasmApHVTS+kLTBnJMihzIK87juyUmvG3U/wRFwBBwBR8ARcAR6CwKuMEpxpfoqYWQpUBAUKEwI+HjrPWfOnMiMGMPrtFtImAwdOlTbbbfde4TJrFmzItXL9tuj0E+nhQbTW2+9ddS/EQjvV2rbWbncEK2zjrTFFlIuobuNAPz++++PiKlyFdjuu+++yE8oSVIl9IfafPPNIyVXaRBKWhxjS5swYq9V80lKesUtJQgCKawWZobE7H8C9EZTgrJIa0oak7jXKzUph8iE1DAyDrLDFDJGcKSp5oo77rjH4VeGwg8z6EbXP25fcY4jJTSsbGfkXOgtBVFXb6ol5DTXjmM2H2ec1Y5Bqcoz9fLLL9fJJ5/c7OVqnt/DCSPzKao0D1LSSEM7TNKCmpP1AxwBR8ARcAQcAUfAEagTgYRC2Dp7XUsOz5owIvAiQEirhaQBQR1kkZlKozjKIg2LuaH+IP2Jue6www4f8EyaPXt2pHKCTEmjQYqQkkUaE6QUwU3YXnutXWec8aweemiUVq3qp3xe2mmngo4+ukP77ddcIR3SlwjeMEdG4VMu/Y+x1fISqgcXcEY9RJCPmgxvqHLBMeNibar5nDSrMMIvhoAyS8IoxMoqWhnhYdXCmkm36suEEXuC/VMpPRJis5xCBgWbVbLbcMMNE1Nz1bPv4xyLwpAvys33tGbknBFI4GzeUmH1tThkJ/c/5/LMSbtxP6CYnDp1auRjlHbr4YQRhtd4FKEmWkcSuYZ89S8acj+LHZMri9LeJX59R8ARcAQcAUdg7UXACaMU174vEUaQIwQNBB0QBhAHIWkAQTFz5sxUTa8JgCjhDmlAkEMKWrmS9XPnzo3ShyC0km5G2GBwS/BEalLYli2TjjuuVXPnvqt33umnddfNi8J1HR3S4MEFnX56h446qrPuYTF3jGepVkQgzdwqVdSK4yUUdwCoeVAzEfSjKqpW9Q01CfujFmGEOovgs16VA2Nm7SGlekrVLXBBdWQEkik62BeWbjVo0KCq6pO+TBihOmO94xqwhwbPEB2cy3MG0sgUSLXwjLu3kzguy+phzY7XUi2NQIL4pkF2mlcX38uZd/MMQFHIMyDthmKL/XL99dfr8MMPT7s79pf/HZQ6yt6BI+AIOAKOgCPgCPRWBPwPpRRXrq8QRosXL46qcPF3NQFDuZQzArsZM2ZEih9SxJJuBDv4oeChQwl31EOVfDnmzZsXKZ+SfBsOwQFhg2cS8weHcoTNT37Sossvb9GqVe9o8GCCMYrpSG+/Lb38ck5bb13Qf//3apWIkqrCBQkB/kuWLNHIkSOjqmTVYpw4qWFx1sfIMbAkgCNQr9ZYH4gTDIArNXBshjCiAlxPLdMOqUcQbqXmzZCYfRKmW5Xum75MGDWjTDGD51DNxc9q4Rlnbyd1DOQG60eVtN7WeK6E6WuQ/rQwfQ3iE2IXI31I+rRUmyF2EN48Q6ZNm6YDDjggdVh7GGHE32RUjVgtiTcLVg0NHPh3R/E7/7av1DHyDhwBR8ARcAQcAUdg7UXACaMU1763E0YhScKbZ1QtvI0u1wjkbrnlFo0dO1YjRoxIFFU8T0iz4jvXHzZsWFXCJOkqYQRSBL4EV+XUVTZZ4q399mvTo4/mtPHGy7XOOv3Vv38XYURbulRavTqn009v18knx1MZkfLE3Anudtppp4gsq9XipIZVu0aoZoIcY93jlAzHGBdSK03CKMtqTbVwrvU5xBjqIyOQUM9YQG7pVqQUQsxBhKVZmr3WWNP6nOCfhhqw2VYJT4hMU3MZwdFsX3HPx/AeQn3SpElxT+mRx3HPk1Ycpq9B0uPLhroLpSF7lWdQ2oIcvPA+8YlPRJ541fzQkgKyhxFGoyTdLIlUMxg8zK6Rgi2R9GYx9ewtSTjx2xdG13x+b1KY+HUcAUfAEXAEHAFHwBEwBJwwSnEvZE0YMRV7S9zstAhuIUkIeFG1UKK+VgrRrbfeGhEqfCXVwhQwgk6Cl1otSdNn5k/QS/CEqgjD50rtxRelAw9s0xtv5LTeessjJYR5PHEO9lKvvJLTkUd26IILeFFcvVlFMki6OAofuxqpYQR+1YibSj1jJo5CiSA4jpopvA7pYosWLarq59Kswqg3EUYhNgTkpHWaWoZ9BRao5FBuEJBjUl5LxVVrz/S0zyE7zRw/6bGFBAd4hgSHKbrwQkqT4Oit+7HWWrA3UcgZgcT+pGWh7uL3yGc/+9nouZtGWnHp3HsYYTRG0m+LJBFKo1ZJ60rapjhufnFAEOFplA/mcp+k8bXW1T93BBwBR8ARcAQcAUegXgScMKoXsTqO7w7CCCUKwWkzDZUIpAHXgSSh4licdtttt0XpaKRMNdsIWAjGnn322ZqePaV9EaRCeE2cSJXhxhpzp2Q2JAhBPOltBJ/V2muvSVOmtEWk0EYbval+/drWIIzeekt6/fWcjj22Q9/7XmXCKDQXB3vWII7Cx8aG0gfCZ/LkyXVNPjTzRkmw5ZZb1nU+KhkIvmoGwM0SRig62J9ZKA/qmnydB4ODmT1DshnRi/eWkR092ew57nSz8r6pRHBAtobl5eu5j+LMsbtN2OOMMYljKGjAfoQwgkQytZypu8AYdZdVimymzxtuuEFf/vKXo+pzSb58qDSmHkYYYXK9SZEM4t9IVKmA9hVJsyRNp+6DJN6c7Fv8bI6kiyTd2Qzufq4j4Ag4Ao6AI+AIOALlEHDCKMV90dsII0gS/kh/6qmnouCAt7uoH+K2O+64IzJFpsR8M41ghLfLlQy2a10bsos34o2miYR+SUOGDIl8meIGQsce26q//jWvgQNXauDAligtjQaHh4fReutJl166WvvuW57Ug/Bj7gRl1SqSVcMgjtKn9PxXX301IglRvKBmKld9rRbuEHyooigxXqk5YfRBZMAMsg2i1Ugk0q9Q5nAfWvpa2mqZWuvbyOeo/SAZICCzbGZGbumAVj2SfW3pa3j11FJN1hozvl0oncaP79vijlmzZkWpwKgOTS0X+h/xzARLSCP2KynMjZqTX3PNNTr55JMj8rmayX6ttYn7eQ8jjEqHzduXX0maK+mMMnP6vKQfSjpa0l1x5+zHOQKOgCPgCDgCjoAjEBcBJ4ziItXAcb2JMAp9evAgInitN5hKopw9KTukwtWrbgqXh5QsUlQaMaIl+EOhhNoG4gvFVD0pLbNn5/TVr7bqhRc6td56Hdpww7aoQtrSpTlRi2fPPTv129+2q5VEg5JGCgh9QxbUSn+rth0hbl588UXts88+NXctOFPpCUNvAmnS/ipVX6t1MdQ/VLGr1i/9kfbWaJU0xgm51SgZWGsO3fG5EUakEELYgQ2EZ2j2zLhMLWMBeSXT9+6YQ6U+77333mjcWZglVxpDpfLy4FdaXr5e7PAL49m522671Xtqrzke/KiAidpn+PDhHxh3uF957uK7xjmouUKz9zA9t9rkr7zySp1++umRZ10tVWcSIPZQwojfEKSeHSvpu5IOlfRgMRWNn5OOhkyVChNXSXpc0ilJ4OHXcAQcAUfAEXAEHAFHIETACaMU90N3EEYWjNczLSNp+MO/GaKimXL2IXHBW2qIi3rUTeF8G1HYcL6pbFATkYIWxy+pHM5//GNe3/nO23rzzf5qb29TSwuVhwraZZeCfvazdpXzrYZoIZWMAIm+SU1qtEHckE43ZcqUqpeAmCLgJSWKQHDbbbetmyQMO4DMee6556r2axXBIBEgPvhC6RGXlKMPxrvXXns1Ck+POw9yD5LPCKPSAXJPm1KG76hlwIv7xNQyjao50gYDA3r2NCq9ntKsvLwRchATNMYZpgPGIeQgt7keqry+2vi9gHqUlwhbxyjvGJqTs1/x7qLFTbe86KKL9P3vfz86L84aNIt7kTAi3/jvkkZKurwM+bKtpPMlkedLmtj9ks6WdHuz/Vc4n3Q0CKGTJf1I0kGSSD0rbcMk/bE49mNSGotf1hFwBBwBR8ARcATWYgScMEpx8Xs6YQRJQ/oZaWgEn6SgNfNG95577oneKtcbPBEAQ1zgu0PaA5XQ6lU3hctYj8KG88JUPAJGcIj7NrzS9rn55vm6776t9c47Q9W/vzR5cqf22qsQkUdhIxgjHQmihfQLUneaDZJYz2eeeUb77bdfxd2Nkgp/Gb4TzG+11VZN3wn0u3DhQu27L9Yaa7bSdEcID9KvQiWCpV5VUzjRB6kqfZEwwnOqVuqjqWUgO/hClVYvhk0vdB0XmD9/fpSatP3229dxVraHohCy9Cq+Q9DFJeRQBHJsElXgsp11/N7AA/Uoist6fc3oBeInTF+DUArx5Zkbksbf+973hMoItVIzvwfizrBIGP2k6BM0qAxhRBWH+UXFz8+KHkInSNpR0ickzYjbVx3HoSCilCYP0+sk3SLpa5KWS6LcoimQviqJMX1T0oV1XN8PdQQcAUfAEXAEHAFHIBYCThjFgqmxg3oyYUSQhGcNQWcS6hIQIv2E4LUePw9LwyIoIW2lkYCkdHXiECZ2DmQVKgFwiFsNLs5uuPvuuyOFVLVAMvRq4u09/cdV2lQbAyQgX/vvv3/ZwzCNZs4EY80oqUovTp+kt5USVaGSiXRH80FhrxAUGvlhRrqhzwz/DjFhbVEpNZJuGGfduuMYUxjFIYxKxwe2EG+lGBKAm/oIDLMIvMthB4lM/836mmW1LuxJ0gGN4Cgl5EyBZIRyVqbeWc2/XD/cl6hHIZab9RSqhu+0adOiKpQUOvjrX/8apbcm8TyshV0ul0MetkDSNyRBHJUqjP4g6bOSxkl6oHg9iKWHi+TNWN471Oqnwc8xwSMl7UxJj0q6XtIrRcIIsupASbcWlUhPN9iHn+YIOAKOgCPgCDgCjkBFBJwwSnFz9FTCiGDIUikgabYolyPVAC68bYeI2mOPPWqeHVYhI1UBYiWpkuLmyXPAAQdUHUdIVqHsSQoHOq2ltoIowdwahRGKpk033bQmZnEPQF1EWlrp/MEcBRAKLNLtIIuaVVKFYwJ3CJ2QqCpVMmEiXs7DKCw7D/kBCQI2oQ8KCiRS7fD8ccKo/G6wUvNgyB4DQ1RLoZdMo6mecfdfeNy8efOivYZqsDe2kJAL06usOhjkK8+vrE29s8SSPcU6kq6c5HOKORi+YHvUUUdFabk09uixxx4bPUuoutiICX8cjEgnbG1tpST9IkmodZ4pIYzIDX6tmA5WmuP7HUnnSdq9qECK02Ujx1ARDX+iL0ramuzJotoJL6O/SPqWJCeLGkHWz3EEHAFHwBFwBByBmgg4YVQTosYP6A7CiD/A+SO4XCMoh0zABwYFAiRNMylopX3ErU7GGKkuhFIERRFvrptNwwrHAilCmhfBRiVlRegZlCRZZePAu4W346VmuCFRRtAJaZPkGtC/zR/CyN7QsycwAwdzfEhIEUpadVJKVEFaQIqFSqa4pteMN1TOmA8K6WoQTqQ9JlHlqvG7O7kz2YsQfI0ojKqNArLIqq6xFqFXj6X/QebUSoNrZqYo7SCr8MfqCy1Mr4LksGetqbn43hur2VVbGxRXPM94TjK/NBuk8ze/+c2IcOd3AmnKfOclxPnnn68999wz0e4vvPBCnXbaaZgsYbKFSqiUMJpYrFD2A0nfLumcnF/UPZA5qJLSaPyNZuqljSTtIolFIC3tXqz30ujUr+kIOAKOgCPgCDgCjoAh4IRRinuhJxFGoU8Qlb944590oAgJRGCKeW+lRvUxSASC10aqkMVZLlQojAUvnVIiigAPU2yCdBRFKKySJKtsfJQTp68JEya8N2T+zxt0UpAgyug76TWgM/yQ6McIM4Jc1F8EfmCOT1QaDcII9dKBBx4YjQGcUQZAimFyTYtLGJWOz5QzrK2RR6xbGKgnqZZKA59K1zTCCCVF0iRe2CfqPzN6huyAuKU/SCMjkJImO0hlQpVCymVfaxByEGKo4MCR6mA09mGo6OLz3txQYvI8GzduXOR1l3b7whe+EGF55513RkrY6dOnR18/+clPIjVmUo3UN15WrFy58qyisfSIMoTR4cU0MMynryjpG2Mu0tIwpeYaWTQ2EwQS6iJvjoAj4Ag4Ao6AI+AIpI6AE0YpQtxTCCNSU/jDO0mfoHKwoepBwfLxj3+8LKp8hsqFAAoSIa3gA0IGE23Ku4cGyiFxguIB76a0PDJK0/PoG6KMQCjtvkPCjP7olwbmlBFPq5myCUKSMZB+RkAWkmKNEkY2ZhQIkFGkAFnlMMgkGootq7zWnb499eKbFWEUjot1YG8YhiHZYeQRpEezZOqcOXMiX5ptttmmXlh6xfEQYuDFPc3z1Ty5wBWCjmaeXODZm/alLQBz4RkC+Z1U2nC1xf3kJz8ZEcy33ILPc3rtoIMOivySHnnkEaqerZZUjjA6UtLVko6T9KuS0YyS9JSkiyWdmt5INaCY9vYxSWOKhNFCSTdJIp3OyaMUwfdLOwKOgCPgCDgCazsCThiluAO6gzBCxYJygGaeNaS78Ic+KQXNlGuvBRWpbvwBXlolK6wEttlmm0XBfrVKWLX6qfU5VbQIcEjxMb8WM3q2ikZpp1ZA0KGiIoUCVQf/p2WR1gEBATGHqsPSD0nhMpVPLfwa/RzTa/qjEUBjcF1KyDVLGKFigjBiba1BxplyhoC96EsSkWNGIPVk9VF3EEalawzZYUbPYIkikbWD4DACKaxkFXeP3HXXXZGSb8wY4ty+1yoRYuxzU8WBa+gnxb40ZVyWflKNok9aGAQ8aWFJp8+WGxMvHCDz//hHqsWn0373u9/pi1/8ombNmsWzxP4O6okKI6qhkQqH8TVV0zC8RmWEtxJeRv8p6fRi5bZ0wPKrOgKOgCPgCDgCjsBajYATRikuf3cSRgSA/JH/6quvRp41pCKlkf4UwlfObNqUNaQ1oDIYNWpUaqoeGwtzpnoRxsgEODYuUm8gbNImThgH2OMfg9qGNK3S1KwUt12UbgdhRCun8kmjb9LdKKHOvgPjSgbiSRBGkJKkb5Vr5ttjBJL59phJMeQHyrY0U7/qxbcnEEbhmFkjcDMM2cf8zAzIjUCKQ/pSjp09OHo0lcn7Xos7v9BPCgKJ1FwahJGlr0EkNavoSgNhCHhSXCdNmpSoSX65sbLPIKbwfrv6aoQ9yTfIUJ7LKKYuvfRSqjaOLPaCofTsoqLobEmvF72N5krK2sPIvIu+LOkqSdMkXSkJV3BS0hjziZI+VzS9vsCVRsnvFb+iI+AIOAKOgCPgCEhOGKW4C7qLMEJNg8KG4J2UIAK2LBqBPL415p3Dm2mMsFEq4D1BoJlFI9DFpJWAAEUK4+CNNaqXrIgC5r1o0aJI7ZIVYQe2lMC+5575euYZaaONRmn77bcW4o5cinc6ASUEGYQkwVg57yhb92YJI9Le+KpEGJXuL/CwkvOmPgqrhrEnsyAQq+170vdQZqXtYdTovRdWsgJL85BCcWRkRyUSDh8a9j9EcV9sKFQgH+qdH+lqYfoaz+okFF1pYExVQtKN8aZLm9Di+YAC9eCDD9bPf/7zNKYTEfkxU3NR7vxC0pIaVdIoC3pPwoPNFxVFkFX8G4Yco+vS9mdJO0vCnJtKb94cAUfAEXAEHAFHwBFIFIEUw8hEx9krL9YdhBHBJ/45SZeqj7MApmzBOwjyiBSlLFU9NkYCMarskIZEsJslacYYSEXBDJcgkGpkBJRpeSXR38svSzNn5vXcc2/r8cdf0ZIl/fTGG/00aNCmWnfdvLbZpqDDD+/U+PFWbCfOatY+huCONX7yyScjMhCvGgjDKVOmRGqUci0JwggSsJJPVrVRo/JA6WYEkqmPuFcsRYj9mhWpaGM1wog5pblPaq9ovCNKU60gRUMSDiwt1QpCBZP190Uc8froLUfNnDkzmhvpl4027gkUR5YSGCq6wvS17kqrzJLQBAvIt2OOOUYXXIBoJvnGc/nmm29+78KHHXbYYcX/bF5U8fxV0i8lIdN8UtJ1kj4jaVdJXbnF0qCi4TVGVZQATPbh2vUyj2tCAl0mCTC6TLG6fm6E0hcl/ZckKhmQrubNEXAEHAFHwBFwBByBRBFwwihRONe8WHcQRqQGoVZATZP22+BS6DC1xquHIAfShiAKH52sA3Dz0iHAIrUBJURWzbySICeYN+RJWq1QkH73u7x+//u8XnihXa+91q6VK/ups7NF66zzjsaObVV7e4tWrsRTqKCvfa1DEycmE9dAxKEqQkVl68z6lzMbD+dvhJGRDPViAxFJimEjhFFpX6iPzPTZSqRDfGTtMdPbCKMQx5CEC1OtSAWFOMKAHnVfvQqcevdFdxzPXoYwwp8pycqD3Bs8P41AMlN3IzbBFWIz7RRjwzTJe67WOoHp4MGD9Y1vfEPnnHNOrcMT+Tz3PktbzsOIPjDgml80xv6pJMrhnSBpJ0kHS0rTnRtTbVRGmG+Xa1+VdKGkwe5jlMh28Is4Ao6AI+AIOAKOQAkCThiluCW6gzAigOMNanc0K6tOIENaQSUfm7TGFppr00c1L52kx0Cgw/wxGCeYw7MIAiVNwuimm/K6+OK8nnqqXeutt0LLl6+rZcsoX19QPr9ao0bltfPOeb35pvT44znttVdBF13UrmarfJOShEcUqgjUW6Qc0UhdIRUPMqeSGqJZwgjDaxRNqNiSbEZ8GIFkHjMQH2acTdpVGkF6byaMSteAVKuQhINYJB4PSTgw7Q1Kqlr7iz1zxx13RKS43QO1zmnk85DYhEgCU8ho9mjuzOMAACAASURBVKP5SUEmpYUpBC3qUVLS0m787mJOqItOO+20tLuLrh+DMOKw7ST9WBJu+1RVu18SjNaMlAdJBbaTJB1e9FeCrIL1R8K5saSZRaJokqSOlMfil3cEHAFHwBFwBByBtRABJ4xSXPTuIIwIyPGRybLRJ4E8Phf8m4pcpCdl2Qiq8G0inQPFCz43lJHnbXXaLVTboDQYO3ZspIKBQNpvv/1S6Z5CeCeckNfMmR0aMmSZ+vUbqGeeGSgqeQ8YgEKhoA02yGvPPaWBA6Wnn85p0KCCvvOdjqZS0yADSHkkYIWQC71ATGGGF08lXyD2B3jx1Qj5YoRR2ulbEB9m+sycLUgPK68lVeEqqzmlshGrXNQUOChiwG/5cmJdRWSiER3gWSl9Mevx1tsfc8Kjifs9K584MAVHUx/xb36GAbn5SfE9jiF53PmiWEVJuNdee8U9peHjeH7zDL3iiiv0z//8zw1fp54TA8KontOyOnaspBuKaW//T9IDZD1LwhTs6GKltM9Kej/HLquReT+OgCPgCDgCjoAjsFYg4IRRisu8NhBGBE1U5ML4eNNNNxUpWbvvvntcU9FE0Ley9QROkBhUxCJVZOedd049kMMHBwKFtBHUNltttVU0p3IV4xKZbPEi99yzQqecktPy5a0aO7ZNK1b012OPdd3O/ft36s03Vyuf76eddipo+HBp8WJp5cqcTj+9QwccQHXm+htKGKolkeIHKVhKCrEHIO0oeV+JTGmWMOoONQ5KEgJzI5BI+6QxR1MfNZMilJZqqv4VTvYMI4yojoiPF+qR0OgZUs6Mns1Dir2VllIm2dkpIubvuuuuqALllltumfTlY13PMDUCCeKcFseQPFYHUlTlketPnIivcrqNFEbw/M1vfqMvfelL6XZWvHoPJ4wY5UcknVv0UNpUUkvRz+ilYoU0PJa8OQKOgCPgCDgCjoAjkAoCThilAmvXRfs6YUTgDEFAihJ/5JMiMXfuXI0fPz6TimgEpCiJSAMjBQyyiCCeIOq2227TjjvumGqqyKuvvhqlYOEVhZqJ+VtjXCiuDjjggMQDYFK/brzxef3nf+6k1tb1NHx4TsuW5fToozmRjbjuup1aufJdFQr9tcMO0qhRKMCk1lbprLM6otS0elqY6kdgDK7l1EGoECDPSF0h7ahcS4ow6s6KYhAFZpwdqo8gjYxAqjT/cpj0VcKoWsoW+wCy1dLXQqNnU8qAZZJKmXr2fJxjIWd43kEUZ6FkrDUmMOVZbORRWBXQUgLNkLweUg6SmGc9LwLSbqiZxo0bpz/96U9634s63V57MGGE+R7V0e4uVmr7sKShxZS4ZyXdmy4yfnVHwBFwBBwBR8ARcAS6KnF4SwmB7iCMmApv7tNukBYPP/xwFNBB1ECWoLIhRSOLlLQwDQz1AoSVmWsTqN56663RzzDcTboRmOGjg7k2ARjzLw1sIQEItEhJayT1qtyYmRfkGGRUa+tW+ulPP6xnnslrhx0KwgD773/Pa8kSadCgTq1Y0a7+/SGypI024rOcxo0r6OKL26MUtbgNcgRSkCAUrxYqQlUKNiHQ8Dbae++9oyp9aRBGeKmAQXcSRuG8LEXICKRQfWSqGYL1anugrxJGmDdTJQ0DflPeVdp3odEzWEJ80FALWvoaz5isDfSr3Sc87+bNmxf5tW222WZxb6nMjgt9ubh/bW+iDAzT12oVR0BBCjlGAYG0G4QzCkWe32ml85bOoQcTRlRfgyz6SrFSW9rw+/UdAUfAEXAEHAFHwBH4AAJOGKW4KfoiYUQQQul0UoPwKSJYMg8SggpMYNNOBcOQmMCCoJKy9aWGswTxt9xySxSoJl3OG/USqqLFixdXrQIHsUGgVa3EfD1bD+KGCnQE06NHj44qM33/+6364x/zEQE0ZEhBL7+c0xNP5KKqaJ2dBa2/fkE77ii99lpOI0cWdNRRnfr0p+OnoxFgQgDR9y677FLTlwpM7rvvvsjrhEA/TcKIoDIpIq6edah1LFiFps/sl9CgGPKj1PS5rxJGzXj8cG9bCmCpUsYIpKQ8pGqtaaXPUUjdc8890b3BmHp6s71pCiT+H6YEQiKh1CwlhHnu8NxHRZl2mz17tg4++GDdfffd2mOPPdLuLrp+DySM+LsMGegOkuZI+pyk6UWjazO25vP6pKKZoOmdOAKOgCPgCDgCjkBfQ8AJoxRXtLsIIwIBSJOkG2/UUZvg51JObUKAOGPGjFRTwfDJoXQ7ih4CGAKccm369OkRWQSxklSDQIGoQsFFWlY135I4FcPijiskbiDjLP3lxRelb32rVQ89lIuURStW5CLT644opMAIV1p//Zx2371T//RPnTrssE7lYt7xpJdBjGFQjGKsEgEUzgH/qnvvvVeTJk2KPFTSIIzwOMFTpacSRuGcuQdZO1MfmekzCo/Q9Jk54XmFkXdfapBlEADNevyYUsYIpLCCnam4mvGQahRz1nbBggXRcyg0f2/0elmeV5oSuGzZsogUQm1kxu5gy16FNIachRhLu02bNk2f//zno2cPLyOyaD2QMLJp41f0s2IVtK9mgYX34Qg4Ao6AI+AIOAKOQCkCMcNHB64RBPoSYYR6hD/ieftMChbBRGmzVDCqBlGpLMkWpmNhrg1xUs3fBA8jUtUgtpJoIVEFgVKJELG+4hhAxxmX9QtxQ2Ba2u/LL0uXXNKiqVNbtGKF1NYGSdSpQmGVCoUB6uho0fjxnZo6tV0VuLU1hkEgaYbdkBoEiXF9ZAjoCaD33HPPikResx5GRhjhk1QrlSYOvlkeA4Fi6iOw4v/cTwTlKGomTJgQpfLV4y+T5fjr7ctMoVEBbrHFFvWeXvF4CFtTyfC9VMXFsykLHCFZUNThuRP6lyU20QwvREogPlKGK+opGmo4XgSg5uK5n7aq749//KOOOeaY6BmUtDq0Epw9mDAir/ebkr4s6TuS5kpiYXA2Xx18meoowx3jXTkCjoAj4Ag4Ao7A2oKAE0YprnRfIIwI8DEi5Q943jxDIFQqmQ6UpIJRFWnUKKr+JtMIEFE2kZqCYoiUrFpBNalxKHFQNzTTmD+eOc8880xUBa4WUWV9xfHzqTau0CeJfsG9UvnxH/wAwigvRD3weC0tHRFWkEuLF/ePzK7PPLNDn/1s9XS0sOId3k+k9NXjGUOwOX/+/KiaUqUAulnCCOUWZuK9kTAK1xscUMpAHDEnq25lJech67jfehspFs6R+3bOnDmpmkKHKi72HyQODRxDD6lK904zzwbuMRSHePtUUjo2c/3uPJf9aOQRzzIaz1yUXOZ/hOqw1nO43jlcffXVOuWUU0SfWflC9UDCKC+Jh/XBkv47wJDyjAsl8R2jQr7349eupIvrxdqPdwQcAUfAEXAEHAFHIA4CThjFQanBY7qLMOKNO4qcZhsBH/4VBA687YUIqkUgoOwZNmxYdGwSjaAMsog34JAmcYMIzLcJuqlg1GgLfYMgwJhT3AApTnpWpXGFPkngjkqqUr9kHn7yk22RqfX22xeilDPW/o03XtegQZQo76+nnsrp8MM79JOfVH4RjcKF4Jc0GzAr9YWKgyFrhacL3iMEluVaUoQRxtppkABx5pn0Mc8++2xkoE6ao6Wvmb8MxJtVXstCNZPk3KyKGPPC7yyLZmXmLX2NZ1jo0wOWEKlx7+NqY6YPno8ow+KkbGYx/zT6gPSDEAM35kxqJfcxysMwfS2uErHaGK+44gp94xvfiAooZOVR1QMJI/MwwsQJhdEKxF6SkPVSihODuAFFsoi0td8UVUhpLL9f0xFwBBwBR8ARcATWcgScMEpxA/RmwigkavCSiFs2eubMmZG3D2lpzTQCEsyAUZMQjJGOVU+p8rvuuitSuTTqg0FQBIFC4B76BsWdUxy1TblrhYbejL2aTxLn41d04IFtevrpnLbdtsu3qlDojEg+cGtrW0ePPJKLzK4vuaS97PBNKcGHzfixkNJC1SjKb1fydIHMevnll6M0F5RT9ZI+nIvpel8ijKh6h4LNPIxC9ZGpZvhZqJpB5dHT1UeQkJgXd1cVsVKfHvYnP2PPhVXCwLWRBilMmi4EaT3Ppkb66s5zeJaSUmh+cNy7PDNMgRRWtDNcIYxrvVwoN6cLL7xQP/zhDyPFXSPnN4JTDySMGpmGn+MIOAKOgCPgCDgCjkAqCDhhlAqsXRftjYQRARUBLGlYjRA1SSh7CEgefvjhiFgYMmRIpHip1zuDQNV8N+pdYlKEqHDG+RAojagH4pAnpeMiDYMAFCIAn6S4aS4nntiqW2/Na8yYLqNr1vD111+Lxv3WW+vojTek44/v1L/92wcVRlRzA2vUA8y1mbf6pAOBO4qLSh5XjzzyiOjTWqigiZPiYoQRldiSUDTUuzfSOJ77ja+PfexjZS/P/RBWXgtVM6Y+ioNdGmOvdk0rOw/hCjnY3Q2VYkh0MD4a2Fn6GvsxLlHB/cpzAs+uamm63T3vZvufNWtW5AdXKc0YHI08sop2YAhpbARSaWXASmM699xzddVVV0VKprjr0Oz8ehBhZMoiKgYcWKyShlfRw5LukrREUmuxOppVSUu+ukWzgPr5joAj4Ag4Ao6AI9CnEHDCKMXl7C7CiACT4KjexnlUIKNCFilJ+P/US9SQvgD5QJDYSMNsFWUP3+mfQKWR9BFSo1ASQLzEbahfqMBFihApNMyhURWHkSfjx4+vWXI7NJomwMJcth4y5MYb8/rhD1v0+us5jRxZUEtLF2HU2rqeXnxxHY0YUdAVV7Rru+3ejy2YK+otVFyoB1CB1LvWpbiiypo7d67KzRmlFutKQElqHwoESDVUGqb8YM5GgFRS0GACDum0NhFGIc6mmrHUNfaZpQcZ6cH3epVbce+Reo7r6WXnUcYYEWdEB/eAER3sxWoEal/ci6Xry97CDw6yCF+zWo3nCs8BI5CsMmBcT6kzzjhDN910U/RcauS5X2t8PN/PO++8qPIbLwb4nbdq1ap/SLpZ0gWSFpVcY1tJ50uaXEwBu1/S2ZJur9VXg5+TanZGsY/wEudK+pGkdxu8rp/mCDgCjoAj4Ag4Ao5AQwg4YdQQbPFO6k2EkZWMJxWAqkaNeNiACilJVtErHkrvHwVRBWEFSQNpUskHJ851Ke9OsAN5EaeFxtpm2t1MwAKekGdUUKrmuxSSdI0YTTO39nbp7LNbIpXRq69SdaugVaveVi7XpmHDWnT00R2Rwsha6M2UxFztujZnTIBDRQlpdlSTwl8GEg5Cg38bQWUpLkaCmIKmnH+PBemTJk2K9llfaLUURtXmWA47jgc7I5CS8uypF2vWHRP0SlUV671emsdDdEC+GYHE2GkQRhBHYAmRFJKqZsDel9IjSzEGFwgjfNQa+Z1glQGNQOLepqGeNPUR/zY10Ve/+tVoz5B22szzt9JewWOPlDfSZpkPv2u+8pWvXCbpGElLycqVtLh4/mhJ83nEBuXtT5C0o6RPSJqR4J40ddGnJV0t6UFJvy2SVEcW+/xc0QTbTLET7N4v5Qg4Ao6AI+AIOAKOQHkEnDBKcWf0FsKIUuWkJZFWQXAXNxWqHHSUVecPfUiDuC2sxFZvKfdKffAGmWCFwKBWQ+GCsTbBdz3G2tWui7pi9uzZkcKpkuEvqRyMk+/NkHSMY/Vq6dpr87r55rxefDGnZcve0I47tujLX15X++7bZYZNM2KQwI25JmlGTJCN30lIki1evDgyBkbxws8xbkb9FhJGIY6VFDRWPYyA/fnnn1dfIozwL0LVViklrdb+tc/Bjr1kxFvo2WOkB9+zUh+x13geNOOLFXfuSR/H/WEkB9/Zr1YlzLBElUQFycmTJzetzkt6/Eldj3nzHMOTjvTgZprtTyPl2J8QUtzTf/jDH6LqlzwruBd4LmbViilpn5f0B0nfkPTvxb75/2cljZP0QPFnGE6TIkZpe4z6kkoJMxLockmflHSYJAOBtx6ziqojVFBGLmUFkffjCDgCjoAj4Ag4AmsxAk4Ypbj4PZ0wInDnTS6eMphaU82o2WCyHqIG6EO1S9xKbHGWDAKI4Bl/kWrNPHwgMghs+Z5EI90F7w8IOFK+ShupWARHvFmn32bUVOG1yURcskS6887bteuuIzR69Kj3PsZzhT5J/YLIQnmSZAtJMlRVBH6kvYVpdgSN1Qij0vGE/j0QIewXGgoa+iB4j+uPkuRck7wWhBEpOBAPSTawIyg3Agn1IA1C2FL/0lQfkY6E0o+9ltT+ThKfuNdiz0J+WeU1qxKGOgWM8VjrKWmAcecU9ziIM5SSzDFu4YO41+Y5gKoLZekXv/hFPfnkk9Gp3M/HHHOMDjjggIhETfo5VTq+ImEEKYOa6MeSzpTEL4LXJM2RNKXknO9IOk8SbyM4J4nWQg0DSdMlLZeEkul1SesUyal7i6TRaQmSVEmM26/hCDgCjoAj4Ag4An0cASeMUlzg7iKM+EOcQKZag0yBVCEQIt1gxIgRiaQAQEhAHNQiahgbwQK+Noy1nkpscZaM1Dauj9dNucabbcgy1CoQOpBljfoVlbs+gRYV40jBCt/Mm6k4XhoE0ZBFaaRWTZ8+XRBwVDZq1iMpDt4cw57C9BzlEsE1ZBxpH6inQgNb1ruSwqhaX1Y5jxL0BJHsXRrKOCNAStOG4o69O49LizAK51RJ3WEVw0w1U493Vi3MuP9IRURZBsHXVxp7F3URhKjtQeaWFRGXJY5ZGpeD50knnSTub54RqBPZn/wu+cUvftF05c0QN8hTFJF8Hzp06H5FogglEc7zqHkmSpor6QeSvl2COcffKukUSSiCkmhGGEEMoSz6KsLR4MKkqN0k6awkOvNrOAKOgCPgCDgCjoAjEBcBJ4ziItXAcT2VMLJqXKQCoICpVAK9gSlHVYMIpvD1qNQIXiETMC9OWtljfXJtVDwf/ehHPzAMggTIMtQX2267bWJkWdgRQSV+GRBR5v0BkUfqH94n5YiURvCudM6MGTMik1rMaiHP8P4ZNmxYFHSlVX3IVFWsKaQhfTGGUi+SRgkj5koQyXwmTpwYEXyW3gJBBebMDSLOCKTeUO48C8KodJ+EFcPAzkqjQ8QZdhAgzfjIcH+hOCQ9tZk01yTviySvZamE+KSZ+sjSrNiboQl5GqRwknOpdC1LK8zKhwqVHc+sa6+9NnpG33rrrdHX9ddfX7byYqMYXHbZZfqXf/mX8PTni8QQ/kG0wyVdL+lkSVeU9LN9MS0NE+qkCBxLSYMYukcSJtcw4hBJyyQ9Luk3ReNriCT+dsOYLqmUuEah9PMcAUfAEXAEHAFHoI8j4IRRigvc0wgjVDV4bhDoEMygBEk6kEG1Q4pBJT8WAlXIHHyTttxyyyjVIUlljy0nqVCUYP/4xz++xgpDZhGIgAVBEMFxGo15ovJBXQNRQ0COmooAjOpv/CzNdvvtt0cpJKg86JNxUHEuzQZBRwqSpdlVMvsuRxgtXy498UQ+MvAePLhTI0aUH6kRRnvssUeUumItTBsieLfqTBxj6hmIpGYrwaWBX3cQRqXzMO8jCDjuEe6PkPQAw3rVR1yHPQ+hknZaURrrUuuaKGF4joWkNPe9pQGCJbjSBg0a9B6BhNoqLdK21pjr/TxLlRj38IQJE8S9/etf/7reodZ1PC8s+B2Byuiwww4jvewQSVMlXVy8EEbTkEfHSfpVycXJ832qeOypdXVc+WAjjF6QtKGkBZJWSsIlHMLoy0XF0x2ScGQnv7TLmV26tkguJTQUv4wj4Ag4Ao6AI+AIOALvI+CEUYq7obsII4I91BZhC6uA8QaX6ljNqAcqwfb4449HaV5TppTaPnSlLFkaHMqecuqTpJajdBwEI4wLQovglVSwaiWzmx0H/d1yyy2RygZ1BfOmZWUAjLqJ4NUqzkEQptnMH4k+SXFkj1VqIWEEQXTTTS26//68Xn45LzyYNtigoG23LeiQQ1Zrq63WvAqk1IMPPhgFldXUQ3gdheoj+iRID1Ufaa5/PVg//fTT0d5M2sOonjGEx1YiPbhvDL+wslWlfsCffQ8JAGHS1xrkO+R4pbRX5gtRbPsQAg1sIS1RdVqVsJ6sgstyDXlm8gLh0EMP1eWXJ5XpVXvXFT2Mdi6SNOcUVTxZK4zMyPpSSdsVvYvwUcLDyHyMyOvkRmotKo9QF/WTxMN2Ye2Z+hGOgCPgCDgCjoAj4AjUj4ATRvVjFvuMnkIY8Uc/3kIEK3jqJFkZqxQM3rrztf/++6/xEcoQAn2C9qTT4MotSDiOUNWEnxBBSRZKk2nTpkVYM/csSCrDgbfnpAaa/0eaxAhB3gMPPKf/+Z/XtGrVJnrrrZXaa68ttP/+G6uSf3hIGP32t626444WvfJKTptuWlBbW0FvvJFXZ6e0664dOvHE1dpss/dX2Agjqt/FNSiHQEVlxbmoj6xkOudb+lV3qj4gjFizcumTsR82KR4I6WHG2aXqIyOQyikVOYfnTj1rleI0Er80pDR7Ko5fG52zD1HsWPU18z/i/jQVXE/z4IpL0CYBLs8SvPROOOEEnX/++UlcMtY1ioQRx86TBEWNFDNrDyMbK087CCEUR23Ff/N9QJEkgiDiq3/x+/qSrisqkWLN1w9yBBwBR8ARcAQcAUegHgScMKoHrTqP7W7CiD/ASXfhTTiEBURN2m+zFy5cGEn9qXCDgokxQN5QAYdgiDQ4TIrTbswbY2mCcFM1ofYhFSwNZVXpfAgOSUlj/lmRVPTJnDGPhRDDzBsz8bQa/V133TP605/atHLlJmpvX19vvPG6hg8foB12GKAjj+xQOaGREUZPP92qn/+8Tc88k9cuu3SqjbCo2BYulFauzOszn2nX5z73voF7EiQEajsjQAjeTfVh5AfBe9KpmtXWoKcTRuHYrbKV4Vct5SpLsiGtPV7tujznSD9D7dZIC1Vw7ENUoTybSJ20vQipmcXzqtL4UVDhuzZp0qTU7wmelRDsZ511lr773e82AmlD5wSE0d8kjSlWSEPJs6RGlTQWHr8hb46AI+AIOAKOgCPgCPRZBJwwSnFpu4sw4g9vTIcxByZVCO8ayJIsVDWk1hBg7LvvvhFZgqoIhQ3pZ6ShZeXdQZlyvJJQ2RBwZWXaynYKTbUhHzD9TTvoI9iEGCOQpzIaxtoEnZhup9EgXaZNe1TXXLOpFi/eQmPG9Ncmm3Rq4cLn1Nk5WKtWDdT48Z36+tc7tD7vwIuNPcFYOf/Pf+6vP/2pf+RZtPnmaz6KUBgtWJDXuHEdOuus1erHO3XqXBdVK0mlOZnqwwgQ7hsaKVSh+XOa+7Y3EUale6lSyhV7D88jPH4wKE9T5ZbG/o5zTZ4vqNXYi8028+Cy9DU8uPgZGJr6CEx5nmXZeI5AjFHEIO2+eSbge3bhhRfq61//eirTxPwfIj1sRcIIs7sZkvAIsnxqlDufkbSrJMik6NFQNLzGW2jbDEyn7cHo5tap7Ai/qCPgCDgCjoAj4AjUQsAJo1oINfF5dxFGBBvz5s0Tb7AxO96q1AimiTnVOpUAA5IIkgTiiDFAWmBwnVUj0CIVhuAAr5Vdd901E1UT80NxgNEvRAQN7CHr0mwErVSjIuAi5RCz6zlz5kSqMv6fdCOVhnLp06dvrgcfRLXVJrzDTdG26aabaunSDSI/oqOP7tCUKV2xDp+jUEFhxNdvftNfN97Yph126FD//opINb7y+a7H0oMP5jV8eKe+9a13tSE2sFKUzpOmLw5kX5h+ZT5QofqoXvPnWviXM0+udU5P/Jw9z/430sPIN1SN7AkwRD2TJvmWJS6kfUKYYeqddOP+sNQ19iP3No3nmRFIzVaxizNmUiVJvaOIQdrrxnxJSbvyyit14oknxhle3cccdthhUTGEffbZJ3qJwf1+6qmnUn3s/0jCofxjkroM57rURvOL5e1/Kmm5pBMkIds8WNItdQ/AT3AEHAFHwBFwBBwBR6CXIeCEUYoL1l2EEcHFggULIqIi6+pEpDBAmBBckHoGWZOl4S2BFoEcZBGNlLS00/BsCxFcQZIxX8ytWQPemEPapdVQb0GO8fYfrG29586dG3n8kAKYZDNz6379+mvatEn63//tr/HjC8rl1iSMBgxYX//7v3kddliHvvKVzvfIIkgFU1tdd11ef/hDq7bYokObbLLmC/RCQbr33lbtthuE0fsKIyOMsqi8ZQRIafpVkqXnWZu+QhiV7jMjGyA4IJJCw2cjPXqz8ghiHLXcuHHjkrzFPnAtiFZS/4yIA8uwil01H6lmB0Z6Kwq40mqTzV633PmoU/GX++1vf6t/+qd/SqMLXXvttZo6dep7yleeRW+//fZjkqZLukDScyUdY0D9Y0mTi55B90vCGBs1kjdHwBFwBBwBR8ARcAT6PAJOGKW4xN1FGDEleyOd4vQ+cGmCGMgiSAyCGAgMqnRl1QiqUNqgbNh6662jylNZEEbMm7QN0uBId0BRxbxnz54d+TalkRZmah7e/tMHBFWofEFhhg8PP0+ihf0R7O+yy4d1zjnr6IEHctptt/fJHoJLPl9vvQ00f35en/pUh046qT0KcI0sMqXC449Ll13WpoULc9pllw7lcl2qLKmg557LacWKvA499F19/vNd3i6ch2lwd5VqL2f+DFEXqo8aSduBMEKZR9pPX2qQtqRtUUWM+8EMn0PjcchcS/3rbeojiFr2dFL3WNy1typ2RiCV+kglqeTKsoIfz1DS+/785z/rU5/6VFw4mj4u8DBq+lp+AUfAEXAEHAFHwBFwBPoaAk4YpbiiaxNhhLSfQJ6gkEZlJIiMrJopbfBpIoDjzT9pUwSraSqcSLlj3lSPopz8yJEj31PQ3HXXXVEKSdJpYQSMqKhIrcDEGyVZabrIPffc857qqNk1ICimP0iNsL8rr8zrL39p0XbbdWrddbt6McLo3Xc30JIlOR1xRLsOOWR1pDBijKVeTlOntmjmzLwWL85p882pOGA+EAAAIABJREFUkoZPkbR6tfThD6/Wcce9Hf3cGvsLby7IyDil3Zude6Xzw9LzmDuz/2mWMkQKFvsujndVXyWM2J+PPvpoWf8bMx63tCuUgewPnhlGIPV09ZEpKZNW8dW7Z81HyrA0JRcEnCm5GlVZUqwA4o/naNqN5zVKphkzZmjKFLMRSrvXKBW2N/0dxFjdzyj9beE9OAKOgCPgCDgCjkARgd70h1KvW7TuJIwgMgjSs2hmRExf22yzTZSWRcoQwUrajTlCUlAJjmATc2uUNQRP8+fPjwx3KZmeRjO1C8EuQSPpZ2EjLYxAjTEl1SAmUFHhI7TddttFBE65RjocAXiz6TIE9kYE0t/mmw/T3Lk5Pf10Ti+9lNPf/54TPtHbb1/QgAFdhFH//pvqpZc20NixnfrXf31XQ4Z0liWLGPe770o33piP0tdeeSWn9nZFfkUf+lBBn/pUu7ba6v10NkhAK2XOvCAUTHlk35PCuZ7rsAdNfQR5RMqQGRaj9oA8Ym9WUh/1VcLIDJNR+VVTGkJI4rvGc4T71srNc++YegvyIwvT/nrWHYIDVV+alQjrGQ/HVsKSeyXEMq7yk6qLrMuee+5Z71DqPv7OO+/UJz/5SUF2J2EkHncAvYwwijstP84RcAQcAUfAEXAEHIFEEHDCKBEYy1+krxNGYZoSpAzKHt5uk4qFAoQSyWk2iBrUJvgmlVZhI2gnLSstpRPBMKobAjHmil9QaUs6LSw01AZrAsBK7d57741Ii2YMeQniIadYU0iv55/fVJdc0qJnn80JIRnv5TG2piEmW3fdghYvfk0DB66rHXboHymLJk7s0JNPtmjlyrzWW6+gbbctqFyW4tKl0mOP5aPrUTVt9Og1ZwZxRQoQY4KUJPWP+ZWSopBkprZK26S3EvbsS9aKQBsCibFDaHGPmHomLJeOigM1Tl9LSaNCGoTD5MmT6yJ7wMvSrfgeqo+M9GhUMZPk8whSlvs/jZTTpMbJi4MQS0jXanuxtF9SCiHweI6m3f7nf/5HX/jCF6JnepaY9iLCaBtJ9kv1CYpGSio+gdNeHb++I+AIOAKOgCPgCKytCDhhlOLK92XCKCRrwjQlFDB33HFHpLhJszIalcFQvqDswCi1tBIcQQ6VwqjWhsIjqQZBgcrlmWeeiQgx0s0qva1H4YQqolmVD2Mn+Ea5BdEAWVQrYEb9ANHT6Jt6SDhMfc24fPHigTrzzFY99FAuUgBtvDEVz6RFi3JatQqShxSyTr388rPaeef+OuigjbR8eU4zZrTqxRfzImNrwICChg0r6BOf6NSuu5pfUe2VsbU2JZcRZagprPKa/Tu8Wk9RH+GpZcbZqNIYMyo4I49IZ8RMPIu0n9poJ3dEEhW2wMrUR2Bo6iOIGku3Qr3VHeojlDAYoKdpap/canSZ0nMv2V4E11AJZ3iGSjhIcZ7pPEfTbtddd52OO+44LVy4MHoBkFXrYYRRuZSzvKRPS/qhpBGS+D85sJhx8zNvjoAj4Ag4Ao6AI+AIpIaAE0apQRv9gZ5NTliZOfAm2Uq7Jz1FgjbIGgKJUrKGfm+77bboDTHG02k0IzMIbCBPyqWcEaQnrXTibT0qFwKu0aNHa8yYMVU9apJQ+bCFUGkQRA0ePDhKf4mTTsL6oNTYY4896lqCMMWPABJlEThfdlmLpk7FY6agMPOOHU56Guqi00/Hh+b2yIfopZdGaubMrfTsswMEXzdoUEFvvpnT66/nIs+jo45q10c+Uvv2QKEDcUXqD2tdTsllE2S/Q5IZeVRJfdRdyiPGaeXSLWhnT9Egt9hTYA4Z2LtsVcpvMUznSRXFlyap+ZRTzLCepX49SfVX7eZBQUi/eIj1xsZehKy0VMDQh8uUXBDj3E+oKNNuv/71r/W1r30tUuVlkc5s8+lhhJENC1KIByRfPMR/LuluSZdJapN0vKQjJf2bpF+lvTZ+fUfAEXAEHAFHwBFYexFwwijFte+LhBGpM7x1tgAek9+wEVzceuutkb9O0m+JIQBI38HzpatS1y5rVAYLx5G00slIMkgYVEWQN7Ua6VwQaI2mc3AuBBUBVByCKhzPAw88EKmv8HCK2yBbUDGRbhem+EEKHXlkq+6/P6cPf7gQpaKFDYXRU0/lompmxx//il544VVddtlGeuihDTVy5HJtsEFbRILw9fbbrXr00bwmT+6ICKaWlsqjg3CgchJBebW1LncFq8pm30vJo56iPkLxgWLN1B7MBVWXqY+6Sz0Td89UO46qgdyv++yzTxKX+8A1WFPuy1AxkyV+eJShXsTsvrc3sKTamqWvkVJpVQ0hjEeNGhXtSZRxabXLL79cZ555ZvQiIs1+SsffAwgjUxUdIuljRRKIYfbD5k3SCZI+J2n/YOzkI18n6VlJx6a1Jn5dR8ARcAQcAUfAEXAEnDBKcQ/0JcKI4AGly7PPPhuZO0OaVDLxveWWWyKfGYKMpBrkCUoTqqFRiYzrV1OKoES4/fbbI0VOabpavWOiShC+GlamnjSUOK0R0sauC5EA4QRBxRzw7KmngRXB9KRJk2KdRj/0B3FBis3QoUPfO4+KZUcc0aonnshpxx3XVAVBJnV2FvS3v+V12GGrdd557Xrwwbwuu6xVy5e3a/DgN7Vq1Vt69913ouuxZxYt2kibb96mM86Qxo794COIvQaJAmFEWiPjaUYVZIqjkDzqSeojq0QFsWgBOyQIez5Uz5j6KNaC9oCDeFZggo7CKItm6iPD0Px6TH2UtHqLKojclygN+1qzKoBUuePffNFQ+FnqGrg2c1+WYnbBBRfo3//93yPiKsnr1lqbHkQYHSTpPyTNkXSOpEeLY/+CpK8VfzZbEg9T3gT8QtI0SWfUmqN/7gg4Ao6AI+AIOAKOQKMIOGHUKHIxzutOwoh0A/sjP8ZQqx7CG1+ULqQvGBFULeWDssgoVDg2iRaqe0h1i+ONxNynT58ekQ2VKonVGluposnSs2qdZ5/XS9rYeZBi4E3qmZWPj9unHQfBhV9OHF+cUnPrcukgp5zSqttv7yKMSDmjQRaB0dKlmF3n9eUvt+vkkzs0d25eV1zRGqWpmRCro6Ndb731dhQMPv88/kcFHX74Qu2+e1uk0uAL1Rr7FtwgTAjEhw4doeeey0dG2++8gw+SNHJkQVtvXVCepI0GmqWuMfae4H1E2hZpluFaVVLPmHcPa9QTK4eFy0EaJV8f+xiiiWxbiB8EEvcCLfSOQr0VJ72z0sip6gUZjfqvrzbzaYL8t9Q18OT5CqkDhkYgWdXCRrE4++yzNXXq1OilwFpGGBlkrZJgV78paUNJl0iayraVdFUxNe1mMlglHSxphaQTJd3TKOZ+niPgCDgCjoAj4Ag4ArUQcMKoFkJNfN4XCCNIIpQyBNaoikpLx5eDZ+bMmRGpk4S3h6XA1avuIWBE6cQYRozAJ7S+BnEBaWOKJtJO6vVFIXUP/OJWv2LMBNgouQjEIKgaTc0gtYwAj5Lm1Zqpp8zcupJH0A035KMKaStWSGPGdKWlMd5338VjKa8RIwr68Y9Xa7vtCnrwwZwuu6xNK1dKo0d/0KfoH//IadCgt3XEEc9r4MAXhd8UbdCgQUIlgjIEYnDDDbfQrFl5Pf54Xq++Kr37bk79+xe05ZYokzq1996dZSuu1bPSoXG2VV0L1UesuaWvpRXEQhhhel1NDRZ697CuVjkMrxnzmyFg70kN/xvS0qiS1t2NPRVWCwPPeqqFlRs/5v4Q4yge+2q7++67o/217bbbvjdF7hlIZsPTjMgtlZLjGyHjTjvtNE2bNi16Btb7rG0G/x6gMCodPvnO35b0CUkQROdKWi3ptKL5NZQ9fkYXSXq4mbn7uY6AI+AIOAKOgCPgCNRCwAmjWgg18XlvJowImkkpgbwgBQvyolZlLoOKN++8dcYQu9FGUEIgTdBZKwWuUh+NpsaFFdggLoYMGdLQNChJDeEUJ2AO/YMwC282DatW36G5NeoePIIqpRgyeaqcnXdei2bPzmvJEmn99buqpK1cmdPQoaiFOnTcce0RkYSP849/3Kq5c1u0ww6dGjjwffiWL5f+8Y+89tmnQ6edhkm2ItURFbUgF4ysQW20cOFIPfHEYPXvP0DDhuUidRHcEmojsgIhjCZMiF9tLc4ixjHODkmkONesdUwcwii8BmMkSMfbiqDdAnZLF+Lewwg+LYKr1nzsc9LRWNdapGXc6yV1XKVqYZCzRr7xvZb6CGIc5U3SXm1JzTOJ68RJu6uUCsgeNPURZHAtEuikk04S1R15dtU6Nom52TV6GGGEyqi9OLYvFdPNXpP0fUm3JTlvv5Yj4Ag4Ao6AI+AIOAJxEHDCKA5KDR7TnYQRBAQqhEYa56GOQX1CygXkRT1lqylnD8mEIqmRVm81skp9NJIah9KDlKhm0sFsPBg2o5Cq5eFCyh9VzXhrj1k4/kHNBkx4j5DmVC4diL3B+jK20Ny61lqtXFnQ73+f18yZOS1ZkosMqyGLDjqoUwcd1LGGGfb8+Xn99rctkfqIymqQRqiTli7NafvtO6P0tV126VIfsc9QREFI4teEWffTT7+uP/+5TS+80E8jRrypQYMGRnuKr9bWfnrwwRbtuGNnRFSts06tkTf2eag+SjN1rV7CqHQ2+E+Z8bOlC3G/GvmRtllxJXQxp8dAPa7CrrFVav4s1EdWLQwcQ/WRYVhKeEA6QRiRdhv6fTU/mp51hVmzZkXzi+tHF5JxlgrIzyCATQ3Hd/5f2o466qjIt4zqkmk0fNGuueaaqCgDe5PnLumEf/vb31Dz/ExSl9Tx/Yas6nxJSOQY8P2SzpZ0exrjK6aalUoytyympo0vVkqjItqSlPr3yzoCjoAj4Ag4Ao6AI/ABBJwwSnFT9EbCiPQgyAu+l5ofx4WKctOWQhb3HDsOrxH6J4iLW42sUh+YXkN4hekUlY4NFTcENCiqygU19czHjJunTJlS8TTmi9k0hAR9JlVOGmXYiy+++IEKVSE5Vc/6hn4/K1d2atGiFrW25iIvoUqVzhYsyGv6dPMfymmddQqR/9CBB3ZEZBHXREFG8IbKCbLIVB2PP57TX/5CCbV3NGDA0khFs3LlqghH1mXlyo214YYDdcQR/TR8eDaPsTjqI1P11KPuYZ+gRItrUF5tDzJG9pQRSGG6n1Veo7JhPeOrZ8+Hx5qZdxwfrUb7SPo89iSYGX5gaYRHWLkO/CBTeLY0a6qf9BySvF6zKipePkDGWfoazx8aezAk4yA4Dz/88IisI9UvjfbNb35Tl156qQ455BDtueee0XOE+V177bV092DRI+itYt8YU80vqn0gkzDBolrZjsVUsRkJj9EqpY2VdKCkjSQ9Len/FSulfUXSd4p+RRhiP5Rw/345R8ARcAQcAUfAEXAEyiKQTaS1loLf2wgjFCmoa0hN+shHPhKltTTSFixYEClkdtttt7pOh+BAaYIXC/3zVr+ZRkBHOhvESLVGUINJNPPHIBvfoyQCagJmCJH99tuvbPeoL1D6oKzB3Dpuyl8cTMqRVSE5Bb4EbHEaATOqJPP4AZu4CihEblRXW7UK36JC5H8EwQSxQeoJKicwL/WIeuyxLsJowICCNt+8a5SMYdmyN/Xcc2/rkUcwwc5phx3e0Lhx0q67DtDw4ZtEJemzaEmqj5IkjErnToBu5AeBOxhCyoXqo2aJ0Up4N6ucymIda/VhhIdhiJqLvY/SDUUg/mh4GMW9H2r115M+Z49D3iSlouL5Qfop5BFf7EdeDJxyyinRM5f++N1DsYI0GsoljPQxiw9bLpf7gaRvSTpF0uXFz/4g6bOSxkl6oPgzfiHhGQTrBbHzQYO2xgZuZBEqoosl4WEEQUWpSsbxXUmvS6IcH1XU+I4x9nVFb6PGevWzHAFHwBFwBBwBR8ARiIGAE0YxQGr0kO4kjPjjmz/G47TQL4i36PjZNBNEopihb8qEx2n0T/oWHjaDBw9eQ2kS5/xKx8yePTsyX8WHqFIjgGG8qArwXMI/KKmGhwtB8wEHHLDGJQmcIAkgkzbffPNISVXLL6XeMZWSVaR9QQbWS041QxZVGrOlHEJgodAol9KzeLF0ww0teuWVnMaO7YrLOjulRx/NRR5GTz6Z07rrtmvw4JVad91l2mSTN/SRj7yqrbfuF5GEKJYgPLMK5OOqj8oRkewF/IhQPaTZGOPSpUvfI5DY+zTIj1B9lBRmWc0rTczCa5v6CLIDRZhVXrN0K/PrqeYFltVYk+gHsgw/OsicRn3cqo0D8hLS/Ec/+pHwSsLsmsZz+MADD4yem6Qzpk0C53K5XST9TdKVkv5ZEq5r+AZR3r5UHorK5zxJ/HJDgZREo94jZmyQQx8qKokYz2ck/bSoOLo16Oj/SkJl9N+S/kXSG0kMwq/hCDgCjoAj4Ag4Ao5AOQScMEpxX/QGwog35lQDIwjCp4K3yc0GjFRVIxiNEwDTP8fztpm+GUOz/duSzp07VxgBQ4CVawTpzJ0gHsVN6ZvnZrcGARBEGIGPzQkiDeKGgBP/DN54JzXfcLykefGFuonvEEgQKWARl5yCYLAvM3pudqyW8ggOpKBB7FRqt9yS19135yOD6yFDCnrhhZwefDCvl17KacMNC5GhNoqlRYtyeuWVDm2zzRsaP36hli597T21AkE8ffCVVSAf4hbH+6i7iBW8okL1kSk8QvVRM5iRFslzZeLEic3eSj3ufLCjghjqOIgPcAzTrYyAg4xr9p7prsnzbMaPDgIHIj/NBhk3YcKE6D6lwiYqIwg51KaQ7mmm/eVyuYMk/VXS94pqHjbsXEkoj/A3ChtyUcibUI3ULDRGGD0q6c+SzgwuuEjSWZKuKv6MPN0OSdtImibpEEmPNDsAP98RcAQcAUfAEXAEHIFKCDhhlOLe6OmEEWoDyBreJKNyQe2SRCPNimvX8i7hGPyKCFTpH0IjyVbJS8kqwEHmQBLhHZTGW2yqzGE+vf/++0ekFGQJaiaCTcgSAqO0GuolAvYtttgiMpUmdQY1T5zg1VLPLA2tnhS0avMhqDZD8Tgph6+/Lv3mN636+99zWrYsp6VLpeXLcxo9uhARSBBGbRSYxuzj6VxkrP3pT3do+PD2aP9BykEKgjeNtTbyKE7VpiTWxggjI5EMW7s26wGhB7ESh2BNYkzlrsFam/oIzJIgP7i/uOYee+yR1rC77boQ4jxfeG6xpyzdygg45s3PINzCymvNKDeznqzNkWdV0s/m0rmAFYb/n/nMZyKfIX4nzZ8/P1IenX766bGeW43gU0zRhByaUPQnekzS4ZKul3SypCtKrkt+M2lpPyoSOY10W3qOpaT9XhKVIlAQQQLtWySK9pEUGjvZ8WFFtSTG4ddwBBwBR8ARcAQcAUfgAwg4YZTipuiphBF/nFONBjIDBQ7BO9+TanjTUG2sXIUu64P+OY7Anf6T9O+xPvBSguwYh8lNsSVdvr4aZswRT6Z99903Cpwh55KovhZnnXgrDxEBIVFPqp2ZWxvRkRRZRHl1CATMbuMYiqMiuv76Fj31VE4LF3YRRm+8oagi2n77oSYqqJVwqdiWL1ekPDr44E7tsQfZHV3NAnlIEL5QsvEzCEJUIATCBPT1VAGMg3+lYyx1zXC2/YiaA88v1sswT8JHq5GxMjZTH4GZkR+WegVBQqpnLfURzxd8fuKmpjYy1u46Z8WKFRGhwV4u5wXGuoaV18qZPXMvxCFwe+ockxwXew611kknnRSlqGXV8E+6/PLItgglEYoi2pGSrpZ0nCSqkoVtlKSnil5DpyY8TnKn6Q/Da9LMRkjC0IlxdLmFe3MEHAFHwBFwBBwBRyBjBJwwShHw7iSM+AMcr5jSFhImKFwgE+KmKMWFqlKFLs43s2MIhLT6t3Hed999UboIqQ40gmAUTVTcSqp8fTVMMPHGTJtUOwgcFC6QY1SQS7ORygFZxlt6SIhqaV/hONLwK+KazB21FWqnTTbZQbNnt0U+RJhf77hjpyZN6lTob75smXTVVa2iytp66xU0eHBBFFeaP78lUhlRYe2jH+3QgAHvjx7C6OWXuwij3Xd/nzAqxRlMUIEYgcQ9AjEDAQJOEEikwWTR6BvFFcQC6q9SFYelATK+7iKPwAHMQvWRGT/jEQVZAm4QzqXkB4QwxIrdf1lgmlUfEGGYKHM/s3eqtZCAY++BJc/BrMzHG8WE5wjPUAj3RgsgxO0bjNhH3/3ud/Xtb5dmgcW9Sn3H0c8PfhBxRP8p6cTAxDprhVE4cBRGKIqGFIkpiCur3FbfBP1oR8ARcAQcAUfAEXAEEkDACaMEQKx0iZ5GGJFiAGFCEIeRKW9003jDjbIFw+fS6mBhSXcC5OHDh6fSv60HcyW4JSWGlB8UPrRKqoCkt4IRRlwXM22qtaUd+FN1DJIK9QdzR90UhxA0sohAlpaEsgiigfREUsPwplq4cIz+67/aIiUQiqF8Xtpkk4JGj+7U17/eHqWa0e64I6/f/75F/fpJQ4d2/axQkB5+OK+HH+7yL5o4sfM9M2w+R4mE1xEpaSNHxitexJwJ/I084t80yA9LXYPkS2PN7F7gnrR0zDjG2SGJlPR+jXO9SmXnIUHDsvPsOdR1zG/8eIo/9a0G6UN6aSNkSpj+B4FkKZP4HVn6GuqjNPZdPatgz0zWj7Gl2bgfSIn+6U9/qlNPTVq488GRn3POOTr33HN11FFH6eqrr8YXKGSZs/YwShNav7Yj4Ag4Ao6AI+AIOAJNIeCEUVPwVT+5JxFGBO0YPJN6A2FS6614M7CYf05o9mzBBwEn/RNcpt1Qb0ACQIyRHkPQgyIgCwUJZA0pK/gWpWlubRiCK8bWkHVWJYw5T5kypWbqUBrm1gSAEHTMH6LstdeG6Pvfb9Pjj+c0ZIi08cYFdXQoMqyGPJowoUPnn786Uhr98petwvB63DhUGO/vEiqmcf6TT+Y1Zkynxo/vjFRG7e0SqqTx4wsRYYRyqZHGmpn6iO8QXqYCAVP2bBLqMAhbyAa7F8qpNywlEHIhjnF2I/NN4hww4t427x5UU5BaEG0Ym5uZcRrEdBLjb/QaSZIpVmoeDFGbheojI5CS2Hf1zhUilWcohHsaKcPheJj7yJEj9ctf/lLHH398vUOt63iIIgijL33pS5o6dSq/E0v/DhokaUmNKmkYc91TV8d+sCPgCDgCjoAj4Ag4Ar0QASeMUly07iSMmBYBcEgkQBJB1qQdfDz33HORPxEKI96S83/8a7IkbJg/SptFixZFgT9loUm/y8KrhlQO1E0EzAT8mH/j1ZRWow/mirk1QdeHPvQhoTQi2Pv4xz9ecb3NgDmshJaEqgGSDrKI67LfIA8uvLA18iTaaquCNthgTSSee64rPe3UU1frwAM7ddllrZHKqDS1DGJozpx8VCkN9dEGGxTUL9+hLTd7V1M+9q7+z7H9tcmmyTzSrAS9qY8gvmgoP0x91IgHDUQDxC1+QPV4d8VRH3V36hr7CTLMyCMrO29+URBuPIOyuAfTutfsusyRdcSfKUn/N+5lcDMMIZNoPD/ADwIJgjGJ+7QWRjw7UYlNmjQpk98ZO+64o373u9/piCOOqDW0hj8/77zzdPbZZ+uLX/yikUUQnOUeGtcVy9rvKokS99EyFA2v35G0bZDC1vB4/ERHwBFwBBwBR8ARcAR6OgLJRFc9fZbdNL7uJozw6oE0IOilShZEQhaBhqViTZ48OfKveemll6KyyChNsgoWUbhQ9hrSjPS7tNPfbItZShhv5CFvIHKofgW5kEZjnqhVWOvQ3BryCNIG4/FyFeDSMrfG7Jw5o+IyNRdEz3HH9dPf/57XLrt0qjQ8e+cd6R//yOsLX2jX6ae363e/a9FNN7XoQx/qjCqfWeP8J57ICaXRkM3f1ZB1l2rVsnblC53a80OLdOzhr2vwnqNU2GqrxKEmbciqrpkKBNLHyCOC+Vqpf+wNAvC4xt+VJtFb1EfsP/Yn84UAgUDl+QOBaOlraStXEt8IxQuyF9jnEydOTFWxyL4zBRf7DkKJZ6gpj5JSvZXDiec2RP/ee+9dU6XYLM68YEDJ9Je//EWHHEKl+OQb5taYXKM4hTiy30VHHnkkJtc0SthjMk0bI2m+pNWSfiqJfNUTJO0k6WBJtyQ/Qr+iI+AIOAKOgCPgCDgCPQ8BJ4xSXJPuJIwgSmbNmhUZX1MWGcPhrJqRFbwVR5mRhcF0ODf8RUzhQ4CKj0/azcyd8W4ifWmXXXaJSJx77rknCoQIkpNuNk/6LjXfRR0ABh/96Ec/kE6Slrk1xtYQhASx7DmrooX3+jHH9NMTT+S1004fNKSGUHroobw+97l2nXlme+RTNHVqq158kQpvnWprk5Yuzemee1Cr5TRsy3c0duDz6li2QqvVT6s611Guo11HbPe/+tTB76hz4kQVhg5NGu73rkfQThBvBJKZQJtxNiQSRIgJF8B74cKFUcogPi0oKZIiTs1zKkxdo7+wmfIoC7I47BcFDuNjbzIm7gdTzphfFMSikUfcI0nhktriG7OQofrG5mKqNyOQTPWGwskwTFJ9RGGCxx9/PCKd0947mPSTPnv77bdHqsg02tFHHx2piqq0WZI+Fny+naQfS5osqZ+k+yWdI2lGGuPzazoCjoAj4Ag4Ao6AI9ATEXDCKMVV6U7CiAANNQOVyNJMhyoHHz46EAcQBrvuumuqfkml/RPkMG+CKN7Co3YqNd9OeslJeSM4NnNnqqJBFpBagsqJKlHlSm83Mw7e/mMoDTEBxqVKDZQ+KI9QB4QpM2mYWxPI4pfEmDD3xtA8DDDhL771rTZNm9ai7bfvVGmRuFdfld58M6fjj2/Xl76EZ490440tmj07r+efx8y6EFVAe+qpfGSSPah9qfIrlmtp5/pa1d5PLbmCVrfntPuoV3Xlx65R/wk7qXO//dSwmVEdC2NpWJa6BolHgwgx9RFrwT4cOnRohE0lOkMQAAAgAElEQVSafj6hH1V3ex+FJvOlkEJkh95H3ENWrc7Ijyy8xupY6jUORS3GnifdFKVZdzTUWxBw4MiXqY8gLg3DcurCuGOFAOZZDoGT5p5lPHfccYcOPfTQyPcta5P0CilpcWHy4xwBR8ARcAQcAUfAEejTCDhhlOLydidhxLQIykrVBilON+oLJcVjjz0WdUMFodJS4Wn1T3BM+gR+SaipUHHwb4grzLfTarzlR8mD1wh94pVkDUXFnDlz6iptX2ucoScVahUqbJVLhYLAoOw3/iNW4SgNc2vSjCDLrDQ8pEi54HL69LwuvbRNixZJ22xTeI80ojAZRNDYsZ264ILVkccRDUNszpk5s0VLluT0+uuKUtE2Wf8dLXv+TS1e2l+F1jZ1dubU3pnTqndatOHA1frOPnfqyx9fqM7991dhyy1rwZn45+Bh5BHfIUJokHZgw/3QTBBfz4DD1DXzqwqfB2HFtTQUJNwXXBe1XbVm1epMfcR9Q4MEDdVHaYyxHjzDYyEAec6h4KuVithoH/Wcx1qb9xHkEV5Stu8sfa3ein8UL+AZSmpx2u3mm2+OvIsg+0ldzrI5YZQl2t6XI+AIOAKOgCPgCPQ2BJwwSnHFupswIni1lJUUpxld2kqok442ePDgyGw6DWVNuXlAjKFmIFBC3UMJd4JhyCtIpP333z+VlAoCXPoljYa0m9JqV5BJs2fPjhRAkDvNNjA2I28zt6705p+xkeaBfxKEUehZxDlJBN/Mj/mTkkUKWjVyEALo0ktbddttLVGqWVsbVdIwuy5oxIiCjjmmPTK8puHze911LZo3Lx+RRaS04XO0cmUOFlSvPL9aGCGt7mxV/7ZO5VTQ0lX9hJJp/PBF+o/PT9NWn5+owqhRzULe8PnsSQgTUq/ABS8aC+JR/FklO/ZM2uoNm0Qc4+yQRGp48sUTUbhBpkBq1tOsWp2pZ7L07Yk7zizTteKOKTwuxBAyl2cHzynUR0Yg1VJwkULJ8xwVVdrtD3/4g0444YSIoIJYzbI5YZQl2t6XI+AIOAKOgCPgCPQ2BJwwSnHF1hbCyFQ2fMd4mTfZd911VyYKIwJyAlMCIgLTkJh5/vnnozfWeBglqQKAfCFdA4UBAT9kUbnKc5AE+EhRKaxZDymuBQGB+gIlEybi1RpBovknYTpM0M24IYqSICgg5zBUJwhlfqZiqjYmSKMZM7pUQ6SaYX69886d2n//Dn34w13KotWrpUsuadWsWS164w1ps80K0XEvvZTTq6/mtHJFpwbk3hHs0HqDugy0336nVZ0FKZ/v1AC9rZP3WKCvfGdjFXbcMSKWsm6ozdiTELaoaywdkRQiUx9ZChFpm6hoLH3NfJ/SHnMWxtn33XdflK4FmdhoC5UzEEjm22NVw8CO/Z0EAVrPGCE2IFSySNeqZ1zljgVDnpOm4DLi0hRc7M9y/lE83zgH0jnt9qtf/UqnnnpqpFRMw++t2vidMEp7df36joAj4Ag4Ao6AI9CbEcg+murNaNU59rWBMMK3h5QkCBlT2SRJlFSD3Hx8rCJXqVeTVWvbZ599EvMZIfiiog8KA0gbCLJKwSpv+WfOnBkRWWGqWp3bSPjiQEDQSs2tK12Lc+bNmxf5gRBQJ0kWgTsYQBJBFpUjy6rNESXQW29Jra1Sqf3L3XfndfHFrXr99VyUppbPd12JcyCaXnxRKnR0aoN+q9Svf17vdrQon5PW7/e2BhZW6LU32/SJEQ/rghMeVdvIrVTYaScVgjTBerGv93jSgiD2THVWyT+MfURwbMbZ3DM0gmUjjzi3YXJv9Wrlnn66S661wQYqjBgBo1ZxOnHUR7bP45IzpESSfgfBmVQz3x6IDKsaxrMnrBqWhacQ6kW+MITubY3nkvlH8b3UPwosIZPwaIJo2n333VOf4mWXXaazzjorUitmsX7hhJwwSn15vQNHwBFwBBwBR8AR6MUIOGGU4uJ1N2FEIICyJI0GAYEhKm/ZSXMIiQPScah2g7KglhKmkbHRN9V78NggtQdCppwyw6q14cFRK/0izjgIZiADIGPGjh2r4cOHVw3oUZjcdtttUcCMGXQjzUgxPHBIbYs7DzPcHjNmTLQG4NMw+VAcuPknESgnXe3LsPnZz1p1ww0tEVk0YMCaiL32Wi4yzu5o79Rmg1Yp194ekU4D297Vxp1L9PLyQXo7t44+PHSxzpg8T+M2fFL5bceoc/JkFWooshpZm9JzMLcmZZBgG2IvrlcRuKJKMvURRAg/43wUNOxxgvhYFcRQkS1YoPzMmcq98IJy77yjwrrrqjBypDoOOECFsWNrTjUp9REpkWABqZpGs6phppwBQxpEpnkfQZY2u+/LjZ1qiCgYs/D3SQM7uyYYhtXrzD8qfM6QWhxr7zUx0PPPP18XXXRRlLYZl5Bsors1TnXCKCkk/TqOgCPgCDgCjoAj0BcRcMIoxVXtq4QRRAiBMQEypElpVSxIqunTp0fmpcOGDUsUYfrGN4cgcfTo0YIQqRQQVqoU1siAwtQ3yDFUILVaMzhAGGDYTWBazdy63Bg4F8UKKWmQXARgEA6MuVHTZeZCVTYw/f/snQmYFNXV/k/PDDtoRJRNQERQBJcEZVFxRRSNcde/4hKNxj0qJlHjkmhiXBJ3Yz41+uWL0bhi3MWIoAZEXKJRQQQXQDY3lH2Ypf/P7+LBounpru6u213dc+7zzMMy1bduvedWzZy33vMe/JPA3kcifvnlLWTcuCoZPHiNn1FwoDL65z+rZeXKhPToXCvfq1kmrZIrJbl0qcxevJEslfbSWFUjm3VaKTv3+0L6bPSFHNZponQfsZU07ref1/I0yAP8ssCZMrRCSiAhetnfSiBBwGoHMVUfpXbFU5yqXnlFqh95RBIYz3fsiNu2CM7iS5dKcsAAqT/hBElutVW2rbvO98Oqj1ITfTpeoZIqlokxe17JI0g31g1Rquoj/oxKvQJRTqc0uhBW0mCvqXcU97oqE1G+BbvXRX3vX3rppXLvvfc67zsjjCppR9m1GAKGgCFgCBgChkC5I2CEkccIViJhxBtgVDYkZ6ldwRRKkoxx48Y5IglyIarB22/OrSbL2XyBgsbPKA3yHSSGEGS8dUflE2xTn2lOEtbnnnvOqZE2pyQo5AiaW2PgjZF3mARNO2FpNzROR7wgHih9UvUACgwlj8IoMMAbko7Pk/wXUl6XDYLrrqtxpNCAAY3SuvW6R+NvNHlylTO/hjxq1y4pLRpWyOcLRVbXV0tViyrp2L5WttlsiXRoUydLVraQnb43U07Z50PZ8MgRIp07Zzt9zt8Pqq66du3q8Iky4WV+cNfSNYhLBntQyaO13a9WrZKaP/xBqqZOdaV40rbtd9fz9ddSNXOmNOyzj9SfeWbe5Fmw054qkYKgqaE6f6IwYn/1798/Z1wL/QAEJ0pAJd4oZWOwHiU+uA/C3Ffp1gKZC6FCF8JKHZTBEmOINkrXdO+p8g0cUZdGoT4aM2aMe8mAajTfmOQbB1MY5Yucfc4QMAQMAUPAEDAEmgMCRhh5jHKpCSOSJm3rHcVl8vYXo2Pe0lNyk4mE4Zd/yCIUQFGM4LkhbcKYLAeNn/MxUg22sM9U+pbp+p599tmciDOIOBI1zH2bIuTSnU/Jokzm1mq6DPlAAkgySCyVPCIBTE3+ICsgi5gX5QwJos/x4otVcuutNbJ8uUjfvmsMrxkQRB99lJCamoT069co779PF7yENNbWyZIvG0SqRDptUCc9Oq2QH/T+Utq0bJRPv2ojy79ukP+3/Xuyz/nbrPHxiXCAH6bqlD76VF0Fl4wCRJVHkCHc3+rhs9lnn8mmDz0k1Y2Naa81MW2aJLt0kfrzzpNkBJ2olDBSEkn3oK4X02vuu1QFYoQhCDWVKu6C6iP+j70fVB/lYjiOITT30LBhw0KtoRwPwoMKfzI1LWfvBb2PUHtC7gTVRyjf8iF8TjvtNPecQcWYz+cLwdcIo0LQs88aAoaAIWAIGAKGQKUjYISRxwhXCmEULI+CVIA4yFbagYcR3jkki4WMIGkT9tx6Pt6IT5482Rk/89lcBok45JiWYPXr1y+vRAaFEeVbfGUbEFwoqBiQYmFJLjAKJu1hOqFBAJH8qXJFS9cghLTlO+oklFUkjRCETZVBZbuuXL6PEASV0b//XS38fdNN15BGn3+ekOpqkaFDG+X88+vkjTeqZMqUKnnxuTqZM6teunVYIl06J6Vv1yXSrtUa3y46p732TlsZvtUiOff6rpLs2jWXpWQ8lmSZ/UHMUJDl61FVyILUw0cJpNavviqbP/usK0Vr0bWrixex0wQ8MXeuM76uO+ssV54W9Qiqj1Dl4TNGSaqWpQbVR1GqsHK9DvY+cVP1EXuftan6CAIVBVcm4qKYhtC5Xl9Ux2cqKVTlm5JwqeojiDieJWFLM4877jjBr41zFnsYYVRsxO18hoAhYAgYAoaAIVBOCBhh5DFalUAY8VaZxJikFBVFWOKEdvIQD4X4l0Da0IENUoNzU5qVS6IJ4fHvf/9bBg0a5NYSdmhbdP7MReWTbv7nn3/e+Tyx9kyDjm68XcfzJRdzaxI3EmCSdUYYsih1HU2VPXEc5SeUFEG4FevN/zffiNxzT4385z9Vrlsa6qKOHZMycGCjHH98vah9FITS9X+skoljl8guG74rbbtvuKb1mo66Onnj3day7fYiF/9vL3GMUwQDpRbEHvsDw/Vc9lYEp29yitWTJ4vcdpvUrlghX2+0kfOfQTEGcdS2TRtpP3u2iCqMIvYWCy5q9uzZjiwCF8g09k2q+oj/UwIpl3s6avxYF2o+yFOecZjF838Qber7lY74QFnG5zCErtTxyiuvOAzCkP4QqEH1ET83VH2kKq5MJNyhhx7qnmO8aPAxrrrqKqfcRPVG2RvPZMz7GU0QRrzpuEZEdheRliJCm8pfi4ifBfq4aJvTEDAEDAFDwBAwBAyBCBAwwigCEJuaotSEESQCv8jnOyhH4pdsfvmnLCGbZ1DwPBA1G2644dpyhlzXQDLGuTN5JWWbk4T+pZdecuqYziH9a3hjTmkESSzEDddQyMimtAp2fGON4Bz2rXyQLNIEvFBShz0zbdo0Z+gLWUTs1TxYlUeQR2HXWAh28+YlZNasNYRR795J6dnzuxI1nXfs2Gp59G8rpGfjJ7JR7SLn25OkI1zdaqldtlreWtpX9jmwpfz04u8VspS1n1UfLbDH/LzQ/RHJonSSFSuk5o9/lKrXX5eGgQNlJd3XVq50xBbG1x0+/VSWDRsmtaefLpt07uyIpEL3S3D9QT8n1IUQjTp/GOPsIIkUKS45TAZJrcQHz4Ig8aHeR+AGuYsyaccdd8xh9vI6lGc4z6RsZHfqVbEPIOuD6iMl4cAQAomv4DNk5MiRrjT2iSee8AISe4tz8kyHNEJNloEwQg6K1KleRG4UkW9E5BQRGSgio0TkeS+LtEkNAUPAEDAEDAFDwBCIIQJGGHkMSjkTRhAGJEW8aeeXbJQvuQzeTmMSTVKd60BRhLKIhAKyJ9+knIRuwoQJTgWSzaiZhIZOV5SakEzk0hY90/VNnDjRJV3pjH+DZW/ZOr6lJubBMjRVauSKc+rxWmZFwkySyFt4En3Kd7R0DXWNJl/qfRRswV3oGnL9PITSX/5SI5+8u1y222i2tFi5VKS+QRqkSt5fupls0GMDGX16OxkyZP2ua7meC1zYl+rhVYwSvVzXWPXyy1L96KOSmDlTZJNNJInx9ZIl0vjFF7J0883l4913l/l0TxNx96caZxdqXsx+5N5BKZfNz0m9j1QZx2eDIy6la6nEB+ojBkQqA/UWhFEUps+5xrkYx0O2U2qJ8X4hg+eKlgAGSTie63jd7b777nL++ec7Ner9999fyKma/CzdJvU6UI1CaGUgjB4QkcNFZJCIvPXtpPwAfE9EcE/fGls1Lwu1SQ0BQ8AQMAQMAUPAEIgZAkYYeQxIORJGJHOUk/DLdL5Gz0CKFwWJFOVgYQcJGr/Y04GIBBayCcIq30GiMn78eFdWlsljRlU1n376qSOWBgwYEFkSSNLFW3XmDA6UU7zpzrXsLYy5dT54sR7tfofKadNNN11vGk2glTzSBJpSE/YKXySBUapWsl0LXMNjj1XLxIlVMveTpGy0aoFUf/2VfLWkRjptUCu9+yRk0KiO0rp3V+nTp5GKrLwGBCplSJCJ7MtsHl55nSSKDyWTUjVpklS9+KJUzZsnUlvrSKNkr17SMHKkJLfbzqkOg8bZ/BtFHftUCSQlRcIsifsHryv8vihZhWjMZYRRH2nZWinL14JlV5jwcz+wnlTT51yuPc7HQrZD/uXS4THb9QRJOH7OHHXUUa4UDQx55lx55ZUyYsSI0P5t2c6X7vtZCKN2IvKliEwSkb1TPn+piFwhIkO+VSDlc3r7jCFgCBgChoAhYAgYAmWFgBFGHsNVasKIX84pqQg7OJZyLJQUdDdD9ZJv8g8ZQiIQ1uMDtQ2KJjpOYZKL90mhyaG2tUfd01QSyzVDlPAGHK8OkqN8rzkdzulK89TcmvOgZPJpbh0m9rQf1zI8yJBM3e+C86HgChIPxJtOU6o8ogQkl85TYdaa7hjsmyb9W+TNv82QBdMWS3LJMqmpbpTFte2kqlpkaatNpGqzrrLJ1h1lu+0a5dBDG9bpOJ/pvNxDkKezZs1yCS3JZlkoSjBy/uADSaxcKckNNpAk3QqD/k7fXjTXB/GncaTkjoGiUOOYiQRUnzH2NAqRbEq+bDEuF/URzzcGexzVjJo+o9rS0jXu67LYK2mCQhxQR6I07BFBR72m4s7Pmqeeekquu+46gYSjFBnM6D43atQoGTNmzFpFV7a9E/b7WQgj2t5NFpErReSSlDn3EZHnROQsEflT2PPZcYaAIWAIGAKGgCFgCJQzAkYYeYxeORFGJI0QJySAlHClU5jkAhUEBKqVMG2n1WSaZAElTlQdp0iGx40b12Rbe5I8fJK4Zjq/+TAvpksbChzmZ6BiQqnSoUMHV+oXVsmhfkWqMMrH3Dpd/FDO4FnEGiGLwq4ndS4STDUORoGkpWvBrms+S7gSb70lcu8DsuijFfJZt+3l4Q92kLcXdpG2ieXSqXaB1H9vY5nfcYB02Lil7L57oxx2WL189tmax1/37klph64gZYD1+++/72JG0gyhGCWZmMv9VKxjiZuSR8RTScCg+khJQCVbKe/xZf4dVn1UKLmcK76ZWs5DIPFMYU3sfyWQSlm6mev1sX7UkRD3hZKA2c7Nfcb9dcYZZ8jo0aPlmWeecV+QtJC1Ucc2C2F0mIg8LCJniMifU9a+zbdlaVeJyK+yXZd93xAwBAwBQ8AQMAQMgUpAwAgjj1EsF8KIhBjSgIQexQvkQaGDEhVIqF133TXjVEGT6VzUNmHXh0cGZRUopoIDJRNrhCDhvLl6NIU9/5QpU1xZHWTMjBkzXAKEeThlX2HVBz7MrbX8jxJAiDKSqKiMrLXzFMQRX8HStaBqJcpEsPr//k+qn31WGgcOlLEffl/u/+8A+V7rVdJtg2Uiy5eJrKqVxv795a0lfaS+PiF9+jRITc2ax98mmySd8mjPPRtFKyAhStgfrF/9nCqdLErd06n+VRDADJQzqI5QhFCmxf0DMeJ7sJ7gVym9jyi55TmZWmoKBqwLMlpNn1W1xfM1qD6Kcv9HjT3qwUmTJjnVWC7NDvJZB/caz4UrrrhCfvWr73gY9pYPhWIWwug4EfmbiPxERO5OuR7MnD4UkZtE5Nx8rtU+YwgYAoaAIWAIGAKGQLkhYISRx4jFnTAi+UJBMWfOHGfMnEuHrmywQUCRbGNomm6QVNF+GxIlSpPp1HPhYcTba7xVNJnjzfWHH37okhSUPz6SEl0HiaWa+IJHLubWzBFMkKPqhEaCRnwgzSjVgxDxSYagREG1wvWTRAdVK5BVJNEFxaChQWquuUaqpk2Tuu1/IJeP311em9ddBm82TxI84RobJbFwgdRtubW8tnKgzJpVJV26JOX73290Hdg+/zwhnTolZdiwRjnyyAZpaFhTmknST3LpO2HOdi/F4fvcrygBiSP7Rkuw8HIKds8LS4IWek1auqb3hyrvgvNCyOhXoedL/fyrr77qnlvpzOxTj4V8CbacR70DTkH1Ub7KvqivS+eDHKRxAT8TfCgvg+tmX3GP3XTTTfKzn/3M1yWtndcURt4hthMYAoaAIWAIGAKGQAUhYISRx2CWmjDi0khW0g3+nxI0/GsgU1DhREkaQATRMWmvvfZa7/QQBpRlzZ8/35Wf8Rbb19v2YJcyEjVUIygj8CoqRokRiSXJNQktyVfXrl1D7Thf5tbqU8WaKDeJqvwv1EV9S4AFu66RmLLvUK0o8ZCzwi2ZlJprr5Wqt96S5dsPlcue30M+/Gpj2a7LIreslatEVn+2RL7otJXMWN3blaLRNW3HHdd0TsMDado0SCORI45YJqtWveaUM5CJeNTY+A4BLV2F8OAeYh9BIrGvtARLjbN9liCmxkRL17R7oG/1EWQKe4NnSC6DdYKhqo8ow2WgcFT1EUSUr+dh2LVSZgjZjTLS9z2gRPpdd90lJ510Utgl5n2ceRjlDZ190BAwBAwBQ8AQMASaIQJGGHkMehwIIxK51OSJhB0FBckLSTEJXtQDFc/HH38s++yDT+h3Q7txUabB23nUP1ESVanXoV3KIMQgyNQnqXv37lFf8nrzoSp47bXX3P8PHTrUlfGEGcGklxhF5VdEEhj0qSJBLeUIlq5BOkBeMiAalDyCSAqTPFc/8ohUP/641G/WU37/1oEyaU5P2arTF/LhVx3ls69ayOpktXxT00lW1LcUwjBsWIMMGPBdZ+wVK0TefbdBttrqfdl778+8limWEvNCzg3J8fbbbwtePPhvaQdD4sj9rN3zVH0E8afkUdg4FrI+/WzQOFvvpeC8qtQrRH1EuRY+b6jzChl4Ril5xHMZMp3SUEga7k/+LKRTZL5rg9TC2Js4hzXlz/dclOnigXX//fe7rmm+RxbCqL2IfJGlS9pQEXnV9zptfkPAEDAEDAFDwBAwBOKAgBFGHqMQN8KI5Gnu3Lkyffp090Yb7xFfKgDIIlRG++6771pCCAIFoopRjDfXnIcuZZR7kACRIPrwSUq3hdTcGiUGCfYuu+wSaqf5MreGkEFdRelXVD5VoS4oh4MgN0metXQNRRjJM4mzEkhNla4lZs8WfIwoS3uqYT+5c+Ze8sGXG9NVXhobRFq2rZIvGzaS5csTstFGSRk5skH69/+OMIJMmzChVoYN+0YuvXTTvM2/c7jcsjqUMjS6GEJ6cu9mKiHUEkT2nBpAKwmiBFIxSZAwxtlBEilMYF5++WWnFkz1Rgvz2aaOYZ2QpkogUarFwCA/qD7ySbDr2rST40477eTO73Owr3beeWd58skn5YADDvB5Kjd3FsKIQx4SkUNF5Aci8va3C4JIeg/RroggK/vu4eF9xXYCQ8AQMAQMAUPAEDAESoeAEUYesY8TYcSba4giiAwSHd/twfFFwicHhRGkCf/m/CQfEBbF6hhESRpv8Ul0Oa9vrxAIn6C5NduLxI+EKNvwRRZBErImMEBRhu9M3Icmz2qcraVrXAPkEV+QncHkOfGf/0j1U0/Jsk++lGPHnyxTv+4nNVVJ2aBdvTS27yCLvmwhtbUJ111+s82SMmJEg3Ttijrma5k370uZN6+THHNMezn2WMsFg/uD/YPXGWQPSpBcfIo0jtp5TUuwKLtS8oi/F4ME4ZqC6iP9e/Ba1W9M/2zqPnnxxRedOnKLLfBB9jPY80H1EeuFqAuqj3zdy8Trv//9r1NG+nqpoKhRtsvPCZ7VTXneFYrwPffc4zzzGLfccosroTz//PPdvy+99NLjReSewDnokDBVROpE5AYRWSIip4jItiICozWu0PXY5w0BQ8AQMAQMAUPAECgXBIww8hipOBBGeLGQpKmJL54bGB37TtDwL0LRsscee7j2yMUiqjScJFcQVCS7qBl22223nBLdfLYFihhKdiA5UB5gcM3b8zDd4nyYWyt5BQaQhD69ovLBK+xn1HBZS55QYfB/kI5KHq0tefrqK1k0cYb86tZe8uacTtK2fbWsSLaRxd9UyapVCVm9mi5WIi1aiHTv3ig9eiyVbt3myddfbyLdu39Pjj22Qb7/fSOMiA0YoxTEID6q/QMJogboqFjY95AeSh5BhhRkgB52U317XBj1UbrSNcgNPJz4KsaA8A+qj7RjHWSbqo8g46N6rn/22Wfu2QXR7ZtknzBhghx00EGufHfHHXf0Aic/hyD5mhh8Y4+U7/UXkatFhK4NMOxvishvROR5Lwu0SQ0BQ8AQMAQMAUPAEIgpAkYYeQxMHAgjSknwrWEUqwyMc3FeSCoSGjxNIKpIrqJKaDKFTY2dKYHj7TgJz+DBgz1Geo2K6M0333R/osLQzlqYe6MSgLBKN1LNrbMpG8JehBp8k5xDXEVtah52HT6OgwRVxQp/BkvXIB4WLtxUrr++rdTViXTunJT//KdKFixISHW1SEODyLJlCamvF2nZsk7atq2Vrl0T0r9/Kxk6tNERRmUgwPIB6zpzBslGX530IEG4RzWWKAHVAJ04plOR+bzwsOoj1gD5ACncs2dPn0tqcm6eM0H1EfGCaFPyqFDibcGCBY5wHz58uHcC74knnpDRo0e782HEX+yRKMYPpWJflJ3PEDAEDAFDwBAwBAyBiBAwwigiIJsgA0oqVSCJeOGFF5yyphjlWEEMMDKljAXvEogqH8ba6TDHfBfiRrtcoa7h70OGDPEWaZJeSDmUCJjEBs2tSYLoysYb7tShhryaqEZlbo36ALKOpHLAgAEV3RY+WPKEAolrnjevnYwdu62sWtVWevSokbffbilLltAFLekIo0WLRFaubHRkUWNja+ndOyGnnFIvP/pRg3i2a/G2B6OcGEwhOiF9IRnnhF8AACAASURBVEWKQfRyL+AjpeSRGqCjIlP1EW3ocymHKwQTMGBAaun9qc0D+PfkyZMdEUtZWhhT9kLWku2zrBG1FgQS+NEBEw4kqD7Csy4XXgRF6AcffOBKxHxjjtn1T3/6U6dCLUYzglQ8jTDKtsPs+4aAIWAIGAKGgCHQnBEwwshj9OOgMELdA2nj+5f+IIxq+EyCBVHVuXNnjyh/NzXEDL4blKBB3JAkKXESxkMon0VCSOHVRHKWjpTDO4jyvL322mud6X35FVH+FjQWD9uZLZ9rj+NnKL9cuPALueaadvLaa+2lffvVMn/+BtKqVUI6dKiWZBK1EWbaDdKxY40sXdpCOnRIymmn1cvhhzfIRhvF8aqKtybIB8oqIR/oYrjZZpsV7+SBM0HyKgECCcK/IWZQzqgBuu9SqeCFa8ko+FBiO3/+fFfiqS3nw3of+QZTyzcVO54H/B9lf6iPIN8g3viZkGngOcd17rnnnjkRTflc31/+8hcZM2aMK93lOVrsYYRRsRG38xkChoAhYAgYAoZAOSFghJHHaMWBMKJchySnGIOkCoIEc1ESKZQ3lIJpUuVrDSRE+KyQ4JAUBbs44aMUxkMo17UFrzWTifjMmTMdHiNGjFh7CiWLVMUQlbIIwgzfEcrwwKBYxuK5YleM419+uUr+93+r5PXXRb7+Gs+i1VJVlZSVK2ukoYHytCqpqamWujr+npABAxpkxx2T8tOf1kuPHiUVBhYDnrTngJRBKQfJvO222xaN6M12wdwv3MOqPkJFyIAQ1tI1iNFcFDTZzpnu+6wDxSAEMGbXlKOlqo/4XLDjWqnVRzz/UR9pxzrKdVkfeIEdz8tU83iuAe8qSCNfJtRBfG+++Wa55JJLnBF1Mf2rdA1GGOVzN9hnDAFDwBAwBAwBQ6C5IGCEkcdINyfCKOgb1LdvX9l0001l0qRJMmjQIKcI8DXUqweyhNKZfv36rVMigvqHZKkpD6F81kVijQqDeblWksemklWILL5GjhzpTuXL3JoSQAgzkkCS/WwKgnyuu5w+g7H1c89Vyb331siUKVWyYgUeL6tk1apqqa2tESqOamoaneJoww0bZdttG2XVqhoZPrxRLrwQBVI5XW3ha8U/CLKIcsZiep3ls3LWquQRpDSEuPr3KAkSdfewYJkefmxB76IwxtlBEimfa47iM1r2p95HkHAMlFrqfaRlfzxL8DHCw8j3uOqqqwTSCKKyFASbEUa+I2zzGwKGgCFgCBgChkA5I2CEkcfoNRfCiF/08Q2CvMHwGbIIL5mXXnrJJZ9qAB011CS3nBfvE7x60pXP4KNE4kNpRRSDkifOSdIKMZPt2nhTj+oqlTCKytyaZBVSjGvETyWVMIvimst5jq++EjnnnHqZOlWkvr5Gli1r7bqltWy5xs+IrzZt6mSzzZZKu3aN0qlTjZx1Vq3svnuHkiSvpcBa9zTEC2WV5VTGyP5XBQ0eVto9jGvQ0rVc/XtSY8A5UCrSOSxbmV4Y42y990tBjgSvDeIbwk0JJC37o+MgewEsd911V+9b8uKLL5YHHnjAPcNKgYkRRt5DbCcwBAwBQ8AQMAQMgTJGwAgjj8GLA2HEL/4QOb4Gv+STTFH+RLJJcsZAcYThNgRSt27dIj89iY569XBe3oynGxi34jO09957F7wGEivOiR8UHklh/DYoR6OMhZI07YgWVQkaGKN0QimA6gHCyMZ3CIA3yqspUz6Vhx/eQV5/vZN8/XWVJBKUqKEwQl2RdP9u1apBundfJrW19TJixMcyfPhnaz1fUK3gi1WJA7I3aNjerl27sr5MyC9VH0EksQeInRpno6TJxc+N5ye+aMw5cOBAofw0l1FO6iNK/ZQ8Yl8weK6r+ggiKRfswuJ07rnnup8VH330kfeywnRrMsIobKTsOEPAEDAEDAFDwBBojggYYeQx6pVMGJGIQcagoOFNPsRQ0H+CROtf//qXM4aNuvW0Gk136NDBETeZzG9TS8LyDTd+HhA/kEScMyyBwOdQAGm3oajIIhJjEn1II7AvVhe6fPEr9ufYn6jLMGCHSHv88QHyf//XQhYvRmmUkHbtktK2rbg/URl9+WVCundPuk5qRxyxRIYMmetIAtRrDOLOPuerUMVKsbFo6nyQrhCOahJfTBPpYmAAUR40zuZe4f6DXFYCCf+epgbPMAhiiKcoPJ3CqI/0+VAKpU0QB0gy9j5KLTAES8VOCaSoPNLokIb3Guf07UNlhFEx7jw7hyFgCBgChoAhYAhUEgJGGHmMZqUSRkEPH1pL03o79Rd9EvZx48Y55Uvv3r0jQZmECxIAEiaT0XTwZFoStu++++aVjORzTj0/GNBNCQUWZBpJKuV6mIAX4jGkiT5zBFVdkYBcAZOQ6IM5JUp4TPXq1UuuuKKlPPNMlVRViSxYkHDEEH/XsWhRQtq0ERk6tFHOOadOdthhjfE1ZTnMA3kE7sQUYkUJB2LpQ3XhOwyUV4ERpCtlo1F7/vhef67zEzcUNBpLVdBAGKlxNgoaJWogSNQAHELWhw9bGPUR6ykFeQR5AwaQ42AHXqo+UtNxsAuqj/Jd5+jRo12535QpU3INayTHm8IoEhhtEkPAEDAEDAFDwBCoUASMMPIY2DgQRiQlEDxRDZIFEqna2tqsHj4ojDCEhlQqdARNtfHpgYQK8zZaFT777LNPzok9uKEwIFHKZm6den3aCQ3yQj1WIB3wPiqkPTiKGUgzFC/bb799aKVTofiXy+d1n5DgUkKkHlN/+EON/POf1bLxxkn56KMqWbUK1RBG2CiORObPr3L/Pv74ernggvSm100pVrRdOaRCWOVZKfGkyxeqN9YNGVIIeVnK6yjk3OwTLV1TBQ3EH5igQAIjfNgg0/g/3yNohq9KpOA51fcoKu+zbNejZYo8Y1IHz371PuJP7guwAzclkHJRqx188MHuWf78889nW5aX7xth5AVWm9QQMAQMAUPAEDAEKgQBI4w8BrLSCCM6kfHmGTUCb55RJ2Qa48ePd0bUqIwKGZBUGE2T5JHAoNIJOyBYKHfAwyiXls2UfL3xxhuOGCOp7ty5c6hTqk+RJoDBBE+7FPE2HaWDvqkPU+7EZ2fOnCl4IrEWTL7LUdkSCsQ8DyLBZ59A9JHoB32t/vWvKrntthqBO62rS8jChSLLliVct7Ta2jWeRsOGNcp119W50rRsQ1UXxJGvYOmaKla4P8KQmtnOFeX38XRiH7GHINTyVYVEuaZSz8W9+vXXXzsCiViyjxgoaCAciSf3aLFiqYSRPkP0mRLESZVHvuL3+uuvO/KTUrxMgzXioaYEkt4HeGEpeURZW6Z10hAAsvXxxx8vyVYwwqgksNtJDQFDwBAwBAwBQ6BMEDDCyGOgKoUwImGhzTJ+QCQBkDZhSlgmTpzoElM6C+U7IFeCPitqqh12PkrCILn22GOPjF5HwfnyMbfm85rYoSri79n8ilAbKeEQLHdSrxwID+YIllih2OKrWMlrWJxLfRxJK6oISLR0ZXrLl4tcdVULeeWVNWVprVol5auvErJ4ccJ5GO2wQ6Nce+1q2Xzz/K6E0jUlHFCUkUir2TLxLHXpWpBwhMTdeuutbQ+lhJr7UUliMIL80FjyvOPZp7HMhXzOb0d996lSqI+mTp3qvLrwoMtlgKGWroEdzy4UbOx/vsAwqMJjX9KJDfLyvvvuy+VUBR8LrjfddJOMGTNmhohw538uIg+KyGUisrzgE9gEhoAhYAgYAoaAIWAIVAACRhh5DGIcCCN+IUeZk++g3ADCBeJm8803z6lt+8svv+xUHiQDuQ7WTdcc1BC5kFSp50EVBZGw2267OcVAtqHm1rwVh3gIW2LEeoOKgGxkUeo6tNxJPVZQyZBogR9KJBKxfLo0ZbveSvi++vEQX2LWVDnMokUif/lLjUyfXuVMrpNJkY4dk9K3b1JOPrleevTIriwKgxexhADUWKrZMgmztnrPpWQnzDkzHcO+xLAd8tQIx/RIQfhBFhG7QYMGrVVPQngQSy1f4z6ErMXvSH2sUNMUi8ANGmcrQc2fOliHqhoLUR+98sor7tkDsZjvUOWWEkiq3EJ5xzOdsr+hQ4fKjjvu6LpI3nHHHfmeKq/PnXPOOXLzzTfz2UdF5BkR4c3G2SLysoiMEJHGvCa2DxkChoAhYAgYAoaAIVBBCBhh5DGY5U4YUZZFiQ/JFGRFt27dckJr8uTJQjKVzgcj00SqqFm4cKEzLKakLd/kh6SdRJC32JnUSUFza64zl3Id9StiDkauZFEqFlrmQTkdhBfzkwSSwKn6KKoORTkFNIYH0zEPTyfIGPZZNj8ecuvp0xMyc2aVI4w237xRtttuXQPs1MuEb33rrSp5772ErFxJHJIyaFCjI5oSWZ6gwdI1SActQyRpVvLIZ7lTUJ3GfRR1x8IYbomcl6TPOWJFqW1Tzwm+z7FKBKJq4/+4F5U84h4tZqloGOPsIIkUFpxJkya50l+826Ia/BxR8ggCk+5o3Afdu3d3LyPuueeeonV7fO+991y53SGHHCJjx44N3sUQRrBIo0WkuJKnqIC2eQwBQ8AQMAQMAUPAEIgQASOMIgQzdapyJoxIiigF005cKG5yHa+++qrzDSIJCztIKlAEkVjj00NpSCEDdQDlFcOGDXMtotONoLl1LobazBUkizQxi0JtoKoZlCgk+trhiSSVQVKr5JFPwqEQ7H1+Vssk8eShYx6lM/mSipnWuXixyF//WiPvvlsldFLDA6ldu6TzOdp110Y5/PAGqa4Of6UoVLR0jb1Jwk+5k5JHKC+iIhxQy2Dajj8P9xI42VgXAcrOIJTZOyiLwqgQdQaeGxAgqj7i34UY2hcam6D6qFDj7Jdeesk9e1Gk+RiojZ599ln39fTTT7subDw3Bw8eLPvvv7/7Ih5RPEvTrf+SSy6RK6+8UrjO3XbbLfh7UGsR+VJEXhSR/X1cu81pCBgChoAhYAgYAoZAOSFghJHHaMWBMOLyMG4OO0jEaUX/wQcfOEUL5sFhy7JSz4FxKvPttNNOoU6P5wVkEYPSoqBpcagJ0hxEsky75iFDhqSdj4QRFRUY5WKoncncOt+18jnmxdiaUjxUMxhuB/1SWKcSDiSrcfPKKeTaw36Wa0YhgALNZ4kVCiSMsidMqHKkUM+eSWndWgTO7uOPq6Rr16QcdVS97L13fpUrWu6kPlZauqZKMlQr+SrJmIt9jSKGfc1cNtZFAJICjCDFISfyxVrvW8hcJY9USQaxq+qjbObPUccnjPpISdZUshX/OVQ/fPkc3AM858aMGSM9evSQZ555Rjg3mKEe9EUY7bvvvq4rG8RV69atU38PmiQi/URkE5/XbnMbAoaAIWAIGAKGgCFQDggYYeQxSuVGGKFIoKMYiTilK/hXFKLagPyB4MCnItug/AoSgBIFyKJCkrfguUjcKK/AJyM1aSa5Q4GhCWO2rm86b67m1tmuXb+vZXF4e2h3uUz4pyMctDW4KlbCmJOHXV8cjkPFgfINIpD9WagCLdM1ffhhQm64oUbmz0/IgAHrlp+hNPrPf6pk+PAG+eUv612XtUIGe0pVZOxLyAxGPkoy9eMBK+4l/HZsrIsA+4fnE2Q4ZFG+pHhTuKqSjFiiJFPzZyWPUJIV897MRX0ESTNhwgRXjgaJ43NA2FMCfMstt8hZZ53lTgXJSYMFyHJfg3I0VJyU/Kbpkobx9REi0kpE8jcA9LV4m9cQMAQMAUPAEDAEDIEiImCEkUew40IYoTYIGqOmu2TetJJA8Qt8FKVgnAOzbJLgXXbZpUmUSWRmzJjhVDW0sOYX+ahKcjT5wHybsjg8ORhggbk13jfFNrduCgiSe/AiuaQsDsIul7fr6pVDEoRihaSLAVmgpWv4SZXzIAlnj7JXSSa5Lp9j3Lgq+d//pcNTUtIJdD74IOG+d8EF9dKrVzSG2Xo9QcJBlWQQDEHCIZ1fkyrmmCeTH49P3OI+N/cYRDHlZ2Dkm7jhGYd6UpWBEHoMnj1K7EIM5nK/F4pxJvURLw5QZfIc8knIcg08r7bccku5++675cQTTyz0skJ/vk+fPsIzl58DaQijv4nIcSKykYh8HXpSO9AQMAQMAUPAEDAEDIEKRMAII49BLRfCSNvIo2ahBC2KUjBgRTHE3HQoSzcgslCLcAxvs320iyfxpsSBshw8XLRjFOUOmK1CjoVVUalfkSqMCjW3VkyUrEONBWEWBRHCnFrqhJqCNZMgMzfEGclqMRPUQm8ziEfIIq6DPZqPp1aua3j22Sq5++4a6dw5KRuROqaMWbMSssEGawij3r2jJYyCpwp26iKm7BNiRykPBBIxRZGnqhlKGAstscoVq3I5HtKGZ44qGYPlnsW6BshcLV2DSGJPo3AKkoFRkubZrku7O+qfqG4oSUbBx5q065r+mW2+XL5PJ0zu5wcffFCOOAJRT3GGKYyKg7OdxRAwBAwBQ8AQMATKHwEjjDzGMO6EkfrloPDBODlTS/J8YELBs2DBAtlzzz3X+3jQOwi1SOfOnfM5RdbPQEq98MILa4kYlAUoDDCSxp8jLGniy9yahJEEFvIJ/MOWxWW98MABvElXdQN/QkCQKKvyKEqj5VzWFfZY4gVGKEHAKBdj4rDnSHfcf/+bkD/9qUa++SYh/fqtSwjREO+NNzBKbpRf/apO2rYt5EzhP8s+5N5RMlBL1zBHhxwFG8ovoy6xCr/C+B6JmgUVn6oKs3XUK8aVoOYJGmfzvAqSgRA2xdrvXC/Pa4h+yMj+/fu7taSqU3lW6VehGBEPOlhifD1q1KhCpwv9efMwCg2VHWgIGAKGgCFgCBgCzRwBI4w8boC4EEYQBtryXS8X0oDEYP78+TkrbcJChnEzpWYjRoxY5yMkbkoAUBLigyTRE5KQYW5KCQLJUK7m1swTfAMf5Vt2sJ82bZq7/kLMxcPGQ68FkkoJB0iGYGcnSKQ4kQ2awEJogpHv8qEglvX1In/8Y438+9/VTmWEyXVVlbhOaaiLWrUSOeywBjnkkIZcQhDpsexn/F7wvdIBGajKI8jAOBAjkV50HpPhy4Y/G0QIasNiKnjCLld9rFR9pB0RIYw0npSYhlVEhj2vHoey6J133hH2DBhxHi1dY22Fdl5Lt55XXnlFIG8oG4Y4KtYI0SXtJREpHoNVrAu38xgChoAhYAgYAoaAIZAjAkYY5QhYLofHlTAKtq7nLTLGpmGVNrlcP+UGkEYkBIxgBzYSt2IQAJxz3LhxLvmBCMmFoPJlbs28JPl0o6M8bODAgSVJYINGyxBI2tkJckbVR8X2VtH9xdo++eQTmTVrVkkxmj07IXfdVSMzZiSc0qimRgQiCfIIddFJJ9UXTV2U7t7DgwWFIPHaZpttnFm2qskgA7mvg13XiqlWyeVZ4fNYiFnIcTBCzeiLcIn6GlAbKXmECgnyW03ttXwtKnI3HVmUej1B42wlkILHsNeUUA+L8fjx4+WQQw6RN954wz2bizUgxiDFOPfYsWODvwedLSI3f+th9PdircfOYwgYAoaAIWAIGAKGQFwRMMLIY2TiSBgFW9dD2EDc+Bqoi6ZPny4jR450ZBFv+FGMRNGBLcyateSO0jg8XoYNGxZaoaIJkSZJUfkVqbKLBI2SOAxffZB1YfBJPQaCQZVHlIGBAbgpeeRT3RBcixqh0zkPMpPywVJi9PnnIpMmVcvbb1fJihUim2ySlB13bJRhwxqdyqgUg9hAyPJFlymI32CSrqVrSh6pWgXjczVaLnab91LghFcZ9z8lrxCzYYmMUqw10zm5J/CoUgJJTe1RJ2o8IXrzuU/CkEXp1pbJOJvj9ZmZSZX52GOPyXHHHec8k/CxK+Y4++yz5dZbb+WUj4rI0yLSX0R+JiKTRGQvxKXFXI+dyxAwBAwBQ8AQMAQMgTgiYISRx6jEhTDizTREBWoECJyoW9c3BSEJPyQRXdJ4o4uCBRWE71bNrIdkhnIv1kDC0rt3b9f1J8zwZW5N+RAeSuBAgo/pdlyHeqsogcS/KW0Kljr5MAxmn+JrQmKcT7c4n3gmk6jkSIR9niX73OxPSBD2dljSUdUqxBO1ivpYBY2WfcQz+9X4OwKFGgpHzO4xt8+HTPG3usJmRiWqZCAvAXjeUa5JORkEEi8CwsQzX7IodfVB9VEupWv33XefnHbaaa40mjgVc3AP3HjjjfLzn//8AxHZXES+EJEHROQyEVlWzLXYuQwBQ8AQMAQMAUPAEIgrAkYYeYxMXAgjkkUIGxJMfikvVgkUaiL1KiLJxbDYp6JJQ8n10lGLRIpOP5R/0R4apUq2ESSLOFbLLLJ9Ltv3IYkgi0hSKIspBg7Z1hT2+6puUPKIZDVY6qRdusLO19RxGjewYo926dKl0Ckr7vPEAhKWRB9FBoRRrkPbvAd9rDSeSgiWc+malr7qfc8zoJLIotR4B7voQSJpKSKKQCUEUZalYqAm4D58ncKoj1Ag3XXXXXL++ee7UkqfXnaZ7pFEJW+OXB8OdrwhYAgYAoaAIWAIGAIpCBhh5HFLxIUwmjp1qisFy7UzWKHQoGaiLI1khc5NlDf5HnSQwg8D8oGSO8iMF198ca3HS6bzp5pbR0UWkZhD2OE3wprAo1wHyTjlMEo2aKkTXkdaupZPacyKFSvkzTffFAzawQjfnZKM2lqpmjBBqidMkMTy5ZLs3Fka9ttPGnfcEfawJEvSk0IMQMCiEEKpF4VCLRhPyAbKnhgQRlrqVKxSxCjA5XrwvUJdROkrKrXmxAekxpP7U0tLlTzi3mIPoeTzQRalxjGT+ujKK690Kh+e16UyZzfCKIo7z+YwBAwBQ8AQMAQMgUpFoLQZUKWi+u11xYUwIhGkHIqEoRiDBAFPCpI2xpAhQ4pCAEBikFBTijFo0CCBxGDQgYckCdVKuuHT3BoPFUyJOT8mq2HKRIoRo6jOwb7S0hiSUGIPMabkEdedrSMVJAXqK45DhaZxi2qNYeZZulRk3EPLZdJNb8mKz1bIZvWfyIE1z8iQ9u9KYpNO0jBqlNRddJE41+sSDBJqLWfcdtttnRG4j5HOaFlLEZVwiOse5j7mXuOeowSVzojNiSxKtx8gYLkv1fuIf4MJWEFc80wqNoGt6iPiNHz4cIHU4tlNOV0phhFGpUDdzmkIGAKGgCFgCBgC5YKAEUYeIxUXwghlAh40xRgkJCS2JCmUgVEG55swCppbQ1BAOgTbr0+ePHltcpSKgS9z66BxczpT4mLEotjnYJ8Rd5I/ElTIB+3qpGqVYFxYH2UxqK9IWlEWtW7dutjLlrlzE/KLn7eQGS9/LouXtpAGqZbW1XWyaYuv5UcdxssljVdI9cbfk/ozzpD6n/yk6OujxAj1FX/6NqoPXpyWrikhqKWIWupETItNNjQFPvcxisZ58+Y5I3kIIxvrIhDsPMh9yf3KgKBVMrBYRuh4Fo0aNcop2p5++mmnQC0VuWeEkd0phoAhYAgYAoaAIWAINI2AEUYed0dzI4woByOxRXWCTw9lLZMmTXLJgC91U9DcGoKKUp3UTkhTpkxxqheIpODwZW4NaQYJAnmCz0yvXr1Klgx53N4ZpwZbVQ5AIGlXJ8gGVR/RiQ3zZpQF7JdSlKSQM594YkuZ/FKDtP7mM9k0uUhqWtfI8sY2smB1J9m45hv5ede/y4+/uVkat99eah96SKSIpBa4cU+xz9m/lPuVYhBPyga1FDFYuqa+R6UqXQOb9957TxYuXOjKbilFs7E+AqmeRTynVHnEvQiBFFSTcV+mErxR4Ir/FmQRe+n5559f77kcxTlymcMIo1zQsmMNAUPAEDAEDAFDoLkhYISRx4g3J8IoWA72gx/8wBmYkmC+9NJLLiGgrXXUI9Xcuili5rXXXnMkEmVqOpQsItlkaAvoQteICgPDbf6kBM7HdRe6xlJ8PpVsAH8G6gaSfJRhpVAYTJpUJeed11KWzF8um6+YLsnqqrVlZ/XJapm5socM7fCuPNLhx9KiQ2upveMOSe6wQ1EgxAgYsgg1CPdUXNQ8XLySDdp1TbvoaZcuX2RDKvDcv5CzkCF0HoQ0trE+Avp85j5DpZZaJppOTcYsKI6UEOReLfQehaDaf//9nRLsueeek5122qnk4TLCqOQhsAUYAoaAIWAIGAKGQIwRMMLIY3DiQhiRDJDg+Rha5qA+PcFyMJRGEyZMcOoRyrKiHHTSUpNkfDhQrTQ1MMHm7fngwYPdIb7MrdWLh6SKpIxky8a6CAQTfAgQyqy0xbsqjyAbsvkeRYXrrbfWCF8dG7+QDb74WJLVNSI11Wunn72qi3RssUTu3+h06bfBQln9P/8jjQHiMap1pM6D4oPSToziuadKUaoX9tqCXfQgBCAHGaomg3BI16Ur7PxNHce+wbgZJd+AAQOK3pa90PUX6/PZyKJ060DZpuojuk3ynEelqaVrmGXnqghkTx9wwAHO2+7ZZ5+VYcOGFQuCjOcxwigWYbBFGAKGgCFgCBgChkBMETDCyGNgKp0wImGjFAQ/ih49erg3/MFyMFQHlByQzPH9qAZqAsytSWBQXmQzSUbxA3mFl1LQswhiJ7V8Ld810oVu2rRpJfXiyXftxfocpCVxg1ij1TlqEMgGEkktdSJOxISEVAkk4uxr3HRTjdx2W410ar1UOsyfKdLQIMnA+ebWbiobVi+X+1qeIFtvnVxTktaxo6/luHkp2UE1Q/kZZFFcTaabAkHJBmJKrLVLl/pYoXIp9L7j2QOhBpmBCbgp+dJHIx+yKHUmnuNB42yUnTw7uUeVQKL8ONNgHxx44IGuGQKeRZhdx2UYYRSXSNg6DAFDwBAwBAwBQyCOCBhh5DEqlUwYoQyBiKFsBqIonW8IieK4ceMcObD55psXjHRQzUSygoonjMcGKgQUSUOHDnUEBfNEVYLGXB999JH7Inkiec31zXvBwJTBBLpfUJ+gOEunCANL4qTkqy1m7wAAIABJREFUEX9nQJzQFUxNlgstiwnCNW5clVx8cUtZuTIpmy15XxJLl0iSTmgtWkhjMiEfrOwp21e/K491PkVaHHe41P/qV17RxiQe82ZUVijniqW08nVR2qVLjdAhH7IZoWdbixrr8+xpai9lm6M5fD8KsigVJ71HVX2ETxkDwkjJo1RCkDgdfPDBjgR94oknZK+99ooV/EYYxSocthhDwBAwBAwBQ8AQiBkCRhh5DEhcCCN+yeetcFSDt8WQRWrEC3nT1MCngvbWfBUy1NgW74t0aqZMc7/77rtOxUIJRJRkESoHVEWY7UKY9evXr2CPj0IwiutnIX7YL2CfS6kePlDaoYv4BZUqkEdRmCzX1oocfXQrefPNKtm43Urp+NVMqa5dJavrq2Respu0kZVyRsf75ay935XV110nstFGXmAOdrDq0qWLU+UVqsLxstACJuUeViN04qpG6JRuqposW+kaZBGlqBjss5dK1Yq9ABiK8lEfZFG6hfNzRckjVEhKCN5///1uD++3335y9tlnC2XBjz32mIwcObIo15/LSYwwygUtO9YQMAQMAUPAEDAEmhsCRhh5jHglEkYQNpSh8UaZcrBspQjjx493BA9kSr6DMiUtP1E1U1iVibbbnjNnjiuhUKVKoZ4wJEqsibfnWl6V7/VV8udIIlF4oQRjv+DJk8/QshjKEUlQ1WRZDXkhDvIt3XrrrYRcdFFL+eSThCxf0ijVdaukcXW9bFL9lQzf9H255ry50vLog0U6dMhn6Vk/wx6lVIc9yr2CCXjY/Z118hgfoEboxFN9crgvlTxKVarwHIAsgkikVI/v21gfgWKRRalnVi8rfkYcffTR8vHHH7tDID6POuooOffcc13HzLgRoUYY2V1kCBgChoAhYAgYAoZA0wgYYeRxd1QSYaRJLUkAfiFhS68mTpzojofoyWegTuHtNAQBigIIgrBDza0ph8JjiEQKgoehqgYIpFy7T6FugCxC7UBJjKkc0kcEzCEXKSkLWz4YJrZBk2ViCoEAwQKBoGRDrsTU3LkJefjhapk4sVqWLxfp2SMp+++3Wg48WMSjhZJT6aFSAytUeL17924WZFFqnLmX1MsKAol/a+ka9zxdFylpgqiFeDRD+fR3CtjxbEJ9B6lWqpJGnrmQRrNmzXL3Jc8B/o/7c9SoUXL99dfH5rlphFGYp64dYwgYAoaAIWAIGALNFQEjjDxGPi6EEZfI2/l8h5oVk4yQ1G655Zahk9qXX37ZJQy0mM915GpurfNDbjVlbk3SAsnA3KpqQCWlyiMS0UzqDlXMoGaBBMlmuJ3rNVfC8cHyKnAl9r4SV85FaZP6HqmnCgSDkkf8PY6KHe3yxX2FSi1KY/hy3kfEVEvXiKuWrhFDjNK7d+/u7rs4xrSUuLOPMJXnGVZKsoifNaNHjxbKkf/xj3/I4Ycf7khdOmZieD1p0iR57bXX8lYERo2xEUZRI2rzGQKGgCFgCBgChkAlIWCEkcdoVgJhRLJGGQhEC6oi/FVyGZMnT3YKHgx8ww4SRpRMlOmo+W8Yc2vmV7KIZDybXxFEmHrk8Cef4TwQDRAdlLAFyyfmzp0rM2bMcAkZ1xN2TWGvuxKOQzEDRpg3l6K8imRVySMUK6yHLmtKHqXGtFSYq3EzxAiEWq73VanWXezz8vx5/fXXXRx5jqAQ5L6mdE3LESGkfRGSxb7efM8XF7KIfX388cfLk08+KX/729/kmGOOiT2xZ4RRvrvOPmcIGAKGgCFgCBgCzQEBI4w8RjlOhBGlHCRauQz1wqDrF2UglBblOl599VX3JpnPhxkkhphUz58/3xlJo7wI63kRVBVlI4tS1wJZFGzvDl4koZqUYvQNCdK1a1fZZpttQq8pzDVXyjFBxQyeVcSvlCoQ1oMiTAmkYJmTtngvBekX9OKBeLSSxvR3AKWflKNy/w8aNMj5pQVbvBNXYsr3wVBjCkHYnEZcyCJic9JJJ8nYsWPl7rvvlhNOOKGk93/YPWCEUVik7DhDwBAwBAwBQ8AQaI4IGGHkMerlShgF29fz9p7Sq3yTMNQBzLfTTjtlRZpEmm5aqC7U3Drrh749gHNAEEA4MUgi8yUrtCSGsjW+KKdg4IvTq1cvl5gWapod9rrK5TgINmKH51QcFTNNlTnh9aKKsrUG7o2NUjV+vNQ88ojI4sWS7NVL6k84QZIDBhQcDoyeUeyRXFM2ZF486SFFSQROkNWQRek8qTSmqhKEYGJAbCt5FNdyxII30rcTQIjiWcQ1Q8qXSmnFs/fUU091JWi33367nHLKKXk/f6PCJuw8RhiFRcqOMwQMAUPAEDAEDIHmiIARRh6jXo6EEb/4Y1CKwge/kELVNJAIEEFDhw7NiLQmiPmYWwfJIkgi/So0tJThkbSS5FOiBnEUhWl2oeuK2+cpGyLOqD0gF8uhexVrhmiAEEQ9xqDkqUurVtL3F7+QVq++uh7MdaefLnXXXgsbmVcIINPYT+xPknvzv0oPI/FgP0FSQxaFJau5P5U8Qi3Ic4HPqkqQcsRSESp5bZgsHwqSRZCPkGulGPzMOOuss1wJ2i233CJnnnlm2ZBF4GWEUSl2jZ3TEDAEDAFDwBAwBMoFASOMPEYqToQRybyqb5q6ZAgSEjVIERQ+eNDkq9LRc9BSnTf/O++8c5NIL1q0yLVe1wQxbNeyTObWhYYVlRNv7hmUDaFEYRRqml3ouuL2eZJ7cCIRJ2ktRxIEdZQSDX3OOks2ffPN9WCmmJOH5dJf/14e7ztGnnqqWj77LCEbbpiUESMa5OCDG2TDDZuODgbr4EQJHGRRrl3c4hZ3X+uB6AEn1F7glG/JIMRzsOsaMUZ1CGmk6qNyVgnGhSziZ8q5554rd911l1x33XVy3nnnFfwzw9feampeI4yKjbidzxAwBAwBQ8AQMATKCQEjjDxGq5wIIwgS1A8kAKhEovJVQa1EcrPbbrutn4Qnk/LRRx/JzJkz3fk4L35HYUYu5tZh5gseA4GFjxJJK2tqKrlX02xUKlxjNtPsXNcR9+O5blqdQ/CBUzkn4GCdeOstabPLLk3CvkTay5mt/iKTuh0uixdXybfVj/K97yWlf/+k3HrraunWbX2fMLx2IEQh0yDV8iVB4r4fCl2fevFQRgZOYZ8F2c7LswISnDhwDpReDO2khwKJkq5CyfFs64jq+3Eii375y1/Kn//8Z7nqqqvkggsuKBsMg7EwwiiqnWnzGAKGgCFgCBgChkAlImCEkceolgthRPmZEiS81V/r5RIBNtOnT5eFCxfKnnvuuc5swdK3YppbZ7qkYDt4CKztttsudJlHJtNsytmYL6oEOIKwFDwFHePef/99d1254FTwiT1OUPP730vLK69s8gyXyhXyf3KCLG+/sXTqViVt29ZIY2OVfPFFQurrRfbeu1HuvHO1JAJPVe6tadOmuTI9lGqlKhvyCFskU0M+Qqqh5IN89ImTqgQhj7STnnZHhDxiT8e1dI31ogKF4CplGRovFi655BK56aab5De/+Y1cdtllZUkWOaK4XJjCSO40m8QQMAQMAUPAEDAEDIHcEDDCKDe8cjo6ToQRJRqQGsEBQULrelrYQ2r4SPxRD82ZM0f23nvvtafWLlFa+gZhFHZEaW4dPCcJEOQWCT6leHT5CtudLXXt6UyzyUm0HKacTbO5tlmzZsknn3wi3bp1c6WL+eIUNubFOq7FJZdIixtuSHu6L2Rj2VfGyUeyhXTrXiur26zpxMW1V1fXyGef0eZd5K9/XS3bbbdGZTR79mx3f3FvbbvtthWDU9TxgFCGsOb+gFQrJlmjnfS0JDFYuqbeR3FRzilZhDIKYt8nqZYpxjwDrrjiCrn22mvlV7/6lfzud78rW7LICKOo72abzxAwBAwBQ8AQMAQqDQEjjDxGNM6EEQTS22+/7co0+vTpI1tuuaWXX/o//PBDRzDsu+++Dmk1tyZRy7X0zZe5NUkiWODHs9VWW7l28FEN1ozBMgoKsC5n02xINUoMSfC32GIL91VJL+er77tPWp1yStrQT5Td5WT5i9RJC+k0cFNJtmjhOp3p17JlNVJXVy2nnTZfTjwx4eIMYdS9e3dHqlUSTlHdG8wDQcuegkSFsC4l+aila0oeBUvXlDwqVelanMiiq6++2pFE559/viONShmzKPaiKYyiQNHmMAQMAUPAEDAEDIFKRcAII4+RjSthBIGBXxFdhVA+dO3a1RsKKFEoXRo5cqQjTfC84Y09b8jjYG6tHb4gjUhYSQx9jnSm2eCgrd1LlZBmu2b8mpRUgwCBCKm4sXKltOnbV2TxYmdwHRxrCaPWHaTTNuvvka++apSVK5Ny7LEfyPDhH7qP4n0F+UhszeR6/d2iZY2dO3eWgQMHxo544F4Ndl2DMKV0Ldh1rRgqnziRRddff70rPzv77LPlxhtvjF3M8nkmGWGUD2r2GUPAEDAEDAFDwBBoLggYYeQx0nEijFD0oIYgAaILEYkOpA0Ehc9BUoiCADUKBtckW5SdhPXz8WluTSIGCQIWpejw1ZRpNiVMkAyU6MTh7b12z4NgLAap5nM/Zpu7+qmnpOUxx0gCU6JvBwVmX0gn2bdmvHzcZhvpvWViHZ+iZFJk7tyEbLxxUi688B3ZaKPZzgeH+w0zeYYaLBNX/t7cFUcQyZSrUta4zTbbxB6PoEcZz1DKark38abSrms+SME4kUW33nqrXHjhhXLqqafKbbfdFotnU7b7Ocz3jTAKg5IdYwgYAoaAIWAIGALNFQEjjDxGPk6EEckr5WGofTCWhSChjb3v8emnnzp/EkavXr1cyVdYEgSyiLf6fPF3PhdVoj1v3jznWQRhBoFVDCwyYR1MSFFiQSZBZEE8QCBBtBVDzZC6RspyMNkFf/aMb4LR934MM3/V5MnS4uqrpXr8eHd4slUraTjySLm43Q1y35MbyerVIptumpSWLcWZXWN6XVcn8v3vfy5nnPGqDBiwjSNCGBALlCLypQbL7DVIhjiRgmFwieIY9hHEMV+bbbaZbL311pHd01GsL8wcXAP3haqPtMyULnhKHm244YYFX1eQLIqya1yYawwew/XecccdMmbMGDnppJPc34vpM5XrenM93gijXBGz4w0BQ8AQMAQMAUOgOSFghJHHaMeJMIIcwYCXJI03+mFJm0LgQZkydepUWbFihfTt29d5JYUd6lekCqOoyKKgaTOlMAMGDIhd8pPJNFvVR8UguGjfTecqynBQo/lQUITdDyU57ssvJfHNN5Ls3FmkXTtZskRkzJiWMmVKlSxenJDGRjosiWywQaN067ZYTj31P7LXXv0caZBuqMGyEkiQgiTekIJKIIVV3pUEjwJPGrz3II95JkRFABe4tII+Dimo5BH3DAQ3cdTSNeKbK9m7ePFiVzaMGq3UZNFf//pXOeuss+TYY48V/l5JZBGBN8KooO1vHzYEDAFDwBAwBAyBCkfACCOPAY4TYcQbccyK6QBWjCSNUhwSHu3Otssuu7jkJ8zwZW5Nwo7aCQVP7969HYFVDCzCXHNTx5TKNFvbwaMowpwc0siGyKpVIk8/Xe2+Fi1KSIcO9dKnzywZMuRT2WWXga5EKcxQUlDJI7y02Iuo/5Q8atu2bZipyuIYrnfGjBlCiWolGqZrEHjGQPYQV0gkSHPiqqVrYfys+DyqPrzNIGpLRSISs7///e9y+umny5FHHun+nivxVQ6b0wijcoiSrdEQMAQMAUPAEDAESoWAEUYekY8TYcRbbxQNxRgQUyhTUKTQfQ2foKFDh7pkONvQEjT+JNHSr2yfy/Z9Eje8m5YtW+YUVloylO1zcfu+b9NskkT8Zehsh5oJM+JKUxREFVP2EqQomJHYhyVE050fwkjJI7r1MdQMHZIhihKnqK4713nAB4UjZaA8DyBrm8PgutkjSh6pn1WmuMaJLHrwwQfl5JNPloMOOkgeeOCBkhFXvveKEUa+Ebb5DQFDwBAwBAwBQ6CcETDCyGP0mhthRIKETxJkg5pbY5Q8efJk2WmnnVzpTVPDp7k1HiOQRZBQ+BWFVYF43BqRTB21aTb4oALBd4ruXv369Yu9AisSIPOYhOQfFYiax0epBqJjX7DECdVKsDsX91G5kHjsKUzvIZHxL2NfNdehpWvEltI14hosXaPsli6ScVAWPfroo/LjH/9YRo0aJY888khFKwyNMGqud6RdtyFgCBgChoAhYAiEQcAIozAo5XlMcyKMSH5IdkgM8SdRM1uUEy+//LJTYKBYSTfU3Fr/jMqviHNRfkYZWuvWrV1pVZSJfZ7bwsvHCjXN5vOowkhmIYqIoY30CJDso5pDQce+9uknFSxxQqmi3bnU9whi1uf5C9kDkEU8E7gH+/fv7/zTbKxBAGy0dI24ohxkQARuvvnm0qVLl5I8q3gGP/XUUzJ69GjZe++9BeKo0r3LjDCyu9IQMAQMAUPAEDAEDIGmETDCyOPuiBNhRCKAcsHHINmhNAefJEykg4kh35s4caJT9nTt2nW90/s0t549e7Zr3U17etrBl8oLxAfmmeYEU8qaSERJ1lF5UdoHDulMs9kXqGWIHyVoJKs20iOwaNEiR4JQIgYBWcw9RVxRy2npGuVODNaivkeoU+Lgy6UEJOQaz4R0977tsTUIqME1ajWIbe26RizVOJsYF6NRwbPPPitHH3207LrrrvLEE0+UhLQq9r4wwqjYiNv5DAFDwBAwBAwBQ6CcEDDCyGO0mgNhpObWvDGnmw+kRHBQNjV+/HhHRKQqDHyRRazl/fffd54p3bt3d2qnYiRbHrdS3lMHTbMhjyCFgiQDvjtgRZwgQCqlXC9vwDJ8EMNmsCKJh4AsdVkYRKCSR5AOxBo1iJJHeIaVYt9jdI8CizVtu+22QjdCG+kRgNiFbEf5OGjQIEdApitJhEwKdl3zQVQ+//zzztx6yJAhTmXUvn37ZhE2I4yaRZjtIg0BQ8AQMAQMAUMgTwSMMMoTuDAfq3TCaMGCBU5tQbJDaU66ci/Im+eee86VpATLnHyZW0N8UFr11VdfudIqPFPioLgIs1+KcUyQZAAjBvigAIHQoyua4bVuJCBiPv74Y+fPBU6YppeCiMm0P9j3qHnUYBnSBpJByaN8Wrvnsx9Zh6rVINU4v43wZFHqkVq6pp5WqhbUbnqQSCiRCh0vvviiHHbYYY40RmXEc6C5DCOMmkuk7ToNAUPAEDAEDAFDIB8EjDDKB7WQn4kTYcSS8T+JYpBAY2xNAk1CSLlZpnbL48aNk759+7p22qnm1pATUSXfK1ascObWlMGhaGrKMykKDMp9DtRGEGv435BwogYhOcVcWcvWUItFFZtyxYv9+sEHH8icOXPKxgicOAZLErW1O/FUAonSp6gHyhjUMviWQTxkMrmP+tzlNl86ZVG2a1C1oJJH2k0Pol7VR/moymhKcPDBBzsiFHI/TDfLbGstp+8bYVRO0bK1GgKGgCFgCBgChkCxETDCyCPilUgYqTcJXi6Ys9L5KJsihVIH1EW01FZlEclPlObWEB6UwTAnpXGFtDj3uCViMbWWVpHQowKB7FPTbIgkVCooRYJlMCSkmUjBWFxYxItgr06bNk1Q0rF32e/Z9nrESyh4umBrd+Kq/jjcH0oe8fdCrwsyGrIIBQz3n5U2Nh26fMiidLNB0KmqjD9VVRY0RM9WujZ16lQ56KCDHJlP6XBqSXHBGzDDBFdddZXbM2+88YZT8PEz4pNPPmnyE3RwvOCCCwQ1FNeOqvXyyy+Xvfbaa73PcO/edNNNcvvtt7s52euU211xxRXrKbKMMPIZZZvbEDAEDAFDwBAwBModASOMPEYwboQRv2STQOY7MplbZ5pzwoQJzkgZlZEqjKIki+bPn+8Sezw3UDb4UE/ki1mcPqfKMBKobt26uTLBdAqiXE2z43SNUa0l2DWukjp8Qeyo7xEliSTWqMxIqFGWQfTkqirjuUDSr0k8Bs020iOgnm94TalnURRYBVVlxFdL14KG6CiRgsQgZM0Pf/hD6dGjh7zwwgtFLx9UI36IH/YPZXBNEUaoWQcPHuxI63PPPdcZvd95552uA+YzzzwjI0aMWAfGc845R26++WY55JBDZNSoUTJ9+nS55ZZbZPjw4cILjOAeN8Ioih1ocxgChoAhYAgYAoZApSJghJHHyFYSYcRbcbxJSEz4BT8XBcFLL73kjkeNxIiKLILYIJHg7TTJLmVopTYi9ridCpqauL333nuycOFCpybgK4yqJJNptpauReGhUtDFRfxh1FWUNpLcV7JpM6SYKlRUVcb9o+VN/JlNoQIxQbLPXDwXTNnX9GZUsghCG7KI8k9fg7JA9bPi2c19DEH4r3/9Sw488EDXDIAyNIh8yKJSdEb86KOP3HOIwbObrn9NEUZHHXWUPPzww26v8VKAwfF04ANPzOj1ecZzjvsWsuiRRx5ZCzGE0c9+9jO599575Zhjjln7/0YY+dqFNq8hYAgYAoaAIWAIVAICRhh5jGKlEEYoeHiTm8ncuikYISqmTJki+AtBMPBFyUSuKobU+UlQSQy0NI6SoTAEiMdwx3ZqCBDK9UgcUcuQLOY70nXmgjBShUq5m2ajloEY5Trx5vLhw9PQIDJ7dkL4s2fPpLRqlW80ovschAKEBiQDZYncr9xPaq5MfFNN7SElSOAZECCVRhxGh644bFH0FIMsSl039z++R4899pj8+te/dkQLqjLIwN/97ndy7LHHetnnueCXiTBin3Ef7rLLLq5sLjh++9vfymWXXSavvvqqUyAxLrnkErnyyiuFFxUoinRwbzPP7rvvLk8//bQRRrkEyI41BAwBQ8AQMAQMgWaLgBFGHkMfN8KIxAECJ+zI1dw6OK+WnnE+kiVIJ5JRylZQMSjBkE/3JspqIEDwYymUAAmLRbkep2WE/IlfEaqRqIYmohAMJKRRlDdFtbZ85oEkIanHCwYfnqhLq7j17ruvWu67r0bmzEkI1aGdOiXlkEMa5NRT66VNm3xW7eczqlDhnlVzZSUGuXe5h8EK4heyKF2HRD8rK79ZS0kWpaIF8X/yySe7ZzKEEQpNYjhs2DDn8YMCpxQjE2H0yiuvyM477ywXX3yxI7iCA8XUyJEj5dZbb5UzzzzTfWvfffd1ZWfczxBjwQHphIk9+1qHKYxKEXE7pyFgCBgChoAhYAiUCwJGGHmMVDkTRiTN77zzjlPw9O7d27WoD6vgSe2EpiVoqmKAYOALFQffgzTS8qZsJTBLly515UKsDwVIMU1aPW4VL1ODFWoZcIcA8dkqu9xNs8FKCRBKq6JWy0AO/fa3LRxh9NVXCaEaKZGgc6HIBhskZffdG+W221bHQm2UuhkhebUzFyVsxJoBaUSZKeVMVgqa/haOE1lEZ0v8fPABmjhxonuuz5w5U5588kl54okn3HP4oYce8vIsyjZpJsKIsrLDDz9cbrvtNjn99NPXmQrvOsrSLrroIvn973/vvkc5Gj9f+NmVOiDFuEZeOmhJoBFG2aJj3zcEDAFDwBAwBAyB5oyAEUYeo1+uhBFEDskzpQv8Ip9LCRPkRJhOaNq9SckjzgUhhdeRlq6lvh0maaUVPL/oQ4BEndR73ApFn5rEHhUWGEKAYLJbrFFuptl02IOEVKx8mKZPnVolJ53UUj7/PCFduyalpmZNNFAdLVqUkHbtknLZZXVy7LFryJi4DnxwICEhevmCTFLSF+URCrbU+zau1+J7XSggKdkrRRla6rXhDbTffvu5ZzNNCGhAkDr4XqGlwvlimokwuueee+T444+Xu+66S0466aR1ToEPUp8+fQST6xtvvNF9j3+jfpwzZ856y2Ee5uOep9ySYYRRvlGzzxkChoAhYAgYAoZAc0DACCOPUY4bYYQqR9UBTV22tnzm+7m2x4YoYH4te8vF3FpLYCCQeCvPoCRIySPIItoqQyhRWuXTMNbjlijK1No1DvxQYZUSq2Bbd2KLkicYW0iGUhJ/rAklHR322O++sLrwwhby97/XODVR27brboP6epH58xOy666NMnZsbVH2SD4ngSyCWFMvM9SAkCLadQ3SV2NLXDW2YZWJ+awprp+JE1k0d+5cV6aFqgayaOutt44dbKYwil1IbEGGgCFgCBgChoAhYAg4BIww8rgRyo0wUnNrEvhcVSlBsogEUb/ygRe/HVUe8SZYBx2YttlmG9eJqTkmodmwJAYoCSg9iWvXuDiZZiuxBgkJsUapjq9x9NEt5fnnq53JNaVoqePTT9coj954Y5VUVflaRf7zQtiiWOPeg1hLVzqaLrYo25Q8QtFRKgVL/lee+yeVLEJpteOOO3ojIcOsjD2Osog1YRhNuVYch3kYxTEqtiZDwBAwBAwBQ8AQMASMMPK6B8qFMIJowMsCeT9EAwqesMlz0NwaZRFETlRJIYooFA2QRqgaSEg5H39X5VG5d+WKagOCPa2l582bJz179szJcyqqNeQ6D2Ujqk4ptmk2xBp7vnPnzq7sMqo92xQGlKM99VT1OuVoeiz+Rphg9+vXKJMmxU9hBHlLKSiEDy3NwzwbiC1lkdranXsZkomSNQikfMzuc91fpTg+TmQRHj54FhEDyCJtR18KXLKdMxNhhHKNfZOpSxqdOIcMGeJOk61L2m677SbPPPPM2iVZSVq26Nj3DQFDwBAwBAwBQ6A5I2AKI4/RjxthRLkYiVtw8G+SQZLCqMyto4AUckjbm5NMkNizVogF7crF9fAWX8mj5qJgSMUXHIgh2GBO3qtXryhCUNQ5imWarZ3/IIw222wzV55TDLXaPfdUy+WXtxBuv9RGdUuWiKxcmZCTTqqXyy+vKyru2U62cOFCobMW5vKosPIxt4bMhPRVchAFIZgzp6qPfPhGZbu2qL8fJ7KIZ8H+++/vulM+99xzTukU55GJMGLdRxxxhIwdO9Z567EPGRBJGF7zM4ByZb2PKTHlmEMSM/EJAAAgAElEQVQOOUQwzNZxyy23uC5weBgde+yxRhjFeUPY2gwBQ8AQMAQMAUMgNggYYeQxFHEnjNTcGv8gfmHv1q1baDTCmluHnjBwID5KlL8weCuerr15OoIBBQMJKAQSCgbfqpF8ri3qz2A6DLGGNxAxpGNVuQ81zYYYhGRgn5IMElMlGPIxVoa4mD59ukuit9hiC/dVDLKIeEAKHXFEK3nnnSpneN2hw5rStOXLRVasSEivXkm5995a6ds3GZvwoVajCxWYozqM4n4KeloRW0gWBqVueu/iJ1WsuEQFNvcfBtd4YA0aNKikxt94TR1wwAGuPHXcuHEydOjQqC4z0nkgbmbPnu3mhMzhWXb++ee7f0N6H3fccWvPR5nt4MGDnUrtvPPOcx0f77zzTuc/9tRTTzmPpuA4++yz5dZbb3WkEcQZ9/3NN9/sVEovvPDCOnvZFEaRhtUmMwQMAUPAEDAEDIEKQ8AII48BjTNhxBt/iAYGfkXaMSYMHIWYW2ebH0XDe++958rO8EoJozyACIBkUt8jzF1RQlDGgDKpUstfIPqIIeU/EGt48VTaiMo0G4IRpQx7hFbwlO0Ve3z4YULOPbelzJyZkGXLEkIpWtu2SenSJSlXX10nu+zSWOwlNXk+jJIpcfRdsofaCDUM5BFEB/cy97wSg+zpKIgqn8DGiSziOXjggQfKBx98IE8//bQMHz7c56UXNPcee+whL774Yto5dt99d5k4ceI634P0ufDCC91nIJf4ufWb3/xGRowYsd4c3O90TbvjjjscccbPgqOOOkquuOIKZ3AfHEYYFRRG+7AhYAgYAoaAIWAIVDgCRhh5DHDcCCOSMcgFlAMkz/ziXEpz6yD0EAN4KPHFL/eYs4bxSkkNH/PQZU3JI9QpJJyUv5D8MrevTlget9J6U5MY4u8EMQaxlpoEFXMtxTxXU6bZqMogGdJ5WqkXFphRwtK1a9diLnmdc9XViUyYUCVTp1a78rQBAxpl1KgGSclhS7Y+Tqz+TigOMZkvltqHOEEaackpzyolfokt9246s+1SghUnsgi11sEHH+xUN08++aTsueeepYSmbM5thFHZhMoWaggYAoaAIWAIGAIlQMAII4+gx40w4q0r6p2PP/7YkSe5kDI+za1ZF6UvqIuiNGxWdYqSR3hekPyiWlCCIYyCyeMWyWtqbQVPNzvIonzKs/I6ccw+FMY0GxIC3xPUWPiaQDrYSI9AkLQtpr9TutVoWaL6Hq1YscLduyghVX2ECrGUI05kEc82yq/Y64899piMHDmylNCU1bmNMCqrcNliDQFDwBAwBAwBQ6DICBhh5BHwuBFGEEWYI+Pd0rdv39DKASWLIHb4O4qdqFQHlBbgV4QqiFKhHj16eIsISaeSR5yPgT+SmmaXOgENc+FaKkSZXS7d7MLMXc7HpPO0UoNm9iwle2Bmo2myCJ8Y1EX4x+TyfCgGphB+Sh6hFGNAmGZSlvlcl5JFKJ4wlC4lactz7fDDD5dXXnnFGUPjX2QjPAJGGIXHyo40BAwBQ8AQMAQMgeaHgBFGHmMeN8IItQWtlnNRWfg0t+atOGVVKEUgP4qZ0OOdQgIKgYSfE9dJWZeSR3Ez3g1296JUqH///rH3dvF4a2WcGqwWLFjgPHggkhhRmGaX6np8nxe86DIFGVlsM/B8rg2SWX2P+JNSW8pMVXlE+Wk+3dzCriVOZBHPMbx58PV58MEH5aCDDoqMzA+LR7kfZ4RRuUfQ1m8IGAKGgCFgCBgCPhEwwsgjunEjjEgMSbbCDp/m1l9++aVTO/GGHvVHKT14wETJIzXebdOmjSvbg0BK54sTFsMojiMhppSQkr1ySOijuOZC5kCBghk4ewuPLkgjjS/JPkOVZZAMKFWa6+AepxyUznFbbrml9O7du6ygUGWZqo+4l1FABjvqRelZFieyCHP/0aNHy3PPPSf/+Mc/nMooKuVnWW2CAhdrhFGBANrHDQFDwBAwBAwBQ6CiETDCyGN4y5kwCpJFJCH6FQVcn376qVN/kLTjKxNlQlfo+lBhoVpQ410SUspNVHmEh0oxuzahvqJkDxIEVVH37t0LvcSK/jyxA6+m/J3UNJv4gin7vJSlTaUMRpCILFXnuCivn1hi/KzkEQpGJQdVfUSs8yVVmO/11193ROSgQYNCdXCM8vqCc0GMHX/88a6lPO3pjz766Lyvy9cay2VeI4zKJVK2TkPAEDAEDAFDwBAoBQJGGHlEvVwJIxJJ/SK5ioogIaGj3fOcOXOkS5curgOTz9KRQkObzheHZJHkEwLJd+kL5SaY2PInJXu5lBIWeu3l+HkUWHT/g9SDiMzWUStdaRPkoMa3HFq65xsn7m+6aUGcQURicl1pI11HPXzKlDyCsA77bIsTWQSJ/JOf/MT5Fd19991ywgknGFlUwOY1wqgA8OyjhoAhYAgYAoaAIVDxCBhh5DHEcSOMuFTKGJoaPs2tUe6QoKIA6dOnjyt9yfdNv8eQNTk1CTaKFDXNBkdt+Q15BJlTU1MT2dIofaGsipjQCY2yOBtNI6Bm4JABdP/LlYiEHKRMUtUpJOXEk7gSX0qcooxvKWPJtaLCovxywIAB0rVr11IupyjnJp7qe0SceR5BKBJf9kym+CpZRPwxuC5lZ0XWfeqpp8r9998vt99+u5xyyill9RwtSrBzPIkRRjkCZocbAoaAIWAIGAKGQLNCwAgjj+GOI2GEqgISInX4NLdGIQP5QTcfElTUReU8tPQF8ggTcZQMKBVQHGnXpkLK7EhoSehRu+DBg5+SjfQIBFvBR2UGDjlIFz3iC4FEfCvFNBvCAaN5yE+INXy6mtsgvhjdKznI84n4cv+q+khJIciiN954wxGQpSaLIPrOPPNMV4J2yy23uL+XE+ke131mhFFcI2PrMgQMAUPAEDAEDIE4IGCEkccolAthpH5FqjCC/IgqESHxJkHV1uaUC1XS4LpIKlV5xN/BjnImJY9yUSRgPowJcRz9neIWt2B3L1+t4IPxhWBQ02z2cdAXJ27YpFsPKhuIW66BEkfW39yHxlfJIzyQGB06dHD3IGWOKIt22mmnkiqLILnOPfdcueuuu+T66693f4/qGd3c94ARRs19B9j1GwKGgCFgCBgChkAmBIww8rg/yoEwCpJFQBGluTXqGzxlUMhQVtUclDKoqJQ8gixjaEcuCCQ8VNIN4vDJJ5/IrFmzHNE0cODAnMuqPG7l2E0dNGzu27evbL755kVZY7maZqMsxA9r+fLlrishJVg21kcAtRHkEUQRKiyGmt5DsJXC14q9/stf/lL+/Oc/y9VXX+3+bmRRdLvXCKPosLSZDAFDwBAwBAwBQ6DyEDDCyGNM40gYoTIgAWGkmltHRRYFyQ8SU0pfshkQewxDyabW5BMCiRIYcGnfvv3ajmv8HcyJA13j5s2bJz179pR+/fpZQpghaurBQ+kexuml6hzXlGm2KssKJRfq6kTGj6+SmTOrBJ5xn30apGfP9ctJs21w/LbUPB3ittJUftmuP9fvQ6rRDQ2lJV5rEEf4H6mvFc80yCP8j3w/13g2XHzxxXLzzTfL5ZdfLpdeeqk9G3INaJbjjTCKGFCbzhAwBAwBQ8AQMAQqCgEjjDyGM66EEQl3UFkUZQkaCc706dOF0qoePXo48iNsJyKPoSj51EouoLrCbBicUFyReKJE4gusKK2y0TQCwbIqiEjImTiMqE2zX3ihSn7xi5by6acJqa8XqapC6SJy2GH1cvXVdRLW1grSEg8e9h9+WKjdbDSNgJJFeBYNGjRorSpSfa20dA0lIWQv5JsShFErKHlGQxL94Q9/cKTRb3/7WyOLPGxeI4w8gGpTGgKGgCFgCBgChkDFIGCEkcdQxpEwInHE+JYEiIQkSrKIZB6zZtQ0W221lVPL2FgfAfBHsUDZCwkoA58UulWRfJKEGsm2Pm6QH6qUoawKk+I4jqBpNuoy1q2m6Op7RJlTU+O116rkiCNayeLF7AuRFi1QA9LhUKRlS5GDDmqQO+9cLYksT2/K5yCLILMgi/DlsZE7WZT6CZ6bEEZKHmnpGopBjS9dDQspG+McV111lVx55ZXy85//XK655hp7JnjavEYYeQLWpjUEDAFDwBAwBAyBikDACCOPYYwbYUQJz9ixY2W//fZzSgPeoheS1ASh48085taUv6D8MEPdzBsLvDAghsCj7EUTUEg3ylzAD/IIUiTXFvEet3TJpgYvyCIlP0jIy2FkM81O52t19NEt5ZlnqqV16zUEkQ6aG+LJTHna00+vku9/v+nyNPCCLGKglGnXrl05wFWyNQbL0OiGlotaiHtYySOesRCGdElU8ijXe5g9c91118mvf/1rOfvss+XGG2+MBVmEWfoNN9wgDzzwgPNbY09REvqzn/1MDj300HViN2PGDLngggvkxRdfXKtuQy211157lSzGTZ3YCKPYhcQWZAgYAoaAIWAIGAIxQsAII4/BiBth9NBDD8mRRx7pCIk99thDDjroIDnggANcYlMIcUSJFcoiVDIoP0zJkHlToUiAXIMIwlMGZQKDRJPvqWk25BvH4JUCscCfYNzcBp2rIIvAAqVMOZMf2UyzV63aQH7wg7aybJkInFiqimj1ahG+zjqrXq64oi7tVtBW8KiaIIuaMlpvbvuoqesthCxKnRNCk+ehEkiQScRBfY941kImNTUgi2655Ra56KKL5NRTT5XbbrstFmQRz6bhw4fLq6++KieeeKIMHjzYldH+9a9/lffee09uvfVWOfPMM91lffjhh+77PKvo5sbLiTvvvNM1QHjmmWdkxIgRsdp6RhjFKhy2GEPAEDAEDAFDwBCIGQJGGHkMSNwIIy6VX+4feeQRpzSC5CEJJxGAPPrRj34knTt3zok8wqgZzyJIIsiiTKU2HqEum6khg9555x1HekAWNYUXiSNECcfjewTRoGVN6pmSKfEsG0CyLJTkG3KtdevWjiziz0oZ6mtFjFWZsmhRRxkzZmepq0tI+/aJ9QijhgaR5ctFRo9ukD/9afV6UCi5BikMWVRJePmIuyqxIMxzVRZlW4/ew0oeQeQxKDlV9VGQ/OT422+/Xc4//3w56aST5I477oiNuvCVV16RnXfeWc477zy5/vrr1146pBGm81tuuaW7TxlHHXWUPPzww07hxs8EBtc+YMAAtx8x+C/kBUU23HP9vhFGuSJmxxsChoAhYAgYAoZAc0LACCOP0Y4jYaSXS3Iyc+bMteQRXYH4JX7YsGFy8MEHOwKJRKCpX+z5PC3gKU2AZCIZsNKpzJtp7ty5LllCbbDddtuFVguBNYktxBHkgiaedOGCPOKrEokBrvW///2vUH4Guea7I5XHR0HWqdU0e9asr+SwwwbK8uU10rZtvVRVJdb6jHEv4mOECfaYMfVy8cXrKoxQp1HmCAkJWWTkbWbYfZJF6c5M2SneZexrYsV9PXnyZFmwYIF73kK+n3POOXLsscc65U6cnqfPPvusjBo1Sq699lr5xS9+sc7ldenSRbbYYgt3LWDK822XXXaR8ePHr3Mcpt2XXXaZUymhQIrLMMIoLpGwdRgChoAhYAgYAoZAHBEwwshjVOJMGAUvm8QF4gfl0aOPPiq8Teb/+KVeySO6dyl5hJfFU0895RID/Hf69OkTqzfGHkOa19RBcq1bt27Sv3//gspMSDy1bI03/AzKPpQ8qoQSJJLnadOmuT22/fbbxyp5zmsT5PChk09uIY88UiPV1Y3SosWajoYiPKoTsmJFjbRvn5SJE2ulrk5k3ryEbLyxSM+eX8g777zlys9QYjUH9VkOkK53KPeQkuRRK4vCrAuvMsgjOqDdc889zsOMmPF8gJSBnNFS1TDz+T4GpR+kECQkZXJaknbTTTfJ3/72N/dzY//993c/O1Ai0dXtd7/73TrL+te//iUjR45cp3zN97rDzG+EURiU7BhDwBAwBAwBQ8AQaK4IGGHkMfLlQhilkkck65SsQSD9+9//dt46KDwgj0gUeAuO2uWll15ypQg2mkYA7CgDpCMaCRdfUZZj0IGLkhcIJLrTQS6QaCp5xN+jPF8xYg15ifoN5QLKtebWMW7mzIT86EetZMGCNY/nFi2SQikaBFGrVg0yePBCWbKkvXz44QbS2IgCSWSTTZbIccd9Kuee26OilVhR7L9Sk0Wpz9t7773XkUQoirif58yZ44iZvffeW04++WQ55JBDorjsgufAwJr1oCzVQWndgw8+6DzxGPzMOPzwwx2pdPrpp69zTghg7mf8mX7/+98XvJ6oJjDCKCokbR5DwBAwBAwBQ8AQqEQEjDDyGNVyJIxSkxmIjn/+858uEZgwYYJLRvkaPXq0Sx5Qy5QbIeEx5OtMjYoAnyjKT8CJEj+fg/MpeaSeOHR7UvIIFVKcY6VlkrNnz5YePXrIVlttFev1+ozltGkJueiilvLaa1WuBA3z644dk7L33rXy+OMt5JtvqkQkKTU1kEkJRxzhnX7ddavl6KMbfS6trOcOkkWlNgRnv6PM+fGPf+wURTxjebZShvn444/LY4895nzlKOOKw2BdqIZQm6IiQnX0pz/9yRFIrBfSCLXU8ccfL3fddZfzYQqOjz76yKlReeFA57e4DCOM4hIJW4chYAgYAoaAIWAIxBEBI4w8RqXcCaMgNCQERx99tPOTGThwoGuXDEGx9dZbu6SGt+D8f3NTgzS1fTCpxk8GxQB+RXQ4K+aor693RsoowSh9wSOHkhclj/A/ilOsUGJhnj5//nwvSqxiYh/luSCOZs2qknbtkjJ0aKMcckgrmTq1Stq0EampaXBxZUAarVxZI506rZJHHvlAevbcWOIW4yhxyWeuuJFFTz75pPMrQkkEcQS5mzq4L+Jwn6KS3GmnnZzh9WmnnbZ2mWDKc1/Lbnm5YAqjfHanfcYQMAQMAUPAEDAEDIF4ImCEkce4VAJhRCJwww03yM9//nPZa6+95KGHHnJdfih/euKJJ9xbcbwpIEZ4e6zkESVscUh0PIa3yanxeIIsAjtwgGQr5SDphDyibA0FEkQfSgbt1IRPUCkNdiE96BzH2iAgURfZWB+Bt95KyAEHtJYVK0Tat19DFiUSVVJTU+0OpntaIpGUs8/+rwwbNseZqgdjzL+b64DYoGsX9ySeRaX2+aK9/DHHHOM6VELGl3o92fbFT37yE7n77rsd+czzIjjOPvts50uE0ohnjHkYZUPTvm8IGAKGgCFgCBgChkD5IGCEkcdYVQphRLJAskn5QWqnKhIwCBLelkMe0U2H5Kxnz56OPFLfo1ISEh5DvN7UEDOUoeFBgvlwOtVAMdeTei7II0rk1DS7trbWkUUooFAf8WcxiQXIK9pxY96NUgHfIhvpEXj66Wo58cSWzlOsRQs6qFV9S/SteYyvXr3G5+jii1fLCSd8vrY8ETKXYzt27OhiDInUnEyx40YWPf/883LkkUfKkCFDXPOAOJlbN3Xv7bvvvvLcc885xSJ7KDjwKvqf//kf1wGSslueIZm6pE2ZMsVde1yGlaTFJRK2DkPAEDAEDAFDwBCIIwJGGHmMSiUQRsCDkoGEM5v/jbZ/5+05ptkkQ5BJdP5R8mjYsGFFJSQ8hne9qSmnwtgVryA6e8U9KSdeS5YsWUsekVgTYxQExSAWIKtQYtGKG7yKXbZXzL0RxbkmTaqSQw9t4Yihdu0apbp6XcXQypVrzvKHP0AYrSlVI8bLli1bqy7jfmSgEoQ4Is5xV7cUgh2loXRDi4uyiFLeww47THbYYQdHrpdafRgW2/POO8/5Dl1zzTXyy1/+cu3HIJ+32WYbpzCFhIZsPuKII9zz/80333T3NYM9iOE1RPqMGTOy/iwJu64ojjPCKAoUbQ5DwBAwBAwBQ8AQqFQEjDDyGNlKIYzyhYhkjbfSKI9QIFHGRoJ64IEHykEHHSS77bZbRXR0IhmlsxclGVwfSplyU1Qp2afKIyUW8MFR36PWrVvnuxXW+xx7gxIhvJZIniEwbDSNAPGZMeMjOfjgXjJ/fgfp0AEPo++Ob2wUWbIEY2yRKVNWSufO6ecC92BXPY5C4aLkUYcOHWKVzBeyJ+JGFk2aNMl5vUGw8Fwspz2PET2KSZ7hNDxAQYTp9Z133umefahPzzjjDBcunoN000SNCtEEKcZxlJ3yEgG1UpyGEUZxioatxRAwBAwBQ8AQMATihoARRh4j0twJoyC0qEnGjx/vyCO6/1C6RYnMD3/4Q0ce7bnnnu7tc7kNyoMoxZg3b54rw+vXr19FJNyojZQ8olyMQeKn5FG7du3yDhVkFOoD1EwkoeVQkpP3xUbwQTUUJjF/990d5I9/7CnLlom0bLmGNML3urZWnBH2mWfWy6WX1oU66+rVq50nDXHWrnrcg6ouK2fT7CBZRDe0QvZrKDCzHDR16lSnssTnjecgz75yG59++qlceeWV8sILL8icOXMcIYRHG13PDj300HUuBwP7Cy/8/+zdB5QUVfq/8YtiDqyrrGICEcW4rlnMqLCg4q6rYsaIAXPEnEUxAIq6CGZERfyrmLNiAhRdc8ac04rZNf3Pc7Xm14wzMFPTNV1d89xzOChMVVd9bk9rfee97z0ibo7A+4zv8xNOOCFstNFGubttA6PcTYkXpIACCiiggAI5EjAwynAyDIzqxuUBggcJwiN21aEvBsu4Nt5449jziF2D8tb7p647YakeW03z0E1QxHbTRRyEfUl4RIUBAQYhTxIe8c/TW66YuLCEhWVoLNfLY4+nvM3fb5VFL4d33nmnZve4Sy6ZKQwc2DpMmdIqhkUzzBDC7LOHsMsuP4VjjvkxzPhbD+xGDd7LhEZUHyWN0au1aXYSFhHm0uC60mER4SjBOM3c77//fpdeNuqdmf0XGxhlb+wrKKCAAgoooED1ChgYZTh3BkbTx6XpMUs1rrvuuhgeUanDshiWLRAede/ePfZYaWggMf1XLM9XEKLQrJneHCxBm7++NUDlebncnIX5SpY0JVUphHtJeETwV99ccRwBGw/whEV57/FUaXTCInpi0RtriSWWCB06dKi5JIq+br55xvDBB63CPPOEsMkmP4V27cpzxUlj9GSeq6lpdt7CIt7vBOE0c6cyx6bu5XmPlvMsBkbl1PRcCiiggAIKKFA0AQOjDGfUwKhxuFQ5sIMODVP5xRIcwqJu3brF8KhHjx4xTKp0eESTZqpkCE/ov8PSnZY46D9EaET1EeEC80cIlIRHpUuaPvjgg/D8889HKxrhNudObNU4N4Q2eH344Yehc+fOcbljJUZp02zmmYCUkcem2UlfLN6HeagsIuzjM4vlZ1QWsYOYI38CBkb5mxOvSAEFFFBAAQXyI2BglOFcGBilx+WBmd2NWLZ2ww03hFdffTX2OKIHBj2P+Kk9D63NHR6xpIrKIppa07/D/ju/zTHzRRPcZOkaYVqypIkd9qgcq9aG4OnfxemOxJIGwVjSIDlPQQOhTBIQsjyRkYem2XkLi+hr1rNnz2hDWFSpwC/dO7BlHWVg1LLm27tVQAEFFFBAgcYJGBg1zqtRX21g1Ciuer+YB2iWdrBsjcojGqrScJVG2YRHm2yySewLknV4xIMyD/IsqSIsqsYm3eWZkWmfJVnShBfLqaj4YG6Snbj43Qqjug2xevrpp2P4xjbk7cq1ziyDia+raTY76SXzTKBLWJj1YMkc4XJeKovYJYzKIqrtCIsWW2yxrAk8fxMEDIyagOehCiiggAIKKFB4AQOjDKfYwKj8uCyRYakOlUeERwRJVPusu+66MTzq1atX7CdU7vCIXYFoPjzvvPOGv/71rwYe05la5okqC3ZWIvQgXCNAYvc15gbHZDcuexn9hskSP6rXqGJbfvnlq6ovVtI0mzmmCXxphRkBEoEu36flHnkLi1hGS1hEaPrAAw+ETp06lfuWPV+ZBQyMygzq6RRQQAEFFFCgUAIGRhlOp4FRhrghxN26XnnllZrw6IknnogVDV26dIk9jwiQFlxwwSaFR7wGy+HeeuuteK6ll166WaomspXL9uw8LD/33HNx97vSZs1Y0v8pWbb21VdfxQuhr1HS94gKlZY4CFjoi4UJgSQhS7WO5mqaXRoWrbzyyhVfHspOdjTrpyE+YRG9pxz5FzAwyv8ceYUKKKCAAgooUDkBA6MM7Q2MMsStdWrCiDfeeKOm59H48ePjV6y++uoxOOIX2943pvKoNPjo2LFj3Na8Mcc3393n55WokmFJFf1t6L9DyFbfSPrhECBRVcOYe+65a8KjSm+H3lyqLO1i63Wqr2iiTpPkooxpNc1OKsxobN/YkbewiKWXVBZ9+eWXcTc0dk50VIeAgVF1zJNXqYACCiiggAKVETAwytDdwChD3GmcmodUlkIlu609/PDDcYkIW7knlUeLL774NMMfKj4IPggyqCrKU+PhyqhO/1UJPqiSYSetxlbJUJWRNFOmfw9zSGBEqMASQ5oHFzGs474JiwhA6ItF358ij3I0zc5bWMROdjS4ZinevffeG0M/R9MF+MymYpTKLXbHzOp7w8Co6XPlGRRQQAEFFFCguAIGRhnOrYFRhrgNPDXBAw907LRG36Nx48bF5rj0iKHqiABpqaWWmiqMeP3112PgRLUMwQf9VxzTFuAhnuCDAIQHZpaZpR2EdZ988kkMkD777LMY9s0222w1lUdt2rQpRHiEGcsouV/CIu6rJY00TbOTsIjvzVVWWaXiy9B4n7Jj4wcffBDuuuuueE2O8gnceeedYf/99w977LFH2HXXXZv0uVLfVRkYlW++PJMCCiiggAIKFE/AwCjDOTUwyhA3xakJj3jAGzt2bAyPWDrCwzoVRJtttlnYfPPN45KSbbbZJqy//vrh/PPPj0ukHNMWoC8RYVFSxUU1QLkG4R6VG0kzZYICmmQnPY8IpppjJ65y3U9yntJt4Kl8K6dZua+1Oc7XkKbZfK8mAXBDxPIAACAASURBVFsewiLCTHZopL8ZwcYaa6zRHFQt4jX4rCZ8JsxnwwGWEx944IGhT58+ZQ+NDIxaxFvKm1RAAQUUUECBlAIGRinhGnKYgVFDlCrzNTyQsPTp5ptvjuHR3XffHR9Q2M2LHjKDBg0Km266aVWGEc0pOmXKlLgMrXXr1nHJX5p+NA29XgIp5ixpml26ExcBEjuvZbETV0Ovr6FfR8BG8MGgWXNL6dXUUJ/6mmYnSxKpxmpKBVtDr2NaX8dSVT4faIh/++23h7XXXrscp/UctQR23333uLEBn9d8zpx00klhp512it/r5RoGRuWS9DwKKKCAAgooUEQBA6MMZ9XAKEPcMp6ah5ELL7ww7LvvvjEs4oGV6oFFF120ZtnaqquuWhVhRBlZpnsqjOjzxHIxwiLCtuYazBkP7Ul4xFIlKo1YPkh4xO8zzTRTc11Og1+HXdCoxuJaCYuyDNgafFG1vvCnn0J49dVW4ccfQ+jY8dcw55xpz9T045hn3mfPPvtsXCKaDPrZNKVpdlOujCpElrOyE+Att9wSunbt2pTTeew0BAYMGBCGDh0arr322nDsscfGoPW4444LO++8c9l2EjQw8i2ogAIKKKCAAgrUL2BglOG7w8AoQ9wynZoHUh5KjjnmmLDFFluEkSNHxh5Ht912W2yaze885NP0mmVrPCh26dIlVtS05PHRRx/Fh3j67tCzqJLhDHPIQ3wSHrHbGNUohH/J0jWWsVV6cI2ERVgRFs0666yVvqSpXv/nn0O49NLWYeTIGcN777UKv/4aAj24//nPn8OBB/4YyrjSsMH3TdXfpEmT4tJRzPi+S5qjsxMfg4bobdu2jXPN0r4sm6PT0J2+Z1S7sLS1e/fuDb4Xv7DhAnxPM4+PPfZY6N27d/wcZu779u0b3w9HH3107GtEMMxcsCNj2sDawKjh8+JXKqCAAgoooEDLEzAwynDODYwyxC3TqdmBhy2waah69tln/2EJGuEDzWxZtkY1AVUt7NrVq1evGB6ts846FQ1LysTQqNPQEPzFF1+MD2s0Bc/bMjAe6pPwiLCPwRKmJDyqRFDD+4YHW167uauxGjK5hEPHHDNTuPrq1mHKlBDI11q1CuGHH0Jg1/suXX4Ol132v/jPzTVqh0W1+zzRNJueZPxKmqPjm4RHVCGVs78VnwWEyhMmTIhN9Gl27chWgPfAwgsvHAMiehjxuUMTbHa+POKII8L48eNjoD9mzJiw4IILproYA6NUbB6kgAIKKKCAAi1EwMAow4k2MMoQt4ynpqkqy8+mN1j2xLbZhEc33XRTfEillwa9TAiPWJqSh0qW6d1H2r/np/5vvvlmeO2110K7du3iT/XL+UCe9rqmdVyyjTsBEqENg0bmSXjUHP2D6Lv01FNPxeVnhEV5fI9MmDBD2HHHmcN//9sqtG37a5hxxt9Uf/klhM8/bxVYbXj00T+GPfb4v2VhWcxXck6CApYfEQpRWTS9puClTbMJkFi+RkVKEh41tb8V76Ott946PPjggzGcoNowy0qmLG2r5dzMKcY0FqfC86KLLorVn+xiud9++8VNC/j8Ofnkk8Nhhx2W+rYMjFLTeaACCiiggAIKtAABA6MMJ9nAKEPcCp+aB9kHHngghkc33nhjrGihooGqA8KjjTbaKHdLjppCRlhE89kkXFtyySWr7oGZEIIwgbkixOGeCIyS8CiL5Uzs8EafJ85Ns+ZKLt2b1vwfeuhM4corW4c55vg1zDbb1F/JUrWPP24VVlrpl3D33T805W3UoGMbGxbVPmnSNDtZupb0tyI0IkDiV2NCO65nu+22i43xr7766rDlllvm6r3Pe5lltXwOUf3He42qSRpEUwGZjJdffjn0798/jBs3LgZxhJcnnnhi2GCDDRo0L5X6Iio/2YSA7yOqGvm+3XbbbcN1110XA6NDDjkkVh0RYqcZBkZp1DxGAQUUUEABBVqKgIFRhjNtYJQhbo5OTX8VlkjwAMND2/vvvx8f2nr06BH7nXTr1i1Wl1RrRQIP4C+88EL44IMPQqdOnUKHDh2q9l6Stw1zRphDqMDv3CPLmQiPWHJIb6amzhfnfuaZZ2KQSJ+nPPe92mqrmcO9984Y2rWjd8wfv7k++qhVmG++X8Ozz34fsmzf1dSwqPaVEy6wZCkJClmuyGho02yClR133DH20KG/GUFFU98X5fzoeuutt8L6668fuC+W1Xbu3DneL/3F+NyhKooxefLksNpqq8X3IEu7eH+PGDEiNu5mlzcC7ryOW2+9Nd7H888/H9q3bx/22WefWG10/PHHx35GfOYeeeSR8d8bEwQm92tglNeZ97oUUEABBRRQIA8CBkYZzoKBUYa4OT01Syboq0HlEX1OeKAjLKI5LpVHPXv2jE168/TQOS1K7ofQg1Bl6aWXjv1Eija4x9LwiOVMPHhSiUJ4RP+jxi69I1zjAZfG2yussELu+jzVnsOdd5453HLLjDEUqh0I0d/ogw9ahfbtfw1PPvl9nYFSOd4TSVjE76usssp0l6GleU36ECXhUbJEke/HZMe10iozQkVCGL6PL7300tCnT5/cfd9SQcQSLZpDs2yrvkHgQqDNMj/CSwYh07LLLhuD0pdeeil395bcyzfffBOoaCQUIvg677zzwrnnnhuDPBqfsxztgAMOiJsRpBkGRmnUPEYBBRRQQAEFWoqAgVGGM21glCFuFZyaqpXHH3+8Jjyi9w8PZ/w0nx4oLF+j0iGv4REPzPTemTJlSlh++eVjeFL0wZyxxCdZzkSFSWN74bz33nuxIovAiabgjQ2bKmE8atSM4aijZg4//kiD8KmrjCjK+eGHVmGnnX4Kp5/+YyaXhzPVIoRF9Cyiz1TWo66m2RdffHFcpsj3J7ugjR49OgwfPjzsvvvuufs+pZ/SeuutF84555y4JIvvV34RUJcOAheW46211lqxB1vpoP8P29RPnDgxViDlcdA/asMNN4zNxrk3lt/tsssuNYEi75m0O6RxvwZGeZx1r0kBBRRQQAEF8iJgYJThTBgYZYhbZacmiKAHBz/lp2KB3X7oZ0P/ECqPaOzKQ11ewiMewtgCnoc1KmS4tpY2WM5EFUqy41rSC4c+KlSk8HvtnkT0eKJXDOEafWSqISxiXr/5JoR//GOW8OyzM8QKInoZzTBDCN9++1tYtNBCv4Zrr/0hdO78a9nfBpUIi2rfRNI0+9BDD427IrKsi93/CK/o+/P3v/89Bkl5GuwSNnDgwBhsXXLJJXEXR+5jiSWWiCHQDjvsEC+Xisc111wz7jR2yimnTHUL9GWi+pGqHZZ6Necg3Cr9/uEzsvb3C9+DfCbecccdsYqI4G6PPfaIS+rKNQyMyiXpeRRQQAEFFFCgiAIGRhnOqoFRhrhVfGoegugdkixbY8kXVSwsL6HnUa9evWIgUanwiGU7hEUszaJRczkfzqp12pJeOIRHH330UcCI+WHJWdI0m95Vr776atzemx3kKjV/aY3ffrtV6Ndv5vDCC63Cd9+1CixFm3XWEBZY4Ndw9tn/C2ut9UvaU9d7HGERy6QI45qrsmhaN0FoQbXO/fffHxZZZJG4pJQQkMpAghX6/7AbYh7G5ptvHvv3UMlGSNSvX79YoUWDaJZDEiJRicPnDI26L7jggrD33ntPdelUwrEsjeVeVO5kPfBlKRzLAJNwiNBrzz33jNWW9Q2+/5gHKs9YIlrOYWBUTk3PpYACCiiggAJFEzAwynBGDYwyxC3IqXkQoiIlCY94eOZBiooAwiOWxhBANFf4QGUFYRGvxwN83qoq8jLtPPQmlUeYJYOHXiqLZqu91VheLnw618GOaOPGzRAmTJgh/Phjq7Dccr+Enj1/DrVWOZXlbvIYFtEPZ9iwYeH0008Phx9+eLxPlmUSzPCLaiN2TMvDYGkrS8w6duwYKxaThs/09eHPCLlYHjlq1KjYf4nldvRkKh30P1p88cVj9c6QIUMyv62rrroqNuTu27dvvEZ6unHt119/fdy1rRLDwKgS6r6mAgoooIACClSLgIFRhjOVx8CIn/DS8+LCCy8Mb775ZvzpdO/eveMWzIYDGb4ZGnBqwiMe4JLwiJ4dBDerr756XLbGr0UXXTSz8IgHTR6O6QfCwxsPnI5pCzBnPPDyYI4bFR4MKiGSyiO/r/5oWBoW8V6rdBUbn4tHHXVUGDp0aPwsPOaYY+r8PkuWSOXh+4JKRJah1bXUbKeddgpXXHFF7KXFrzxUGLFc7uqrr47hFddDo3mqKwmyWPJXqc8bA6M8vJu9BgUUUEABBRTIq4CBUYYzk8fAiJ8ks8MMyxmSn+7ykMRyqHvuuadqeq5kOG25ODUPpu+88078yTu/Hn744cCfUfWThEdUBpSr8oido3h4Y6kIy9DSbE+dC7hmvIikOox5olqCX0kjZaqPaJ7N1xAYJeFR6S5czXipjX4piqamTGkV5p3311DuYqm8hUXM0QknnBDOOuusGL7QCLpc31eNhm/EASwvoxqKz+999913qiOT/kaPPPJIvJe89DAiNGLHub322iv2L8J6v/32i2FrXT2MGsGR+ksNjFLTeaACCiiggAIKtAABA6MMJzlvgRF9LdjtirCIKpZk8MBB3w6WLuRluUWG01J1p+aBlm3aaZbNvLE7Eg9e7MDFkjXms3Pnzqkfcum9QxUCvUFocE0/Jce0BZgTzLCjf0yHDh3+cABNfamiIDzidx6IqaJIwqM87pD31FOtwsCBM4Vbbpkx/PJLqzDLLL+G3r1/Dkce+WNo377pDa/zGBaddtpp4dRTT43bs7MUrVoalRO8sMSMZXJcd+nYfvvtA8u/6Km1wAILxAbt09oljWpGKhmzGqWVWYRExx9/fGwqzrK6M888My7jZFSigsvAKKtZ97wKKKCAAgooUAQBA6MMZzFvgRHLLHgwInCgoigZNJxlFyy2aL7tttsyFPHUTRXggYpqIPqpEB7RnJdgYumll46VR4RHNFxu6EMvTX1feeWVGGIQJjb0uKbeRzUfT/BD+Prhhx/GoI5lgtMbyS5chEfMHw3FqeJiSSj2NM+utP1DD80Q/vnPWcL33/OfBcKh//t9vvl+Dffc831YYon0oVEewyKqiqguIjAfPHhwxedgeu+j0r9nCWn79u3j9vIvvfRSzTbzhJhLLrlk7H3G9zZjq622ipWK9CcjFGbQh4uG11T30Ectq6qq2pVDEydOjNV3kydPjn2i+G8R/11aZZVVprr9JDzKOkQyMGrMu86vVUABBRRQQIGWJmBglOGM5y0wok8Ey87Y4YmHhNLBT595uOBh1lEdAjxI8eB10003xYdBtsimh06nTp1qwiMeDusKIjj2tddei32sFlpooRg4ZfXAWB2aDbtKHn5Zusf3CcEcdo0dnIN5S8IjghSqupLwiPCW6ovmHD/9FMKyy84a3n2X/yTU/Z+Fddf9Odx++289mho78hgWsTSXvkUsjzr//POrKixK/IcPHx53GOP7d7fddovhMbuhEWbS34id3Rh8r6+22mpxGdhBBx0Ue2yNGDEiNqC+9dZbYw+hLAZBafJepoKVSknCOcJS/u7yyy+P/051E5VeXCODMIyG3nx+UcGX5TAwylLXcyuggAIKKKBAtQsYGGU4g3kLjKggSbYFr33bNL4eM2ZMDBzsX5PhmyKjUxMATZkyJT4kEh7dcccd4bvvvosVCFQesePaqquuGh+KqW7hoXHttdeOPZHK2Qspo9vLxWl5wH366adj2ENlRrt27Zp8XczbF198UbPjGtV+zBFLiKg84nce8rMet946Y+jde+oQua7XfPLJ70Lnzo2rMiIsorKF92MeGlxjTu+fQw89NIYsbADQ3AFdOeeT7/czzjgjhj+8d7p06RKXfPFDgNJBc3Z6G40bNy722mIuqK5iWVgWo7SyiOV+11xzTQxGr7vuuvi5w+C/N9dee23YZ5994vWwtI6KPf6Ma6UhNsvrshwGRlnqem4FFFBAAQUUqHYBA6MMZzBvgRHBAD+Bfvvtt/9w1+xcM3LkyPiTXXqrOKpXgAdilpuwvJCHSX7n3xdeeOGw6aabxgqZRx99ND6c0XDWMX0BQjZ2kCPcoXcUYU65B/P21Vdf1YRH33zzTaz6Yrkar0cFUu3KwHJdwxlntA4nnjjzdE935ZU/hM03/3m6X5d8AZ83TzzxRKxqJBCo9GcLxpdcckmsatlhhx3CZZddVtVhUYMnooJfyK5zfNYMGDAgLpklxC5dZsZ7hOW1hEaMxRZbLIZf9Gbi2KyHgVHWwp5fAQUUUEABBapZwMAow9nLW2BkhVGGk53TU/NgRmXHnXfeGX/CT4BEpczf/va3+FN+Ko+oNGqOKpacEk33snig/c9//hPDHJbIUPXTHIOQj6VvH330UXxtBoFL0jR7tjJuX3buua3DkUdOPzC67rrvQ8+evzTo9vMYFhGK9+vXL1BReeWVV9rgvUEzmf6L+L6hwnGTTTaJ4Q+hZ12DaiQab1NVRPN9lsgxT80xDIyaQ9nXUEABBRRQQIFqFTAwynDm8hYY2cMow8nO+alZirjxxhvHnb1YHkKVGb2PWF5FAMIDHeHR+uuv75LEkrlMllNRIUPIRrVPJQahXxIeUeXEoNnx/PPPHwOkOeaYo0mX9corrcKKK842jXP8GniJyZO/C3PNNf2XymNYNHr06NC3b9/4Pic8NSSd/jw29SsIqGm4Te+8rl27/uF0tRtaU8nHe6ecYej07sHAaHpC/r0CCiiggAIKtGQBA6MMZz9vgdH0dklbd911w+23356hiKeuhMA777wT+5QQGtHjKOltQhjCLmssBxk7dmz8eypYCI+oCthwww3jNvAtddBfhd479BVaccUVK76cKpkHrovwiPki8OOhm8AoqTwiSErTwHzbbWcON93Uuo7p/m3HtEMO+TGcdNKP03075DEsIrjYZZddQs+ePeP73T5t053GJn1B0r9o0KBBsVfUAw88EPjvS+0d03gRKovY1a1SYayBUZOm2oMVUEABBRRQoOACBkYZTnDeAiP6QrCkhj4SPDQlY+jQobGnB8s16OvhKJYAzbC32267uAsR/XfqGjzkP/TQQ/F9ceONNwa25mYnpR49esSKjG7dusWf+qcJIqpRk5CI3ju40HsHizwOru/TTz+N4RG/80BOyJeERwSADZ2zL78MYeutZwkPPvjHHdq23fanMGwYu7lNWyGPYdHNN98cdtxxxxiA3nDDDc1avZLH90wW11RXEMTr3HXXXfEzhP5FLDcj3EwG70t2c2MnN37RuLuuHR2zuN7ScxoYZS3s+RVQQAEFFFCgmgUMjDKcvbwFRtwqTY7PO++8GBqxRImdc9hemqqT++67ryL/w57hFHjqFAL0OKIpNuERD9gsX6OChYc6Ko94AJxzzjkbHESkuISKHsLyr0mTJsXwhbCIip1qGMzbZ599FsMjKpBY3kMlDX1jCJCo4JjeA/kvv4Rw330zhNGjW4dPP20VFlnkl9Cnz89h5ZV/Ca2m818LwiIqsmjWnYcG18wZDd8JS6luYQnm7LPPXg1TWbXXyOcFgSWVXAyC52222SY8/PDDcXe0f/3rXzUNr1layc6cp5xySjjuuOPijnWVGAZGlVD3NRVQQAEFFFCgWgQMjDKcqTwGRjxUDhkyJAwfPjy8+eabsX/N1ltvHRuSEgI4FCgVIDR57LHHasKjyZMnxwdClrgRHhE6tmnTpjDhEWEHlUUMmoI3tTdQpd5NzBs7HtIwm/CI5YdsaZ6ER/POO29ZdwcrDYtYvkfj4kqPu+++O362rb766uHWW2/18y3DCaFy6I033gidOnUKSy+9dGApGj3zGPSOOuigg2I1Ebul8cMJqhVpOn7xxRfHOeK/R5UaBkaVkvd1FVBAAQUUUKAaBAyMMpylPAZGGd6upy64ACEEW8tTKUAlwUsvvRQrWGhmy7I1wiOCiIYugcobFzuRUSFDFc4qq6xSmKVLPMxTzUHlEb9Ybsc9EhZTecTvTWkAncewiJ45W265Zew9RV+2vC4pzNv3QFOv5+qrr47LmpdbbrlYOdSrV6+a0IhK1vHjx9e8BO87GmKff/75TX3ZJh1vYNQkPg9WQAEFFFBAgYILGBhlOMEGRhnieuqKChBC0BMrWbbGP1PBwtIfwqNNN900hhHVEh7R54ktwAlOqCwqarNv5o1gLAmPqKhijliuxnxRgTTLLLM0+L2Vx7DokUceiUtul1lmmdhDhz5OjmwFSnc7owcaS8+oNCI0Yi4YVCARMj/++ONhoYUWio2u11lnnWwvrAFnNzBqAJJfooACCiiggAItVsDAKMOpNzDKENdT50aAh0UeBJPwKKnSYekJ4dFmm20W2rVrl9vwiOobwiJCInrvNCYwyc0kpLwQAqMkPPqSrtchxIAlaZo9re3NCYtwI4DCLQ/L0CZOnBiXSrI0iq3cK7XzVsrpqJrDSgMiLpp+WTPO+FuzdAJIekcRGnfu3Dkud6aSKK/DwCivM+N1KaCAAgoooEAeBAyMMpwFA6MMcT11LgV4kHz99ddjeMRW5jzA8wC5xhprxAd5fi2yyCK5CY/Ylp5ldjRDJvRoydut0+ybfkf0PSJEY9DwOwmPSnucERAQDBIWsewrD8EMvadYArXooovGBv4seXI0XYClqISKCyywwFQno4k4/YlGjRoV/7x2aMRSQOZjqaWWCsccc0xsfs2gj14SLjX96pp+BgOjpht6BgUUUEABBRQoroCBUYZza2CUIa6nzr0A4RE7rBEc8YulQvwZ/YGS8Khjx44VC4/Yhv7pp5+OoQihR1P6+OR+Mhp5gTTJTiqPCNWYNxqAEx7Rp+qVV14JX3/9dW7CIuZxk002iaEGYVHtcKORt++Xlwh069YtECaOHDkyLLbYYvFv+Pd+/fqFyy+/PGy//fbx75LQiKWpSQXSoYceGjdZWGGFFeLXV2ontGlNqIGRb3cFFFBAAQUUUKB+AQOjDN8dBkYZ4nrqqhLgAZIttmmWTfXRQw89FCsNeJAkPGLpGj1NmqvnEWHIM888E5df/e1vf4v9lxx1C7D0jHANM36n4oRBeEQ1D4bNNW91XeHzzz8ft3EnyCIsoj+OozwCVJCdc8454Ywzzoj9hmhcvfjii8eTs8smfz5s2LCwxRZbhDFjxtSERjRV5xe7oNHH6K233poqWCrP1ZXnLAZG5XH0LAoooIACCihQTAEDowzn1cAoG1yqG9iSmYa2bPPOrk88xNAn48ADD/zDVugvv/xy6N+/fxg3blzcXpylRyeeeGLYYIMNsrlAzzpNAcIjwgea4xIesaMVoQRNigmPaJJLw1weOLMYH3zwQSBkYBkVgVWelsdkcb/lOidLjlj2RYhAvyJ6HvFnVGYly9YwzWre6roPemcRFrFc7v77748BlqO8Av/973/jsrMjjjgidOnSJe5qRo8o5vndd98NAwYMiKERy8/Gjh1b8+J8Tx988MGhffv2Yccddwzzzz9/eS+sTGczMCoTpKdRQAEFFFBAgUIKGBhlOK0GRtng8uAydOjQ+ICy5pprxr4zPCxee+214a9//WuYMGFCzZboBEqrrbZarCAhTGrTpk0YMWJEeO655+J22xtttFE2F+lZGyRAePTZZ58F+qGwbI1GxT/88ENYYoklaiqPCHXKFUK899574YUXXogBx/LLL1+28zboZqv4i+rqWUSlEWFCsnSNMJbvM3oH4cvvWYZxr776agyLku//ZLlUFTPn9tJZfki/osMPPzwuKR00aFDsTcT8EsASGhEkbbjhhnGZGo3j2Q2NwIgd06gyyuswMMrrzHhdCiiggAIKKJAHAQOjDGfBwCgb3EmTJsWfcNfeLpvGqqeeemo477zzwj777BNffOuttw7XXXddrIxg6RGDh59ll1027opFhUIll9NkI1SdZyU8otnyLbfcEsOjO++8M/ZK6dChQ014xMNq2vCIfkpUm9HfhvlPe57q1E1/1YRF7IZGRRHfQyz9qj2YuylTpsSG2QRIVP3hy9cSHrVt27asPaLYor1Hjx7xMgiL+TxwlF+AuScEJNR97LHHwhVXXBGDI3Y+JASiKpB5Zt753GXJGjvrzT333PF9QOUnwVGev9cMjMr/vvGMCiiggAIKKFAcAQOjDOfSwChD3DpOTU8aqlH23HPPuESCLcN5YGV793vvvXeqI04++eRw3HHHxV28qEBy5EuAAIJgj+25WbZGNRj/zg5rPKyydI2d1xpawUK/FSpSFlxwwfiQa0jYsPluSFhUV3jEsrWk8ojvQ7xZrpaER1SgpB0Ef4RFVKKxnJGt2/M6vv3227DccssFAi5CbEKV0pHn5bJUkBH0ELZvt9128XuNz1M+Z5lfPlepKiJ85e8IDB988MG4fI2AiQokKpHy3kzewCiv3z1elwIKKKCAAgrkQcDAKMNZMDDKELeOUxMqbLzxxuHYY48NJ510Uhg/fnxcsnb00Uf/YUnE3XffHbp37z5VNVLzXq2v1lABwiMqje64444YHt16663x4ZRKIZYl0jB77bXXrrNxNce+/vrr8RdhE+GCYVHD5NOERXWdmcAoCY+oUmJQHZj0PaIipaGDJYWERYSHhMCEMXke7BJ24YUXxuutHRhVw3JZehStvvrqcanvkUceGdZdd934vUSV0Zlnnhkb1f/73/+Of18a3iaVSXmem+TaDIyqYZa8RgUUUEABBRSolICBUYbyBkYZ4tY6NTtu8TDDsgn6ExEMEC5sueWW4YILLgh77733VEfQx4afjPMQRP8NR/UIsNyJwI/5vfnmmwPbvrPkiW3VCY/WW2+92NeGCgke2HkvdO3aNfZFMixq2DyXKyyq/WoEf5988kkMkOh/xJhrrrlqwqM55pij3jn68MMPY88idmojLEqWmDbsjpr/q1jGt+qqq4aBAwfG92HtwCjPy2UJQc80+wAAIABJREFUWvleGTlyZNh1113j79tss00NIoHtVVddFQ477LC4icDgwYPDiiuumOulZ/W9AwyMmv97w1dUQAEFFFBAgeoRMDDKcK4MjDLErXXqfffdNy6PoK8GFUUMHnL69OkTt3bmoad08FNy+msccMABYciQIc13ob5SWQVYlkQPG8IjdmgijGAHLyrNWBZDVdJBBx0UWIJoWNQw+qzCotqvTpPsJDxirggpZp999prwiD44yZzxdcwpDZbZHZFeVnkeBNhU5rAzGJ9LNOQuDYyqZbksS+j233//uKsgOxdyX0klEXO22267xYb166yzTgzeWaZWbcPAqNpmzOtVQAEFFFBAgeYUMDDKUNvAKEPcklMnza533333MHz48JqHTCuMmsc/L6/CNt70UBkzZkxszks1Cz2t6KVCz6Nu3brFhrwGR/XPGIHAk08+Oc0G11nMN3NH5RCVR/zOv7Mb4sorrxyXoJ199tnhrbfeio3Q6V2V98H1sjSWoIX3W+3AqFqWyxK677TTTjEMYpdJNgpgJMERy0MJwugrxQ5pBLQN7SuWlzk0MMrLTHgdCiiggAIKKJBHAQOjDGfFwChD3N9PfcIJJ4QTTzwxVhJdeumlUy2JqJaHsuyVWs4rEDTwXrjmmmti9RhVKzfccEN45513Asud/v73v8fwiBBiWsufWo7Y/90pIQDLqFhuRNA233zzVYSB66ACkErBcePGxf4/hC4sOezXr1/YYIMN4rbteR0EWyx35fpZ8krD9dqBUd7C7GQJWm1TqsBYVscy0MsuuyyGdUngyjFHHXVUePTRR2M4xhLBSr1nmvJeMDBqip7HKqCAAgoooEDRBQyMMpxhA6MMcUOIQRGB0Q477BAuv/zyP/TP4EGTB5hp7ZI2YcKEuHTEUf0CLE+jzwpL0y666KKaZYj0MqK3FQ/p119/fQwjqDTaaKONYnjEUqfS5U/VL9H4O8hLWFR65TTIZkc8qo4IsJhD+hgxV5tuumk4/PDD45/nbfB+IjR66qmn4g5hdQVGeVoum1QLsRSRz0yWy2FMbykGvYr222+/0K5du9iPiQbzbdq0CY888kgMimh4fdZZZ9XZdD5vc1PX9RgYVcMseY0KKKCAAgooUCkBA6MM5Q2MssNlF7Tjjz8+bL/99jEsqm8ZxFZbbRVDApbZJA+XPBRRAUCVAttau0Qpu3lqzjNTXcT7YfPNNw/bbrttnS9NeEQVzXXXXRcrj5h/GmRTtUJ4RBUL27+3pPdEEhZ98cUXuakS4XuUBubMFT1yWE7I3BHw8v3ML4KMvC1P45p4D1IZRRN+Rp4rjJLdzKgqO/jgg8OkSZPC+++/H+add94YyPH9wD8TwJ522mkxsKOXEX/GxgG8d5iTjh07Nue3ellfy8CorJyeTAEFFFBAAQUKJmBglOGEGhhlg0sTWZpcL7roooHgqHZYRKNZHjAZr732WlhttdXiT/ppfsxPzkeMGBGeffbZuD07S5QcxRGob2lNXXfI1/I+SMIjdtdr3bp13GWNsIKHZbZ+L3J4lMew6Ntvvw1bbLFFDCII9ajYqT2YO0ae5oblW4ssskj8vBk6dGjNJbM1PU2hWSpJVSSBJL2N1lxzzbhsjUb9pYMdALt37x5oOE1/oKwGAdwMM8wQq4qosqSii55R9CmimotlnIRfBPPt27ePFVPnnntuePzxx+PnKb3BuPZOnTpldYnNcl4Do2Zh9kUUUEABBRRQoEoFDIwynDgDo2xwd95551hVVN/ggf+BBx6o+esXX3wxNtDlp/481LENNEvZWJLkUAABAgjeJyxbI6SgsoWHaZbfUHnE0iiW5OQpoGjqzBEWEQKwvT3Vd23btm3qKZt8PI3Ke/fuHR566KHYvBz3ajGnQosd+qY3zjzzzLDXXnvlYrksoRGh0MSJE8OFF15YE7TzvUDoNWzYsLDHHnuEQYMGxR3sGDQlZ0kn3x/8Xu3DwKjaZ9DrV0ABBRRQQIEsBQyMMtQ1MMoQ11MrkJEA4RGVacnSJ6otCC1Y/kR4xC8qSaolyKiLKY9hET2oWEp47733xuVmW265ZVUZsySSqsXagx5Me+65Z6yU6tu3b1huueViVU4elsu+9957oWvXrvG9TVNrQqBkfPLJJ7EC6uKLLw533XVX3AWtiMPAqIiz6j0poIACCiigQLkEDIzKJVnHeQyMMsT11Ao0gwDhEVuGJw2z2RGKP2PnqCQ8YgesagqP8hgWUfm34447httuuy1ceeWVsXl5NZlO661YVw8jvr4Sy2WTBtfJ7y+99FKsLtt///0DlU+M0mWdVGrS32u33XaL1Ub19Yprhm/FzF7CwCgzWk+sgAIKKKCAAgUQMDDKcBINjDLE9dQKNLMAD9I0BE4qjx588MHYiJntxJPwaMkll8x10JHHsIjKnF122SXceOONscqF4KgoYRFv0foCI/6uOZfLJj2LeB8TAO29996BsLNz585h8cUXj7286AvHSJph888LLLBArC4aNWpUM3/HNc/LGRg1j7OvooACCiiggALVKWBglOG8GRhliOupFaigAA/dH330UQw5CJDuv//++JDN7nuER+zUxm5SeQo+CIuefvrp8Pnnn8et0GnoXemBGT1yRo8eHYYPHx523333XJlV2ieL16eZOzucDRw4MPaLohE3zatpbn3AAQeEueaaq+Zlx48fHzbddNP458cdd9xU1UdZXFslzmlgVAl1X1MBBRRQQAEFqkXAwCjDmTIwyhDXUyuQEwHCo88++yyMHTs2hkf33HNPbK5OtRHhETuuEdCU9odp7kvPY1jENfXr1y8uQWNHMP45TwFbc89RVq9XWi3Ezmf0iWKXSd6bNK0mPOrfv39cDnjYYYfFHepYcknvLpahsRyTvlKrrLJKVpdY0fMaGFWU3xdXQAEFFFBAgZwLGBhlOEEGRhniemoFcihAeMRuWTfffHMMj2gWzM5fLP1hxy8qj9i6vDnDozyGRSyPom/OpZdeGgYPHhwrWAyLmv6GLu0/VPtsBx98cPjmm29iVdyTTz4ZFlpooZovmTBhQpwHdqabaaaZwsILLxy++uqr8P3334eRI0fGcKmow8CoqDPrfSmggAIKKKBAOQQMjMqhWM85DIwyxG1hp/7222/j7kpvvPFG2GeffWJFRul4+eWXY5XAuHHjYnXLSiutFJea0LDWURkBHt6//vrruHMWVRq33357fGBnhzXCIyqPVl999UwbCec1LDr00EPjNu4si6KqxbCo6e/RpEcRv3/55Zcx8GHZ4SyzzBIDIiqE/vznP8cd2giIGPSPIiBifPjhh+Ghhx6KO9Tx58svv3zo1atXWHPNNZt+cTk+g4FRjifHS1NAAQUUUECBigsYGGU4BQZGGeK2sFMnD9gEELUDo8mTJ4fVVlsttG7dOhx44IGhTZs2YcSIEeG5556LIcVGG23UwrTyd7uER4R+d9xxRwyPCJF4qG/Xrl18KKfyiAdz5rBcI69h0ZFHHhkDz5NOOikcc8wxhkVlmPBk1zOCnqOOOioGxzRop5n1v//977DMMsvEZWX0I/rhhx/CWWedFag4YpQuWePf+XtCpmlVK5XhknNzCgOj3EyFF6KAAgoooIACORQwMMpwUgyMMsRtQaf+z3/+E3uKUI1BcFQ7MNp6663jDkdPPPFE3LGLQbBEA+ZZZ501sHW2FRz5esOwTO3uu++Oy9ZYvkYj6rZt28YHeiqP1l133TDzzDOnvmiqTGhwTW8lKkXmn3/+1Ocq14Fc0wknnBDOPvvsGBQRGPm+bLpuaWVRly5dwmuvvRar2PhzQmOWnj3wwAMxPKKJNTuezTnnnGHQoEFhhx12iBeQnKP0agyMmj43nkEBBRRQQAEFFKh2AQOjDGfQwChD3BZyaioHWLbEA//5558fe+GUBkYscZp33nnDWmutFSsISsfJJ58cdzaaOHFirEBy5FOAio777rsvhkf0l/n000/DPPPME9jNit4xPOBT8dHQkcewiPBhwIAB8RdL0E4//fRm7ePUULtq+7rSoIfeWFStUT3Us2fPuNSRPlFUGFHBNmrUqBgg08y6a9eucXnaqaeeGvr06VNvaFRtHmmu1wqjNGoeo4ACCiiggAItRcDAKMOZNjDKELeFnJpqjGOPPTY8//zzsRqjdmBExQBLmY4++ui4NXbpoIKle/fucfkPIZMj/wIsKWI5EcvWCI/oK8MSQwIAwiOWF7KzVX2VOXkNi84888zYU4vm1lS2NGfT7/zPetOvcO211w7vvvtuuOyyy8I666xT0xeLZZAdO3aMFYpUsiUBE1WL6623Xqw0IsTbeeedm34RVXoGA6MqnTgvWwEFFFBAAQWaRcDAKENmA6MMcVvAqd966624rIwwiL4vb7755h8CI4KFLbfcMlxwwQVh7733nkqF7bI5nmN5KHRUlwC9ZR599NG43PCGG26IgQAP+ISALFv7+9//HuaYY46a8IhlbmyNTsCUl2VoVBade+65sa8O70/CS8Oi8r4PTzvttPgZsdtuu8XQmGpE3KlO5DOEZardunULo0ePjkESf8fvzz77bKxeo0k+lUYtNVQ2MCrv+9GzKaCAAgoooECxBAyMMpxPA6MMcVvAqTfeeOP4wPfUU0/FnYzqCozY8polJRdffHHYddddp1J5/fXXY98SqjqGDBnSAsSKe4tUhrC0kICQpWvslkelERVHhEfrr79+2HHHHWMIwE5XSyyxRMUxCCaGDRsW+24RZgwfPtywKINZefjhh+MytDvvvDNWcVEtxO5oDKoTqe7ivbPCCivUvHrSJPvFF1+Muy+ybG2PPfbI4Oryf0oDo/zPkVeogAIKKKCAApUTMDDK0N7AKEPcgp+ara233377uDyJBsgMK4wKPukNvD3CI7ZJTyqPXnnlldiP5osvvgh77bVXOOKII+K/V7KhNGERISZhJY2VWSpFVYsjGwFCZfqVsQsfDcUPP/zw2POM36nqorqrdmPrJDSaMmVKrEprqcPAqKXOvPetgAIKKKCAAg0RMDBqiFLKrzEwSgnXwg9jiQi7HNGoeujQoTUaLEmiPwkVRVQSEArQ28geRi33DfP999+HHj16hAcffDAstdRSgYoRqtHoT0PlEY2z2X2tOcMjwiIq3/r16xfYwY9/bt26dcudpAzvvHQns2eeeSbuQkevIuafsJnqIsKi+pqmczyjOd8fGXKkOrWBUSo2D1JAAQUUUECBFiJgYJThRBsYZYjbiFPXtWV0Iw5v9i+lUoRdsqY3eBikomS++eab5i5pEyZMiDutOYolQLC41VZbhVtuuSVQkda7d+8YGCXL1qg6oaqHhsg0zN5ss83CAgsskGk4QABxzTXXhL59+8adufhnAixHdgKlodFzzz0X6Gl09dVXx3D50ksvjU2vGaVfl93VVN+ZDYyqb868YgUUUEABBRRoPgEDowytDYwyxJ3OqR955JH4FWw3X22DnbJuvfXWP1z2xx9/HPbcc89AbyMeyOk90qlTpxga0NeGZUpJn5Kvv/46NrymsuDll1/ONCSoNt+iXO8555wTDj744Lhd+jbbbDPVbREOvPrqq/F9wa/HH388vge6dOkSwyN+LbzwwmV9X/CahFX00uI9ypK5mWeeuSjcVXMfVBqxu+KVV14ZDjvssLgssF27dlVz/c19oQZGzS3u6ymggAIKKKBANQkYGGU4WwZGGeLWc2q2IaeXx0033RQIXuaee+5wxhlnxFClrlFNP3Wvq4cR9/Taa6/F5WtUchx00EHxnkeMGBEbIBM8sZuWo3gC7KJG9RgVRNMavMdpnp5UHo0fPz5Wm7DVOsvWCI86dOjQpPCI87EUisbbNOImpKIpt6MyAlSaUWlEmHjggQfGYHGhhRaqzMXk/FUNjHI+QV6eAgoooIACClRUwMAoQ34Dowxx6zk1DV95SKLRLkEJD02ff/55bAZb7Y1d6wuMoOABkWbH9C1hqdJKK60U+5nw8O5QIBEg2HnvvfdqKo/YUY0lm2y9noRH7LDWmJ42nPP2228P2223XeydM3bs2DD77LOLXmEBmqEnoRFLVwmNCAYdUwsYGPmOUEABBRRQQAEF6hcwMMrw3WFglCFuPadeZpllQvfu3eM20zTapbcL23pffvnloVu3boGqDP78s88+C2PGjInLcjbddNPmv1BfUYEKCxD0fPTRR+GGG26IAdIDDzwQvz9Y6kjVEQHS0ksvPd3w6K677opL4uiTRUXbnHPOWeE7K9bLJ59ZaaohqT4cOHBg3LGOvkY0IXcYGPkeUEABBRRQQAEFGipgYNRQqRRfZ2CUAq0Jh7A9NFVFNHklKGKMHj069lR54YUXQvv27eOfffXVV3GnMXr+8JP3I488sgmv6qEKVL8AYcSnn34al3KydO3ee++NlWqdO3euCY+WX375MMMMM0x1s4RMW2yxRaxoo4pvrrnmqn6MHN3BySefHKgUYqe5tIPj6WG1/fbbpz1FoY+zwqjQ0+vNKaCAAgoooEATBQyMmgg4rcMNjDLErefULMFgKRZ9i2i4O3jw4NjwlaVaLL2hl8u2224b2ImMprxUUzRmpPkpf2PO79cqUGkB3uN8f9CTiPCICqLvv/8+BrHstMbuZwREjz76aPjXv/4Vm6vzNXlb8klQQuNnrm3y5MnxHhZffPHYz4y+PnPMMcdU1DSH79+//1TLOk888cSwwQYbVGRK+Lw6/PDD47VTBVb62ePnUPmmxMCofJaeSQEFFFBAAQWKJ2BglOGcGhhliFvPqX/44Ydw6qmnxiVoLLdhCQZL0qiO4KGLQGnWWWeNlUcESTyU1a6aaMhVcxwjzbENOb9fo0AeBAgmqMhjqRnhEVVE33zzTZh//vljbzCWgN53333hz3/+cx4ud6proKfX0KFDQ69evcKaa64ZA+T7778/XHvtteGvf/1rbBieNOYmlKFxPMtVCZMIv2gczzb19GeqVC8wQrtddtklPP3007FpdfJ5RUN/mtwnv//8889hxhlnzN0cVMMFGRhVwyx5jQoooIACCihQKQEDowzlDYwyxJ3OqdlWnocrHgBpwMuDI0ESvVaoIiAsIlxi2/mGDh42X3/99djziAfmZPBQzWhMo+CGvqZfp0BeBHiff/vttzFAoYKPXfjefvvt0LZt27xc4lTXMWnSpNCpU6fwpz/9aao/pzE+nwXnnXde2GeffeLfESxTcfjEE0/EBuAMPkOoniJgfumll5r9+5vPL6qe6L2GOaE3gz8788wz4xJCAi+WrXGfacPvXE5eM16UgVEzYvtSCiiggAIKKFB1AgZGGU6ZgVGGuNM5dbJkgwdcHgyPO+64MGjQoNCvX79UF0WVBctDLrzwwnj8UkstFXdi23nnncOCCy6Y6pwepEA1C7DEizCl2sYzzzwTVlhhhbDnnnuGYcOGxYqpeeedN6y11lqxd1PpIIzhs2PixImxAqkSY4011oi92VgeR0C34YYbxsb+fMYRZD322GPhnnvuCXydoVHjZ8jAqPFmHqGAAgoooIACLUfAwCjDuTYwyhB3GqdOlmnQr4hlKf/5z3/C8ccfH3sX8UBIJcHHH38cm8CyExSVQdOrDqIfCtVJ/ER/p512ig9p9EYhSNpvv/3CIYcckrseLpXRT/eqLG8aMGBAuPHGG8O7774bmyfTX+qkk04K66yzTs1J89ZnJt3delQlBajW2XjjjcOxxx4b31/jx4+PS9aOPvrocMopp0x1aXfffXcMZ0qrkbK6dq7rqaeeikvLevToEZfNsUManzeEWnxvsNPZ8OHD4zJAPrPee++9WCXFZxyfSaWVj1ldZ9HOa2BUtBn1fhRQQAEFFFCgnAIGRuXUrHUuA6MMcadzakIHHrrorXLWWWfF6gAqjPi17rrrhiWXXDI+gNEgm9BoeoOv7d27dww19t9///ggx85r/NSfvi4XXXRRfLCzGe30JP/49wR766+/flwCxI527MxFEMeSJ5bjJFuB57XPTOPv2CMqJUCvH77/CVfoT8R7jd5MW265ZbjgggvC3nvvPdWl8T3OsjR2UuR7P6tBCHTYYYeF+eabLwZBNB0nHOL9z851VDcSJo0ZMyZeC0HW0ksvHS+Hnkx77LFHrDJaZZVVsrrEwp7XwKiwU+uNKaCAAgoooEAZBAyMyoBY3ykMjDLE/WM4V1MlxMMUFT/0VqGaaJ555gk8KPLTd34az9/NPffcNbul8WBWu89J6en56T7LUnioowkt4UYyPvvss9iMlv4ivC7ncVlI4+adCiJ6Q/EQj2V9I499Zhp3p351pQX23XffcP7558dKIiqKGGxZ36dPn3DxxRfHwLJ08L5kZ7UDDjggDBkyJJPLf+ONN0LPnj1jbzTCaMJSlsIRaCV907p27Roefvjh+BlHwN23b9+w++67hwUWWCAGSwcddFC4/vrrY6WUo3ECBkaN8/KrFVBAAQUUUKBlCRgYZTjfBkYZ4tYTGB188MHxwYmHKhrbJltn33bbbWG77baLO6Xx8MXgAZGf6rMcalrj1VdfjdVF/PT/mmuuif1Okv4tr732WuyHwt9RKVN7GB5N+z3w4IMPhvXWWy+cc8458WGZ5YT8olF56ch7n5nme6f7SmkFkmbXBC2Ev8ky1EpXGLGsbKWVVoq7OfJ5xKBXGstoCVEXXXTRuCyTCkaunWV0p59+evy+YYksVVA08U+WqaX1aanHGRi11Jn3vhVQQAEFFFCgIQIGRg1RSvk1BkYp4ZpwGFth0/+GwIiGvElgQxUB/Ywuu+yyuMyDAIKHrzfffDP2MJnWttRjx46Nza3ZQnzw4MFTNb9ltyjOS4UC5yYAoepo8803b8JdtJxDsRs4cGDA+JJLLgm33HJLnIslllgiVnXRWJyRlz4zLWdminWnLD1l+Sjfp5deemmYYYYZam6w0u8tls9SXbTqqqvGwIjlsoRCLJ8lDKKp/hZbbBF3deT7g3H55ZfHakd2SqMB/7nnnhtmnnnmYk1aM92NgVEzQfsyCiiggAIKKFCVAgZGGU6bgVGGuI089TvvvBN/Is8v+n1QVUDPkn//+9/T7D3ELmssDyHU6NChQwyYFllkkfgTfx70Hn300Vip8NBDD8UgiZ2KnnzyyVjlxAMcy0vY4WjOOeec6oqnFVA18taq+ssJ1ugPxfJBQiJ2sePBmIfl559/PoZIu+yySy76zFQ1dAu+eIIiAiPCR4KW0rAIFnpnUSE4rV3SJkyYEFZfffXMFOlDxHK4Tp06xc+NJ554In428VnFIPDm3x944IGaYIgqx1lmmSX+/fSa9md24QU4sYFRASbRW1BAAQUUUECBzAQMjDKjDTRA/jXD03vqRgrwwEXVCg+M/GLXNBpi136A5LRJ82p6mLA7WuvWrWu24GY3IyqJCKEIiQg02EmJEIjeSDTa5iGUXY6oECAsYklc0qS29LKpgGLUdQ2NvL2q/PKNNtoo7lzXsWPH8OKLL9Y8DP/3v/+Nf0aVGEt2Ro0aVdE+M1WJ60XHSh2WdrEjImERO5DVNbbaaqsY8hL2ssQ0CZJoeE0ow+58WYcyNK3mc+LDDz+M4RY7uSXjmWeeCV26dIk9jfjMKf2McpqbJmBg1DQ/j1ZAAQUUUECBYgsYGGU4vwZGGeKmPDU/lR83blzsQ9SQHYV4gGM5CEunaJJLcFTal+i7776LfUQY7GbEUrgVV1wxBlE0pGV5Grt9sfvSl19+GSZOnBj7kiy88MLxa9u0aZPyTopxWK9eveIym7q2NKdnyxVXXBFDN35VeierYoi3nLuguTVNrukBRHBUOyyiCT7LUxn0IiOImWmmmWIDaYJflrfyvXvrrbfGKsFKDXZk5HOLqkYqpf7xj39U6lIK+boGRoWcVm9KAQUUUEABBcokYGBUJsi6TmNglCFuM5yahzR2Uzr77LNjvxCqYZJRGhrRpJkHTYIlllfRj4eeJKWDCgEeXtnpiF3bqFbg/HvuuWc49thjp7lLG+dJKp4IoIYNGxarIGq/RjOQlP0lCNK4n6FDh0af0pH0N3rkkUeiFztA1RUssTsdFV7nnXde3AXPoQAC9B2jqqi+wfJUlnglgwo33nMEyv/73/9iI2oCmtLv+0rK0rSfzwGq7VpqRWIW/gZGWah6TgUUUEABBRQoioCBUYYzaWCUIW4znHry5MmBrdxZkjJ69OhYFTStwfIpHi6vuuqqWKGQBEn0OuJhj7BowIABMehhyRrVM/TooXE2O4TVNwinWO5GKDVp0qTYa4VqG5ps82fVPGhATO+W/v37x52fSgfLiLBklzqqtSrdZ6aanb326hVIwmIaYtPXi/C6vqV11XuXlbtyA6PK2fvKCiiggAIKKJB/AQOjDOfIwChD3GY49XPPPRcDIHoYnXbaaTVLz0pfOmlezbKqzTbbLIY/bI+dPOTxtVS+HHjggeHUU0+NvyeNavk7mmR/9NFHsTcJTbWTQdhExcNf/vKXGJYk46KLLopVNPRb2WSTTZpBIduXoFdR+/bt4852L730Uvyd8f7778fdotgh6pVXXol/loc+M9lqeHYF6hfgc4LwuF27djKVUcDAqIyYnkoBBRRQQAEFCidgYJThlBoYZYjbjKcm1GAZWV0jCYwIMwh9WI5GBRB9R+h3xEMeOx2x6xHLX9gFqXQ52yGHHBIGDx4cCKeWWWaZ+BL33Xdf3MGNiiSWoLFtNkEU226zixjnYtlMUvFUGk41I0vZXmr48OFxaR5NwXfbbbdYmcX90/yXII7lZow895kpG4YnUqAOgWr/Hs/zpBoY5Xl2vDYFFFBAAQUUqLSAgVGGM2BglCFuzk5N82p6olx55ZVxOVrpLmvsdsRuS/RTYce05O8IRuiRxBbyhEkrr7xyrLJh++5vv/027L777nGr+aeeeiqGJTTjpcfKhhtuGKuW2H67KIOKKUIxmgzTn4UdodjdivCtdOQdCasmAAAgAElEQVS9z0xR5sP7UKClCBgYtZSZ9j4VUEABBRRQII2AgVEatQYeY2DUQKgq/zKqfbp27RqOOuqoGACVDoKftm3bhp49e4aRI0fGZW1JVdIXX3wRl1m98847sZLmz3/+c+jbt2+sMDr33HPDjjvuGKuRWJ613377xdCIHiY33HBDXP5GI+jx48fHndaoTrIKocrfSF6+Ago0u4CBUbOT+4IKKKCAAgooUEUCBkYZTpaBUYa4OTl1EtJQGUP10GKLLTbVkjOWs7F196effhrefPPNqa6a7bppqk1zZyqGqDJip7UddtghNoCmUikJl9gJjK29l19++RgYdezYMXzzzTexgTaBFUvgSndOMjzKyRvEy1BAgVwLGBjlenq8OAUUUEABBRSosICBUYYTYGCUIW4VnDoJbdgJjR49u+yyS6wUmn/++ePOX+yc9uWXX4bbb789Nr8+++yzAzsh3XTTTTEIYiT9jtgZ6V//+lfshzRw4MAYTj322GNxt7QVVlgh7pxEaMTuSVQeff/997EaiWVuDgUUUECBugUMjHxnKKCAAgoooIAC9QsYGGX47jAwyhC3ik799ddfhxNPPDGcf/75cYejmWaaKe78xVK1AQMGxEbPjKOPPjpWGt1zzz2xwXUSOPH7sGHD4u5oY8aMCZtvvnmsJmLZGruuXX311bFSiWokBqHROeecE3sesQyOCqZklFYelX59FXF6qQoooEDZBAyMykbpiRRQQAEFFFCggAIGRhlOqoFRhrhVeOrJkyfHcIewaLXVVgsbbLBB6Ny5cwx4GEceeWSsHmKJ2TrrrFNTXfTee++FfffdN0yaNCn+HcvRvvvuu7DzzjuH6667Lv5z0gA7WcLGud9+++3493/729+m6m/E8rj55ptvKsHSIIm/5zXpi0S45VBAAQWKKmBgVNSZ9b4UUEABBRRQoBwCBkblUKznHAZGGeIW8NT0MKJPEY2wzzzzzFiB1Lp161iFdOyxx4Y+ffrECqQ55pgjhkf//Oc/41b09DdKgiJYqGii/xFL3lgOl4RJLH2j/9ELL7wQPvvss7DiiiuGXXfdNWy00UY1mgRHZ511Vjwnr7XkkksWUNpbUkABBX4TMDDynaCAAgoooIACCtQvYGCU4bvDwChD3AKemrDm0EMPDUOGDIm7oC233HJh4sSJYcKECTEEuvbaa2MfI5ajXXHFFbHC6LLLLotBUunyMv6MIIglcHvvvXfsZ0RQxNdTzcSObgsttFBgi/rXX389dO/ePQwdOjSK/u9//wu9evWKr8HrsYTuxx9/tNKogO83b0kBBQyMfA8ooIACCiiggALTEjAwyvD9YWCUIW5BT83OZ6NGjYqVQX/6059ihc/48ePDJ598EnsbderUKS5VO+2008Jxxx0XXnvttZqd2fhzKpI23HDD2FT7+uuvD6usskq48847w+677x7Pd+GFF4Y111wz7rBGlRGvdfnll4enn346Ll/r27dvDI1opn3xxRfHaqbGDsIrAieabzumFvjqq6/C4MGDw+jRo+Ouefiy9G///fePYWDpePnll0P//v3jMkTmZKWVVoq9sFhu6FBAgfIIWGFUHkfPooACCiiggALFFPCJLsN5NTDKELcFnPqHH34I/GLntM8//zwGO7PPPnu886Th9f333x/WW2+9Gg0CJEKm3r17h0svvTTMNttsMYxgedmNN94YK5dqj48//jj85S9/ieETjbVZGkclEiEF5z7iiCNCt27d6hUneGJHtnnnnTcsu+yyLWBm0t0igR69qagaY8c8+lhNmTIlVonhxxzhz6DfFX9PAEhj8zZt2oQRI0aE5557Lu6qV7qMMN3VeJQCCiBgYOT7QAEFFFBAAQUUqF/AwCjDd4eBUYa4LezUP/30UwwPkvHQQw+FjTfeOKy11lrhhBNOiIHCu+++G0499dTw8MMPh0GDBsWgiKBpk002iX2Lvvjii6mqflgC9/sDU/ydZW89e/aMQRE9k2h8TTix+uqrx4bcpY2xS/mpljn77LPDhx9+GM9PuERF0xprrNHCZmnat0ulGNVd7F7H/CSD0IglglSPPfXUU/GP2fWOiq8nnngiNi1P5odAbtZZZw0vvfSSFVy+uxQog4CBURkQPYUCCiiggAIKFFbAwCjDqTUwyhC3hZ+aapUzzjgjBkQECIssskiYf/75AxVHNMIeNmxYDHreeeedWFU0zzzzhPvuuy/UDp5KGWmkve6668aKoqOPPjpWGRE4zTLLLHHpVH2BEUFR0nibZVT33ntvDI+ojDn44INb+Ez93+3fcccdMZBj3qgaKx0LLLBA3P3u0UcfjcsFqdYiDMSydJx88slxKSJVSlQgORRQoGkCBkZN8/NoBRRQQAEFFCi2gIFRhvNrYJQhrqeOAjSkvu222+LvNK+mTxEVPjS5TpavETy8//77sXqFSiRG7eoi/p2ql2OOOSYuXWO3tjTju+++C2+99VYMsmiazTK6bbbZJs2pCncM4RuhEAHcBRdcULMk7ZxzzolNzJkzqsaSSiRCu1NOOWUqB4I55rl0+VrhoLwhBZpRwMCoGbF9KQUUUEABBRSoOgEDowynzMAoQ1xPXafA2LFjYyDRo0ePmoqgAQMGxCDorLPOCnvttVdNkFR6ApZFbb755uHbb78N11xzTejQoUO9FUW1X5hqJ5pclw6WTBFUERaxW1t91UktbRppYM1yPfpFJaNt27YxXFt//fXjH/2///f/YtNxQiV2uSsdLC1kWRpLBJlXhwIKNE3AwKhpfh6tgAIKKKCAAsUWMDDKcH4NjDLE9dTTFUhCGnbm2mOPPQJLonbddddYoTLzzDPHvjk0yGawSxoBD32P6F9Es+yGDkKmJ598Mi6FYykVvZBYGrfddtuFPffcM1bJsGzOEcIzzzwTPdq3bx/7GVF1RKBGgHTTTTfF0GjkyJGhT58+cZc65qt0vP7662HxxRcPBxxwQBgyZIikCijQRAEDoyYCergCCiiggAIKFFrAwCjD6TUwyhDXUzdIIAmN2MKdpU9XXnllPI7AiJ22WDLGuOqqq8JOO+0UQwv67DRmEHZQuUSPJEKQBRdcMJ6H17jzzjtDly5dGnO6wn4tO6GtuuqqcekfXskgcFtuueViFRaWLAm0wqiwbwNvLGcCBkY5mxAvRwEFFFBAAQVyJWBglOF0GBhliOupUwtMmDAhbttOkENPHcaZZ54Z+vfvH5tlU43UmMGSNJprU1XE1u/0SqKyaIsttohVS47fBHbbbbdwySWXhE8//TRWYpWO/fbbL/YlIjD6+OOPY/BmDyPfOQpkL2BglL2xr6CAAgoooIAC1StgYFS9c+eVK1BOgc4hhNEhhDlDCFeHEO4KITwWQvihES9CI6NlQwgnhRBuCSFc3IhjW8KX3hlC6B5CmD+E8HGtG/53CIGyo6VCCO+FED4NITwSQtiw1tcd+7vvGiGEiS0BzXtUQAEFFFBAAQUUUECByggYGFXG3VdVII8ChBX7hhB6hxBe/T2s+H46F5p0u/6l5Ot2CyGwvdfKIYT383ijFbqmwSGEA0MI/UMIZ5Rcw59CCC+EEGj09JcQwk8hhDEhhH+FEFaixdTvX0uY9/zvIR4B368Vug9fVgEFFFBAAQUUUEABBVqAgIFRC5hkb1GBFAIL/V7pwmdEXcHExiGEO0IIpUERnbK/CyEcGkI4PYTA11Cp5PhNoH0I4ckQwjwhhFG/VxD9OYTQN4TQIYSwTwjhgt+xOv1e4fVjCIGg6cvfv275EMImIQSqlRwKKKCAAgoooIACCiigQGYCBkaZ0XpiBapeoL6waNEQwoMhhAkhhAtDCE/8Hmhww61DCJN+X1q1agjh2apXKO8NLBxCODqEsEEIAUcCof+EEM4JIVxf66WW/j14W48+5b+HTSeEEO4p7yV5NgUUUEABBRRQQAEFFFDgjwIGRr4rFFCgsQJtfq92oefOjCGEcSGEF0MIc4UQ6HJNwEEFzY6NPbFfr4ACCiiggAIKKKCAAgookA8BA6N8zINXoUA1CrBsbecQwra/995hORpL1K4NIQwMIXxejTflNSuggAIKKKCAAgoooIACCoRgYOS7QAEFyiHQ9vclVixB+185Tug5FFBAAQUUUEABBRRQQAEFKidgYFQ5e19ZgSIK1Nf3qIj36j0poIACCiiggAIKKKCAAoUVMDAq7NR6YwoooIACCiiggAIKKKCAAgoooEA6AQOjdG4epYACCiiggAIKKKCAAgoooIACChRWwMCosFPrjSmggAIKKKCAAgoooIACCiiggALpBAyM0rl5lAIKKKCAAgoooIACCiiggAIKKFBYAQOjwk6tN6aAAgoooIACCiiggAIKKKCAAgqkEzAwSufmUQoooIACCiiggAIKKKCAAgoooEBhBQyMCju13pgCCiiggAIKKKCAAgoooIACCiiQTsDAKJ2bRymggAIKKKCAAgoooIACCiiggAKFFTAwKuzUemMKKKCAAgoooIACCiiggAIKKKBAOgEDo3RuHqWAAgoooIACCiiggAIKKKCAAgoUVsDAqLBT640poIACCiiggAIKKKCAAgoooIAC6QQMjNK5eZQCCiiggAIKKKCAAgoooIACCihQWAEDo8JOrTemgAIKKKCAAgoooIACCiiggAIKpBMwMErn5lEKKKCAAgoooIACCiiggAIKKKBAYQUMjAo7td6YAgoooIACCiiggAIKKKCAAgookE7AwCidm0cpoIACCiiggAIKKKCAAgoooIAChRUwMCrs1HpjCiiggAIKKKCAAgoooIACCiigQDoBA6N0bh6lgAIKKKCAAgoooIACCiiggAIKFFbAwKiwU+uNKaCAAgoooIACCiiggAIKKKCAAukEDIzSuXmUAgoooIACCiiggAIKKKCAAgooUFgBA6PCTq03poACCiiggAIKKKCAAgoooIACCqQTMDBK5+ZRCiiggAIKKKCAAgoooIACCiigQGEFDIwKO7XemAIKKKCAAgoooIACCiiggAIKKJBOwMAonZtHKaCAAgoooIACCiiggAIKKKCAAoUVMDAq7NR6YwoooIACCiiggAIKKKCAAgoooEA6AQOjdG4epYACCiiggAIKKKCAAgoooIACChRWwMCosFPrjSmggAIKKKCAAgoooIACCiiggALpBAyM0rl5lAIKKKCAAgoooIACCiiggAIKKFBYAQOjwk6tN6aAAgoooIACCiiggAIKKKCAAgqkEzAwSufmUQoooIACCiiggAIKKKCAAgoooEBhBQyMCju13pgCCiiggAIKKKCAAgoooIACCiiQTsDAKJ2bRymggAIKKKCAAgoooIACCiiggAKFFTAwKuzUemMKKKCAAgoooIACCiiggAIKKKBAOgEDo3RuHqWAAgoooIACCiiggAIKKKCAAgoUVsDAqLBT640poIACCiiggAIKKKCAAgoooIAC6QQMjNK5eZQCCiiggAIKKKCAAgoooIACCihQWAEDo8JOrTemgAIKKKCAAgoooIACCiiggAIKpBMwMErn5lEKKKCAAgoooIACCiiggAIKKKBAYQUMjAo7td6YAgoooIACCiiggAIKKKCAAgookE7AwCidm0cpoIACCiiggAIKKKCAAgoooIAChRUwMCrs1HpjCiiggAIKKKCAAgoooIACCiigQDoBA6N0bh6lgAIKKKCAAgoooIACCiiggAIKFFbAwKiwU+uNKaCAAgoooIACCiiggAIKKKCAAukEDIzSuXmUAgoooIACCiiggAIKKKCAAgooUFgBA6PCTq03poACCiiggAIKKKCAAgoooIACCqQTMDBK5+ZRCiiggAIKKKCAAgoooIACCiigQGEFDIwKO7XemAIKKKCAAgoooIACCiiggAIKKJBOwMAonZtHKaCAAgoooIACCiiggAIKKKCAAoUVMDAq7NR6YwoooIACCiiggAIKKKCAAgoooEA6AQOjdG4epYACCiiggAIKKKCAAgoooIACChRWwMCosFPrjSmggAIKKKCAAgoooIACCiiggALpBAyM0rl5lAIKKKCAAgoooIACCiiggAIKKFBYAQOjwk6tN6aAAgoooIACCiiggAIKKKCAAgqkEzAwSufmUQoooIACCiiggAIKKKCAAgoooEBhBQyMCju13pgCCiiggAIKKKCAAgoooIACCiiQTsDAKJ2bRymggAIKKKCAAgoooIACCiiggAKFFTAwKuzUemMKKKCAAgoooIACCiiggAIKKKBAOgEDo3RuHqWAAgoooIACCiiggAIKKKCAAgoUVsDAqLBT640poIACCiiggAIKKKCAAgoooIAC6QQMjNK5eZQCCiiggAIKKKCAAgoooIACCihQWAEDo8JOrTemgAIKKKCAAgoooIACCiiggAIKpBMwMErn5lEKKKCAAgoooIACCiiggAIKKKBAYQUMjAo7td6YAgoooIACCiiggAIKKKCAAgookE7AwCidm0cpoIACCiiggAIKKKCAAgoooIAChRUwMCrs1HpjCiiggAIKKKCAAgoooIACCiigQDoBA6N0bh6lgAIKKKCAAgoooIACCiiggAIKFFbAwKiwU+uNKaCAAgoooIACCiiggAIKKKCAAukEDIzSuXmUAgoooIACCiiggAIKKKCAAgooUFgBA6PCTq03poACCiiggAIKKKCAAgoooIACCqQTMDBK5+ZRCiiggAIKKKCAAgoooIACCiigQGEFDIwKO7XemAIKKKCAAgoooIACCiiggAIKKJBOwMAonZtHKaCAAgoooIACCiiggAIKKKCAAoUVMDAq7NR6YwoooIACCiiggAIKKKCAAgoooEA6AQOjdG4epYACCiiggAIKKKCAAgoooIACChRWwMCosFPrjSmggAIKKKCAAgoooIACCiiggALpBAyM0rl5lAIKKKCAAgoooIACCiiggAIKKFBYAQOjwk6tN6aAAgoooIACCiiggAIKKKCAAgqkEzAwSufmUQoooIACCiiggAIKKKCAAgoooEBhBQyMCju13pgCCiiggAIKKKCAAgoooIACCiiQTsDAKJ2bRymggAIKKKCAAgoooIACCiiggAKFFTAwKuzUemMKKKCAAgoooIACCiiggAIKKKBAOgEDo3RuHqWAAgoooIACCiiggAIKKKCAAgoUVsDAqLBT640poIACCiiggAIKKKCAAgoooIAC6QQMjNK5eZQCCiiggAIKKKCAAgoooIACCihQWAEDo8JOrTemgAIKKKCAAgoooIACCiiggAIKpBMwMErn5lEKKKCAAgoooIACCiiggAIKKKBAYQUMjAo7td6YAgoooIACCiiggAIKKKCAAgookE7AwCidm0cpoIACCiiggAIKKKCAAgoooIAChRUwMCrs1HpjCiiggAIKKKCAAgoooIACCiigQDoBA6N0bh6lgAIKKKCAAgoooIACCiiggAIKFFbAwKiwU+uNKaCAAgoooIACCiiggAIKKKCAAukEDIzSuXmUAgoooIACCiiggAIKKKCAAgooUFgBA6PCTq03poACCiiggAIKKKCAAgoooIACCqQTMDBK5+ZRCiiggAIKKKCAAgoooIACCiigQGEFDIwKO7XemAIKKKCAAgoooIACCiiggAIKKJBOwMAonZtHKaCAAgoooIACCiiggAIKKKCAAoUVMDAq7NR6YwoooIACCiiggAIKKKCAAgoooEA6AQOjdG4epYACCiiggAIKKKCAAgoooIACChRWwMCosFPrjSmggAIKKKCAAgoooIACCiiggALpBAyM0rl5lAIKKKCAAgoooIACCiiggAIKKFBYAQOjwk6tN6aAAgoooIACCiiggAIKKKCAAgqkEzAwSufmUQoooIACCiiggAIKKKCAAgoooEBhBQyMCju13pgCCiiggAIKKKCAAgoooIACCiiQTsDAKJ2bRymggAIKKKCAAgoooIACCiiggAKFFTAwKuzUemMKKKCAAgoooIACCiiggAIKKKBAOgEDo3RuHqWAAgoooIACCiiggAIKKKCAAgoUVsDAqLBT640poIACCiiggAIKKKCAAgoooIAC6QQMjNK5eZQCCiiggAIKKKCAAgoooIACCihQWAEDo8JOrTemgAIKKKCAAgoooIACCiiggAIKpBMwMErn5lEKKKCAAgoooIACCiiggAIKKKBAYQUMjAo7td6YAgoooIACCiiggAIKKKCAAgookE7AwCidm0cpoIACCiiggAIKKKCAAgoooIAChRUwMCrs1HpjCiiggAIKKKCAAgoooIACCiigQDoBA6N0bh6lgAIKKKCAAgoooIACCiiggAIKFFbAwKiwU+uNKaCAAgoooIACCiiggAIKKKCAAukEDIzSuXmUAgoooIACCiiggAIKKKCAAgooUFgBA6PCTq03poACCiiggAIKKKCAAgoooIACCqQTMDBK5+ZRCiiggAIKKKCAAgoooIACCiigQGEFDIwKO7XemAIKKKCAAgoooIACCiiggAIKKJBOwMAonZtHKaCAAgoooIACCiiggAIKKKCAAoUVMDAq7NR6YwoooIACCiiggAIKKKCAAgoooEA6AQOjdG4epYACCiiggAIKKKCAAgoooIACChRWwMCosFPrjSmggAIKKKCAAgoooIACCiiggALpBAyM0rl5lAIKKKCAAgoooIACCiiggAIKKFBYAQOjwk6tN6aAAgoooIACCiiggAIKKKCAAgqkEzAwSufmUQoooIACCiiggAIKKKCAAgoooEBhBQyMCju13pgCCiiggAIKKKCAAgoooIACCiiQTsDAKJ2bRymggAIKKKCAAgoooIACCiiggAKFFTAwKuzUemMKKKCAAgoooIACCiiggAIKKKBAOgEDo3RuHqWAAgoooIACCiiggAIKKKCAAgoUVsDAqLBT640poIACCiiggAIKKKCAAgoooIAC6QQMjNK5eZQCCiiggAIKKKCAAgoooIACCihQWAEDo8JOrTemgAIKKKCAAgoooIACCiiggAIKpBMwMErn5lEKKKCAAgoooIACCiiggAIKKKBAYQUMjAo7td6YAgoooIACCiiggAIKKKCAAgookE7AwCidm0cpoIACCiiggAIKKKCAAgoooIAChRUwMCrs1HpjCiiggAIKKKCAAgoooIACCiigQDoBA6N0bh6lgAIKKKCAAgoooIACCiiggAIKFFbAwKiwU+uNKaCAAgoooIACCiiggAIKKKCAAukEDIzSuXmUAgoooIACCiiggAIKKKCAAgooUFgBA6PCTq03poACCiiggAIKKKCAAgoooIACCqQTMDBK5+ZRCiiggAIKKKCAAgoooIACCiigQGEFDIwKO7XemAIKKKCAAgoooIACCiiggAIKKJBOwMAonZtHKaCAAgoooIACCiiggAIKKKCAAoUVMDAq7NR6YwoooIACCiiggAIKKKCAAgoooEA6AQOjdG4epYACCiiggAIKKKCAAgoooIACChRWwMCosFPrjSmggAIKKKCAAgoooIACCiiggALpBAyM0rl5lAIKKKCAAgoooIACCiiggAIKKFBYAQOjwk6tN6aAAgoooIACCiiggAIKKKCAAgqkEzAwSufmUQoooIACCiiggAIKKKCAAgoooEBhBQyMCju13pgCCiiggAIKKKCAAgoooIACCiiQTsDAKJ2bRymggAIKKKCAAgoooIACCiiggAKFFTAwKuzUemMKKKCAAgoooIACCiiggAIKKKBAOgEDo3RuHqWAAgoooIACCiiggAIKKKCAAgoUVsDAqLBT640poIACCiiggAIKKKCAAgoooIAC6QQMjNK5eZQCCiiggAIKKKCAAgoooIACCihQWAEDo8JOrTemgAIKKKCAAgoooIACCiiggAIKpBMwMErn5lEKKKCAAgoooIACCiiggAIKKKBAYQUMjAo7td6YAgoooIACCiiggAIKKKCAAgookE7AwCidm0cpoIACCiiggAIKKKCAAgoooIAChRUwMCrs1HpjCiiggAIKKKCAAgoooIACCiigQDoBA6N0bh6lgAIKKKCAAgoooIACCiiggAIKFFbAwKiwU+uNKaCAAgoooIACCiiggAIKKKCAAukEDIzSuXmUAgoooIACCiiggAIKKKCAAgooUFgBA6PCTq03poACCiiggAIKKKCAAgoooIACCqQTMDBK5+ZRCiiggAIKKKCAAgoooIACCiigQGEFDIwKO7XemAIKKKCAAgoooIACCiiggAIKKJBOwMAonZtHKaCAAgoooIACCiiggAIKKKCAAoUVMDAq7NR6YwoooIACCiiggAIKKKCAAgoooEA6AQOjdG4epYACCiiggAIKKKCAAgoooIACChRWwMCosFPrjSmggAIKKKCAAgoooIACCiiggALpBAyM0rl5lAIKKKCAAgoooIACCiiggAIKKFBYAQOjwk6tN6aAAgoooIACCiiggAIKKKCAAgqkEzAwSufmUQoooIACCiiggAIKKKCAAgoooEBhBQyMCju13pgCCiiggAIKKKCAAgoooIACCiiQTsDAKJ2bRymggAIKKKCAAgoooIACCiiggAKFFTAwKuzUemMKKKCAAgoooIACCiiggAIKKKBAOgEDo3RuHqWAAgoooIACCiiggAIKKKCAAgoUVsDAqLBT640poIACCiiggAIKKKCAAgoooIAC6QQMjNK5eZQCCiiggAIKKKCAAgoooIACCihQWAEDo8JOrTemgAIKKKCAAgoooIACCiiggAIKpBMwMErn5lEKKKCAAgoooIACCiiggAIKKKBAYQUMjAo7td6YAgoooIACCiiggAIKKKCAAgookE7AwCidm0cpoIACCiiggAIKKKCAAgoooIAChRUwMCrs1HpjCiiggAIKKKCAAgoooIACCiigQDoBA6N0bh6lgAIKKKCAAgoooIACCiiggAIKFFbAwKiwU+uNKaCAAgoooJ7RNhoAACAASURBVIACCiiggAIKKKCAAukEDIzSuXmUAgoooIACCiiggAIKKKCAAgooUFgBA6PCTq03poACCiiggAIKKKCAAgoooIACCqQTMDBK5+ZRCiiggAIKKKCAAgoooIACCiigQGEFDIwKO7XemAIKKKCAAgoooIACCiiggAIKKJBOwMAonZtHKaCAAgoooIACCiiggAIKKKCAAoUVMDAq7NR6YwoooIACCiiggAIKKKCAAgoooEA6AQOjdG4epYACCiiggAIKKKCAAgoooIACChRWwMCosFPrjSmggAIKKKCAAgoooIACCiiggALpBAyM0rl5lAIKKKCAAgoooIACCiiggAIKKFBYAQOjwk6tN6aAAgoooIACCiiggAIKKKCAAgqkEzAwSufmUQoooIACCiiggAIKKKCAAgoooEBhBQyMCju13pgCCiiggAIKKKCAAgoooIACCiiQTsDAKJ2bRymggAIKKKCAAgoooIACCiiggAKFFTAwKuzUemMKKKCAAgoooIACCiiggAIKKKBAOgEDo3RuHqWAAgoooIACCiiggAIKKKCAAgoUVsDAqLBT640poIACCiiggAIKKKCAAgoooIAC6QQMjNK5eZQCCiiggAIKKKCAAgoooIACCihQWAEDo8JOrTemgAIKKKCAAgoooIACCiiggAIKpBMwMErn5lEKKKCAAgoooIACCiiggAIKKKBAYQUMjAo7td6YAgoooIACCiiggAIKKKCAAgookE7AwCidm0cpoIACCiiggAIKKKCAAgoooIAChRUwMCrs1HpjCiiggAIKKKCAAgoooIACCiigQDoBA6N0bh6lgAIKKKCAAgoooIACCiiggAIKFFbAwKiwU+uNKaCAAgoooIACCiiggAIKKKCAAukEDIzSuXmUAgoooIACCiiggAIKKKCAAgooUFgBA6PCTq03poACCiiggAIKKKCAAgoooIACCqQTMDBK5+ZRCiiggAIKKKCAAgoooIACCiigQGEFDIwKO7XemAIKKKCAAgoooIACCiiggAIKKJBOwMAonZtHKaCAAgoooIACCiiggAIKKKCAAoUVMDAq7NR6YwoooIACCiiggAIKKKCAAgoooEA6AQOjdG4epYACCiiggAIKKKCAAgoooIACChRWwMCosFPrjSmggAIKKKCAAgoooIACCiiggALpBAyM0rl5lAIKKKCAAgoooIACCiiggAIKKFBYAQOjwk6tN6aAAgoooIACCiiggAIKKKCAAgqkEzAwSufmUQoooIACCiiggAIKKKCAAgoooEBhBQyMCju13pgCCiiggAIKKKCAAgoooIACCiiQTsDAKJ2bRymggAIKKKCAAgoooIACCiiggAKFFTAwKuzUemMKKKCAAgoooIACCiiggAIKKKBAOgEDo3RuHqWAAgoooIACCiiggAIKKKCAAgoUVsDAqLBT640poIACCiiggAIKKKCAAgoooIAC6QQMjNK5eZQCCiiggAIKKKCAAgoooIAC/78dOyQCAABAINa/NR2QfwuAYDgIEMgKOIyy0ypGgAABAgQIECBAgAABAgQIEPgEHEafmxQBAgQIECBAgAABAgQIECBAICvgMMpOqxgBAgQIECBAgAABAgQIECBA4BNwGH1uUgQIECBAgAABAgQIECBAgACBrIDDKDutYgQIECBAgAABAgQIECBAgACBT8Bh9LlJESBAgAABAgQIECBAgAABAgSyAg6j7LSKESBAgAABAgQIECBAgAABAgQ+AYfR5yZFgAABAgQIECBAgAABAgQIEMgKOIyy0ypGgAABAgQIECBAgAABAgQIEPgEHEafmxQBAgQIECBAgAABAgQIECBAICvgMMpOqxgBAgQIECBAgAABAgQIECBA4BNwGH1uUgQIECBAgAABAgQIECBAgACBrIDDKDutYgQIECBAgAABAgQIECBAgACBT8Bh9LlJESBAgAABAgQIECBAgAABAgSyAg6j7LSKESBAgAABAgQIECBAgAABAgQ+AYfR5yZFgAABAgQIECBAgAABAgQIEMgKOIyy0ypGgAABAgQIECBAgAABAgQIEPgEHEafmxQBAgQIECBAgAABAgQIECBAICvgMMpOqxgBAgQIECBAgAABAgQIECBA4BNwGH1uUgQIECBAgAABAgQIECBAgACBrIDDKDutYgQIECBAgAABAgQIECBAgACBT8Bh9LlJESBAgAABAgQIECBAgAABAgSyAg6j7LSKESBAgAABAgQIECBAgAABAgQ+AYfR5yZFgAABAgQIECBAgAABAgQIEMgKOIyy0ypGgAABAgQIECBAgAABAgQIEPgEHEafmxQBAgQIECBAgAABAgQIECBAICvgMMpOqxgBAgQIECBAgAABAgQIECBA4BNwGH1uUgQIECBAgAABAgQIECBAgACBrIDDKDutYgQIECBAgAABAgQIECBAgACBT8Bh9LlJESBAgAABAgQIECBAgAABAgSyAg6j7LSKESBAgAABAgQIECBAgAABAgQ+AYfR5yZFgAABAgQIECBAgAABAgQIEMgKOIyy0ypGgAABAgQIECBAgAABAgQIEPgEHEafmxQBAgQIECBAgAABAgQIECBAICvgMMpOqxgBAgQIECBAgAABAgQIECBA4BNwGH1uUgQIECBAgAABAgQIECBAgACBrIDDKDutYgQIECBAgAABAgQIECBAgACBT8Bh9LlJESBAgAABAgQIECBAgAABAgSyAg6j7LSKESBAgAABAgQIECBAgAABAgQ+AYfR5yZFgAABAgQIECBAgAABAgQIEMgKOIyy0ypGgAABAgQIECBAgAABAgQIEPgEHEafmxQBAgQIECBAgAABAgQIECBAICvgMMpOqxgBAgQIECBAgAABAgQIECBA4BNwGH1uUgQIECBAgAABAgQIECBAgACBrIDDKDutYgQIECBAgAABAgQIECBAgACBT8Bh9LlJESBAgAABAgQIECBAgAABAgSyAg6j7LSKESBAgAABAgQIECBAgAABAgQ+AYfR5yZFgAABAgQIECBAgAABAgQIEMgKOIyy0ypGgAABAgQIECBAgAABAgQIEPgEHEafmxQBAgQIECBAgAABAgQIECBAICvgMMpOqxgBAgQIECBAgAABAgQIECBA4BNwGH1uUgQIECBAgAABAgQIECBAgACBrIDDKDutYgQIECBAgAABAgQIECBAgACBT8Bh9LlJESBAgAABAgQIECBAgAABAgSyAg6j7LSKESBAgAABAgQIECBAgAABAgQ+AYfR5yZFgAABAgQIECBAgAABAgQIEMgKOIyy0ypGgAABAgQIECBAgAABAgQIEPgEHEafmxQBAgQIECBAgAABAgQIECBAICvgMMpOqxgBAgQIECBAgAABAgQIECBA4BNwGH1uUgQIECBAgAABAgQIECBAgACBrIDDKDutYgQIECBAgAABAgQIECBAgACBT8Bh9LlJESBAgAABAgQIECBAgAABAgSyAg6j7LSKESBAgAABAgQIECBAgAABAgQ+AYfR5yZFgAABAgQIECBAgAABAgQIEMgKOIyy0ypGgAABAgQIECBAgAABAgQIEPgEHEafmxQBAgQIECBAgAABAgQIECBAICvgMMpOqxgBAgQIECBAgAABAgQIECBA4BNwGH1uUgQIECBAgAABAgQIECBAgACBrIDDKDutYgQIECBAgAABAgQIECBAgACBT8Bh9LlJESBAgAABAgQIECBAgAABAgSyAg6j7LSKESBAgAABAgQIECBAgAABAgQ+AYfR5yZFgAABAgQIECBAgAABAgQIEMgKOIyy0ypGgAABAgQIECBAgAABAgQIEPgEHEafmxQBAgQIECBAgAABAgQIECBAICvgMMpOqxgBAgQIECBAgAABAgQIECBA4BNwGH1uUgQIECBAgAABAgQIECBAgACBrIDDKDutYgQIECBAgAABAgQIECBAgACBT8Bh9LlJESBAgAABAgQIECBAgAABAgSyAg6j7LSKESBAgAABAgQIECBAgAABAgQ+AYfR5yZFgAABAgQIECBAgAABAgQIEMgKOIyy0ypGgAABAgQIECBAgAABAgQIEPgEHEafmxQBAgQIECBAgAABAgQIECBAICvgMMpOqxgBAgQIECBAgAABAgQIECBA4BNwGH1uUgQIECBAgAABAgQIECBAgACBrIDDKDutYgQIECBAgAABAgQIECBAgACBT8Bh9LlJESBAgAABAgQIECBAgAABAgSyAg6j7LSKESBAgAABAgQIECBAgAABAgQ+AYfR5yZFgAABAgQIECBAgAABAgQIEMgKOIyy0ypGgAABAgQIECBAgAABAgQIEPgEHEafmxQBAgQIECBAgAABAgQIECBAICvgMMpOqxgBAgQIECBAgAABAgQIECBA4BNwGH1uUgQIECBAgAABAgQIECBAgACBrIDDKDutYgQIECBAgAABAgQIECBAgACBT8Bh9LlJESBAgAABAgQIECBAgAABAgSyAg6j7LSKESBAgAABAgQIECBAgAABAgQ+AYfR5yZFgAABAgQIECBAgAABAgQIEMgKOIyy0ypGgAABAgQIECBAgAABAgQIEPgEHEafmxQBAgQIECBAgAABAgQIECBAICvgMMpOqxgBAgQIECBAgAABAgQIECBA4BNwGH1uUgQIECBAgAABAgQIECBAgACBrIDDKDutYgQIECBAgAABAgQIECBAgACBT8Bh9LlJESBAgAABAgQIECBAgAABAgSyAg6j7LSKESBAgAABAgQIECBAgAABAgQ+AYfR5yZFgAABAgQIECBAgAABAgQIEMgKOIyy0ypGgAABAgQIECBAgAABAgQIEPgEHEafmxQBAgQIECBAgAABAgQIECBAICvgMMpOqxgBAgQIECBAgAABAgQIECBA4BNwGH1uUgQIECBAgAABAgQIECBAgACBrIDDKDutYgQIECBAgAABAgQIECBAgACBT8Bh9LlJESBAgAABAgQIECBAgAABAgSyAg6j7LSKESBAgAABAgQIECBAgAABAgQ+AYfR5yZFgAABAgQIECBAgAABAgQIEMgKOIyy0ypGgAABAgQIECBAgAABAgQIEPgEHEafmxQBAgQIECBAgAABAgQIECBAICvgMMpOqxgBAgQIECBAgAABAgQIECBA4BNwGH1uUgQIECBAgAABAgQIECBAgACBrIDDKDutYgQIECBAgAABAgQIECBAgACBT8Bh9LlJESBAgAABAgQIECBAgAABAgSyAg6j7LSKESBAgAABAgQIECBAgAABAgQ+AYfR5yZFgAABAgQIECBAgAABAgQIEMgKOIyy0ypGgAABAgQIECBAgAABAgQIEPgEHEafmxQBAgQIECBAgAABAgQIECBAICvgMMpOqxgBAgQIECBAgAABAgQIECBA4BNwGH1uUgQIECBAgAABAgQIECBAgACBrIDDKDutYgQIECBAgAABAgQIECBAgACBT8Bh9LlJESBAgAABAgQIECBAgAABAgSyAg6j7LSKESBAgAABAgQIECBAgAABAgQ+AYfR5yZFgAABAgQIECBAgAABAgQIEMgKOIyy0ypGgAABAgQIECBAgAABAgQIEPgEHEafmxQBAgQIECBAgAABAgQIECBAICvgMMpOqxgBAgQIECBAgAABAgQIECBA4BNwGH1uUgQIECBAgAABAgQIECBAgACBrIDDKDutYgQIECBAgAABAgQIECBAgACBT8Bh9LlJESBAgAABAgQIECBAgAABAgSyAg6j7LSKESBAgAABAgQIECBAgAABAgQ+AYfR5yZFgAABAgQIECBAgAABAgQIEMgKOIyy0ypGgAABAgQIECBAgAABAgQIEPgEHEafmxQBAgQIECBAgAABAgQIECBAICvgMMpOqxgBAgQIECBAgAABAgQIECBA4BNwGH1uUgQIECBAgAABAgQIECBAgACBrIDDKDutYgQIECBAgAABAgQIECBAgACBT8Bh9LlJESBAgAABAgQIECBAgAABAgSyAg6j7LSKESBAgAABAgQIECBAgAABAgQ+AYfR5yZFgAABAgQIECBAgAABAgQIEMgKOIyy0ypGgAABAgQIECBAgAABAgQIEPgEHEafmxQBAgQIECBAgAABAgQIECBAICvgMMpOqxgBAgQIECBAgAABAgQIECBA4BNwGH1uUgQIECBAgAABAgQIECBAgACBrIDDKDutYgQIECBAgAABAgQIECBAgACBT8Bh9LlJESBAgAABAgQIECBAgAABAgSyAg6j7LSKESBAgAABAgQIECBAgAABAgQ+AYfR5yZFgAABAgQIECBAgAABAgQIEMgKOIyy0ypGgAABAgQIECBAgAABAgQIEPgEHEafmxQBAgQIECBAgAABAgQIECBAICvgMMpOqxgBAgQIECBAgAABAgQIECBA4BNwGH1uUgQIECBAgAABAgQIECBAgACBrIDDKDutYgQIECBAgAABAgQIECBAgACBT8Bh9LlJESBAgAABAgQIECBAgAABAgSyAg6j7LSKESBAgAABAgQIECBAgAABAgQ+AYfR5yZFgAABAgQIECBAgAABAgQIEMgKOIyy0ypGgAABAgQIECBAgAABAgQIEPgEHEafmxQBAgQIECBAgAABAgQIECBAICvgMMpOqxgBAgQIECBAgAABAgQIECBA4BNwGH1uUgQIECBAgAABAgQIECBAgACBrIDDKDutYgQIECBAgAABAgQIECBAgACBT8Bh9LlJESBAgAABAgQIECBAgAABAgSyAg6j7LSKESBAgAABAgQIECBAgAABAgQ+AYfR5yZFgAABAgQIECBAgAABAgQIEMgKOIyy0ypGgAABAgQIECBAgAABAgQIEPgEHEafmxQBAgQIECBAgAABAgQIECBAICvgMMpOqxgBAgQIECBAgAABAgQIECBA4BNwGH1uUgQIECBAgAABAgQIECBAgACBrIDDKDutYgQIECBAgAABAgQIECBAgACBT8Bh9LlJESBAgAABAgQIECBAgAABAgSyAg6j7LSKESBAgAABAgQIECBAgAABAgQ+AYfR5yZFgAABAgQIECBAgAABAgQIEMgKOIyy0ypGgAABAgQIECBAgAABAgQIEPgEHEafmxQBAgQIECBAgAABAgQIECBAICvgMMpOqxgBAgQIECBAgAABAgQIECBA4BNwGH1uUgQIECBAgAABAgQIECBAgACBrIDDKDutYgQIECBAgAABAgQIECBAgACBT8Bh9LlJESBAgAABAgQIECBAgAABAgSyAg6j7LSKESBAgAABAgQIECBAgAABAgQ+AYfR5yZFgAABAgQIECBAgAABAgQIEMgKOIyy0ypGgAABAgQIECBAgAABAgQIEPgEHEafmxQBAgQIECBAgAABAgQIECBAICvgMMpOqxgBAgQIECBAgAABAgQIECBA4BNwGH1uUgQIECBAgAABAgQIECBAgACBrIDDKDutYgQIECBAgAABAgQIECBAgACBT8Bh9LlJESBAgAABAgQIECBAgAABAgSyAg6j7LSKESBAgAABAgQIECBAgAABAgQ+AYfR5yZFgAABAgQIECBAgAABAgQIEMgKOIyy0ypGgAABAgQIECBAgAABAgQIEPgEHEafmxQBAgQIECBAgAABAgQIECBAICvgMMpOqxgBAgQIECBAgAABAgQIECBA4BNwGH1uUgQIECBAgAABAgQIECBAgACBrIDDKDutYgQIECBAgAABAgQIECBAgACBT8Bh9LlJESBAgAABAgQIECBAgAABAgSyAg6j7LSKESBAgAABAgQIECBAgAABAgQ+AYfR5yZFgAABAgQIECBAgAABAgQIEMgKOIyy0ypGgAABAgQIECBAgAABAgQIEPgEHEafmxQBAgQIECBAgAABAgQIECBAICvgMMpOqxgBAgQIECBAgAABAgQIECBA4BNwGH1uUgQIECBAgAABAgQIECBAgACBrIDDKDutYgQIECBAgAABAgQIECBAgACBT8Bh9LlJESBAgAABAgQIECBAgAABAgSyAg6j7LSKESBAgAABAgQIECBAgAABAgQ+AYfR5yZFgAABAgQIECBAgAABAgQIEMgKOIyy0ypGgAABAgQIECBAgAABAgQIEPgEHEafmxQBAgQIECBAgAABAgQIECBAICvgMMpOqxgBAgQIECBAgAABAgQIECBA4BNwGH1uUgQIECBAgAABAgQIECBAgACBrIDDKDutYgQIECBAgAABAgQIECBAgACBT8Bh9LlJESBAgAABAgQIECBAgAABAgSyAg6j7LSKESBAgAABAgQIECBAgAABAgQ+AYfR5yZFgAABAgQIECBAgAABAgQIEMgKOIyy0ypGgAABAgQIECBAgAABAgQIEPgEHEafmxQBAgQIECBAgAABAgQIECBAICvgMMpOqxgBAgQIECBAgAABAgQIECBA4BNwGH1uUgQIECBAgAABAgQIECBAgACBrIDDKDutYgQIECBAgAABAgQIECBAgACBT8Bh9LlJESBAgAABAgQIECBAgAABAgSyAg6j7LSKESBAgAABAgQIECBAgAABAgQ+AYfR5yZFgAABAgQIECBAgAABAgQIEMgKOIyy0ypGgAABAgQIECBAgAABAgQIEPgEHEafmxQBAgQIECBAgAABAgQIECBAICvgMMpOqxgBAgQIECBAgAABAgQIECBA4BNwGH1uUgQIECBAgAABAgQIECBAgACBrIDDKDutYgQIECBAgAABAgQIECBAgACBT8Bh9LlJESBAgAABAgQIECBAgAABAgSyAg6j7LSKESBAgAABAgQIECBAgAABAgQ+AYfR5yZFgAABAgQIECBAgAABAgQIEMgKOIyy0ypGgAABAgQIECBAgAABAgQIEPgEHEafmxQBAgQIECBAgAABAgQIECBAICvgMMpOqxgBAgQIECBAgAABAgQIECBA4BNwGH1uUgQIECBAgAABAgQIECBAgACBrIDDKDutYgQIECBAgAABAgQIECBAgACBT8Bh9LlJESBAgAABAgQIECBAgAABAgSyAg6j7LSKESBAgAABAgQIECBAgAABAgQ+AYfR5yZFgAABAgQIECBAgAABAgQIEMgKOIyy0ypGgAABAgQIECBAgAABAgQIEPgEHEafmxQBAgQIECBAgAABAgQIECBAICvgMMpOqxgBAgQIECBAgAABAgQIECBA4BNwGH1uUgQIECBAgAABAgQIECBAgACBrIDDKDutYgQIECBAgAABAgQIECBAgACBT8Bh9LlJESBAgAABAgQIECBAgAABAgSyAg6j7LSKESBAgAABAgQIECBAgAABAgQ+AYfR5yZFgAABAgQIECBAgAABAgQIEMgKOIyy0ypGgAABAgQIECBAgAABAgQIEPgEHEafmxQBAgQIECBAgAABAgQIECBAICvgMMpOqxgBAgQIECBAgAABAgQIECBA4BNwGH1uUgQIECBAgAABAgQIECBAgACBrIDDKDutYgQIECBAgAABAgQIECBAgACBT8Bh9LlJESBAgAABAgQIECBAgAABAgSyAg6j7LSKESBAgAABAgQIECBAgAABAgQ+AYfR5yZFgAABAgQIECBAgAABAgQIEMgKOIyy0ypGgAABAgQIECBAgAABAgQIEPgEHEafmxQBAgQIECBAgAABAgQIECBAICvgMMpOqxgBAgQIECBAgAABAgQIECBA4BNwGH1uUgQIECBAgAABAgQIECBAgACBrIDDKDutYgQIECBAgAABAgQIECBAgACBT8Bh9LlJESBAgAABAgQIECBAgAABAgSyAg6j7LSKESBAgAABAgQIECBAgAABAgQ+AYfR5yZFgAABAgQIECBAgAABAgQIEMgKOIyy0ypGgAABAgQIECBAgAABAgQIEPgEHEafmxQBAgQIECBAgAABAgQIECBAICvgMMpOqxgBAgQIECBAgAABAgQIECBA4BNwGH1uUgQIECBAgAABAgQIECBAgACBrIDDKDutYgQIECBAgAABAgQIECBAgACBT8Bh9LlJESBAgAABAgQIECBAgAABAgSyAg6j7LSKESBAgAABAgQIECBAgAABAgQ+AYfR5yZFgAABAgQIECBAgAABAgQIEMgKOIyy0ypGgAABAgQIECBAgAABAgQIEPgEHEafmxQBAgQIECBAgAABAgQIECBAICvgMMpOqxgBAgQIECBAgAABAgQIECBA4BNwGH1uUgQIECBAgAABAgQIECBAgACBrIDDKDutYgQIECBAgAABAgQIECBAgACBT8Bh9LlJESBAgAABAgQIECBAgAABAgSyAg6j7LSKESBAgAABAgQIECBAgAABAgQ+AYfR5yZFgAABAgQIECBAgAABAgQIEMgKOIyy0ypGgAABAgQIECBAgAABAgQIEPgEHEafmxQBAgQIECBAgAABAgQIECBAICvgMMpOqxgBAgQIECBAgAABAgQIECBA4BNwGH1uUgQIECBAgAABAgQIECBAgACBrIDDKDutYgQIECBAgAABAgQIECBAgACBT8Bh9LlJESBAgAABAgQIECBAgAABAgSyAg6j7LSKESBAgAABAgQIECBAgAABAgQ+AYfR5yZFgAABAgQIECBAgAABAgQIEMgKOIyy0ypGgAABAgQIECBAgAABAgQIEPgEHEafmxQBAgQIECBAgAABAgQIECBAICvgMMpOqxgBAgQIECBAgAABAgQIECBA4BNwGH1uUgQIECBAgAABAgQIECBAgACBrIDDKDutYgQIECBAgAABAgQIECBAgACBT8Bh9LlJESBAgAABAgQIECBAgAABAgSyAg6j7LSKESBAgAABAgQIECBAgAABAgQ+AYfR5yZFgAABAgQIECBAgAABAgQIEMgKOIyy0ypGgAABAgQIECBAgAABAgQIEPgEHEafmxQBAgQIECBAgAABAgQIECBAICvgMMpOqxgBsOtyDgAABeZJREFUAgQIECBAgAABAgQIECBA4BNwGH1uUgQIECBAgAABAgQIECBAgACBrIDDKDutYgQIECBAgAABAgQIECBAgACBT8Bh9LlJESBAgAABAgQIECBAgAABAgSyAg6j7LSKESBAgAABAgQIECBAgAABAgQ+AYfR5yZFgAABAgQIECBAgAABAgQIEMgKOIyy0ypGgAABAgQIECBAgAABAgQIEPgEHEafmxQBAgQIECBAgAABAgQIECBAICvgMMpOqxgBAgQIECBAgAABAgQIECBA4BNwGH1uUgQIECBAgAABAgQIECBAgACBrIDDKDutYgQIECBAgAABAgQIECBAgACBT8Bh9LlJESBAgAABAgQIECBAgAABAgSyAg6j7LSKESBAgAABAgQIECBAgAABAgQ+AYfR5yZFgAABAgQIECBAgAABAgQIEMgKOIyy0ypGgAABAgQIECBAgAABAgQIEPgEHEafmxQBAgQIECBAgAABAgQIECBAICvgMMpOqxgBAgQIECBAgAABAgQIECBA4BNwGH1uUgQIECBAgAABAgQIECBAgACBrIDDKDutYgQIECBAgAABAgQIECBAgACBT8Bh9LlJESBAgAABAgQIECBAgAABAgSyAg6j7LSKESBAgAABAgQIECBAgAABAgQ+AYfR5yZFgAABAgQIECBAgAABAgQIEMgKOIyy0ypGgAABAgQIECBAgAABAgQIEPgEHEafmxQBAgQIECBAgAABAgQIECBAICvgMMpOqxgBAgQIECBAgAABAgQIECBA4BNwGH1uUgQIECBAgAABAgQIECBAgACBrIDDKDutYgQIECBAgAABAgQIECBAgACBT8Bh9LlJESBAgAABAgQIECBAgAABAgSyAg6j7LSKESBAgAABAgQIECBAgAABAgQ+AYfR5yZFgAABAgQIECBAgAABAgQIEMgKOIyy0ypGgAABAgQIECBAgAABAgQIEPgEHEafmxQBAgQIECBAgAABAgQIECBAICvgMMpOqxgBAgQIECBAgAABAgQIECBA4BNwGH1uUgQIECBAgAABAgQIECBAgACBrIDDKDutYgQIECBAgAABAgQIECBAgACBT8Bh9LlJESBAgAABAgQIECBAgAABAgSyAg6j7LSKESBAgAABAgQIECBAgAABAgQ+AYfR5yZFgAABAgQIECBAgAABAgQIEMgKOIyy0ypGgAABAgQIECBAgAABAgQIEPgEHEafmxQBAgQIECBAgAABAgQIECBAICvgMMpOqxgBAgQIECBAgAABAgQIECBA4BNwGH1uUgQIECBAgAABAgQIECBAgACBrIDDKDutYgQIECBAgAABAgQIECBAgACBT8Bh9LlJESBAgAABAgQIECBAgAABAgSyAg6j7LSKESBAgAABAgQIECBAgAABAgQ+AYfR5yZFgAABAgQIECBAgAABAgQIEMgKOIyy0ypGgAABAgQIECBAgAABAgQIEPgEHEafmxQBAgQIECBAgAABAgQIECBAICvgMMpOqxgBAgQIECBAgAABAgQIECBA4BNwGH1uUgQIECBAgAABAgQIECBAgACBrIDDKDutYgQIECBAgAABAgQIECBAgACBT8Bh9LlJESBAgAABAgQIECBAgAABAgSyAg6j7LSKESBAgAABAgQIECBAgAABAgQ+AYfR5yZFgAABAgQIECBAgAABAgQIEMgKOIyy0ypGgAABAgQIECBAgAABAgQIEPgEHEafmxQBAgQIECBAgAABAgQIECBAICvgMMpOqxgBAgQIECBAgAABAgQIECBA4BNwGH1uUgQIECBAgAABAgQIECBAgACBrIDDKDutYgQIECBAgAABAgQIECBAgACBT8Bh9LlJESBAgAABAgQIECBAgAABAgSyAg6j7LSKESBAgAABAgQIECBAgAABAgQ+AYfR5yZFgAABAgQIECBAgAABAgQIEMgKOIyy0ypGgAABAgQIECBAgAABAgQIEPgEHEafmxQBAgQIECBAgAABAgQIECBAICswg2vZcOOfm+AAAAAASUVORK5CYII=\" width=\"646.6666837974835\">"
      ],
      "text/plain": [
       "<IPython.core.display.HTML object>"
      ]
     },
     "metadata": {},
     "output_type": "display_data"
    }
   ],
   "source": [
    "%matplotlib notebook\n",
    "fig = plt.figure(figsize=(5,5))\n",
    "ax = fig.add_subplot(projection='3d')\n",
    "ax.scatter([x[0] for x in y_train],[x[1] for x in y_train],[x[2] for x in y_train],c='blue')\n",
    "ax.scatter([x[0] for x in y_test],[x[1] for x in y_test],[x[2] for x in y_test],c='red')\n",
    "ax.set_xlabel('% Product 3')\n",
    "ax.set_ylabel('% Product 4')\n",
    "ax.set_zlabel('% Product 5')\n",
    "\n",
    "plt.show()"
   ]
  },
  {
   "cell_type": "code",
   "execution_count": 18,
   "id": "239f1c24",
   "metadata": {
    "ExecuteTime": {
     "end_time": "2021-07-17T17:09:23.911269Z",
     "start_time": "2021-07-17T17:09:23.871944Z"
    }
   },
   "outputs": [],
   "source": [
    "# use tensors for data to be able to use GPU resources\n",
    "X_train_tensor = tf.convert_to_tensor(X_train)\n",
    "X_test_tensor = tf.convert_to_tensor(X_test)\n",
    "y_train_tensor = tf.convert_to_tensor(y_train)\n",
    "y_test_tensor = tf.convert_to_tensor(y_test)"
   ]
  },
  {
   "cell_type": "code",
   "execution_count": 234,
   "id": "5d3ad0ca",
   "metadata": {
    "ExecuteTime": {
     "end_time": "2021-07-17T20:01:03.689252Z",
     "start_time": "2021-07-17T20:01:03.469397Z"
    }
   },
   "outputs": [],
   "source": [
    "temp = 8\n",
    "model = Sequential()\n",
    "model.add(Conv3D(n_molecules,kernel_size=4,activation='relu',input_shape=(dim_x,dim_y,dim_z,1)))\n",
    "model.add(Conv3D(n_molecules,kernel_size=4,activation='relu',input_shape=(32,32,32,1)))\n",
    "model.add(Conv3D(n_molecules,kernel_size=4,activation='relu',input_shape=(32,32,32,1)))\n",
    "model.add(Conv3D(n_molecules,kernel_size=4,activation='relu',input_shape=(32,32,32,1)))\n",
    "model.add(Flatten())\n",
    "model.add(Dense(3))\n",
    "model.add(Lambda(lambda x: x / temp))\n",
    "model.add(Activation('softmax'))\n",
    "loss = tf.keras.losses.CategoricalCrossentropy(from_logits=False)\n",
    "model.compile(optimizer=keras.optimizers.Adam(learning_rate=1e-6),loss=loss,metrics=loss)"
   ]
  },
  {
   "cell_type": "code",
   "execution_count": 235,
   "id": "b3e17b61",
   "metadata": {
    "ExecuteTime": {
     "end_time": "2021-07-17T20:02:42.107850Z",
     "start_time": "2021-07-17T20:01:07.617848Z"
    }
   },
   "outputs": [
    {
     "name": "stdout",
     "output_type": "stream",
     "text": [
      "Epoch 1/20\n",
      "1/1 [==============================] - 20s 20s/step - loss: 267.8343 - categorical_crossentropy: 267.8343 - val_loss: 110.8554 - val_categorical_crossentropy: 110.8554\n",
      "Epoch 2/20\n",
      "1/1 [==============================] - 19s 19s/step - loss: 269.8980 - categorical_crossentropy: 269.8980 - val_loss: 110.8479 - val_categorical_crossentropy: 110.8479\n",
      "Epoch 3/20\n",
      "1/1 [==============================] - 20s 20s/step - loss: 271.9690 - categorical_crossentropy: 271.9690 - val_loss: 110.8410 - val_categorical_crossentropy: 110.8410\n",
      "Epoch 4/20\n",
      "1/1 [==============================] - 18s 18s/step - loss: 274.0445 - categorical_crossentropy: 274.0445 - val_loss: 110.8341 - val_categorical_crossentropy: 110.8341\n",
      "Epoch 5/20\n",
      "1/1 [==============================] - 18s 18s/step - loss: 276.1190 - categorical_crossentropy: 276.1190 - val_loss: 110.8272 - val_categorical_crossentropy: 110.8272\n"
     ]
    },
    {
     "data": {
      "text/plain": [
       "<tensorflow.python.keras.callbacks.History at 0x7ce4a9a8a460>"
      ]
     },
     "execution_count": 235,
     "metadata": {},
     "output_type": "execute_result"
    }
   ],
   "source": [
    "earlystop = tf.keras.callbacks.EarlyStopping(monitor='loss', patience=4)\n",
    "model.fit(X_train_tensor,\n",
    "          y_train_tensor,\n",
    "          validation_split=0.2,\n",
    "          callbacks=[earlystop],\n",
    "          epochs=20)"
   ]
  },
  {
   "cell_type": "code",
   "execution_count": 236,
   "id": "1e346abf",
   "metadata": {
    "ExecuteTime": {
     "end_time": "2021-07-17T20:03:17.717366Z",
     "start_time": "2021-07-17T20:03:14.669301Z"
    }
   },
   "outputs": [
    {
     "name": "stdout",
     "output_type": "stream",
     "text": [
      "WARNING:tensorflow:5 out of the last 13 calls to <function Model.make_predict_function.<locals>.predict_function at 0x7ce4b7ace310> triggered tf.function retracing. Tracing is expensive and the excessive number of tracings could be due to (1) creating @tf.function repeatedly in a loop, (2) passing tensors with different shapes, (3) passing Python objects instead of tensors. For (1), please define your @tf.function outside of the loop. For (2), @tf.function has experimental_relax_shapes=True option that relaxes argument shapes that can avoid unnecessary retracing. For (3), please refer to https://www.tensorflow.org/guide/function#controlling_retracing and https://www.tensorflow.org/api_docs/python/tf/function for  more details.\n",
      "[[66.371666  5.786783 27.84155 ]\n",
      " [37.320717 34.085854 28.593428]\n",
      " [37.91992  36.007042 26.07303 ]\n",
      " [25.042109 39.38704  35.570858]\n",
      " [59.011166 17.105648 23.883184]\n",
      " [33.046524 33.740505 33.21298 ]]\n",
      "[[16.2 79.5  4.3]\n",
      " [18.9 77.2  3.9]\n",
      " [44.1 42.3 13.5]\n",
      " [44.3 75.1 13.5]\n",
      " [25.7 65.6  8.7]\n",
      " [54.  24.4 21.6]]\n"
     ]
    }
   ],
   "source": [
    "np.set_printoptions(suppress=True)\n",
    "res = model.predict(X_test)*100\n",
    "print(res)\n",
    "print(y_test)"
   ]
  },
  {
   "cell_type": "code",
   "execution_count": 237,
   "id": "7b33923e",
   "metadata": {
    "ExecuteTime": {
     "end_time": "2021-07-17T20:03:28.262365Z",
     "start_time": "2021-07-17T20:03:21.024069Z"
    }
   },
   "outputs": [
    {
     "name": "stdout",
     "output_type": "stream",
     "text": [
      "[[ 14.384315     0.53762656  85.078064  ]\n",
      " [ 26.329357    35.1759      38.494743  ]\n",
      " [ 32.171494    29.734219    38.09429   ]\n",
      " [ 36.03588     30.610731    33.353394  ]\n",
      " [ 28.392359    35.799633    35.808     ]\n",
      " [ 11.605952    64.498276    23.895777  ]\n",
      " [ 13.966529     0.9503654   85.083115  ]\n",
      " [ 33.1647      31.692255    35.14305   ]\n",
      " [ 42.55593     56.373196     1.0708686 ]\n",
      " [  0.00000055   0.00000002 100.        ]\n",
      " [  4.610017    82.0841      13.305876  ]\n",
      " [ 32.917805    47.306297    19.775898  ]\n",
      " [ 14.462212    62.516953    23.020832  ]\n",
      " [ 32.60382     29.20109     38.195087  ]\n",
      " [ 31.711937    33.295315    34.992744  ]\n",
      " [ 32.626736    30.828398    36.54486   ]\n",
      " [ 31.252796    33.565327    35.181873  ]\n",
      " [ 61.154037    11.563323    27.282629  ]\n",
      " [ 29.458385    36.67405     33.867558  ]\n",
      " [ 30.586407    35.168285    34.245304  ]\n",
      " [ 33.72336     31.5471      34.72954   ]\n",
      " [ 33.690964    33.55633     32.752705  ]\n",
      " [ 26.52349     31.34748     42.12902   ]\n",
      " [ 36.763355    23.437395    39.79925   ]\n",
      " [  0.         100.           0.        ]\n",
      " [ 62.25148     25.348886    12.399646  ]\n",
      " [ 30.561274    35.68823     33.7505    ]\n",
      " [ 35.3941      34.790512    29.815393  ]\n",
      " [ 28.695288    39.694168    31.610542  ]\n",
      " [ 32.469654    32.78543     34.744915  ]\n",
      " [ 78.34489     13.750844     7.9042673 ]\n",
      " [ 50.832714    40.21483      8.952467  ]\n",
      " [ 33.04856     33.253117    33.698315  ]]\n",
      "[[ 9.8 90.   0.1]\n",
      " [24.5 69.8  5.7]\n",
      " [24.1 59.4 16.4]\n",
      " [ 0.1 99.8  0.1]\n",
      " [ 9.4 54.1 36.5]\n",
      " [24.  53.  23. ]\n",
      " [ 0.1 99.8  0.1]\n",
      " [20.4 49.3 30.4]\n",
      " [ 7.  92.2  0.1]\n",
      " [10.  16.5 73.5]\n",
      " [20.6 73.8  5.6]\n",
      " [83.3  8.9  7.9]\n",
      " [51.9 33.  15.1]\n",
      " [32.2 59.   8.8]\n",
      " [16.5 40.7 42.8]\n",
      " [70.8 18.4 10.8]\n",
      " [59.4 28.9 11.7]\n",
      " [11.5 68.4 20.1]\n",
      " [68.9 17.6 13.5]\n",
      " [18.8 74.5  6.7]\n",
      " [16.6 77.2  6.2]\n",
      " [75.4 24.4  0.2]\n",
      " [30.  64.2  5.8]\n",
      " [46.  37.4 16.6]\n",
      " [18.2 75.1  6.7]\n",
      " [12.5 30.2 57.3]\n",
      " [14.6 67.1 18.3]\n",
      " [12.2 46.8 41. ]\n",
      " [22.8 77.1  0.1]\n",
      " [16.  74.8  9.1]\n",
      " [32.5 67.4  0.1]\n",
      " [28.7 64.4  6.9]\n",
      " [28.5 62.9  8.7]]\n"
     ]
    }
   ],
   "source": [
    "res_train = model.predict(X_train)*100\n",
    "print(res_train)\n",
    "print(y_train)"
   ]
  },
  {
   "cell_type": "code",
   "execution_count": 67,
   "id": "09b10f29",
   "metadata": {
    "ExecuteTime": {
     "end_time": "2021-07-17T18:17:14.450489Z",
     "start_time": "2021-07-17T18:17:14.356679Z"
    }
   },
   "outputs": [
    {
     "name": "stdout",
     "output_type": "stream",
     "text": [
      "dict_keys([])\n"
     ]
    },
    {
     "ename": "KeyError",
     "evalue": "'MSE'",
     "output_type": "error",
     "traceback": [
      "\u001b[0;31m---------------------------------------------------------------------------\u001b[0m",
      "\u001b[0;31mKeyError\u001b[0m                                  Traceback (most recent call last)",
      "\u001b[0;32m<ipython-input-67-525c3ba2b079>\u001b[0m in \u001b[0;36m<module>\u001b[0;34m\u001b[0m\n\u001b[1;32m      4\u001b[0m \u001b[0;31m# summarize history for accuracy\u001b[0m\u001b[0;34m\u001b[0m\u001b[0;34m\u001b[0m\u001b[0;34m\u001b[0m\u001b[0m\n\u001b[1;32m      5\u001b[0m \u001b[0mplt\u001b[0m\u001b[0;34m.\u001b[0m\u001b[0mfigure\u001b[0m\u001b[0;34m(\u001b[0m\u001b[0mfigsize\u001b[0m\u001b[0;34m=\u001b[0m\u001b[0;34m(\u001b[0m\u001b[0;36m8\u001b[0m\u001b[0;34m,\u001b[0m\u001b[0;36m8\u001b[0m\u001b[0;34m)\u001b[0m\u001b[0;34m)\u001b[0m\u001b[0;34m\u001b[0m\u001b[0;34m\u001b[0m\u001b[0m\n\u001b[0;32m----> 6\u001b[0;31m \u001b[0mplt\u001b[0m\u001b[0;34m.\u001b[0m\u001b[0mplot\u001b[0m\u001b[0;34m(\u001b[0m\u001b[0mnp\u001b[0m\u001b[0;34m.\u001b[0m\u001b[0mlog2\u001b[0m\u001b[0;34m(\u001b[0m\u001b[0mmodel\u001b[0m\u001b[0;34m.\u001b[0m\u001b[0mhistory\u001b[0m\u001b[0;34m.\u001b[0m\u001b[0mhistory\u001b[0m\u001b[0;34m[\u001b[0m\u001b[0;34m'MSE'\u001b[0m\u001b[0;34m]\u001b[0m\u001b[0;34m)\u001b[0m\u001b[0;34m)\u001b[0m\u001b[0;34m\u001b[0m\u001b[0;34m\u001b[0m\u001b[0m\n\u001b[0m\u001b[1;32m      7\u001b[0m \u001b[0mplt\u001b[0m\u001b[0;34m.\u001b[0m\u001b[0mplot\u001b[0m\u001b[0;34m(\u001b[0m\u001b[0mnp\u001b[0m\u001b[0;34m.\u001b[0m\u001b[0mlog2\u001b[0m\u001b[0;34m(\u001b[0m\u001b[0mmodel\u001b[0m\u001b[0;34m.\u001b[0m\u001b[0mhistory\u001b[0m\u001b[0;34m.\u001b[0m\u001b[0mhistory\u001b[0m\u001b[0;34m[\u001b[0m\u001b[0;34m'val_MSE'\u001b[0m\u001b[0;34m]\u001b[0m\u001b[0;34m)\u001b[0m\u001b[0;34m)\u001b[0m\u001b[0;34m\u001b[0m\u001b[0;34m\u001b[0m\u001b[0m\n\u001b[1;32m      8\u001b[0m \u001b[0mplt\u001b[0m\u001b[0;34m.\u001b[0m\u001b[0mtitle\u001b[0m\u001b[0;34m(\u001b[0m\u001b[0;34m'model log2 MSE'\u001b[0m\u001b[0;34m)\u001b[0m\u001b[0;34m\u001b[0m\u001b[0;34m\u001b[0m\u001b[0m\n",
      "\u001b[0;31mKeyError\u001b[0m: 'MSE'"
     ]
    },
    {
     "data": {
      "text/plain": [
       "<Figure size 576x576 with 0 Axes>"
      ]
     },
     "metadata": {},
     "output_type": "display_data"
    }
   ],
   "source": [
    "# plot by epoch\n",
    "print(model.history.history.keys())\n",
    "\n",
    "# summarize history for accuracy\n",
    "plt.figure(figsize=(8,8))\n",
    "plt.plot(np.log2(model.history.history['MSE']))\n",
    "plt.plot(np.log2(model.history.history['val_MSE']))\n",
    "plt.title('model log2 MSE')\n",
    "plt.ylabel('log2 MSE')\n",
    "plt.xlabel('epoch')\n",
    "plt.legend(['train', 'val'], loc='upper left')\n",
    "plt.show()\n",
    "# summarize history for loss\n",
    "plt.figure(figsize=(8,8))\n",
    "plt.plot(np.log2(model.history.history['loss']))\n",
    "plt.plot(np.log2(model.history.history['val_loss']))\n",
    "plt.title('model log2 loss')\n",
    "plt.ylabel('log2 loss')\n",
    "plt.xlabel('epoch')\n",
    "plt.legend(['train', 'val'], loc='upper left')\n",
    "plt.show()"
   ]
  },
  {
   "cell_type": "code",
   "execution_count": 26,
   "id": "de5f056d",
   "metadata": {
    "ExecuteTime": {
     "end_time": "2021-07-17T14:26:05.779531Z",
     "start_time": "2021-07-17T14:26:05.779531Z"
    }
   },
   "outputs": [],
   "source": [
    "# keras tuner walkthrough https://www.tensorflow.org/tutorials/keras/keras_tuner\n",
    "import kerastuner as kt"
   ]
  },
  {
   "cell_type": "code",
   "execution_count": 27,
   "id": "bb0f2966",
   "metadata": {
    "ExecuteTime": {
     "end_time": "2021-07-17T14:26:05.779531Z",
     "start_time": "2021-07-17T14:26:05.779531Z"
    }
   },
   "outputs": [],
   "source": [
    "def build_model(hp):\n",
    "    model = Sequential()\n",
    "    model.add(Conv3D(hp.Int(\"units\", min_value=32, max_value=1024, step=32),\n",
    "                     hp.Int(\"kernel_size\", min_value=2, max_value=6, step=1),\n",
    "                     activation='relu',\n",
    "                     input_shape=(dim_x,dim_y,dim_z,1)))\n",
    "    model.add(Flatten())\n",
    "    model.add(Dense(3))\n",
    "    model.compile(\n",
    "        optimizer=keras.optimizers.Adam(\n",
    "            hp.Choice(\"learning_rate\", values=[5e-2, 1e-2, 5e-3, 1e-3, 5e-4, 1e-4])),\n",
    "        loss='MSE',\n",
    "        metrics='MSE')\n",
    "    return model"
   ]
  },
  {
   "cell_type": "code",
   "execution_count": 18,
   "id": "e1cc6a7e",
   "metadata": {
    "ExecuteTime": {
     "end_time": "2021-07-04T00:26:12.946166Z",
     "start_time": "2021-07-04T00:26:12.555353Z"
    }
   },
   "outputs": [],
   "source": [
    "tuner = kt.BayesianOptimization(\n",
    "    build_model,\n",
    "    objective='val_loss',\n",
    "    max_trials=4,\n",
    "    overwrite=True)\n",
    "tuner.search(X_train_tensor, y_train_tensor, epochs=5, validation_split=0.2)"
   ]
  },
  {
   "cell_type": "code",
   "execution_count": null,
   "id": "9afb5886",
   "metadata": {
    "ExecuteTime": {
     "start_time": "2021-07-17T14:13:43.170Z"
    }
   },
   "outputs": [
    {
     "name": "stdout",
     "output_type": "stream",
     "text": [
      "Epoch 1/2\n",
      "WARNING:tensorflow:5 out of the last 24 calls to <function Model.make_train_function.<locals>.train_function at 0x7c0e47aa3820> triggered tf.function retracing. Tracing is expensive and the excessive number of tracings could be due to (1) creating @tf.function repeatedly in a loop, (2) passing tensors with different shapes, (3) passing Python objects instead of tensors. For (1), please define your @tf.function outside of the loop. For (2), @tf.function has experimental_relax_shapes=True option that relaxes argument shapes that can avoid unnecessary retracing. For (3), please refer to https://www.tensorflow.org/guide/function#controlling_retracing and https://www.tensorflow.org/api_docs/python/tf/function for  more details.\n",
      "1/1 [==============================] - ETA: 0s - loss: 1738.9729 - MSE: 1738.9729WARNING:tensorflow:5 out of the last 29 calls to <function Model.make_test_function.<locals>.test_function at 0x7c0e47e2ea60> triggered tf.function retracing. Tracing is expensive and the excessive number of tracings could be due to (1) creating @tf.function repeatedly in a loop, (2) passing tensors with different shapes, (3) passing Python objects instead of tensors. For (1), please define your @tf.function outside of the loop. For (2), @tf.function has experimental_relax_shapes=True option that relaxes argument shapes that can avoid unnecessary retracing. For (3), please refer to https://www.tensorflow.org/guide/function#controlling_retracing and https://www.tensorflow.org/api_docs/python/tf/function for  more details.\n",
      "1/1 [==============================] - 4s 4s/step - loss: 1738.9729 - MSE: 1738.9729 - val_loss: 2101.0828 - val_MSE: 2101.0828\n",
      "Epoch 2/2\n",
      "1/1 [==============================] - ETA: 0s - loss: 1707.0902 - MSE: 1707.090 - 21s 21s/step - loss: 1707.0902 - MSE: 1707.0902 - val_loss: 2101.0828 - val_MSE: 2101.0828\n"
     ]
    },
    {
     "data": {
      "text/html": [
       "<span style=\"color:#4527A0\"><h1 style=\"font-size:18px\">Trial complete</h1></span>"
      ],
      "text/plain": [
       "<IPython.core.display.HTML object>"
      ]
     },
     "metadata": {},
     "output_type": "display_data"
    },
    {
     "data": {
      "text/html": [
       "<span style=\"color:#4527A0\"><h1 style=\"font-size:18px\">Trial summary</h1></span>"
      ],
      "text/plain": [
       "<IPython.core.display.HTML object>"
      ]
     },
     "metadata": {},
     "output_type": "display_data"
    },
    {
     "data": {
      "text/html": [
       "<span style=\"color:cyan\"> |-Trial ID: e1da634cae55cbf7daa87b0d996385fb</span>"
      ],
      "text/plain": [
       "<IPython.core.display.HTML object>"
      ]
     },
     "metadata": {},
     "output_type": "display_data"
    },
    {
     "data": {
      "text/html": [
       "<span style=\"color:cyan\"> |-Score: 2101.082763671875</span>"
      ],
      "text/plain": [
       "<IPython.core.display.HTML object>"
      ]
     },
     "metadata": {},
     "output_type": "display_data"
    },
    {
     "data": {
      "text/html": [
       "<span style=\"color:cyan\"> |-Best step: 0</span>"
      ],
      "text/plain": [
       "<IPython.core.display.HTML object>"
      ]
     },
     "metadata": {},
     "output_type": "display_data"
    },
    {
     "data": {
      "text/html": [
       "<span style=\"color:#7E57C2\"><h2 style=\"font-size:16px\">Hyperparameters:</h2></span>"
      ],
      "text/plain": [
       "<IPython.core.display.HTML object>"
      ]
     },
     "metadata": {},
     "output_type": "display_data"
    },
    {
     "data": {
      "text/html": [
       "<span style=\"color:cyan\"> |-kernel_size: 6</span>"
      ],
      "text/plain": [
       "<IPython.core.display.HTML object>"
      ]
     },
     "metadata": {},
     "output_type": "display_data"
    },
    {
     "data": {
      "text/html": [
       "<span style=\"color:blue\"> |-learning_rate: 0.05</span>"
      ],
      "text/plain": [
       "<IPython.core.display.HTML object>"
      ]
     },
     "metadata": {},
     "output_type": "display_data"
    },
    {
     "data": {
      "text/html": [
       "<span style=\"color:cyan\"> |-tuner/bracket: 1</span>"
      ],
      "text/plain": [
       "<IPython.core.display.HTML object>"
      ]
     },
     "metadata": {},
     "output_type": "display_data"
    },
    {
     "data": {
      "text/html": [
       "<span style=\"color:blue\"> |-tuner/epochs: 2</span>"
      ],
      "text/plain": [
       "<IPython.core.display.HTML object>"
      ]
     },
     "metadata": {},
     "output_type": "display_data"
    },
    {
     "data": {
      "text/html": [
       "<span style=\"color:cyan\"> |-tuner/initial_epoch: 0</span>"
      ],
      "text/plain": [
       "<IPython.core.display.HTML object>"
      ]
     },
     "metadata": {},
     "output_type": "display_data"
    },
    {
     "data": {
      "text/html": [
       "<span style=\"color:blue\"> |-tuner/round: 0</span>"
      ],
      "text/plain": [
       "<IPython.core.display.HTML object>"
      ]
     },
     "metadata": {},
     "output_type": "display_data"
    },
    {
     "data": {
      "text/html": [
       "<span style=\"color:cyan\"> |-units: 64</span>"
      ],
      "text/plain": [
       "<IPython.core.display.HTML object>"
      ]
     },
     "metadata": {},
     "output_type": "display_data"
    },
    {
     "name": "stdout",
     "output_type": "stream",
     "text": [
      "Epoch 1/2\n",
      "WARNING:tensorflow:6 out of the last 26 calls to <function Model.make_train_function.<locals>.train_function at 0x7c0e47fc8f70> triggered tf.function retracing. Tracing is expensive and the excessive number of tracings could be due to (1) creating @tf.function repeatedly in a loop, (2) passing tensors with different shapes, (3) passing Python objects instead of tensors. For (1), please define your @tf.function outside of the loop. For (2), @tf.function has experimental_relax_shapes=True option that relaxes argument shapes that can avoid unnecessary retracing. For (3), please refer to https://www.tensorflow.org/guide/function#controlling_retracing and https://www.tensorflow.org/api_docs/python/tf/function for  more details.\n",
      "1/1 [==============================] - ETA: 0s - loss: 1739.7776 - MSE: 1739.7776WARNING:tensorflow:5 out of the last 11 calls to <function Model.make_test_function.<locals>.test_function at 0x7c0e47e2e1f0> triggered tf.function retracing. Tracing is expensive and the excessive number of tracings could be due to (1) creating @tf.function repeatedly in a loop, (2) passing tensors with different shapes, (3) passing Python objects instead of tensors. For (1), please define your @tf.function outside of the loop. For (2), @tf.function has experimental_relax_shapes=True option that relaxes argument shapes that can avoid unnecessary retracing. For (3), please refer to https://www.tensorflow.org/guide/function#controlling_retracing and https://www.tensorflow.org/api_docs/python/tf/function for  more details.\n",
      "1/1 [==============================] - 18s 18s/step - loss: 1739.7776 - MSE: 1739.7776 - val_loss: 2101.0828 - val_MSE: 2101.0828\n",
      "Epoch 2/2\n",
      "1/1 [==============================] - ETA: 0s - loss: 1707.0905 - MSE: 1707.090 - 55s 55s/step - loss: 1707.0905 - MSE: 1707.0905 - val_loss: 2101.0828 - val_MSE: 2101.0828\n"
     ]
    },
    {
     "data": {
      "text/html": [
       "<span style=\"color:#4527A0\"><h1 style=\"font-size:18px\">Trial complete</h1></span>"
      ],
      "text/plain": [
       "<IPython.core.display.HTML object>"
      ]
     },
     "metadata": {},
     "output_type": "display_data"
    },
    {
     "data": {
      "text/html": [
       "<span style=\"color:#4527A0\"><h1 style=\"font-size:18px\">Trial summary</h1></span>"
      ],
      "text/plain": [
       "<IPython.core.display.HTML object>"
      ]
     },
     "metadata": {},
     "output_type": "display_data"
    },
    {
     "data": {
      "text/html": [
       "<span style=\"color:cyan\"> |-Trial ID: 6b52dbc7b2355708af32d7abbe78c2f7</span>"
      ],
      "text/plain": [
       "<IPython.core.display.HTML object>"
      ]
     },
     "metadata": {},
     "output_type": "display_data"
    },
    {
     "data": {
      "text/html": [
       "<span style=\"color:cyan\"> |-Score: 2101.082763671875</span>"
      ],
      "text/plain": [
       "<IPython.core.display.HTML object>"
      ]
     },
     "metadata": {},
     "output_type": "display_data"
    },
    {
     "data": {
      "text/html": [
       "<span style=\"color:cyan\"> |-Best step: 0</span>"
      ],
      "text/plain": [
       "<IPython.core.display.HTML object>"
      ]
     },
     "metadata": {},
     "output_type": "display_data"
    },
    {
     "data": {
      "text/html": [
       "<span style=\"color:#7E57C2\"><h2 style=\"font-size:16px\">Hyperparameters:</h2></span>"
      ],
      "text/plain": [
       "<IPython.core.display.HTML object>"
      ]
     },
     "metadata": {},
     "output_type": "display_data"
    },
    {
     "data": {
      "text/html": [
       "<span style=\"color:cyan\"> |-kernel_size: 3</span>"
      ],
      "text/plain": [
       "<IPython.core.display.HTML object>"
      ]
     },
     "metadata": {},
     "output_type": "display_data"
    },
    {
     "data": {
      "text/html": [
       "<span style=\"color:blue\"> |-learning_rate: 0.05</span>"
      ],
      "text/plain": [
       "<IPython.core.display.HTML object>"
      ]
     },
     "metadata": {},
     "output_type": "display_data"
    },
    {
     "data": {
      "text/html": [
       "<span style=\"color:cyan\"> |-tuner/bracket: 1</span>"
      ],
      "text/plain": [
       "<IPython.core.display.HTML object>"
      ]
     },
     "metadata": {},
     "output_type": "display_data"
    },
    {
     "data": {
      "text/html": [
       "<span style=\"color:blue\"> |-tuner/epochs: 2</span>"
      ],
      "text/plain": [
       "<IPython.core.display.HTML object>"
      ]
     },
     "metadata": {},
     "output_type": "display_data"
    },
    {
     "data": {
      "text/html": [
       "<span style=\"color:cyan\"> |-tuner/initial_epoch: 0</span>"
      ],
      "text/plain": [
       "<IPython.core.display.HTML object>"
      ]
     },
     "metadata": {},
     "output_type": "display_data"
    },
    {
     "data": {
      "text/html": [
       "<span style=\"color:blue\"> |-tuner/round: 0</span>"
      ],
      "text/plain": [
       "<IPython.core.display.HTML object>"
      ]
     },
     "metadata": {},
     "output_type": "display_data"
    },
    {
     "data": {
      "text/html": [
       "<span style=\"color:cyan\"> |-units: 480</span>"
      ],
      "text/plain": [
       "<IPython.core.display.HTML object>"
      ]
     },
     "metadata": {},
     "output_type": "display_data"
    },
    {
     "name": "stdout",
     "output_type": "stream",
     "text": [
      "Epoch 1/2\n",
      "WARNING:tensorflow:6 out of the last 12 calls to <function Model.make_train_function.<locals>.train_function at 0x7c0e47fe28b0> triggered tf.function retracing. Tracing is expensive and the excessive number of tracings could be due to (1) creating @tf.function repeatedly in a loop, (2) passing tensors with different shapes, (3) passing Python objects instead of tensors. For (1), please define your @tf.function outside of the loop. For (2), @tf.function has experimental_relax_shapes=True option that relaxes argument shapes that can avoid unnecessary retracing. For (3), please refer to https://www.tensorflow.org/guide/function#controlling_retracing and https://www.tensorflow.org/api_docs/python/tf/function for  more details.\n",
      "1/1 [==============================] - ETA: 0s - loss: 1737.9358 - MSE: 1737.9358WARNING:tensorflow:5 out of the last 11 calls to <function Model.make_test_function.<locals>.test_function at 0x7c0e47e2e310> triggered tf.function retracing. Tracing is expensive and the excessive number of tracings could be due to (1) creating @tf.function repeatedly in a loop, (2) passing tensors with different shapes, (3) passing Python objects instead of tensors. For (1), please define your @tf.function outside of the loop. For (2), @tf.function has experimental_relax_shapes=True option that relaxes argument shapes that can avoid unnecessary retracing. For (3), please refer to https://www.tensorflow.org/guide/function#controlling_retracing and https://www.tensorflow.org/api_docs/python/tf/function for  more details.\n",
      "1/1 [==============================] - 40s 40s/step - loss: 1737.9358 - MSE: 1737.9358 - val_loss: 2101.0828 - val_MSE: 2101.0828\n",
      "Epoch 2/2\n",
      "1/1 [==============================] - ETA: 0s - loss: 1707.0902 - MSE: 1707.090 - 36s 36s/step - loss: 1707.0902 - MSE: 1707.0902 - val_loss: 2101.0828 - val_MSE: 2101.0828\n"
     ]
    },
    {
     "data": {
      "text/html": [
       "<span style=\"color:#4527A0\"><h1 style=\"font-size:18px\">Trial complete</h1></span>"
      ],
      "text/plain": [
       "<IPython.core.display.HTML object>"
      ]
     },
     "metadata": {},
     "output_type": "display_data"
    },
    {
     "data": {
      "text/html": [
       "<span style=\"color:#4527A0\"><h1 style=\"font-size:18px\">Trial summary</h1></span>"
      ],
      "text/plain": [
       "<IPython.core.display.HTML object>"
      ]
     },
     "metadata": {},
     "output_type": "display_data"
    },
    {
     "data": {
      "text/html": [
       "<span style=\"color:cyan\"> |-Trial ID: 25e7ef882ec8495b395de36b26b360e4</span>"
      ],
      "text/plain": [
       "<IPython.core.display.HTML object>"
      ]
     },
     "metadata": {},
     "output_type": "display_data"
    },
    {
     "data": {
      "text/html": [
       "<span style=\"color:cyan\"> |-Score: 2101.082763671875</span>"
      ],
      "text/plain": [
       "<IPython.core.display.HTML object>"
      ]
     },
     "metadata": {},
     "output_type": "display_data"
    },
    {
     "data": {
      "text/html": [
       "<span style=\"color:cyan\"> |-Best step: 0</span>"
      ],
      "text/plain": [
       "<IPython.core.display.HTML object>"
      ]
     },
     "metadata": {},
     "output_type": "display_data"
    },
    {
     "data": {
      "text/html": [
       "<span style=\"color:#7E57C2\"><h2 style=\"font-size:16px\">Hyperparameters:</h2></span>"
      ],
      "text/plain": [
       "<IPython.core.display.HTML object>"
      ]
     },
     "metadata": {},
     "output_type": "display_data"
    },
    {
     "data": {
      "text/html": [
       "<span style=\"color:cyan\"> |-kernel_size: 5</span>"
      ],
      "text/plain": [
       "<IPython.core.display.HTML object>"
      ]
     },
     "metadata": {},
     "output_type": "display_data"
    },
    {
     "data": {
      "text/html": [
       "<span style=\"color:blue\"> |-learning_rate: 0.01</span>"
      ],
      "text/plain": [
       "<IPython.core.display.HTML object>"
      ]
     },
     "metadata": {},
     "output_type": "display_data"
    },
    {
     "data": {
      "text/html": [
       "<span style=\"color:cyan\"> |-tuner/bracket: 1</span>"
      ],
      "text/plain": [
       "<IPython.core.display.HTML object>"
      ]
     },
     "metadata": {},
     "output_type": "display_data"
    },
    {
     "data": {
      "text/html": [
       "<span style=\"color:blue\"> |-tuner/epochs: 2</span>"
      ],
      "text/plain": [
       "<IPython.core.display.HTML object>"
      ]
     },
     "metadata": {},
     "output_type": "display_data"
    },
    {
     "data": {
      "text/html": [
       "<span style=\"color:cyan\"> |-tuner/initial_epoch: 0</span>"
      ],
      "text/plain": [
       "<IPython.core.display.HTML object>"
      ]
     },
     "metadata": {},
     "output_type": "display_data"
    },
    {
     "data": {
      "text/html": [
       "<span style=\"color:blue\"> |-tuner/round: 0</span>"
      ],
      "text/plain": [
       "<IPython.core.display.HTML object>"
      ]
     },
     "metadata": {},
     "output_type": "display_data"
    },
    {
     "data": {
      "text/html": [
       "<span style=\"color:cyan\"> |-units: 576</span>"
      ],
      "text/plain": [
       "<IPython.core.display.HTML object>"
      ]
     },
     "metadata": {},
     "output_type": "display_data"
    },
    {
     "name": "stdout",
     "output_type": "stream",
     "text": [
      "Epoch 1/2\n",
      "WARNING:tensorflow:6 out of the last 12 calls to <function Model.make_train_function.<locals>.train_function at 0x7c0e47fe2700> triggered tf.function retracing. Tracing is expensive and the excessive number of tracings could be due to (1) creating @tf.function repeatedly in a loop, (2) passing tensors with different shapes, (3) passing Python objects instead of tensors. For (1), please define your @tf.function outside of the loop. For (2), @tf.function has experimental_relax_shapes=True option that relaxes argument shapes that can avoid unnecessary retracing. For (3), please refer to https://www.tensorflow.org/guide/function#controlling_retracing and https://www.tensorflow.org/api_docs/python/tf/function for  more details.\n",
      "1/1 [==============================] - ETA: 0s - loss: 1739.9668 - MSE: 1739.9668WARNING:tensorflow:5 out of the last 11 calls to <function Model.make_test_function.<locals>.test_function at 0x7c0e47e2ee50> triggered tf.function retracing. Tracing is expensive and the excessive number of tracings could be due to (1) creating @tf.function repeatedly in a loop, (2) passing tensors with different shapes, (3) passing Python objects instead of tensors. For (1), please define your @tf.function outside of the loop. For (2), @tf.function has experimental_relax_shapes=True option that relaxes argument shapes that can avoid unnecessary retracing. For (3), please refer to https://www.tensorflow.org/guide/function#controlling_retracing and https://www.tensorflow.org/api_docs/python/tf/function for  more details.\n",
      "1/1 [==============================] - 15s 15s/step - loss: 1739.9668 - MSE: 1739.9668 - val_loss: 2101.0828 - val_MSE: 2101.0828\n",
      "Epoch 2/2\n",
      "1/1 [==============================] - ETA: 0s - loss: 1707.0905 - MSE: 1707.090 - 59s 59s/step - loss: 1707.0905 - MSE: 1707.0905 - val_loss: 2101.0828 - val_MSE: 2101.0828\n"
     ]
    },
    {
     "data": {
      "text/html": [
       "<span style=\"color:#4527A0\"><h1 style=\"font-size:18px\">Trial complete</h1></span>"
      ],
      "text/plain": [
       "<IPython.core.display.HTML object>"
      ]
     },
     "metadata": {},
     "output_type": "display_data"
    },
    {
     "data": {
      "text/html": [
       "<span style=\"color:#4527A0\"><h1 style=\"font-size:18px\">Trial summary</h1></span>"
      ],
      "text/plain": [
       "<IPython.core.display.HTML object>"
      ]
     },
     "metadata": {},
     "output_type": "display_data"
    },
    {
     "data": {
      "text/html": [
       "<span style=\"color:cyan\"> |-Trial ID: 7be86bd62b992a3a695131b12a748a06</span>"
      ],
      "text/plain": [
       "<IPython.core.display.HTML object>"
      ]
     },
     "metadata": {},
     "output_type": "display_data"
    },
    {
     "data": {
      "text/html": [
       "<span style=\"color:cyan\"> |-Score: 2101.082763671875</span>"
      ],
      "text/plain": [
       "<IPython.core.display.HTML object>"
      ]
     },
     "metadata": {},
     "output_type": "display_data"
    },
    {
     "data": {
      "text/html": [
       "<span style=\"color:cyan\"> |-Best step: 0</span>"
      ],
      "text/plain": [
       "<IPython.core.display.HTML object>"
      ]
     },
     "metadata": {},
     "output_type": "display_data"
    },
    {
     "data": {
      "text/html": [
       "<span style=\"color:#7E57C2\"><h2 style=\"font-size:16px\">Hyperparameters:</h2></span>"
      ],
      "text/plain": [
       "<IPython.core.display.HTML object>"
      ]
     },
     "metadata": {},
     "output_type": "display_data"
    },
    {
     "data": {
      "text/html": [
       "<span style=\"color:cyan\"> |-kernel_size: 3</span>"
      ],
      "text/plain": [
       "<IPython.core.display.HTML object>"
      ]
     },
     "metadata": {},
     "output_type": "display_data"
    },
    {
     "data": {
      "text/html": [
       "<span style=\"color:blue\"> |-learning_rate: 0.0005</span>"
      ],
      "text/plain": [
       "<IPython.core.display.HTML object>"
      ]
     },
     "metadata": {},
     "output_type": "display_data"
    },
    {
     "data": {
      "text/html": [
       "<span style=\"color:cyan\"> |-tuner/bracket: 1</span>"
      ],
      "text/plain": [
       "<IPython.core.display.HTML object>"
      ]
     },
     "metadata": {},
     "output_type": "display_data"
    },
    {
     "data": {
      "text/html": [
       "<span style=\"color:blue\"> |-tuner/epochs: 2</span>"
      ],
      "text/plain": [
       "<IPython.core.display.HTML object>"
      ]
     },
     "metadata": {},
     "output_type": "display_data"
    },
    {
     "data": {
      "text/html": [
       "<span style=\"color:cyan\"> |-tuner/initial_epoch: 0</span>"
      ],
      "text/plain": [
       "<IPython.core.display.HTML object>"
      ]
     },
     "metadata": {},
     "output_type": "display_data"
    },
    {
     "data": {
      "text/html": [
       "<span style=\"color:blue\"> |-tuner/round: 0</span>"
      ],
      "text/plain": [
       "<IPython.core.display.HTML object>"
      ]
     },
     "metadata": {},
     "output_type": "display_data"
    },
    {
     "data": {
      "text/html": [
       "<span style=\"color:cyan\"> |-units: 448</span>"
      ],
      "text/plain": [
       "<IPython.core.display.HTML object>"
      ]
     },
     "metadata": {},
     "output_type": "display_data"
    },
    {
     "name": "stdout",
     "output_type": "stream",
     "text": [
      "Epoch 1/2\n"
     ]
    }
   ],
   "source": [
    "tuner = kt.Hyperband(\n",
    "    build_model,\n",
    "    objective='val_loss',\n",
    "    max_epochs=4,\n",
    "    overwrite=True)\n",
    "tuner.search(X_train_tensor, y_train_tensor, validation_split=0.2)"
   ]
  },
  {
   "cell_type": "code",
   "execution_count": null,
   "id": "99089de9",
   "metadata": {
    "ExecuteTime": {
     "start_time": "2021-07-17T14:17:10.281Z"
    }
   },
   "outputs": [],
   "source": [
    "best_hps=tuner.get_best_hyperparameters(num_trials=1)[0]\n",
    "best_hps.values"
   ]
  },
  {
   "cell_type": "code",
   "execution_count": 98,
   "id": "152d8b4a",
   "metadata": {
    "ExecuteTime": {
     "end_time": "2021-07-17T14:09:57.525595Z",
     "start_time": "2021-07-17T14:09:38.684531Z"
    }
   },
   "outputs": [
    {
     "name": "stdout",
     "output_type": "stream",
     "text": [
      "Epoch 1/3\n",
      "1/1 [==============================] - ETA: 0s - loss: 2240.7141 - MSE: 2240.714 - 0s 0s/step - loss: 2240.7141 - MSE: 2240.7141 - val_loss: 234698896.0000 - val_MSE: 234698896.0000\n",
      "Epoch 2/3\n",
      "1/1 [==============================] - ETA: 0s - loss: 908121.8750 - MSE: 908121.875 - 0s 51ms/step - loss: 908121.8750 - MSE: 908121.8750 - val_loss: 47583016.0000 - val_MSE: 47583016.0000\n",
      "Epoch 3/3\n",
      "1/1 [==============================] - ETA: 0s - loss: 57737.0234 - MSE: 57737.023 - 18s 18s/step - loss: 57737.0234 - MSE: 57737.0234 - val_loss: 6113176.0000 - val_MSE: 6113176.0000\n",
      "1/1 [==============================] - ETA: 0s - loss: 12248.1328 - MSE: 12248.132 - 0s 0s/step - loss: 12248.1328 - MSE: 12248.1328\n",
      "[test loss, test MSE]: [12248.1328125, 12248.1328125]\n"
     ]
    }
   ],
   "source": [
    "hypermodel = tuner.hypermodel.build(best_hps)\n",
    "hypermodel.fit(X_train_tensor, y_train_tensor, epochs=3, validation_split=0.2)\n",
    "eval_result = hypermodel.evaluate(X_test, y_test)\n",
    "print(\"[test loss, test MSE]:\", eval_result)_tensor"
   ]
  },
  {
   "cell_type": "code",
   "execution_count": 99,
   "id": "9228fabc",
   "metadata": {
    "ExecuteTime": {
     "end_time": "2021-07-17T14:10:27.844306Z",
     "start_time": "2021-07-17T14:10:27.517992Z"
    }
   },
   "outputs": [
    {
     "name": "stdout",
     "output_type": "stream",
     "text": [
      "[[  35.369633    57.799103     6.8312593]\n",
      " [  79.81688     -2.322099    22.505215 ]\n",
      " [ -48.742283  -156.4174     305.1597   ]\n",
      " [ 116.06227     52.019596   -68.08188  ]]\n",
      "[[32.5 67.4  0.1]\n",
      " [75.4 24.4  0.2]\n",
      " [16.2 79.5  4.3]\n",
      " [70.8 18.4 10.8]]\n"
     ]
    }
   ],
   "source": [
    "res = hypermodel.predict(X_test)\n",
    "rowSums = np.sum(res, axis=1)\n",
    "rowSums = rowSums.reshape((4,1))\n",
    "print('unnormalized: ', res)\n",
    "print('normalized: ', res/rowSums * 100)\n",
    "print('targets: ', y_test)"
   ]
  },
  {
   "cell_type": "code",
   "execution_count": 97,
   "id": "4d30e761",
   "metadata": {
    "ExecuteTime": {
     "end_time": "2021-07-17T14:09:21.538531Z",
     "start_time": "2021-07-17T14:09:21.538531Z"
    }
   },
   "outputs": [
    {
     "ename": "NameError",
     "evalue": "name 'hypermodel' is not defined",
     "output_type": "error",
     "traceback": [
      "\u001b[0;31m---------------------------------------------------------------------------\u001b[0m",
      "\u001b[0;31mNameError\u001b[0m                                 Traceback (most recent call last)",
      "\u001b[0;32m<ipython-input-97-bc545ccd3cdb>\u001b[0m in \u001b[0;36m<module>\u001b[0;34m\u001b[0m\n\u001b[0;32m----> 1\u001b[0;31m \u001b[0mhypermodel\u001b[0m\u001b[0;34m.\u001b[0m\u001b[0mpredict\u001b[0m\u001b[0;34m(\u001b[0m\u001b[0mX_test\u001b[0m\u001b[0;34m)\u001b[0m\u001b[0;34m\u001b[0m\u001b[0;34m\u001b[0m\u001b[0m\n\u001b[0m",
      "\u001b[0;31mNameError\u001b[0m: name 'hypermodel' is not defined"
     ]
    }
   ],
   "source": [
    "hypermodel.predict(X_test)"
   ]
  },
  {
   "cell_type": "code",
   "execution_count": 24,
   "id": "adc3747d",
   "metadata": {
    "ExecuteTime": {
     "end_time": "2021-07-06T23:51:04.212438Z",
     "start_time": "2021-07-06T23:51:04.155892Z"
    }
   },
   "outputs": [
    {
     "data": {
      "text/html": [
       "<div>\n",
       "<style scoped>\n",
       "    .dataframe tbody tr th:only-of-type {\n",
       "        vertical-align: middle;\n",
       "    }\n",
       "\n",
       "    .dataframe tbody tr th {\n",
       "        vertical-align: top;\n",
       "    }\n",
       "\n",
       "    .dataframe thead th {\n",
       "        text-align: right;\n",
       "    }\n",
       "</style>\n",
       "<table border=\"1\" class=\"dataframe\">\n",
       "  <thead>\n",
       "    <tr style=\"text-align: right;\">\n",
       "      <th></th>\n",
       "      <th>Unnamed: 0</th>\n",
       "      <th>Rsq_train</th>\n",
       "      <th>Rsq_valid</th>\n",
       "      <th>Rsq_test</th>\n",
       "      <th>rmse_train</th>\n",
       "      <th>rmse_valid</th>\n",
       "      <th>rmse_test</th>\n",
       "      <th>regression</th>\n",
       "      <th>train</th>\n",
       "      <th>validation</th>\n",
       "      <th>test</th>\n",
       "      <th>color</th>\n",
       "    </tr>\n",
       "  </thead>\n",
       "  <tbody>\n",
       "    <tr>\n",
       "      <th>0</th>\n",
       "      <td>0</td>\n",
       "      <td>0.884562</td>\n",
       "      <td>0.256122</td>\n",
       "      <td>0.283275</td>\n",
       "      <td>1.964653</td>\n",
       "      <td>5.011416</td>\n",
       "      <td>4.942023</td>\n",
       "      <td>XGBoost</td>\n",
       "      <td>train</td>\n",
       "      <td>validation</td>\n",
       "      <td>test</td>\n",
       "      <td>#949494</td>\n",
       "    </tr>\n",
       "    <tr>\n",
       "      <th>1</th>\n",
       "      <td>5</td>\n",
       "      <td>0.857669</td>\n",
       "      <td>0.253774</td>\n",
       "      <td>0.272606</td>\n",
       "      <td>2.181533</td>\n",
       "      <td>5.019319</td>\n",
       "      <td>4.978668</td>\n",
       "      <td>RandomForest</td>\n",
       "      <td>train</td>\n",
       "      <td>validation</td>\n",
       "      <td>test</td>\n",
       "      <td>#ca9161</td>\n",
       "    </tr>\n",
       "    <tr>\n",
       "      <th>2</th>\n",
       "      <td>4</td>\n",
       "      <td>0.999714</td>\n",
       "      <td>0.206370</td>\n",
       "      <td>0.235784</td>\n",
       "      <td>0.097816</td>\n",
       "      <td>5.176294</td>\n",
       "      <td>5.103129</td>\n",
       "      <td>KNN</td>\n",
       "      <td>train</td>\n",
       "      <td>validation</td>\n",
       "      <td>test</td>\n",
       "      <td>#cc78bc</td>\n",
       "    </tr>\n",
       "    <tr>\n",
       "      <th>3</th>\n",
       "      <td>0</td>\n",
       "      <td>0.224503</td>\n",
       "      <td>0.141476</td>\n",
       "      <td>0.174326</td>\n",
       "      <td>5.092154</td>\n",
       "      <td>5.383763</td>\n",
       "      <td>5.304357</td>\n",
       "      <td>SVR</td>\n",
       "      <td>train</td>\n",
       "      <td>validation</td>\n",
       "      <td>test</td>\n",
       "      <td>#fbafe4</td>\n",
       "    </tr>\n",
       "    <tr>\n",
       "      <th>4</th>\n",
       "      <td>2</td>\n",
       "      <td>0.095147</td>\n",
       "      <td>0.096904</td>\n",
       "      <td>0.098206</td>\n",
       "      <td>5.500479</td>\n",
       "      <td>5.521750</td>\n",
       "      <td>5.543475</td>\n",
       "      <td>Lasso</td>\n",
       "      <td>train</td>\n",
       "      <td>validation</td>\n",
       "      <td>test</td>\n",
       "      <td>#029e73</td>\n",
       "    </tr>\n",
       "    <tr>\n",
       "      <th>5</th>\n",
       "      <td>3</td>\n",
       "      <td>0.095157</td>\n",
       "      <td>0.096875</td>\n",
       "      <td>0.098171</td>\n",
       "      <td>5.500449</td>\n",
       "      <td>5.521838</td>\n",
       "      <td>5.543584</td>\n",
       "      <td>ElasticNet</td>\n",
       "      <td>train</td>\n",
       "      <td>validation</td>\n",
       "      <td>test</td>\n",
       "      <td>#d55e00</td>\n",
       "    </tr>\n",
       "    <tr>\n",
       "      <th>6</th>\n",
       "      <td>0</td>\n",
       "      <td>0.095168</td>\n",
       "      <td>0.096827</td>\n",
       "      <td>0.098084</td>\n",
       "      <td>5.500413</td>\n",
       "      <td>5.521984</td>\n",
       "      <td>5.543849</td>\n",
       "      <td>Ridge</td>\n",
       "      <td>train</td>\n",
       "      <td>validation</td>\n",
       "      <td>test</td>\n",
       "      <td>#0173b2</td>\n",
       "    </tr>\n",
       "    <tr>\n",
       "      <th>7</th>\n",
       "      <td>1</td>\n",
       "      <td>0.095168</td>\n",
       "      <td>0.096827</td>\n",
       "      <td>0.098084</td>\n",
       "      <td>5.500413</td>\n",
       "      <td>5.521984</td>\n",
       "      <td>5.543849</td>\n",
       "      <td>LinearRegression</td>\n",
       "      <td>train</td>\n",
       "      <td>validation</td>\n",
       "      <td>test</td>\n",
       "      <td>#de8f05</td>\n",
       "    </tr>\n",
       "  </tbody>\n",
       "</table>\n",
       "</div>"
      ],
      "text/plain": [
       "   Unnamed: 0  Rsq_train  Rsq_valid  Rsq_test  rmse_train  rmse_valid  \\\n",
       "0           0   0.884562   0.256122  0.283275    1.964653    5.011416   \n",
       "1           5   0.857669   0.253774  0.272606    2.181533    5.019319   \n",
       "2           4   0.999714   0.206370  0.235784    0.097816    5.176294   \n",
       "3           0   0.224503   0.141476  0.174326    5.092154    5.383763   \n",
       "4           2   0.095147   0.096904  0.098206    5.500479    5.521750   \n",
       "5           3   0.095157   0.096875  0.098171    5.500449    5.521838   \n",
       "6           0   0.095168   0.096827  0.098084    5.500413    5.521984   \n",
       "7           1   0.095168   0.096827  0.098084    5.500413    5.521984   \n",
       "\n",
       "   rmse_test        regression  train  validation  test    color  \n",
       "0   4.942023           XGBoost  train  validation  test  #949494  \n",
       "1   4.978668      RandomForest  train  validation  test  #ca9161  \n",
       "2   5.103129               KNN  train  validation  test  #cc78bc  \n",
       "3   5.304357               SVR  train  validation  test  #fbafe4  \n",
       "4   5.543475             Lasso  train  validation  test  #029e73  \n",
       "5   5.543584        ElasticNet  train  validation  test  #d55e00  \n",
       "6   5.543849             Ridge  train  validation  test  #0173b2  \n",
       "7   5.543849  LinearRegression  train  validation  test  #de8f05  "
      ]
     },
     "execution_count": 24,
     "metadata": {},
     "output_type": "execute_result"
    }
   ],
   "source": [
    "pd.read_csv('/home/sepidehparhami/Diuresis/results/results_final.csv')"
   ]
  },
  {
   "cell_type": "code",
   "execution_count": null,
   "id": "d8e2743c",
   "metadata": {},
   "outputs": [],
   "source": []
  }
 ],
 "metadata": {
  "kernelspec": {
   "display_name": "Python 3",
   "language": "python",
   "name": "python3"
  },
  "language_info": {
   "codemirror_mode": {
    "name": "ipython",
    "version": 3
   },
   "file_extension": ".py",
   "mimetype": "text/x-python",
   "name": "python",
   "nbconvert_exporter": "python",
   "pygments_lexer": "ipython3",
   "version": "3.9.5"
  },
  "notify_time": "30",
  "toc": {
   "base_numbering": 1,
   "nav_menu": {},
   "number_sections": true,
   "sideBar": true,
   "skip_h1_title": false,
   "title_cell": "Table of Contents",
   "title_sidebar": "Contents",
   "toc_cell": false,
   "toc_position": {},
   "toc_section_display": true,
   "toc_window_display": false
  },
  "varInspector": {
   "cols": {
    "lenName": 16,
    "lenType": 16,
    "lenVar": 40
   },
   "kernels_config": {
    "python": {
     "delete_cmd_postfix": "",
     "delete_cmd_prefix": "del ",
     "library": "var_list.py",
     "varRefreshCmd": "print(var_dic_list())"
    },
    "r": {
     "delete_cmd_postfix": ") ",
     "delete_cmd_prefix": "rm(",
     "library": "var_list.r",
     "varRefreshCmd": "cat(var_dic_list()) "
    }
   },
   "types_to_exclude": [
    "module",
    "function",
    "builtin_function_or_method",
    "instance",
    "_Feature"
   ],
   "window_display": false
  }
 },
 "nbformat": 4,
 "nbformat_minor": 5
}
