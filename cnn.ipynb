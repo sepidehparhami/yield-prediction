{
 "cells": [
  {
   "cell_type": "code",
   "execution_count": 1,
   "id": "94fa390e",
   "metadata": {
    "ExecuteTime": {
     "end_time": "2021-07-03T14:53:17.474592Z",
     "start_time": "2021-07-03T14:53:13.357640Z"
    }
   },
   "outputs": [
    {
     "name": "stdout",
     "output_type": "stream",
     "text": [
      "/home/sepidehparhami/tutoring/Research Project/yield-prediction\n"
     ]
    }
   ],
   "source": [
    "import os\n",
    "print(os.getcwd())\n",
    "import numpy as np\n",
    "import pandas as pd\n",
    "from sklearn.linear_model import LinearRegression\n",
    "from sklearn.model_selection import train_test_split\n",
    "from sklearn.metrics import mean_squared_error, r2_score"
   ]
  },
  {
   "cell_type": "code",
   "execution_count": 2,
   "id": "bc3768ad",
   "metadata": {
    "ExecuteTime": {
     "end_time": "2021-07-03T14:53:25.161221Z",
     "start_time": "2021-07-03T14:53:20.252045Z"
    }
   },
   "outputs": [],
   "source": [
    "import keras\n",
    "from keras.models import Sequential\n",
    "from keras.layers import Dense, Conv3D, Flatten"
   ]
  },
  {
   "cell_type": "code",
   "execution_count": 4,
   "id": "0f8854fa",
   "metadata": {
    "ExecuteTime": {
     "end_time": "2021-07-03T14:53:57.558215Z",
     "start_time": "2021-07-03T14:53:57.524052Z"
    }
   },
   "outputs": [],
   "source": [
    "yields = pd.read_csv(r'../yield.txt', delim_whitespace=True, index_col=0)"
   ]
  },
  {
   "cell_type": "code",
   "execution_count": 5,
   "id": "85fe871e",
   "metadata": {
    "ExecuteTime": {
     "end_time": "2021-07-03T14:54:00.005779Z",
     "start_time": "2021-07-03T14:53:59.977872Z"
    }
   },
   "outputs": [],
   "source": [
    "ligands = list(yields.index)"
   ]
  },
  {
   "cell_type": "code",
   "execution_count": 8,
   "id": "9c5482c5",
   "metadata": {
    "ExecuteTime": {
     "end_time": "2021-07-03T14:54:12.825832Z",
     "start_time": "2021-07-03T14:54:12.753162Z"
    }
   },
   "outputs": [],
   "source": [
    "sample_file = pd.read_csv('../data/ESP allPoints_L01-DPPF.txt_interpolated.txt')\n",
    "sample_file.columns = ('x', 'y', 'z', 'esp')"
   ]
  },
  {
   "cell_type": "code",
   "execution_count": 9,
   "id": "07ad4557",
   "metadata": {
    "ExecuteTime": {
     "end_time": "2021-07-03T14:54:17.753204Z",
     "start_time": "2021-07-03T14:54:17.721862Z"
    }
   },
   "outputs": [
    {
     "name": "stdout",
     "output_type": "stream",
     "text": [
      "30 30 30\n"
     ]
    }
   ],
   "source": [
    "print(len(np.unique(sample_file['x'])),len(np.unique(sample_file['y'])),len(np.unique(sample_file['z'])))"
   ]
  },
  {
   "cell_type": "code",
   "execution_count": 31,
   "id": "ddad6fb2",
   "metadata": {
    "ExecuteTime": {
     "end_time": "2021-06-30T23:49:18.351274Z",
     "start_time": "2021-06-30T23:49:18.350584Z"
    }
   },
   "outputs": [
    {
     "data": {
      "text/plain": [
       "14.0"
      ]
     },
     "execution_count": 31,
     "metadata": {},
     "output_type": "execute_result"
    }
   ],
   "source": [
    "np.max(sample_file['x'])"
   ]
  },
  {
   "cell_type": "code",
   "execution_count": 18,
   "id": "3a039702",
   "metadata": {
    "ExecuteTime": {
     "end_time": "2021-06-30T23:41:40.043584Z",
     "start_time": "2021-06-30T23:41:40.029584Z"
    }
   },
   "outputs": [
    {
     "data": {
      "text/plain": [
       "(26999, 4)"
      ]
     },
     "execution_count": 18,
     "metadata": {},
     "output_type": "execute_result"
    }
   ],
   "source": [
    "sample_file.shape"
   ]
  },
  {
   "cell_type": "code",
   "execution_count": 31,
   "id": "99d39eb3",
   "metadata": {
    "ExecuteTime": {
     "end_time": "2021-07-03T15:00:56.824252Z",
     "start_time": "2021-07-03T15:00:56.815476Z"
    }
   },
   "outputs": [],
   "source": [
    "n_molecules = yields.shape[0]\n",
    "n_coords = sample_file.shape[0]\n",
    "dim_x, dim_y, dim_z = (len(np.unique(sample_file[data_axis])) for data_axis in ['x','y','z'])"
   ]
  },
  {
   "cell_type": "code",
   "execution_count": 12,
   "id": "a3cf3a84",
   "metadata": {
    "ExecuteTime": {
     "end_time": "2021-07-03T14:55:06.332330Z",
     "start_time": "2021-07-03T14:55:04.939201Z"
    }
   },
   "outputs": [],
   "source": [
    "# initialize a data frame and fill in ESPs from file\n",
    "\n",
    "data = pd.DataFrame(index = ligands, columns=range(n_coords+1))"
   ]
  },
  {
   "cell_type": "code",
   "execution_count": 15,
   "id": "98ef17ed",
   "metadata": {
    "ExecuteTime": {
     "end_time": "2021-07-03T14:55:37.932988Z",
     "start_time": "2021-07-03T14:55:36.472939Z"
    }
   },
   "outputs": [],
   "source": [
    "directory = '../data' \n",
    "      \n",
    "for i,filename in enumerate(os.listdir(directory)):\n",
    "    # print(i+1,'of',n_molecules)\n",
    "\n",
    "    data_point = pd.read_csv('../data/{}'.format(filename))\n",
    "    data_point.columns = ('x', 'y', 'z', 'esp')\n",
    "    \n",
    "    # print('number coords in file:',data_point.shape[0])\n",
    "\n",
    "    #extract the ligand name from the filename\n",
    "    name_parts = filename.split(\"_\")\n",
    "    if name_parts[1][0] == \"T\":\n",
    "        ligand = name_parts[1][:4]\n",
    "    else:\n",
    "        ligand = name_parts[1][:3]\n",
    "        \n",
    "    #add label and data point to their respective arrays \n",
    "    data.loc[ligand] = data_point['esp']"
   ]
  },
  {
   "cell_type": "code",
   "execution_count": 16,
   "id": "69c7b079",
   "metadata": {
    "ExecuteTime": {
     "end_time": "2021-07-03T14:55:39.900760Z",
     "start_time": "2021-07-03T14:55:39.857628Z"
    }
   },
   "outputs": [],
   "source": [
    "data[n_coords] = np.zeros(n_molecules,dtype=type(data.iloc[0,0]))"
   ]
  },
  {
   "cell_type": "code",
   "execution_count": 17,
   "id": "f94cdc95",
   "metadata": {
    "ExecuteTime": {
     "end_time": "2021-07-03T14:55:41.901418Z",
     "start_time": "2021-07-03T14:55:41.585974Z"
    }
   },
   "outputs": [
    {
     "data": {
      "text/html": [
       "<div>\n",
       "<style scoped>\n",
       "    .dataframe tbody tr th:only-of-type {\n",
       "        vertical-align: middle;\n",
       "    }\n",
       "\n",
       "    .dataframe tbody tr th {\n",
       "        vertical-align: top;\n",
       "    }\n",
       "\n",
       "    .dataframe thead th {\n",
       "        text-align: right;\n",
       "    }\n",
       "</style>\n",
       "<table border=\"1\" class=\"dataframe\">\n",
       "  <thead>\n",
       "    <tr style=\"text-align: right;\">\n",
       "      <th></th>\n",
       "      <th>0</th>\n",
       "      <th>1</th>\n",
       "      <th>2</th>\n",
       "      <th>3</th>\n",
       "      <th>4</th>\n",
       "      <th>5</th>\n",
       "      <th>6</th>\n",
       "      <th>7</th>\n",
       "      <th>8</th>\n",
       "      <th>9</th>\n",
       "      <th>...</th>\n",
       "      <th>26990</th>\n",
       "      <th>26991</th>\n",
       "      <th>26992</th>\n",
       "      <th>26993</th>\n",
       "      <th>26994</th>\n",
       "      <th>26995</th>\n",
       "      <th>26996</th>\n",
       "      <th>26997</th>\n",
       "      <th>26998</th>\n",
       "      <th>26999</th>\n",
       "    </tr>\n",
       "  </thead>\n",
       "  <tbody>\n",
       "    <tr>\n",
       "      <th>L01</th>\n",
       "      <td>0.0</td>\n",
       "      <td>0.0</td>\n",
       "      <td>0.0</td>\n",
       "      <td>0.0</td>\n",
       "      <td>0.0</td>\n",
       "      <td>0.0</td>\n",
       "      <td>0.0</td>\n",
       "      <td>0.0</td>\n",
       "      <td>0.0</td>\n",
       "      <td>0.0</td>\n",
       "      <td>...</td>\n",
       "      <td>0.0</td>\n",
       "      <td>0.0</td>\n",
       "      <td>0.0</td>\n",
       "      <td>0.0</td>\n",
       "      <td>0.0</td>\n",
       "      <td>0.0</td>\n",
       "      <td>0.0</td>\n",
       "      <td>0.0</td>\n",
       "      <td>0.0</td>\n",
       "      <td>0.0</td>\n",
       "    </tr>\n",
       "    <tr>\n",
       "      <th>L02</th>\n",
       "      <td>0.0</td>\n",
       "      <td>0.0</td>\n",
       "      <td>0.0</td>\n",
       "      <td>0.0</td>\n",
       "      <td>0.0</td>\n",
       "      <td>0.0</td>\n",
       "      <td>0.0</td>\n",
       "      <td>0.0</td>\n",
       "      <td>0.0</td>\n",
       "      <td>0.0</td>\n",
       "      <td>...</td>\n",
       "      <td>0.0</td>\n",
       "      <td>0.0</td>\n",
       "      <td>0.0</td>\n",
       "      <td>0.0</td>\n",
       "      <td>0.0</td>\n",
       "      <td>0.0</td>\n",
       "      <td>0.0</td>\n",
       "      <td>0.0</td>\n",
       "      <td>0.0</td>\n",
       "      <td>0.0</td>\n",
       "    </tr>\n",
       "    <tr>\n",
       "      <th>L04</th>\n",
       "      <td>0.0</td>\n",
       "      <td>0.0</td>\n",
       "      <td>0.0</td>\n",
       "      <td>0.0</td>\n",
       "      <td>0.0</td>\n",
       "      <td>0.0</td>\n",
       "      <td>0.0</td>\n",
       "      <td>0.0</td>\n",
       "      <td>0.0</td>\n",
       "      <td>0.0</td>\n",
       "      <td>...</td>\n",
       "      <td>0.0</td>\n",
       "      <td>0.0</td>\n",
       "      <td>0.0</td>\n",
       "      <td>0.0</td>\n",
       "      <td>0.0</td>\n",
       "      <td>0.0</td>\n",
       "      <td>0.0</td>\n",
       "      <td>0.0</td>\n",
       "      <td>0.0</td>\n",
       "      <td>0.0</td>\n",
       "    </tr>\n",
       "    <tr>\n",
       "      <th>L05</th>\n",
       "      <td>0.0</td>\n",
       "      <td>0.0</td>\n",
       "      <td>0.0</td>\n",
       "      <td>0.0</td>\n",
       "      <td>0.0</td>\n",
       "      <td>0.0</td>\n",
       "      <td>0.0</td>\n",
       "      <td>0.0</td>\n",
       "      <td>0.0</td>\n",
       "      <td>0.0</td>\n",
       "      <td>...</td>\n",
       "      <td>0.0</td>\n",
       "      <td>0.0</td>\n",
       "      <td>0.0</td>\n",
       "      <td>0.0</td>\n",
       "      <td>0.0</td>\n",
       "      <td>0.0</td>\n",
       "      <td>0.0</td>\n",
       "      <td>0.0</td>\n",
       "      <td>0.0</td>\n",
       "      <td>0.0</td>\n",
       "    </tr>\n",
       "    <tr>\n",
       "      <th>L06</th>\n",
       "      <td>0.0</td>\n",
       "      <td>0.0</td>\n",
       "      <td>0.0</td>\n",
       "      <td>0.0</td>\n",
       "      <td>0.0</td>\n",
       "      <td>0.0</td>\n",
       "      <td>0.0</td>\n",
       "      <td>0.0</td>\n",
       "      <td>0.0</td>\n",
       "      <td>0.0</td>\n",
       "      <td>...</td>\n",
       "      <td>0.0</td>\n",
       "      <td>0.0</td>\n",
       "      <td>0.0</td>\n",
       "      <td>0.0</td>\n",
       "      <td>0.0</td>\n",
       "      <td>0.0</td>\n",
       "      <td>0.0</td>\n",
       "      <td>0.0</td>\n",
       "      <td>0.0</td>\n",
       "      <td>0.0</td>\n",
       "    </tr>\n",
       "  </tbody>\n",
       "</table>\n",
       "<p>5 rows × 27000 columns</p>\n",
       "</div>"
      ],
      "text/plain": [
       "    0     1     2     3     4     5     6     7     8     9      ... 26990  \\\n",
       "L01   0.0   0.0   0.0   0.0   0.0   0.0   0.0   0.0   0.0   0.0  ...   0.0   \n",
       "L02   0.0   0.0   0.0   0.0   0.0   0.0   0.0   0.0   0.0   0.0  ...   0.0   \n",
       "L04   0.0   0.0   0.0   0.0   0.0   0.0   0.0   0.0   0.0   0.0  ...   0.0   \n",
       "L05   0.0   0.0   0.0   0.0   0.0   0.0   0.0   0.0   0.0   0.0  ...   0.0   \n",
       "L06   0.0   0.0   0.0   0.0   0.0   0.0   0.0   0.0   0.0   0.0  ...   0.0   \n",
       "\n",
       "    26991 26992 26993 26994 26995 26996 26997 26998 26999  \n",
       "L01   0.0   0.0   0.0   0.0   0.0   0.0   0.0   0.0   0.0  \n",
       "L02   0.0   0.0   0.0   0.0   0.0   0.0   0.0   0.0   0.0  \n",
       "L04   0.0   0.0   0.0   0.0   0.0   0.0   0.0   0.0   0.0  \n",
       "L05   0.0   0.0   0.0   0.0   0.0   0.0   0.0   0.0   0.0  \n",
       "L06   0.0   0.0   0.0   0.0   0.0   0.0   0.0   0.0   0.0  \n",
       "\n",
       "[5 rows x 27000 columns]"
      ]
     },
     "execution_count": 17,
     "metadata": {},
     "output_type": "execute_result"
    }
   ],
   "source": [
    "data.head()"
   ]
  },
  {
   "cell_type": "code",
   "execution_count": 32,
   "id": "027cb8c6",
   "metadata": {
    "ExecuteTime": {
     "end_time": "2021-07-03T15:01:30.381507Z",
     "start_time": "2021-07-03T15:01:29.736188Z"
    }
   },
   "outputs": [
    {
     "name": "stdout",
     "output_type": "stream",
     "text": [
      "(39, 30, 30, 30, 1)\n"
     ]
    }
   ],
   "source": [
    "# turn data frame into 5-dimensional array (n_molecules,x,y,z,1 (size of ESP value)) array for keras input \n",
    "data_arr_5d = np.empty((n_molecules,dim_x,dim_y,dim_z,1),dtype=np.float32)\n",
    "for i,l in enumerate(ligands):\n",
    "    data_arr_5d[i] = np.reshape(data.loc[l].values, (dim_x,dim_y,dim_z,1))\n",
    "# print(data_arr_5d[0])\n",
    "print(data_arr_5d.shape)"
   ]
  },
  {
   "cell_type": "code",
   "execution_count": 34,
   "id": "415a3c41",
   "metadata": {
    "ExecuteTime": {
     "end_time": "2021-07-03T15:01:37.526951Z",
     "start_time": "2021-07-03T15:01:37.495411Z"
    }
   },
   "outputs": [
    {
     "data": {
      "text/plain": [
       "array([[[[[ 0.        ],\n",
       "          [ 0.        ],\n",
       "          [ 0.        ],\n",
       "          ...,\n",
       "          [ 0.        ],\n",
       "          [ 0.        ],\n",
       "          [ 0.        ]],\n",
       "\n",
       "         [[ 0.        ],\n",
       "          [ 0.        ],\n",
       "          [ 0.        ],\n",
       "          ...,\n",
       "          [ 0.        ],\n",
       "          [ 0.        ],\n",
       "          [ 0.        ]],\n",
       "\n",
       "         [[ 0.        ],\n",
       "          [ 0.        ],\n",
       "          [ 0.        ],\n",
       "          ...,\n",
       "          [ 0.        ],\n",
       "          [ 0.        ],\n",
       "          [ 0.        ]],\n",
       "\n",
       "         ...,\n",
       "\n",
       "         [[-0.7290337 ],\n",
       "          [-0.72679406],\n",
       "          [-0.7075821 ],\n",
       "          ...,\n",
       "          [-0.749186  ],\n",
       "          [-0.7540571 ],\n",
       "          [-0.75166464]],\n",
       "\n",
       "         [[-0.7439734 ],\n",
       "          [-0.7364121 ],\n",
       "          [-0.7216466 ],\n",
       "          ...,\n",
       "          [-0.8077708 ],\n",
       "          [-0.8130543 ],\n",
       "          [-0.8102467 ]],\n",
       "\n",
       "         [[ 0.        ],\n",
       "          [ 0.        ],\n",
       "          [ 0.        ],\n",
       "          ...,\n",
       "          [ 0.        ],\n",
       "          [ 0.        ],\n",
       "          [ 0.        ]]],\n",
       "\n",
       "\n",
       "        [[[ 0.        ],\n",
       "          [ 0.        ],\n",
       "          [ 0.        ],\n",
       "          ...,\n",
       "          [ 0.        ],\n",
       "          [ 0.        ],\n",
       "          [ 0.        ]],\n",
       "\n",
       "         [[ 0.        ],\n",
       "          [ 0.        ],\n",
       "          [ 0.        ],\n",
       "          ...,\n",
       "          [ 0.        ],\n",
       "          [ 0.        ],\n",
       "          [ 0.        ]],\n",
       "\n",
       "         [[ 0.        ],\n",
       "          [ 0.        ],\n",
       "          [ 0.        ],\n",
       "          ...,\n",
       "          [ 0.        ],\n",
       "          [ 0.        ],\n",
       "          [ 0.        ]],\n",
       "\n",
       "         ...,\n",
       "\n",
       "         [[-0.8145769 ],\n",
       "          [-0.8272975 ],\n",
       "          [-0.833407  ],\n",
       "          ...,\n",
       "          [-0.70876396],\n",
       "          [-0.72537476],\n",
       "          [-0.74625623]],\n",
       "\n",
       "         [[-0.8514802 ],\n",
       "          [-0.8597704 ],\n",
       "          [-0.86354345],\n",
       "          ...,\n",
       "          [-0.7507476 ],\n",
       "          [-0.7685886 ],\n",
       "          [-0.78641003]],\n",
       "\n",
       "         [[ 0.        ],\n",
       "          [ 0.        ],\n",
       "          [ 0.        ],\n",
       "          ...,\n",
       "          [ 0.        ],\n",
       "          [ 0.        ],\n",
       "          [ 0.        ]]],\n",
       "\n",
       "\n",
       "        [[[ 0.        ],\n",
       "          [ 0.        ],\n",
       "          [ 0.        ],\n",
       "          ...,\n",
       "          [ 0.        ],\n",
       "          [ 0.        ],\n",
       "          [ 0.        ]],\n",
       "\n",
       "         [[ 0.        ],\n",
       "          [ 0.        ],\n",
       "          [ 0.        ],\n",
       "          ...,\n",
       "          [ 0.        ],\n",
       "          [ 0.        ],\n",
       "          [ 0.        ]],\n",
       "\n",
       "         [[ 0.        ],\n",
       "          [ 0.        ],\n",
       "          [ 0.        ],\n",
       "          ...,\n",
       "          [ 0.        ],\n",
       "          [ 0.        ],\n",
       "          [ 0.        ]],\n",
       "\n",
       "         ...,\n",
       "\n",
       "         [[-0.73332494],\n",
       "          [-0.7520209 ],\n",
       "          [-0.7652363 ],\n",
       "          ...,\n",
       "          [-0.71740615],\n",
       "          [-0.6993064 ],\n",
       "          [-0.688308  ]],\n",
       "\n",
       "         [[-0.77828866],\n",
       "          [-0.78037274],\n",
       "          [-0.7892974 ],\n",
       "          ...,\n",
       "          [-0.7137453 ],\n",
       "          [-0.71077716],\n",
       "          [-0.72071195]],\n",
       "\n",
       "         [[ 0.        ],\n",
       "          [ 0.        ],\n",
       "          [ 0.        ],\n",
       "          ...,\n",
       "          [ 0.        ],\n",
       "          [ 0.        ],\n",
       "          [ 0.        ]]],\n",
       "\n",
       "\n",
       "        ...,\n",
       "\n",
       "\n",
       "        [[[ 0.        ],\n",
       "          [ 0.        ],\n",
       "          [ 0.        ],\n",
       "          ...,\n",
       "          [ 0.        ],\n",
       "          [ 0.        ],\n",
       "          [ 0.        ]],\n",
       "\n",
       "         [[ 0.        ],\n",
       "          [ 0.        ],\n",
       "          [ 0.        ],\n",
       "          ...,\n",
       "          [ 0.        ],\n",
       "          [ 0.        ],\n",
       "          [ 0.        ]],\n",
       "\n",
       "         [[ 0.        ],\n",
       "          [ 0.        ],\n",
       "          [ 0.        ],\n",
       "          ...,\n",
       "          [ 0.        ],\n",
       "          [ 0.        ],\n",
       "          [ 0.        ]],\n",
       "\n",
       "         ...,\n",
       "\n",
       "         [[ 0.        ],\n",
       "          [ 0.        ],\n",
       "          [ 0.        ],\n",
       "          ...,\n",
       "          [ 0.        ],\n",
       "          [ 0.        ],\n",
       "          [ 0.        ]],\n",
       "\n",
       "         [[ 0.        ],\n",
       "          [ 0.        ],\n",
       "          [ 0.        ],\n",
       "          ...,\n",
       "          [ 0.        ],\n",
       "          [ 0.        ],\n",
       "          [ 0.        ]],\n",
       "\n",
       "         [[ 0.        ],\n",
       "          [ 0.        ],\n",
       "          [ 0.        ],\n",
       "          ...,\n",
       "          [ 0.        ],\n",
       "          [ 0.        ],\n",
       "          [ 0.        ]]],\n",
       "\n",
       "\n",
       "        [[[ 0.        ],\n",
       "          [ 0.        ],\n",
       "          [ 0.        ],\n",
       "          ...,\n",
       "          [ 0.        ],\n",
       "          [ 0.        ],\n",
       "          [ 0.        ]],\n",
       "\n",
       "         [[ 0.        ],\n",
       "          [ 0.        ],\n",
       "          [ 0.        ],\n",
       "          ...,\n",
       "          [ 0.        ],\n",
       "          [ 0.        ],\n",
       "          [ 0.        ]],\n",
       "\n",
       "         [[ 0.        ],\n",
       "          [ 0.        ],\n",
       "          [ 0.        ],\n",
       "          ...,\n",
       "          [ 0.        ],\n",
       "          [ 0.        ],\n",
       "          [ 0.        ]],\n",
       "\n",
       "         ...,\n",
       "\n",
       "         [[ 0.        ],\n",
       "          [ 0.        ],\n",
       "          [ 0.        ],\n",
       "          ...,\n",
       "          [ 0.        ],\n",
       "          [ 0.        ],\n",
       "          [ 0.        ]],\n",
       "\n",
       "         [[ 0.        ],\n",
       "          [ 0.        ],\n",
       "          [ 0.        ],\n",
       "          ...,\n",
       "          [ 0.        ],\n",
       "          [ 0.        ],\n",
       "          [ 0.        ]],\n",
       "\n",
       "         [[ 0.        ],\n",
       "          [ 0.        ],\n",
       "          [ 0.        ],\n",
       "          ...,\n",
       "          [ 0.        ],\n",
       "          [ 0.        ],\n",
       "          [ 0.        ]]],\n",
       "\n",
       "\n",
       "        [[[ 0.        ],\n",
       "          [ 0.        ],\n",
       "          [ 0.        ],\n",
       "          ...,\n",
       "          [ 0.        ],\n",
       "          [ 0.        ],\n",
       "          [ 0.        ]],\n",
       "\n",
       "         [[ 0.        ],\n",
       "          [ 0.        ],\n",
       "          [ 0.        ],\n",
       "          ...,\n",
       "          [ 0.        ],\n",
       "          [ 0.        ],\n",
       "          [ 0.        ]],\n",
       "\n",
       "         [[ 0.        ],\n",
       "          [ 0.        ],\n",
       "          [ 0.        ],\n",
       "          ...,\n",
       "          [ 0.        ],\n",
       "          [ 0.        ],\n",
       "          [ 0.        ]],\n",
       "\n",
       "         ...,\n",
       "\n",
       "         [[ 0.        ],\n",
       "          [ 0.        ],\n",
       "          [ 0.        ],\n",
       "          ...,\n",
       "          [ 0.        ],\n",
       "          [ 0.        ],\n",
       "          [ 0.        ]],\n",
       "\n",
       "         [[ 0.        ],\n",
       "          [ 0.        ],\n",
       "          [ 0.        ],\n",
       "          ...,\n",
       "          [ 0.        ],\n",
       "          [ 0.        ],\n",
       "          [ 0.        ]],\n",
       "\n",
       "         [[ 0.        ],\n",
       "          [ 0.        ],\n",
       "          [ 0.        ],\n",
       "          ...,\n",
       "          [ 0.        ],\n",
       "          [ 0.        ],\n",
       "          [ 0.        ]]]],\n",
       "\n",
       "\n",
       "\n",
       "       [[[[ 0.        ],\n",
       "          [ 0.        ],\n",
       "          [ 0.        ],\n",
       "          ...,\n",
       "          [ 0.        ],\n",
       "          [ 0.        ],\n",
       "          [ 0.        ]],\n",
       "\n",
       "         [[ 0.        ],\n",
       "          [ 0.        ],\n",
       "          [ 0.        ],\n",
       "          ...,\n",
       "          [ 0.        ],\n",
       "          [ 0.        ],\n",
       "          [ 0.        ]],\n",
       "\n",
       "         [[ 0.        ],\n",
       "          [ 0.        ],\n",
       "          [ 0.        ],\n",
       "          ...,\n",
       "          [ 0.        ],\n",
       "          [ 0.        ],\n",
       "          [ 0.        ]],\n",
       "\n",
       "         ...,\n",
       "\n",
       "         [[-0.35921872],\n",
       "          [-0.35376188],\n",
       "          [-0.347423  ],\n",
       "          ...,\n",
       "          [-0.37381488],\n",
       "          [-0.38252038],\n",
       "          [-0.38043478]],\n",
       "\n",
       "         [[-0.34299487],\n",
       "          [-0.34988067],\n",
       "          [-0.343639  ],\n",
       "          ...,\n",
       "          [-0.45950687],\n",
       "          [-0.45528638],\n",
       "          [-0.44563222]],\n",
       "\n",
       "         [[ 0.        ],\n",
       "          [ 0.        ],\n",
       "          [ 0.        ],\n",
       "          ...,\n",
       "          [ 0.        ],\n",
       "          [ 0.        ],\n",
       "          [ 0.        ]]],\n",
       "\n",
       "\n",
       "        [[[ 0.        ],\n",
       "          [ 0.        ],\n",
       "          [ 0.        ],\n",
       "          ...,\n",
       "          [ 0.        ],\n",
       "          [ 0.        ],\n",
       "          [ 0.        ]],\n",
       "\n",
       "         [[ 0.        ],\n",
       "          [ 0.        ],\n",
       "          [ 0.        ],\n",
       "          ...,\n",
       "          [ 0.        ],\n",
       "          [ 0.        ],\n",
       "          [ 0.        ]],\n",
       "\n",
       "         [[ 0.        ],\n",
       "          [ 0.        ],\n",
       "          [ 0.        ],\n",
       "          ...,\n",
       "          [ 0.        ],\n",
       "          [ 0.        ],\n",
       "          [ 0.        ]],\n",
       "\n",
       "         ...,\n",
       "\n",
       "         [[-0.39649922],\n",
       "          [-0.39809042],\n",
       "          [-0.3977718 ],\n",
       "          ...,\n",
       "          [-0.37742463],\n",
       "          [-0.38094267],\n",
       "          [-0.38913122]],\n",
       "\n",
       "         [[-0.4706442 ],\n",
       "          [-0.48089233],\n",
       "          [-0.47810033],\n",
       "          ...,\n",
       "          [-0.4724958 ],\n",
       "          [-0.48574182],\n",
       "          [-0.496971  ]],\n",
       "\n",
       "         [[ 0.        ],\n",
       "          [ 0.        ],\n",
       "          [ 0.        ],\n",
       "          ...,\n",
       "          [ 0.        ],\n",
       "          [ 0.        ],\n",
       "          [ 0.        ]]],\n",
       "\n",
       "\n",
       "        [[[ 0.        ],\n",
       "          [ 0.        ],\n",
       "          [ 0.        ],\n",
       "          ...,\n",
       "          [ 0.        ],\n",
       "          [ 0.        ],\n",
       "          [ 0.        ]],\n",
       "\n",
       "         [[ 0.        ],\n",
       "          [ 0.        ],\n",
       "          [ 0.        ],\n",
       "          ...,\n",
       "          [ 0.        ],\n",
       "          [ 0.        ],\n",
       "          [ 0.        ]],\n",
       "\n",
       "         [[ 0.        ],\n",
       "          [ 0.        ],\n",
       "          [ 0.        ],\n",
       "          ...,\n",
       "          [ 0.        ],\n",
       "          [ 0.        ],\n",
       "          [ 0.        ]],\n",
       "\n",
       "         ...,\n",
       "\n",
       "         [[-0.37812793],\n",
       "          [-0.39903715],\n",
       "          [-0.40723693],\n",
       "          ...,\n",
       "          [-0.34810197],\n",
       "          [-0.37894076],\n",
       "          [-0.38986164]],\n",
       "\n",
       "         [[-0.48446816],\n",
       "          [-0.498277  ],\n",
       "          [-0.5124047 ],\n",
       "          ...,\n",
       "          [-0.3864087 ],\n",
       "          [-0.4000898 ],\n",
       "          [-0.41234422]],\n",
       "\n",
       "         [[ 0.        ],\n",
       "          [ 0.        ],\n",
       "          [ 0.        ],\n",
       "          ...,\n",
       "          [ 0.        ],\n",
       "          [ 0.        ],\n",
       "          [ 0.        ]]],\n",
       "\n",
       "\n",
       "        ...,\n",
       "\n",
       "\n",
       "        [[[ 0.        ],\n",
       "          [ 0.        ],\n",
       "          [ 0.        ],\n",
       "          ...,\n",
       "          [ 0.        ],\n",
       "          [ 0.        ],\n",
       "          [ 0.        ]],\n",
       "\n",
       "         [[ 0.        ],\n",
       "          [ 0.        ],\n",
       "          [ 0.        ],\n",
       "          ...,\n",
       "          [ 0.        ],\n",
       "          [ 0.        ],\n",
       "          [ 0.        ]],\n",
       "\n",
       "         [[ 0.        ],\n",
       "          [ 0.        ],\n",
       "          [ 0.        ],\n",
       "          ...,\n",
       "          [ 0.        ],\n",
       "          [ 0.        ],\n",
       "          [ 0.        ]],\n",
       "\n",
       "         ...,\n",
       "\n",
       "         [[ 0.        ],\n",
       "          [ 0.        ],\n",
       "          [ 0.        ],\n",
       "          ...,\n",
       "          [ 0.        ],\n",
       "          [ 0.        ],\n",
       "          [ 0.        ]],\n",
       "\n",
       "         [[ 0.        ],\n",
       "          [ 0.        ],\n",
       "          [ 0.        ],\n",
       "          ...,\n",
       "          [ 0.        ],\n",
       "          [ 0.        ],\n",
       "          [ 0.        ]],\n",
       "\n",
       "         [[ 0.        ],\n",
       "          [ 0.        ],\n",
       "          [ 0.        ],\n",
       "          ...,\n",
       "          [ 0.        ],\n",
       "          [ 0.        ],\n",
       "          [ 0.        ]]],\n",
       "\n",
       "\n",
       "        [[[ 0.        ],\n",
       "          [ 0.        ],\n",
       "          [ 0.        ],\n",
       "          ...,\n",
       "          [ 0.        ],\n",
       "          [ 0.        ],\n",
       "          [ 0.        ]],\n",
       "\n",
       "         [[ 0.        ],\n",
       "          [ 0.        ],\n",
       "          [ 0.        ],\n",
       "          ...,\n",
       "          [ 0.        ],\n",
       "          [ 0.        ],\n",
       "          [ 0.        ]],\n",
       "\n",
       "         [[ 0.        ],\n",
       "          [ 0.        ],\n",
       "          [ 0.        ],\n",
       "          ...,\n",
       "          [ 0.        ],\n",
       "          [ 0.        ],\n",
       "          [ 0.        ]],\n",
       "\n",
       "         ...,\n",
       "\n",
       "         [[ 0.        ],\n",
       "          [ 0.        ],\n",
       "          [ 0.        ],\n",
       "          ...,\n",
       "          [ 0.        ],\n",
       "          [ 0.        ],\n",
       "          [ 0.        ]],\n",
       "\n",
       "         [[ 0.        ],\n",
       "          [ 0.        ],\n",
       "          [ 0.        ],\n",
       "          ...,\n",
       "          [ 0.        ],\n",
       "          [ 0.        ],\n",
       "          [ 0.        ]],\n",
       "\n",
       "         [[ 0.        ],\n",
       "          [ 0.        ],\n",
       "          [ 0.        ],\n",
       "          ...,\n",
       "          [ 0.        ],\n",
       "          [ 0.        ],\n",
       "          [ 0.        ]]],\n",
       "\n",
       "\n",
       "        [[[ 0.        ],\n",
       "          [ 0.        ],\n",
       "          [ 0.        ],\n",
       "          ...,\n",
       "          [ 0.        ],\n",
       "          [ 0.        ],\n",
       "          [ 0.        ]],\n",
       "\n",
       "         [[ 0.        ],\n",
       "          [ 0.        ],\n",
       "          [ 0.        ],\n",
       "          ...,\n",
       "          [ 0.        ],\n",
       "          [ 0.        ],\n",
       "          [ 0.        ]],\n",
       "\n",
       "         [[ 0.        ],\n",
       "          [ 0.        ],\n",
       "          [ 0.        ],\n",
       "          ...,\n",
       "          [ 0.        ],\n",
       "          [ 0.        ],\n",
       "          [ 0.        ]],\n",
       "\n",
       "         ...,\n",
       "\n",
       "         [[ 0.        ],\n",
       "          [ 0.        ],\n",
       "          [ 0.        ],\n",
       "          ...,\n",
       "          [ 0.        ],\n",
       "          [ 0.        ],\n",
       "          [ 0.        ]],\n",
       "\n",
       "         [[ 0.        ],\n",
       "          [ 0.        ],\n",
       "          [ 0.        ],\n",
       "          ...,\n",
       "          [ 0.        ],\n",
       "          [ 0.        ],\n",
       "          [ 0.        ]],\n",
       "\n",
       "         [[ 0.        ],\n",
       "          [ 0.        ],\n",
       "          [ 0.        ],\n",
       "          ...,\n",
       "          [ 0.        ],\n",
       "          [ 0.        ],\n",
       "          [ 0.        ]]]]], dtype=float32)"
      ]
     },
     "execution_count": 34,
     "metadata": {},
     "output_type": "execute_result"
    }
   ],
   "source": [
    "data_arr_5d[0:2]"
   ]
  },
  {
   "cell_type": "code",
   "execution_count": 35,
   "id": "1a736a16",
   "metadata": {
    "ExecuteTime": {
     "end_time": "2021-07-03T15:01:51.523965Z",
     "start_time": "2021-07-03T15:01:51.497758Z"
    },
    "scrolled": true
   },
   "outputs": [
    {
     "data": {
      "text/plain": [
       "x      13.0\n",
       "y      14.0\n",
       "z      14.0\n",
       "esp     0.0\n",
       "Name: 26998, dtype: float64"
      ]
     },
     "execution_count": 35,
     "metadata": {},
     "output_type": "execute_result"
    }
   ],
   "source": [
    "sample_file.iloc[-1]"
   ]
  },
  {
   "cell_type": "code",
   "execution_count": 45,
   "id": "5d3ad0ca",
   "metadata": {
    "ExecuteTime": {
     "end_time": "2021-07-03T15:24:31.764451Z",
     "start_time": "2021-07-03T15:24:31.685933Z"
    }
   },
   "outputs": [],
   "source": [
    "model = Sequential()\n",
    "model.add(Conv3D(n_molecules,kernel_size=10,activation='relu',input_shape=(dim_x,dim_y,dim_z,1)))\n",
    "model.add(Flatten())\n",
    "model.add(Dense(3,activation='softmax'))"
   ]
  },
  {
   "cell_type": "code",
   "execution_count": 46,
   "id": "1b3d35f3",
   "metadata": {
    "ExecuteTime": {
     "end_time": "2021-07-03T15:24:32.306004Z",
     "start_time": "2021-07-03T15:24:32.294797Z"
    }
   },
   "outputs": [],
   "source": [
    "model.compile(optimizer='adam',loss='MSE')"
   ]
  },
  {
   "cell_type": "code",
   "execution_count": 42,
   "id": "38cd0b5d",
   "metadata": {
    "ExecuteTime": {
     "end_time": "2021-07-03T15:20:31.705515Z",
     "start_time": "2021-07-03T15:20:31.671423Z"
    }
   },
   "outputs": [
    {
     "data": {
      "text/plain": [
       "array([[83.3,  8.9,  7.9],\n",
       "       [70.8, 18.4, 10.8]])"
      ]
     },
     "execution_count": 42,
     "metadata": {},
     "output_type": "execute_result"
    }
   ],
   "source": [
    "yields_arr = yields.values\n",
    "yields.values[0:2]"
   ]
  },
  {
   "cell_type": "code",
   "execution_count": 47,
   "id": "0680aa50",
   "metadata": {
    "ExecuteTime": {
     "end_time": "2021-07-03T15:24:46.988493Z",
     "start_time": "2021-07-03T15:24:36.469026Z"
    }
   },
   "outputs": [
    {
     "name": "stdout",
     "output_type": "stream",
     "text": [
      "Epoch 1/3\n",
      "1/1 [==============================] - 4s 4s/step - loss: 1834.3483 - val_loss: 1852.3362\n",
      "Epoch 2/3\n",
      "1/1 [==============================] - 3s 3s/step - loss: 1821.7621 - val_loss: 1852.3362\n",
      "Epoch 3/3\n",
      "1/1 [==============================] - 3s 3s/step - loss: 1821.7620 - val_loss: 1852.3362\n"
     ]
    },
    {
     "data": {
      "text/plain": [
       "<tensorflow.python.keras.callbacks.History at 0x7b140257a3a0>"
      ]
     },
     "execution_count": 47,
     "metadata": {},
     "output_type": "execute_result"
    }
   ],
   "source": [
    "model.fit(data_arr_5d,\n",
    "          yields_arr,\n",
    "          validation_split=0.2,\n",
    "          epochs=3)"
   ]
  },
  {
   "cell_type": "code",
   "execution_count": 49,
   "id": "d21f719c",
   "metadata": {
    "ExecuteTime": {
     "end_time": "2021-07-03T15:25:21.991526Z",
     "start_time": "2021-07-03T15:25:21.180855Z"
    }
   },
   "outputs": [
    {
     "name": "stdout",
     "output_type": "stream",
     "text": [
      "2/2 [==============================] - 1s 219ms/step - loss: 1828.0337\n"
     ]
    },
    {
     "data": {
      "text/plain": [
       "1828.03369140625"
      ]
     },
     "execution_count": 49,
     "metadata": {},
     "output_type": "execute_result"
    }
   ],
   "source": [
    "model.evaluate(data_arr_5d,yields_arr)"
   ]
  },
  {
   "cell_type": "code",
   "execution_count": null,
   "id": "efc5c460",
   "metadata": {},
   "outputs": [],
   "source": []
  }
 ],
 "metadata": {
  "kernelspec": {
   "display_name": "Python 3",
   "language": "python",
   "name": "python3"
  },
  "language_info": {
   "codemirror_mode": {
    "name": "ipython",
    "version": 3
   },
   "file_extension": ".py",
   "mimetype": "text/x-python",
   "name": "python",
   "nbconvert_exporter": "python",
   "pygments_lexer": "ipython3",
   "version": "3.9.5"
  },
  "toc": {
   "base_numbering": 1,
   "nav_menu": {},
   "number_sections": true,
   "sideBar": true,
   "skip_h1_title": false,
   "title_cell": "Table of Contents",
   "title_sidebar": "Contents",
   "toc_cell": false,
   "toc_position": {},
   "toc_section_display": true,
   "toc_window_display": false
  },
  "varInspector": {
   "cols": {
    "lenName": 16,
    "lenType": 16,
    "lenVar": 40
   },
   "kernels_config": {
    "python": {
     "delete_cmd_postfix": "",
     "delete_cmd_prefix": "del ",
     "library": "var_list.py",
     "varRefreshCmd": "print(var_dic_list())"
    },
    "r": {
     "delete_cmd_postfix": ") ",
     "delete_cmd_prefix": "rm(",
     "library": "var_list.r",
     "varRefreshCmd": "cat(var_dic_list()) "
    }
   },
   "types_to_exclude": [
    "module",
    "function",
    "builtin_function_or_method",
    "instance",
    "_Feature"
   ],
   "window_display": false
  }
 },
 "nbformat": 4,
 "nbformat_minor": 5
}
