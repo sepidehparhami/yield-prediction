{
 "cells": [
  {
   "cell_type": "code",
   "execution_count": null,
   "id": "009ce1f8",
   "metadata": {},
   "outputs": [],
   "source": [
    "# TODO:\n",
    "# stratify continuous target https://michaeljsanders.com/2017/03/24/stratify-continuous-variable.html\n",
    "# cross validation https://www.machinecurve.com/index.php/2020/02/18/how-to-use-k-fold-cross-validation-with-keras/\n",
    "# https://stats.stackexchange.com/questions/187335/validation-error-less-than-training-error"
   ]
  },
  {
   "cell_type": "code",
   "execution_count": null,
   "id": "94fa390e",
   "metadata": {
    "ExecuteTime": {
     "start_time": "2021-07-17T15:59:35.968Z"
    }
   },
   "outputs": [
    {
     "name": "stdout",
     "output_type": "stream",
     "text": [
      "/home/sepidehparhami/tutoring/Research Project/yield-prediction\n"
     ]
    }
   ],
   "source": [
    "import os\n",
    "print(os.getcwd())\n",
    "import numpy as np\n",
    "import pandas as pd\n",
    "from sklearn.linear_model import LinearRegression\n",
    "from sklearn.model_selection import train_test_split\n",
    "from sklearn.metrics import mean_squared_error, r2_score"
   ]
  },
  {
   "cell_type": "code",
   "execution_count": 6,
   "id": "bc3768ad",
   "metadata": {
    "ExecuteTime": {
     "end_time": "2021-07-17T15:46:12.965531Z",
     "start_time": "2021-07-17T15:46:12.965531Z"
    }
   },
   "outputs": [],
   "source": [
    "import keras\n",
    "from keras.models import Sequential\n",
    "from keras.layers import Dense, Conv3D, Flatten\n",
    "from keras.callbacks import History \n",
    "import tensorflow as tf"
   ]
  },
  {
   "cell_type": "code",
   "execution_count": 7,
   "id": "5f3f3d2e",
   "metadata": {
    "ExecuteTime": {
     "end_time": "2021-07-17T15:46:12.965531Z",
     "start_time": "2021-07-17T15:46:12.965531Z"
    }
   },
   "outputs": [],
   "source": [
    "import matplotlib.pyplot as plt\n",
    "%matplotlib inline\n",
    "%matplotlib notebook"
   ]
  },
  {
   "cell_type": "code",
   "execution_count": 8,
   "id": "0f8854fa",
   "metadata": {
    "ExecuteTime": {
     "end_time": "2021-07-17T15:46:12.965531Z",
     "start_time": "2021-07-17T15:46:12.965531Z"
    }
   },
   "outputs": [],
   "source": [
    "yields = pd.read_csv(r'../yield.txt', delim_whitespace=True, index_col=0)"
   ]
  },
  {
   "cell_type": "code",
   "execution_count": null,
   "id": "85fe871e",
   "metadata": {
    "ExecuteTime": {
     "end_time": "2021-07-17T15:43:12.005957Z",
     "start_time": "2021-07-17T15:42:06.822Z"
    }
   },
   "outputs": [],
   "source": [
    "ligands = list(yields.index)"
   ]
  },
  {
   "cell_type": "code",
   "execution_count": null,
   "id": "9c5482c5",
   "metadata": {
    "ExecuteTime": {
     "end_time": "2021-07-17T15:43:12.034990Z",
     "start_time": "2021-07-17T15:42:07.136Z"
    }
   },
   "outputs": [],
   "source": [
    "sample_file = pd.read_csv('../data/ESP allPoints_L01-DPPF.txt_interpolated.txt')\n",
    "sample_file.columns = ('x', 'y', 'z', 'esp')"
   ]
  },
  {
   "cell_type": "code",
   "execution_count": null,
   "id": "3a039702",
   "metadata": {
    "ExecuteTime": {
     "end_time": "2021-07-17T15:43:12.048666Z",
     "start_time": "2021-07-17T15:42:07.601Z"
    }
   },
   "outputs": [],
   "source": [
    "sample_file.shape"
   ]
  },
  {
   "cell_type": "code",
   "execution_count": null,
   "id": "b3cc24ae",
   "metadata": {
    "ExecuteTime": {
     "end_time": "2021-07-17T15:43:12.059908Z",
     "start_time": "2021-07-17T15:42:07.955Z"
    },
    "scrolled": false
   },
   "outputs": [],
   "source": [
    "sample_file.iloc[-1]"
   ]
  },
  {
   "cell_type": "code",
   "execution_count": null,
   "id": "99d39eb3",
   "metadata": {
    "ExecuteTime": {
     "end_time": "2021-07-17T15:43:12.072572Z",
     "start_time": "2021-07-17T15:42:08.329Z"
    }
   },
   "outputs": [],
   "source": [
    "n_molecules = yields.shape[0]\n",
    "n_coords = sample_file.shape[0]\n",
    "dim_x, dim_y, dim_z = (len(np.unique(sample_file[data_axis])) for data_axis in ['x','y','z'])"
   ]
  },
  {
   "cell_type": "code",
   "execution_count": null,
   "id": "a3cf3a84",
   "metadata": {
    "ExecuteTime": {
     "end_time": "2021-07-17T15:43:12.084839Z",
     "start_time": "2021-07-17T15:42:08.586Z"
    }
   },
   "outputs": [],
   "source": [
    "# initialize a data frame and fill in ESPs from file\n",
    "\n",
    "data = pd.DataFrame(index = ligands, columns=range(n_coords+1))"
   ]
  },
  {
   "cell_type": "code",
   "execution_count": null,
   "id": "98ef17ed",
   "metadata": {
    "ExecuteTime": {
     "end_time": "2021-07-17T15:37:49.275414Z",
     "start_time": "2021-07-17T15:35:43.934Z"
    }
   },
   "outputs": [],
   "source": [
    "directory = '../data' \n",
    "      \n",
    "for i,filename in enumerate(os.listdir(directory)):\n",
    "    # print(i+1,'of',n_molecules)\n",
    "\n",
    "    data_point = pd.read_csv('../data/{}'.format(filename))\n",
    "    data_point.columns = ('x', 'y', 'z', 'esp')\n",
    "    \n",
    "    # print('number coords in file:',data_point.shape[0])\n",
    "\n",
    "    #extract the ligand name from the filename\n",
    "    name_parts = filename.split(\"_\")\n",
    "    if name_parts[1][0] == \"T\":\n",
    "        ligand = name_parts[1][:4]\n",
    "    else:\n",
    "        ligand = name_parts[1][:3]\n",
    "        \n",
    "    #add label and data point to their respective arrays \n",
    "    data.loc[ligand] = data_point['esp']"
   ]
  },
  {
   "cell_type": "code",
   "execution_count": null,
   "id": "69c7b079",
   "metadata": {
    "ExecuteTime": {
     "end_time": "2021-07-17T15:37:49.292056Z",
     "start_time": "2021-07-17T15:35:44.075Z"
    }
   },
   "outputs": [],
   "source": [
    "data[n_coords] = np.zeros(n_molecules,dtype=type(data.iloc[0,0]))"
   ]
  },
  {
   "cell_type": "code",
   "execution_count": null,
   "id": "f94cdc95",
   "metadata": {
    "ExecuteTime": {
     "end_time": "2021-07-17T15:37:49.311841Z",
     "start_time": "2021-07-17T15:35:44.240Z"
    }
   },
   "outputs": [],
   "source": [
    "data.head()"
   ]
  },
  {
   "cell_type": "code",
   "execution_count": null,
   "id": "027cb8c6",
   "metadata": {
    "ExecuteTime": {
     "end_time": "2021-07-17T15:37:49.332788Z",
     "start_time": "2021-07-17T15:35:45.119Z"
    }
   },
   "outputs": [],
   "source": [
    "# turn data frame into 5-dimensional tensror (n_molecules,x,y,z,1 (size of ESP value)) for keras input \n",
    "data_arr_5d = np.empty((n_molecules,dim_x,dim_y,dim_z,1),dtype=np.float32)\n",
    "for i,l in enumerate(ligands):\n",
    "    data_arr_5d[i] = np.reshape(data.loc[l].values, (dim_x,dim_y,dim_z,1))\n",
    "# print(data_arr_5d[0])\n",
    "print(data_arr_5d.shape)"
   ]
  },
  {
   "cell_type": "code",
   "execution_count": null,
   "id": "2073b38d",
   "metadata": {
    "ExecuteTime": {
     "end_time": "2021-07-17T15:37:49.337562Z",
     "start_time": "2021-07-17T15:35:45.423Z"
    }
   },
   "outputs": [],
   "source": [
    "yields_arr = yields.values\n",
    "yields_arr[0:2]"
   ]
  },
  {
   "cell_type": "code",
   "execution_count": null,
   "id": "38fd60f1",
   "metadata": {
    "ExecuteTime": {
     "end_time": "2021-07-17T15:37:49.343152Z",
     "start_time": "2021-07-17T15:35:45.825Z"
    }
   },
   "outputs": [],
   "source": [
    "from sklearn.model_selection import train_test_split\n",
    "X_train, X_test, y_train, y_test = train_test_split(data_arr_5d, yields_arr, test_size=0.15,random_state=42)\n",
    "print(X_train.shape, y_train.shape, X_test.shape, y_test.shape)"
   ]
  },
  {
   "cell_type": "code",
   "execution_count": null,
   "id": "2020ac27",
   "metadata": {
    "ExecuteTime": {
     "start_time": "2021-07-17T15:39:12.438Z"
    }
   },
   "outputs": [],
   "source": [
    "fig = plt.figure(figsize=(10,10))\n",
    "ax = fig.add_subplot(projection='3d')\n",
    "ax.scatter([x[0] for x in y_train],[x[1] for x in y_train],[x[2] for x in y_train],c='blue')\n",
    "ax.scatter([x[0] for x in y_test],[x[1] for x in y_test],[x[2] for x in y_test],c='red')\n",
    "ax.set_xlabel('% Product 3')\n",
    "ax.set_ylabel('% Product 4')\n",
    "ax.set_zlabel('% Product 5')\n",
    "\n",
    "plt.show()"
   ]
  },
  {
   "cell_type": "code",
   "execution_count": null,
   "id": "239f1c24",
   "metadata": {
    "ExecuteTime": {
     "end_time": "2021-07-17T15:37:49.353222Z",
     "start_time": "2021-07-17T15:35:46.907Z"
    }
   },
   "outputs": [],
   "source": [
    "# use tensors for data to be able to use GPU resources\n",
    "X_train_tensor = tf.convert_to_tensor(X_train)\n",
    "X_test_tensor = tf.convert_to_tensor(X_test)\n",
    "y_train_tensor = tf.convert_to_tensor(y_train)\n",
    "y_test_tensor = tf.convert_to_tensor(y_test)"
   ]
  },
  {
   "cell_type": "code",
   "execution_count": null,
   "id": "5d3ad0ca",
   "metadata": {
    "ExecuteTime": {
     "start_time": "2021-07-17T15:33:59.708Z"
    }
   },
   "outputs": [],
   "source": [
    "model = Sequential()\n",
    "leakyrelu = tf.keras.layers.LeakyReLU(alpha=0.1)\n",
    "model.add(Conv3D(n_molecules,kernel_size=3,activation=leakyrelu,input_shape=(dim_x,dim_y,dim_z,1)))\n",
    "model.add(Conv3D(n_molecules,kernel_size=3,activation=leakyrelu,input_shape=(32,32,32,1)))\n",
    "model.add(Conv3D(n_molecules,kernel_size=3,activation=leakyrelu,input_shape=(32,32,32,1)))\n",
    "model.add(Flatten())\n",
    "model.add(Dense(3))\n",
    "model.compile(optimizer='adam',loss='MSE',metrics='MSE')"
   ]
  },
  {
   "cell_type": "code",
   "execution_count": null,
   "id": "b3e17b61",
   "metadata": {
    "ExecuteTime": {
     "start_time": "2021-07-17T15:34:00.092Z"
    }
   },
   "outputs": [],
   "source": [
    "earlystop = tf.keras.callbacks.EarlyStopping(monitor='val_loss', patience=2)\n",
    "model.fit(X_train_tensor,\n",
    "          y_train_tensor,\n",
    "          validation_split=0.2,\n",
    "          callbacks=[earlystop],\n",
    "          epochs=5)"
   ]
  },
  {
   "cell_type": "code",
   "execution_count": null,
   "id": "cba7f3b2",
   "metadata": {
    "ExecuteTime": {
     "start_time": "2021-07-17T15:34:01.308Z"
    }
   },
   "outputs": [],
   "source": [
    "# plot by epoch\n",
    "print(model.history.history.keys())\n",
    "\n",
    "# summarize history for accuracy\n",
    "plt.figure(figsize=(8,8))\n",
    "plt.plot(np.log2(model.history.history['MSE']))\n",
    "plt.plot(np.log2(model.history.history['val_MSE']))\n",
    "plt.title('model log2 MSE')\n",
    "plt.ylabel('log2 MSE')\n",
    "plt.xlabel('epoch')\n",
    "plt.legend(['train', 'val'], loc='upper left')\n",
    "plt.show()\n",
    "# summarize history for loss\n",
    "plt.figure(figsize=(8,8))\n",
    "plt.plot(np.log2(model.history.history['loss']))\n",
    "plt.plot(np.log2(model.history.history['val_loss']))\n",
    "plt.title('model log2 loss')\n",
    "plt.ylabel('log2 loss')\n",
    "plt.xlabel('epoch')\n",
    "plt.legend(['train', 'val'], loc='upper left')\n",
    "plt.show()"
   ]
  },
  {
   "cell_type": "code",
   "execution_count": null,
   "id": "1e346abf",
   "metadata": {
    "ExecuteTime": {
     "start_time": "2021-07-17T15:34:02.701Z"
    }
   },
   "outputs": [],
   "source": [
    "res = model.predict(X_test)\n",
    "res"
   ]
  },
  {
   "cell_type": "code",
   "execution_count": null,
   "id": "d4035bb7",
   "metadata": {
    "ExecuteTime": {
     "start_time": "2021-07-17T15:34:03.328Z"
    }
   },
   "outputs": [],
   "source": [
    "mins = [np.min(y) for y in res]\n",
    "mins_arr = np.zeros(y_test.shape)\n",
    "for row in range(mins_arr.shape[0]):\n",
    "    mins_arr[row] = mins[row]\n",
    "mins_arr"
   ]
  },
  {
   "cell_type": "code",
   "execution_count": null,
   "id": "b5f9d8eb",
   "metadata": {
    "ExecuteTime": {
     "start_time": "2021-07-17T15:34:03.785Z"
    }
   },
   "outputs": [],
   "source": [
    "adj = res+mins_arr\n",
    "rowSums = np.sum(adj, axis=1)\n",
    "rowSums = rowSums.reshape((res.shape[0],1))\n",
    "print(adj/rowSums * 100)\n",
    "print(y_test)"
   ]
  },
  {
   "cell_type": "code",
   "execution_count": 26,
   "id": "de5f056d",
   "metadata": {
    "ExecuteTime": {
     "end_time": "2021-07-17T14:26:05.779531Z",
     "start_time": "2021-07-17T14:26:05.779531Z"
    }
   },
   "outputs": [],
   "source": [
    "# keras tuner walkthrough https://www.tensorflow.org/tutorials/keras/keras_tuner\n",
    "import kerastuner as kt"
   ]
  },
  {
   "cell_type": "code",
   "execution_count": 27,
   "id": "bb0f2966",
   "metadata": {
    "ExecuteTime": {
     "end_time": "2021-07-17T14:26:05.779531Z",
     "start_time": "2021-07-17T14:26:05.779531Z"
    }
   },
   "outputs": [],
   "source": [
    "def build_model(hp):\n",
    "    model = Sequential()\n",
    "    model.add(Conv3D(hp.Int(\"units\", min_value=32, max_value=1024, step=32),\n",
    "                     hp.Int(\"kernel_size\", min_value=2, max_value=6, step=1),\n",
    "                     activation='relu',\n",
    "                     input_shape=(dim_x,dim_y,dim_z,1)))\n",
    "    model.add(Flatten())\n",
    "    model.add(Dense(3))\n",
    "    model.compile(\n",
    "        optimizer=keras.optimizers.Adam(\n",
    "            hp.Choice(\"learning_rate\", values=[5e-2, 1e-2, 5e-3, 1e-3, 5e-4, 1e-4])),\n",
    "        loss='MSE',\n",
    "        metrics='MSE')\n",
    "    return model"
   ]
  },
  {
   "cell_type": "code",
   "execution_count": 18,
   "id": "e1cc6a7e",
   "metadata": {
    "ExecuteTime": {
     "end_time": "2021-07-04T00:26:12.946166Z",
     "start_time": "2021-07-04T00:26:12.555353Z"
    }
   },
   "outputs": [],
   "source": [
    "tuner = kt.BayesianOptimization(\n",
    "    build_model,\n",
    "    objective='val_loss',\n",
    "    max_trials=4,\n",
    "    overwrite=True)\n",
    "tuner.search(X_train_tensor, y_train_tensor, epochs=5, validation_split=0.2)"
   ]
  },
  {
   "cell_type": "code",
   "execution_count": null,
   "id": "9afb5886",
   "metadata": {
    "ExecuteTime": {
     "start_time": "2021-07-17T14:13:43.170Z"
    }
   },
   "outputs": [
    {
     "name": "stdout",
     "output_type": "stream",
     "text": [
      "Epoch 1/2\n",
      "WARNING:tensorflow:5 out of the last 24 calls to <function Model.make_train_function.<locals>.train_function at 0x7c0e47aa3820> triggered tf.function retracing. Tracing is expensive and the excessive number of tracings could be due to (1) creating @tf.function repeatedly in a loop, (2) passing tensors with different shapes, (3) passing Python objects instead of tensors. For (1), please define your @tf.function outside of the loop. For (2), @tf.function has experimental_relax_shapes=True option that relaxes argument shapes that can avoid unnecessary retracing. For (3), please refer to https://www.tensorflow.org/guide/function#controlling_retracing and https://www.tensorflow.org/api_docs/python/tf/function for  more details.\n",
      "1/1 [==============================] - ETA: 0s - loss: 1738.9729 - MSE: 1738.9729WARNING:tensorflow:5 out of the last 29 calls to <function Model.make_test_function.<locals>.test_function at 0x7c0e47e2ea60> triggered tf.function retracing. Tracing is expensive and the excessive number of tracings could be due to (1) creating @tf.function repeatedly in a loop, (2) passing tensors with different shapes, (3) passing Python objects instead of tensors. For (1), please define your @tf.function outside of the loop. For (2), @tf.function has experimental_relax_shapes=True option that relaxes argument shapes that can avoid unnecessary retracing. For (3), please refer to https://www.tensorflow.org/guide/function#controlling_retracing and https://www.tensorflow.org/api_docs/python/tf/function for  more details.\n",
      "1/1 [==============================] - 4s 4s/step - loss: 1738.9729 - MSE: 1738.9729 - val_loss: 2101.0828 - val_MSE: 2101.0828\n",
      "Epoch 2/2\n",
      "1/1 [==============================] - ETA: 0s - loss: 1707.0902 - MSE: 1707.090 - 21s 21s/step - loss: 1707.0902 - MSE: 1707.0902 - val_loss: 2101.0828 - val_MSE: 2101.0828\n"
     ]
    },
    {
     "data": {
      "text/html": [
       "<span style=\"color:#4527A0\"><h1 style=\"font-size:18px\">Trial complete</h1></span>"
      ],
      "text/plain": [
       "<IPython.core.display.HTML object>"
      ]
     },
     "metadata": {},
     "output_type": "display_data"
    },
    {
     "data": {
      "text/html": [
       "<span style=\"color:#4527A0\"><h1 style=\"font-size:18px\">Trial summary</h1></span>"
      ],
      "text/plain": [
       "<IPython.core.display.HTML object>"
      ]
     },
     "metadata": {},
     "output_type": "display_data"
    },
    {
     "data": {
      "text/html": [
       "<span style=\"color:cyan\"> |-Trial ID: e1da634cae55cbf7daa87b0d996385fb</span>"
      ],
      "text/plain": [
       "<IPython.core.display.HTML object>"
      ]
     },
     "metadata": {},
     "output_type": "display_data"
    },
    {
     "data": {
      "text/html": [
       "<span style=\"color:cyan\"> |-Score: 2101.082763671875</span>"
      ],
      "text/plain": [
       "<IPython.core.display.HTML object>"
      ]
     },
     "metadata": {},
     "output_type": "display_data"
    },
    {
     "data": {
      "text/html": [
       "<span style=\"color:cyan\"> |-Best step: 0</span>"
      ],
      "text/plain": [
       "<IPython.core.display.HTML object>"
      ]
     },
     "metadata": {},
     "output_type": "display_data"
    },
    {
     "data": {
      "text/html": [
       "<span style=\"color:#7E57C2\"><h2 style=\"font-size:16px\">Hyperparameters:</h2></span>"
      ],
      "text/plain": [
       "<IPython.core.display.HTML object>"
      ]
     },
     "metadata": {},
     "output_type": "display_data"
    },
    {
     "data": {
      "text/html": [
       "<span style=\"color:cyan\"> |-kernel_size: 6</span>"
      ],
      "text/plain": [
       "<IPython.core.display.HTML object>"
      ]
     },
     "metadata": {},
     "output_type": "display_data"
    },
    {
     "data": {
      "text/html": [
       "<span style=\"color:blue\"> |-learning_rate: 0.05</span>"
      ],
      "text/plain": [
       "<IPython.core.display.HTML object>"
      ]
     },
     "metadata": {},
     "output_type": "display_data"
    },
    {
     "data": {
      "text/html": [
       "<span style=\"color:cyan\"> |-tuner/bracket: 1</span>"
      ],
      "text/plain": [
       "<IPython.core.display.HTML object>"
      ]
     },
     "metadata": {},
     "output_type": "display_data"
    },
    {
     "data": {
      "text/html": [
       "<span style=\"color:blue\"> |-tuner/epochs: 2</span>"
      ],
      "text/plain": [
       "<IPython.core.display.HTML object>"
      ]
     },
     "metadata": {},
     "output_type": "display_data"
    },
    {
     "data": {
      "text/html": [
       "<span style=\"color:cyan\"> |-tuner/initial_epoch: 0</span>"
      ],
      "text/plain": [
       "<IPython.core.display.HTML object>"
      ]
     },
     "metadata": {},
     "output_type": "display_data"
    },
    {
     "data": {
      "text/html": [
       "<span style=\"color:blue\"> |-tuner/round: 0</span>"
      ],
      "text/plain": [
       "<IPython.core.display.HTML object>"
      ]
     },
     "metadata": {},
     "output_type": "display_data"
    },
    {
     "data": {
      "text/html": [
       "<span style=\"color:cyan\"> |-units: 64</span>"
      ],
      "text/plain": [
       "<IPython.core.display.HTML object>"
      ]
     },
     "metadata": {},
     "output_type": "display_data"
    },
    {
     "name": "stdout",
     "output_type": "stream",
     "text": [
      "Epoch 1/2\n",
      "WARNING:tensorflow:6 out of the last 26 calls to <function Model.make_train_function.<locals>.train_function at 0x7c0e47fc8f70> triggered tf.function retracing. Tracing is expensive and the excessive number of tracings could be due to (1) creating @tf.function repeatedly in a loop, (2) passing tensors with different shapes, (3) passing Python objects instead of tensors. For (1), please define your @tf.function outside of the loop. For (2), @tf.function has experimental_relax_shapes=True option that relaxes argument shapes that can avoid unnecessary retracing. For (3), please refer to https://www.tensorflow.org/guide/function#controlling_retracing and https://www.tensorflow.org/api_docs/python/tf/function for  more details.\n",
      "1/1 [==============================] - ETA: 0s - loss: 1739.7776 - MSE: 1739.7776WARNING:tensorflow:5 out of the last 11 calls to <function Model.make_test_function.<locals>.test_function at 0x7c0e47e2e1f0> triggered tf.function retracing. Tracing is expensive and the excessive number of tracings could be due to (1) creating @tf.function repeatedly in a loop, (2) passing tensors with different shapes, (3) passing Python objects instead of tensors. For (1), please define your @tf.function outside of the loop. For (2), @tf.function has experimental_relax_shapes=True option that relaxes argument shapes that can avoid unnecessary retracing. For (3), please refer to https://www.tensorflow.org/guide/function#controlling_retracing and https://www.tensorflow.org/api_docs/python/tf/function for  more details.\n",
      "1/1 [==============================] - 18s 18s/step - loss: 1739.7776 - MSE: 1739.7776 - val_loss: 2101.0828 - val_MSE: 2101.0828\n",
      "Epoch 2/2\n",
      "1/1 [==============================] - ETA: 0s - loss: 1707.0905 - MSE: 1707.090 - 55s 55s/step - loss: 1707.0905 - MSE: 1707.0905 - val_loss: 2101.0828 - val_MSE: 2101.0828\n"
     ]
    },
    {
     "data": {
      "text/html": [
       "<span style=\"color:#4527A0\"><h1 style=\"font-size:18px\">Trial complete</h1></span>"
      ],
      "text/plain": [
       "<IPython.core.display.HTML object>"
      ]
     },
     "metadata": {},
     "output_type": "display_data"
    },
    {
     "data": {
      "text/html": [
       "<span style=\"color:#4527A0\"><h1 style=\"font-size:18px\">Trial summary</h1></span>"
      ],
      "text/plain": [
       "<IPython.core.display.HTML object>"
      ]
     },
     "metadata": {},
     "output_type": "display_data"
    },
    {
     "data": {
      "text/html": [
       "<span style=\"color:cyan\"> |-Trial ID: 6b52dbc7b2355708af32d7abbe78c2f7</span>"
      ],
      "text/plain": [
       "<IPython.core.display.HTML object>"
      ]
     },
     "metadata": {},
     "output_type": "display_data"
    },
    {
     "data": {
      "text/html": [
       "<span style=\"color:cyan\"> |-Score: 2101.082763671875</span>"
      ],
      "text/plain": [
       "<IPython.core.display.HTML object>"
      ]
     },
     "metadata": {},
     "output_type": "display_data"
    },
    {
     "data": {
      "text/html": [
       "<span style=\"color:cyan\"> |-Best step: 0</span>"
      ],
      "text/plain": [
       "<IPython.core.display.HTML object>"
      ]
     },
     "metadata": {},
     "output_type": "display_data"
    },
    {
     "data": {
      "text/html": [
       "<span style=\"color:#7E57C2\"><h2 style=\"font-size:16px\">Hyperparameters:</h2></span>"
      ],
      "text/plain": [
       "<IPython.core.display.HTML object>"
      ]
     },
     "metadata": {},
     "output_type": "display_data"
    },
    {
     "data": {
      "text/html": [
       "<span style=\"color:cyan\"> |-kernel_size: 3</span>"
      ],
      "text/plain": [
       "<IPython.core.display.HTML object>"
      ]
     },
     "metadata": {},
     "output_type": "display_data"
    },
    {
     "data": {
      "text/html": [
       "<span style=\"color:blue\"> |-learning_rate: 0.05</span>"
      ],
      "text/plain": [
       "<IPython.core.display.HTML object>"
      ]
     },
     "metadata": {},
     "output_type": "display_data"
    },
    {
     "data": {
      "text/html": [
       "<span style=\"color:cyan\"> |-tuner/bracket: 1</span>"
      ],
      "text/plain": [
       "<IPython.core.display.HTML object>"
      ]
     },
     "metadata": {},
     "output_type": "display_data"
    },
    {
     "data": {
      "text/html": [
       "<span style=\"color:blue\"> |-tuner/epochs: 2</span>"
      ],
      "text/plain": [
       "<IPython.core.display.HTML object>"
      ]
     },
     "metadata": {},
     "output_type": "display_data"
    },
    {
     "data": {
      "text/html": [
       "<span style=\"color:cyan\"> |-tuner/initial_epoch: 0</span>"
      ],
      "text/plain": [
       "<IPython.core.display.HTML object>"
      ]
     },
     "metadata": {},
     "output_type": "display_data"
    },
    {
     "data": {
      "text/html": [
       "<span style=\"color:blue\"> |-tuner/round: 0</span>"
      ],
      "text/plain": [
       "<IPython.core.display.HTML object>"
      ]
     },
     "metadata": {},
     "output_type": "display_data"
    },
    {
     "data": {
      "text/html": [
       "<span style=\"color:cyan\"> |-units: 480</span>"
      ],
      "text/plain": [
       "<IPython.core.display.HTML object>"
      ]
     },
     "metadata": {},
     "output_type": "display_data"
    },
    {
     "name": "stdout",
     "output_type": "stream",
     "text": [
      "Epoch 1/2\n",
      "WARNING:tensorflow:6 out of the last 12 calls to <function Model.make_train_function.<locals>.train_function at 0x7c0e47fe28b0> triggered tf.function retracing. Tracing is expensive and the excessive number of tracings could be due to (1) creating @tf.function repeatedly in a loop, (2) passing tensors with different shapes, (3) passing Python objects instead of tensors. For (1), please define your @tf.function outside of the loop. For (2), @tf.function has experimental_relax_shapes=True option that relaxes argument shapes that can avoid unnecessary retracing. For (3), please refer to https://www.tensorflow.org/guide/function#controlling_retracing and https://www.tensorflow.org/api_docs/python/tf/function for  more details.\n",
      "1/1 [==============================] - ETA: 0s - loss: 1737.9358 - MSE: 1737.9358WARNING:tensorflow:5 out of the last 11 calls to <function Model.make_test_function.<locals>.test_function at 0x7c0e47e2e310> triggered tf.function retracing. Tracing is expensive and the excessive number of tracings could be due to (1) creating @tf.function repeatedly in a loop, (2) passing tensors with different shapes, (3) passing Python objects instead of tensors. For (1), please define your @tf.function outside of the loop. For (2), @tf.function has experimental_relax_shapes=True option that relaxes argument shapes that can avoid unnecessary retracing. For (3), please refer to https://www.tensorflow.org/guide/function#controlling_retracing and https://www.tensorflow.org/api_docs/python/tf/function for  more details.\n",
      "1/1 [==============================] - 40s 40s/step - loss: 1737.9358 - MSE: 1737.9358 - val_loss: 2101.0828 - val_MSE: 2101.0828\n",
      "Epoch 2/2\n",
      "1/1 [==============================] - ETA: 0s - loss: 1707.0902 - MSE: 1707.090 - 36s 36s/step - loss: 1707.0902 - MSE: 1707.0902 - val_loss: 2101.0828 - val_MSE: 2101.0828\n"
     ]
    },
    {
     "data": {
      "text/html": [
       "<span style=\"color:#4527A0\"><h1 style=\"font-size:18px\">Trial complete</h1></span>"
      ],
      "text/plain": [
       "<IPython.core.display.HTML object>"
      ]
     },
     "metadata": {},
     "output_type": "display_data"
    },
    {
     "data": {
      "text/html": [
       "<span style=\"color:#4527A0\"><h1 style=\"font-size:18px\">Trial summary</h1></span>"
      ],
      "text/plain": [
       "<IPython.core.display.HTML object>"
      ]
     },
     "metadata": {},
     "output_type": "display_data"
    },
    {
     "data": {
      "text/html": [
       "<span style=\"color:cyan\"> |-Trial ID: 25e7ef882ec8495b395de36b26b360e4</span>"
      ],
      "text/plain": [
       "<IPython.core.display.HTML object>"
      ]
     },
     "metadata": {},
     "output_type": "display_data"
    },
    {
     "data": {
      "text/html": [
       "<span style=\"color:cyan\"> |-Score: 2101.082763671875</span>"
      ],
      "text/plain": [
       "<IPython.core.display.HTML object>"
      ]
     },
     "metadata": {},
     "output_type": "display_data"
    },
    {
     "data": {
      "text/html": [
       "<span style=\"color:cyan\"> |-Best step: 0</span>"
      ],
      "text/plain": [
       "<IPython.core.display.HTML object>"
      ]
     },
     "metadata": {},
     "output_type": "display_data"
    },
    {
     "data": {
      "text/html": [
       "<span style=\"color:#7E57C2\"><h2 style=\"font-size:16px\">Hyperparameters:</h2></span>"
      ],
      "text/plain": [
       "<IPython.core.display.HTML object>"
      ]
     },
     "metadata": {},
     "output_type": "display_data"
    },
    {
     "data": {
      "text/html": [
       "<span style=\"color:cyan\"> |-kernel_size: 5</span>"
      ],
      "text/plain": [
       "<IPython.core.display.HTML object>"
      ]
     },
     "metadata": {},
     "output_type": "display_data"
    },
    {
     "data": {
      "text/html": [
       "<span style=\"color:blue\"> |-learning_rate: 0.01</span>"
      ],
      "text/plain": [
       "<IPython.core.display.HTML object>"
      ]
     },
     "metadata": {},
     "output_type": "display_data"
    },
    {
     "data": {
      "text/html": [
       "<span style=\"color:cyan\"> |-tuner/bracket: 1</span>"
      ],
      "text/plain": [
       "<IPython.core.display.HTML object>"
      ]
     },
     "metadata": {},
     "output_type": "display_data"
    },
    {
     "data": {
      "text/html": [
       "<span style=\"color:blue\"> |-tuner/epochs: 2</span>"
      ],
      "text/plain": [
       "<IPython.core.display.HTML object>"
      ]
     },
     "metadata": {},
     "output_type": "display_data"
    },
    {
     "data": {
      "text/html": [
       "<span style=\"color:cyan\"> |-tuner/initial_epoch: 0</span>"
      ],
      "text/plain": [
       "<IPython.core.display.HTML object>"
      ]
     },
     "metadata": {},
     "output_type": "display_data"
    },
    {
     "data": {
      "text/html": [
       "<span style=\"color:blue\"> |-tuner/round: 0</span>"
      ],
      "text/plain": [
       "<IPython.core.display.HTML object>"
      ]
     },
     "metadata": {},
     "output_type": "display_data"
    },
    {
     "data": {
      "text/html": [
       "<span style=\"color:cyan\"> |-units: 576</span>"
      ],
      "text/plain": [
       "<IPython.core.display.HTML object>"
      ]
     },
     "metadata": {},
     "output_type": "display_data"
    },
    {
     "name": "stdout",
     "output_type": "stream",
     "text": [
      "Epoch 1/2\n",
      "WARNING:tensorflow:6 out of the last 12 calls to <function Model.make_train_function.<locals>.train_function at 0x7c0e47fe2700> triggered tf.function retracing. Tracing is expensive and the excessive number of tracings could be due to (1) creating @tf.function repeatedly in a loop, (2) passing tensors with different shapes, (3) passing Python objects instead of tensors. For (1), please define your @tf.function outside of the loop. For (2), @tf.function has experimental_relax_shapes=True option that relaxes argument shapes that can avoid unnecessary retracing. For (3), please refer to https://www.tensorflow.org/guide/function#controlling_retracing and https://www.tensorflow.org/api_docs/python/tf/function for  more details.\n",
      "1/1 [==============================] - ETA: 0s - loss: 1739.9668 - MSE: 1739.9668WARNING:tensorflow:5 out of the last 11 calls to <function Model.make_test_function.<locals>.test_function at 0x7c0e47e2ee50> triggered tf.function retracing. Tracing is expensive and the excessive number of tracings could be due to (1) creating @tf.function repeatedly in a loop, (2) passing tensors with different shapes, (3) passing Python objects instead of tensors. For (1), please define your @tf.function outside of the loop. For (2), @tf.function has experimental_relax_shapes=True option that relaxes argument shapes that can avoid unnecessary retracing. For (3), please refer to https://www.tensorflow.org/guide/function#controlling_retracing and https://www.tensorflow.org/api_docs/python/tf/function for  more details.\n",
      "1/1 [==============================] - 15s 15s/step - loss: 1739.9668 - MSE: 1739.9668 - val_loss: 2101.0828 - val_MSE: 2101.0828\n",
      "Epoch 2/2\n",
      "1/1 [==============================] - ETA: 0s - loss: 1707.0905 - MSE: 1707.090 - 59s 59s/step - loss: 1707.0905 - MSE: 1707.0905 - val_loss: 2101.0828 - val_MSE: 2101.0828\n"
     ]
    },
    {
     "data": {
      "text/html": [
       "<span style=\"color:#4527A0\"><h1 style=\"font-size:18px\">Trial complete</h1></span>"
      ],
      "text/plain": [
       "<IPython.core.display.HTML object>"
      ]
     },
     "metadata": {},
     "output_type": "display_data"
    },
    {
     "data": {
      "text/html": [
       "<span style=\"color:#4527A0\"><h1 style=\"font-size:18px\">Trial summary</h1></span>"
      ],
      "text/plain": [
       "<IPython.core.display.HTML object>"
      ]
     },
     "metadata": {},
     "output_type": "display_data"
    },
    {
     "data": {
      "text/html": [
       "<span style=\"color:cyan\"> |-Trial ID: 7be86bd62b992a3a695131b12a748a06</span>"
      ],
      "text/plain": [
       "<IPython.core.display.HTML object>"
      ]
     },
     "metadata": {},
     "output_type": "display_data"
    },
    {
     "data": {
      "text/html": [
       "<span style=\"color:cyan\"> |-Score: 2101.082763671875</span>"
      ],
      "text/plain": [
       "<IPython.core.display.HTML object>"
      ]
     },
     "metadata": {},
     "output_type": "display_data"
    },
    {
     "data": {
      "text/html": [
       "<span style=\"color:cyan\"> |-Best step: 0</span>"
      ],
      "text/plain": [
       "<IPython.core.display.HTML object>"
      ]
     },
     "metadata": {},
     "output_type": "display_data"
    },
    {
     "data": {
      "text/html": [
       "<span style=\"color:#7E57C2\"><h2 style=\"font-size:16px\">Hyperparameters:</h2></span>"
      ],
      "text/plain": [
       "<IPython.core.display.HTML object>"
      ]
     },
     "metadata": {},
     "output_type": "display_data"
    },
    {
     "data": {
      "text/html": [
       "<span style=\"color:cyan\"> |-kernel_size: 3</span>"
      ],
      "text/plain": [
       "<IPython.core.display.HTML object>"
      ]
     },
     "metadata": {},
     "output_type": "display_data"
    },
    {
     "data": {
      "text/html": [
       "<span style=\"color:blue\"> |-learning_rate: 0.0005</span>"
      ],
      "text/plain": [
       "<IPython.core.display.HTML object>"
      ]
     },
     "metadata": {},
     "output_type": "display_data"
    },
    {
     "data": {
      "text/html": [
       "<span style=\"color:cyan\"> |-tuner/bracket: 1</span>"
      ],
      "text/plain": [
       "<IPython.core.display.HTML object>"
      ]
     },
     "metadata": {},
     "output_type": "display_data"
    },
    {
     "data": {
      "text/html": [
       "<span style=\"color:blue\"> |-tuner/epochs: 2</span>"
      ],
      "text/plain": [
       "<IPython.core.display.HTML object>"
      ]
     },
     "metadata": {},
     "output_type": "display_data"
    },
    {
     "data": {
      "text/html": [
       "<span style=\"color:cyan\"> |-tuner/initial_epoch: 0</span>"
      ],
      "text/plain": [
       "<IPython.core.display.HTML object>"
      ]
     },
     "metadata": {},
     "output_type": "display_data"
    },
    {
     "data": {
      "text/html": [
       "<span style=\"color:blue\"> |-tuner/round: 0</span>"
      ],
      "text/plain": [
       "<IPython.core.display.HTML object>"
      ]
     },
     "metadata": {},
     "output_type": "display_data"
    },
    {
     "data": {
      "text/html": [
       "<span style=\"color:cyan\"> |-units: 448</span>"
      ],
      "text/plain": [
       "<IPython.core.display.HTML object>"
      ]
     },
     "metadata": {},
     "output_type": "display_data"
    },
    {
     "name": "stdout",
     "output_type": "stream",
     "text": [
      "Epoch 1/2\n"
     ]
    }
   ],
   "source": [
    "tuner = kt.Hyperband(\n",
    "    build_model,\n",
    "    objective='val_loss',\n",
    "    max_epochs=4,\n",
    "    overwrite=True)\n",
    "tuner.search(X_train_tensor, y_train_tensor, validation_split=0.2)"
   ]
  },
  {
   "cell_type": "code",
   "execution_count": null,
   "id": "99089de9",
   "metadata": {
    "ExecuteTime": {
     "start_time": "2021-07-17T14:17:10.281Z"
    }
   },
   "outputs": [],
   "source": [
    "best_hps=tuner.get_best_hyperparameters(num_trials=1)[0]\n",
    "best_hps.values"
   ]
  },
  {
   "cell_type": "code",
   "execution_count": 98,
   "id": "152d8b4a",
   "metadata": {
    "ExecuteTime": {
     "end_time": "2021-07-17T14:09:57.525595Z",
     "start_time": "2021-07-17T14:09:38.684531Z"
    }
   },
   "outputs": [
    {
     "name": "stdout",
     "output_type": "stream",
     "text": [
      "Epoch 1/3\n",
      "1/1 [==============================] - ETA: 0s - loss: 2240.7141 - MSE: 2240.714 - 0s 0s/step - loss: 2240.7141 - MSE: 2240.7141 - val_loss: 234698896.0000 - val_MSE: 234698896.0000\n",
      "Epoch 2/3\n",
      "1/1 [==============================] - ETA: 0s - loss: 908121.8750 - MSE: 908121.875 - 0s 51ms/step - loss: 908121.8750 - MSE: 908121.8750 - val_loss: 47583016.0000 - val_MSE: 47583016.0000\n",
      "Epoch 3/3\n",
      "1/1 [==============================] - ETA: 0s - loss: 57737.0234 - MSE: 57737.023 - 18s 18s/step - loss: 57737.0234 - MSE: 57737.0234 - val_loss: 6113176.0000 - val_MSE: 6113176.0000\n",
      "1/1 [==============================] - ETA: 0s - loss: 12248.1328 - MSE: 12248.132 - 0s 0s/step - loss: 12248.1328 - MSE: 12248.1328\n",
      "[test loss, test MSE]: [12248.1328125, 12248.1328125]\n"
     ]
    }
   ],
   "source": [
    "hypermodel = tuner.hypermodel.build(best_hps)\n",
    "hypermodel.fit(X_train_tensor, y_train_tensor, epochs=3, validation_split=0.2)\n",
    "eval_result = hypermodel.evaluate(X_test, y_test)\n",
    "print(\"[test loss, test MSE]:\", eval_result)_tensor"
   ]
  },
  {
   "cell_type": "code",
   "execution_count": 99,
   "id": "9228fabc",
   "metadata": {
    "ExecuteTime": {
     "end_time": "2021-07-17T14:10:27.844306Z",
     "start_time": "2021-07-17T14:10:27.517992Z"
    }
   },
   "outputs": [
    {
     "name": "stdout",
     "output_type": "stream",
     "text": [
      "[[  35.369633    57.799103     6.8312593]\n",
      " [  79.81688     -2.322099    22.505215 ]\n",
      " [ -48.742283  -156.4174     305.1597   ]\n",
      " [ 116.06227     52.019596   -68.08188  ]]\n",
      "[[32.5 67.4  0.1]\n",
      " [75.4 24.4  0.2]\n",
      " [16.2 79.5  4.3]\n",
      " [70.8 18.4 10.8]]\n"
     ]
    }
   ],
   "source": [
    "res = hypermodel.predict(X_test)\n",
    "rowSums = np.sum(res, axis=1)\n",
    "rowSums = rowSums.reshape((4,1))\n",
    "print('unnormalized: ', res)\n",
    "print('normalized: ', res/rowSums * 100)\n",
    "print('targets: ', y_test)"
   ]
  },
  {
   "cell_type": "code",
   "execution_count": 97,
   "id": "4d30e761",
   "metadata": {
    "ExecuteTime": {
     "end_time": "2021-07-17T14:09:21.538531Z",
     "start_time": "2021-07-17T14:09:21.538531Z"
    }
   },
   "outputs": [
    {
     "ename": "NameError",
     "evalue": "name 'hypermodel' is not defined",
     "output_type": "error",
     "traceback": [
      "\u001b[0;31m---------------------------------------------------------------------------\u001b[0m",
      "\u001b[0;31mNameError\u001b[0m                                 Traceback (most recent call last)",
      "\u001b[0;32m<ipython-input-97-bc545ccd3cdb>\u001b[0m in \u001b[0;36m<module>\u001b[0;34m\u001b[0m\n\u001b[0;32m----> 1\u001b[0;31m \u001b[0mhypermodel\u001b[0m\u001b[0;34m.\u001b[0m\u001b[0mpredict\u001b[0m\u001b[0;34m(\u001b[0m\u001b[0mX_test\u001b[0m\u001b[0;34m)\u001b[0m\u001b[0;34m\u001b[0m\u001b[0;34m\u001b[0m\u001b[0m\n\u001b[0m",
      "\u001b[0;31mNameError\u001b[0m: name 'hypermodel' is not defined"
     ]
    }
   ],
   "source": [
    "hypermodel.predict(X_test)"
   ]
  },
  {
   "cell_type": "code",
   "execution_count": 24,
   "id": "adc3747d",
   "metadata": {
    "ExecuteTime": {
     "end_time": "2021-07-06T23:51:04.212438Z",
     "start_time": "2021-07-06T23:51:04.155892Z"
    }
   },
   "outputs": [
    {
     "data": {
      "text/html": [
       "<div>\n",
       "<style scoped>\n",
       "    .dataframe tbody tr th:only-of-type {\n",
       "        vertical-align: middle;\n",
       "    }\n",
       "\n",
       "    .dataframe tbody tr th {\n",
       "        vertical-align: top;\n",
       "    }\n",
       "\n",
       "    .dataframe thead th {\n",
       "        text-align: right;\n",
       "    }\n",
       "</style>\n",
       "<table border=\"1\" class=\"dataframe\">\n",
       "  <thead>\n",
       "    <tr style=\"text-align: right;\">\n",
       "      <th></th>\n",
       "      <th>Unnamed: 0</th>\n",
       "      <th>Rsq_train</th>\n",
       "      <th>Rsq_valid</th>\n",
       "      <th>Rsq_test</th>\n",
       "      <th>rmse_train</th>\n",
       "      <th>rmse_valid</th>\n",
       "      <th>rmse_test</th>\n",
       "      <th>regression</th>\n",
       "      <th>train</th>\n",
       "      <th>validation</th>\n",
       "      <th>test</th>\n",
       "      <th>color</th>\n",
       "    </tr>\n",
       "  </thead>\n",
       "  <tbody>\n",
       "    <tr>\n",
       "      <th>0</th>\n",
       "      <td>0</td>\n",
       "      <td>0.884562</td>\n",
       "      <td>0.256122</td>\n",
       "      <td>0.283275</td>\n",
       "      <td>1.964653</td>\n",
       "      <td>5.011416</td>\n",
       "      <td>4.942023</td>\n",
       "      <td>XGBoost</td>\n",
       "      <td>train</td>\n",
       "      <td>validation</td>\n",
       "      <td>test</td>\n",
       "      <td>#949494</td>\n",
       "    </tr>\n",
       "    <tr>\n",
       "      <th>1</th>\n",
       "      <td>5</td>\n",
       "      <td>0.857669</td>\n",
       "      <td>0.253774</td>\n",
       "      <td>0.272606</td>\n",
       "      <td>2.181533</td>\n",
       "      <td>5.019319</td>\n",
       "      <td>4.978668</td>\n",
       "      <td>RandomForest</td>\n",
       "      <td>train</td>\n",
       "      <td>validation</td>\n",
       "      <td>test</td>\n",
       "      <td>#ca9161</td>\n",
       "    </tr>\n",
       "    <tr>\n",
       "      <th>2</th>\n",
       "      <td>4</td>\n",
       "      <td>0.999714</td>\n",
       "      <td>0.206370</td>\n",
       "      <td>0.235784</td>\n",
       "      <td>0.097816</td>\n",
       "      <td>5.176294</td>\n",
       "      <td>5.103129</td>\n",
       "      <td>KNN</td>\n",
       "      <td>train</td>\n",
       "      <td>validation</td>\n",
       "      <td>test</td>\n",
       "      <td>#cc78bc</td>\n",
       "    </tr>\n",
       "    <tr>\n",
       "      <th>3</th>\n",
       "      <td>0</td>\n",
       "      <td>0.224503</td>\n",
       "      <td>0.141476</td>\n",
       "      <td>0.174326</td>\n",
       "      <td>5.092154</td>\n",
       "      <td>5.383763</td>\n",
       "      <td>5.304357</td>\n",
       "      <td>SVR</td>\n",
       "      <td>train</td>\n",
       "      <td>validation</td>\n",
       "      <td>test</td>\n",
       "      <td>#fbafe4</td>\n",
       "    </tr>\n",
       "    <tr>\n",
       "      <th>4</th>\n",
       "      <td>2</td>\n",
       "      <td>0.095147</td>\n",
       "      <td>0.096904</td>\n",
       "      <td>0.098206</td>\n",
       "      <td>5.500479</td>\n",
       "      <td>5.521750</td>\n",
       "      <td>5.543475</td>\n",
       "      <td>Lasso</td>\n",
       "      <td>train</td>\n",
       "      <td>validation</td>\n",
       "      <td>test</td>\n",
       "      <td>#029e73</td>\n",
       "    </tr>\n",
       "    <tr>\n",
       "      <th>5</th>\n",
       "      <td>3</td>\n",
       "      <td>0.095157</td>\n",
       "      <td>0.096875</td>\n",
       "      <td>0.098171</td>\n",
       "      <td>5.500449</td>\n",
       "      <td>5.521838</td>\n",
       "      <td>5.543584</td>\n",
       "      <td>ElasticNet</td>\n",
       "      <td>train</td>\n",
       "      <td>validation</td>\n",
       "      <td>test</td>\n",
       "      <td>#d55e00</td>\n",
       "    </tr>\n",
       "    <tr>\n",
       "      <th>6</th>\n",
       "      <td>0</td>\n",
       "      <td>0.095168</td>\n",
       "      <td>0.096827</td>\n",
       "      <td>0.098084</td>\n",
       "      <td>5.500413</td>\n",
       "      <td>5.521984</td>\n",
       "      <td>5.543849</td>\n",
       "      <td>Ridge</td>\n",
       "      <td>train</td>\n",
       "      <td>validation</td>\n",
       "      <td>test</td>\n",
       "      <td>#0173b2</td>\n",
       "    </tr>\n",
       "    <tr>\n",
       "      <th>7</th>\n",
       "      <td>1</td>\n",
       "      <td>0.095168</td>\n",
       "      <td>0.096827</td>\n",
       "      <td>0.098084</td>\n",
       "      <td>5.500413</td>\n",
       "      <td>5.521984</td>\n",
       "      <td>5.543849</td>\n",
       "      <td>LinearRegression</td>\n",
       "      <td>train</td>\n",
       "      <td>validation</td>\n",
       "      <td>test</td>\n",
       "      <td>#de8f05</td>\n",
       "    </tr>\n",
       "  </tbody>\n",
       "</table>\n",
       "</div>"
      ],
      "text/plain": [
       "   Unnamed: 0  Rsq_train  Rsq_valid  Rsq_test  rmse_train  rmse_valid  \\\n",
       "0           0   0.884562   0.256122  0.283275    1.964653    5.011416   \n",
       "1           5   0.857669   0.253774  0.272606    2.181533    5.019319   \n",
       "2           4   0.999714   0.206370  0.235784    0.097816    5.176294   \n",
       "3           0   0.224503   0.141476  0.174326    5.092154    5.383763   \n",
       "4           2   0.095147   0.096904  0.098206    5.500479    5.521750   \n",
       "5           3   0.095157   0.096875  0.098171    5.500449    5.521838   \n",
       "6           0   0.095168   0.096827  0.098084    5.500413    5.521984   \n",
       "7           1   0.095168   0.096827  0.098084    5.500413    5.521984   \n",
       "\n",
       "   rmse_test        regression  train  validation  test    color  \n",
       "0   4.942023           XGBoost  train  validation  test  #949494  \n",
       "1   4.978668      RandomForest  train  validation  test  #ca9161  \n",
       "2   5.103129               KNN  train  validation  test  #cc78bc  \n",
       "3   5.304357               SVR  train  validation  test  #fbafe4  \n",
       "4   5.543475             Lasso  train  validation  test  #029e73  \n",
       "5   5.543584        ElasticNet  train  validation  test  #d55e00  \n",
       "6   5.543849             Ridge  train  validation  test  #0173b2  \n",
       "7   5.543849  LinearRegression  train  validation  test  #de8f05  "
      ]
     },
     "execution_count": 24,
     "metadata": {},
     "output_type": "execute_result"
    }
   ],
   "source": [
    "pd.read_csv('/home/sepidehparhami/Diuresis/results/results_final.csv')"
   ]
  },
  {
   "cell_type": "code",
   "execution_count": null,
   "id": "d8e2743c",
   "metadata": {},
   "outputs": [],
   "source": []
  }
 ],
 "metadata": {
  "kernelspec": {
   "display_name": "Python 3",
   "language": "python",
   "name": "python3"
  },
  "language_info": {
   "codemirror_mode": {
    "name": "ipython",
    "version": 3
   },
   "file_extension": ".py",
   "mimetype": "text/x-python",
   "name": "python",
   "nbconvert_exporter": "python",
   "pygments_lexer": "ipython3",
   "version": "3.9.5"
  },
  "notify_time": "30",
  "toc": {
   "base_numbering": 1,
   "nav_menu": {},
   "number_sections": true,
   "sideBar": true,
   "skip_h1_title": false,
   "title_cell": "Table of Contents",
   "title_sidebar": "Contents",
   "toc_cell": false,
   "toc_position": {},
   "toc_section_display": true,
   "toc_window_display": false
  },
  "varInspector": {
   "cols": {
    "lenName": 16,
    "lenType": 16,
    "lenVar": 40
   },
   "kernels_config": {
    "python": {
     "delete_cmd_postfix": "",
     "delete_cmd_prefix": "del ",
     "library": "var_list.py",
     "varRefreshCmd": "print(var_dic_list())"
    },
    "r": {
     "delete_cmd_postfix": ") ",
     "delete_cmd_prefix": "rm(",
     "library": "var_list.r",
     "varRefreshCmd": "cat(var_dic_list()) "
    }
   },
   "types_to_exclude": [
    "module",
    "function",
    "builtin_function_or_method",
    "instance",
    "_Feature"
   ],
   "window_display": false
  }
 },
 "nbformat": 4,
 "nbformat_minor": 5
}
